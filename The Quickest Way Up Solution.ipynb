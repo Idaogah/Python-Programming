{
 "cells": [
  {
   "cell_type": "markdown",
   "id": "d43b91b2",
   "metadata": {
    "toc": true
   },
   "source": [
    "<h1>Table of Contents<span class=\"tocSkip\"></span></h1>\n",
    "<div class=\"toc\"><ul class=\"toc-item\"></ul></div>"
   ]
  },
  {
   "cell_type": "markdown",
   "id": "85bf333c",
   "metadata": {},
   "source": [
    "Markov takes out his Snakes and Ladders game, stares at the board and wonders:   \"If I can always roll the die to whatever number I want, what would be the least number of rolls to reach the destination?\"\n",
    "\n",
    "RulesThe game is played with a cubic die of  faces numbered  to .\n",
    "\n",
    "Starting from square , land on square  with the exact roll of the die.  If moving the number rolled would place the player beyond square , no move is made.\n",
    "If a player lands at the base of a ladder, the player must climb the ladder.  Ladders go up only.\n",
    "If a player lands at the mouth of a snake, the player must go down the snake and come out through the tail.  Snakes go down only.\n",
    "Function Description\n",
    "\n",
    "Complete the quickestWayUp function in the editor below.  It should return an integer that represents the minimum number of moves required.\n",
    "\n",
    "quickestWayUp has the following parameter(s):\n",
    "\n",
    "ladders: a 2D integer array where each  contains the start and end cell numbers of a ladder\n",
    "snakes: a 2D integer array where each  contains the start and end cell numbers of a snake\n",
    "The first line contains the number of tests, .\n",
    "\n",
    "For each testcase:\n",
    "- The first line contains , the number of ladders.\n",
    "- Each of the next  lines contains two space-separated integers, the start and end of a ladder.\n",
    "- The next line contains the integer , the number of snakes.\n",
    "- Each of the next  lines contains two space-separated integers, the start and end of a snake."
   ]
  },
  {
   "cell_type": "code",
   "execution_count": 4,
   "id": "6c74f41d",
   "metadata": {},
   "outputs": [
    {
     "name": "stdout",
     "output_type": "stream",
     "text": [
      "1\n",
      "2\n",
      "5 4\n",
      "6 7\n",
      "2 3\n"
     ]
    },
    {
     "ename": "ValueError",
     "evalue": "invalid literal for int() with base 10: '2 3'",
     "output_type": "error",
     "traceback": [
      "\u001b[1;31m---------------------------------------------------------------------------\u001b[0m",
      "\u001b[1;31mValueError\u001b[0m                                Traceback (most recent call last)",
      "\u001b[1;32m<ipython-input-4-bb96fc3af777>\u001b[0m in \u001b[0;36m<module>\u001b[1;34m\u001b[0m\n\u001b[0;32m      6\u001b[0m         \u001b[0mL_s\u001b[0m\u001b[1;33m,\u001b[0m\u001b[0mL_e\u001b[0m \u001b[1;33m=\u001b[0m \u001b[0mlist\u001b[0m\u001b[1;33m(\u001b[0m\u001b[0mmap\u001b[0m\u001b[1;33m(\u001b[0m\u001b[0mint\u001b[0m\u001b[1;33m,\u001b[0m\u001b[0minput\u001b[0m\u001b[1;33m(\u001b[0m\u001b[1;33m)\u001b[0m\u001b[1;33m.\u001b[0m\u001b[0msplit\u001b[0m\u001b[1;33m(\u001b[0m\u001b[1;33m)\u001b[0m\u001b[1;33m)\u001b[0m\u001b[1;33m)\u001b[0m\u001b[1;33m\u001b[0m\u001b[1;33m\u001b[0m\u001b[0m\n\u001b[0;32m      7\u001b[0m         \u001b[0mL\u001b[0m\u001b[1;33m[\u001b[0m\u001b[0mL_s\u001b[0m\u001b[1;33m]\u001b[0m \u001b[1;33m=\u001b[0m \u001b[0mL_e\u001b[0m\u001b[1;33m\u001b[0m\u001b[1;33m\u001b[0m\u001b[0m\n\u001b[1;32m----> 8\u001b[1;33m     \u001b[0mS_n\u001b[0m \u001b[1;33m=\u001b[0m \u001b[0mint\u001b[0m\u001b[1;33m(\u001b[0m\u001b[0minput\u001b[0m\u001b[1;33m(\u001b[0m\u001b[1;33m)\u001b[0m\u001b[1;33m)\u001b[0m\u001b[1;33m\u001b[0m\u001b[1;33m\u001b[0m\u001b[0m\n\u001b[0m\u001b[0;32m      9\u001b[0m     \u001b[0mS\u001b[0m \u001b[1;33m=\u001b[0m \u001b[1;33m{\u001b[0m\u001b[1;33m}\u001b[0m\u001b[1;33m\u001b[0m\u001b[1;33m\u001b[0m\u001b[0m\n\u001b[0;32m     10\u001b[0m     \u001b[1;32mfor\u001b[0m \u001b[0mS_i\u001b[0m \u001b[1;32min\u001b[0m \u001b[0mrange\u001b[0m\u001b[1;33m(\u001b[0m\u001b[0mS_n\u001b[0m\u001b[1;33m)\u001b[0m\u001b[1;33m:\u001b[0m\u001b[1;33m\u001b[0m\u001b[1;33m\u001b[0m\u001b[0m\n",
      "\u001b[1;31mValueError\u001b[0m: invalid literal for int() with base 10: '2 3'"
     ]
    }
   ],
   "source": [
    "# The Quickest Way Up Solution\n",
    "T = int(input())\n",
    "for T_i in range(T):\n",
    "    L_n = int(input())\n",
    "    L = {}\n",
    "    for L_i in range(L_n):\n",
    "        L_s,L_e = list(map(int,input().split()))\n",
    "        L[L_s] = L_e\n",
    "    S_n = int(input())\n",
    "    S = {}\n",
    "    for S_i in range(S_n):\n",
    "        S_s,S_e = list(map(int,input().split()))\n",
    "        S[S_s] = S_e\n",
    "    sq = 1\n",
    "    c = 0\n",
    "    while sq != 100: \n",
    "        t = []\n",
    "        for m in range(1,7):\n",
    "            if sq+m in L:\n",
    "                t.append(L[sq+m])\n",
    "            elif sq+m in S:\n",
    "                t.append(S[sq+m])\n",
    "            else:\n",
    "                t.append(sq+m)\n",
    "        if 100 in t:\n",
    "            sq = 100\n",
    "        else:\n",
    "            sq = max(t)\n",
    "        c += 1\n",
    "    print(c)"
   ]
  },
  {
   "cell_type": "code",
   "execution_count": null,
   "id": "8b167861",
   "metadata": {},
   "outputs": [],
   "source": []
  }
 ],
 "metadata": {
  "kernelspec": {
   "display_name": "Python 3",
   "language": "python",
   "name": "python3"
  },
  "language_info": {
   "codemirror_mode": {
    "name": "ipython",
    "version": 3
   },
   "file_extension": ".py",
   "mimetype": "text/x-python",
   "name": "python",
   "nbconvert_exporter": "python",
   "pygments_lexer": "ipython3",
   "version": "3.8.8"
  },
  "toc": {
   "base_numbering": 1,
   "nav_menu": {},
   "number_sections": true,
   "sideBar": false,
   "skip_h1_title": true,
   "title_cell": "Table of Contents",
   "title_sidebar": "Contents",
   "toc_cell": true,
   "toc_position": {},
   "toc_section_display": true,
   "toc_window_display": false
  }
 },
 "nbformat": 4,
 "nbformat_minor": 5
}
