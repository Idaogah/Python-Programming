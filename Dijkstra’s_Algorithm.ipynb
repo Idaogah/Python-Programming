{
  "nbformat": 4,
  "nbformat_minor": 0,
  "metadata": {
    "colab": {
      "provenance": [],
      "authorship_tag": "ABX9TyMH/7Y3a3nAa4OJtHwfYeJV"
    },
    "kernelspec": {
      "name": "python3",
      "display_name": "Python 3"
    },
    "language_info": {
      "name": "python"
    }
  },
  "cells": [
    {
      "cell_type": "markdown",
      "source": [
        "# Dijkstra’s Algorithm\n",
        "\n",
        "Here are the steps to apply Dijkstra's algorithm to find the shortest path from the source vertex s to all other vertices in the graph:\n",
        "\n",
        "1. Initialize all distances to infinity except for the distance from s to itself, which is set to 0. Create a priority queue of vertices ordered by their distance from s, with s as the first vertex.\n",
        "2. While the priority queue is not empty, extract the vertex u with the smallest distance from s, and mark it as visited.\n",
        "3. For each neighbor v of u that is not yet visited, calculate the distance from s to v via u (i.e., the distance to u plus the weight of the edge from u to v). If this distance is smaller than the current distance to v, update the distance to v and add v to the priority queue.\n",
        "4. Repeat steps 2-3 until all vertices have been visited.\n",
        "5. At the end of the algorithm, the distances from s to all other vertices will be calculated, as well as the shortest path from s to each vertex.\n",
        "\n",
        "Here is the Python code to implement Dijkstra's algorithm:"
      ],
      "metadata": {
        "id": "TmD0Wfficuum"
      }
    },
    {
      "cell_type": "markdown",
      "source": [
        "'''\n",
        "**Problem statement**\n",
        "\n",
        "Let  s  be the source or the initial vertex in the weighted digraph  G=(V,A) . Then, for each vertex  v∈V , we need to find the shortest path from  s  to  v .\n",
        "\n",
        "We will solve this problem using Dijkstra’s Algorithm.\n",
        "'''"
      ],
      "metadata": {
        "id": "GjYwwO2leEmM"
      }
    },
    {
      "cell_type": "code",
      "execution_count": null,
      "metadata": {
        "id": "XHmaKntFcjRb"
      },
      "outputs": [],
      "source": [
        "import heapq\n",
        "\n",
        "def dijkstra(graph, start):\n",
        "    distances = {node: float('inf') for node in graph}\n",
        "    distances[start] = 0\n",
        "    pq = [(0, start)]\n",
        "    while pq:\n",
        "        (dist, node) = heapq.heappop(pq)\n",
        "        if dist > distances[node]:\n",
        "            continue\n",
        "        for neighbor, weight in graph[node].items():\n",
        "            new_dist = dist + weight\n",
        "            if new_dist < distances[neighbor]:\n",
        "                distances[neighbor] = new_dist\n",
        "                heapq.heappush(pq, (new_dist, neighbor))\n",
        "    return distances\n"
      ]
    },
    {
      "cell_type": "markdown",
      "source": [
        "Here, `graph` is a dictionary representing the graph, where the keys are the `vertices` and the values are dictionaries that map neighbors to edge weights. For example, if there is an edge from vertex `u` to vertex `v` with weight `w`, then `graph[u][v] = w.` The start parameter is the source vertex s.\n",
        "\n",
        "To find the shortest path from s to a specific vertex `v,` you can use the distances dictionary returned by the algorithm and follow the path backwards from `v` to `s,` using the graph dictionary to determine the edges."
      ],
      "metadata": {
        "id": "GmV9hyB9dPsO"
      }
    }
  ]
}