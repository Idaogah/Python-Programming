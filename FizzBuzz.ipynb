{
 "cells": [
  {
   "cell_type": "markdown",
   "id": "3201bb41",
   "metadata": {
    "toc": true
   },
   "source": [
    "<h1>Table of Contents<span class=\"tocSkip\"></span></h1>\n",
    "<div class=\"toc\"><ul class=\"toc-item\"></ul></div>"
   ]
  },
  {
   "cell_type": "markdown",
   "id": "2b22db68",
   "metadata": {},
   "source": [
    "Given a number n, for each integer i in the range from 1 to n inclusive, print one value per\n",
    "line as follows:\n",
    "If i is a multiple of both 3 and 5, print FizzBuzz.\n",
    "If i is a multiple of 3 (but not 5), print Fizz.\n",
    "If i is a multiple of 5 (but not 3), print Buzz.\n",
    "If i is not a multiple of 3 or 5, print the value of i.\n",
    "Function Description\n",
    "Complete the function fizzBuzz in the editor below.\n",
    "fizzBuzz has the following parameter(s):\n",
    "    int n:  upper limit of values to test (inclusive)\n",
    "Returns:    NONE\n",
    "Prints:\n",
    "    The function must print the appropriate response for each value i in the set {1, 2, ... n} in\n",
    "ascending order, each on a separate line.\n",
    "Constraints\n",
    "0 < n < 2 × 10\n",
    "5\n",
    "Input Format for Custom Testing\n",
    "Sample Case 0\n",
    "Sample Input\n",
    "STDIN Function\n",
    "----- --------\n",
    "15 → n = 15\n",
    "Sample Output\n",
    "1\n",
    "2\n",
    "Fizz\n",
    "4\n"
   ]
  },
  {
   "cell_type": "code",
   "execution_count": 3,
   "id": "3b6f8389",
   "metadata": {},
   "outputs": [],
   "source": [
    "#!/bin/python3\n",
    "\n",
    "import math\n",
    "import os\n",
    "import random\n",
    "import re\n",
    "import sys\n",
    "\n",
    "\n",
    "\n",
    "#\n",
    "# Complete the 'fizzBuzz' function below.\n",
    "#\n",
    "# The function accepts INTEGER n as parameter.\n",
    "#\n",
    "\n",
    "def fizzBuzz(n):\n",
    "    # Write your code here\n",
    "    for i in range(1,n+1):\n",
    "        if i % 3 == 0 and i % 5 == 0:\n",
    "            print('FizzBuzz')\n",
    "        elif i % 3 == 0:\n",
    "            print('Fizz')\n",
    "        elif i % 5 == 0:\n",
    "            print('Buzz')\n",
    "        else:\n",
    "            print(i)\n",
    "\n",
    "if __name__ == '__main__':...\n",
    "    "
   ]
  },
  {
   "cell_type": "code",
   "execution_count": null,
   "id": "b236240e",
   "metadata": {},
   "outputs": [],
   "source": []
  }
 ],
 "metadata": {
  "kernelspec": {
   "display_name": "Python 3",
   "language": "python",
   "name": "python3"
  },
  "language_info": {
   "codemirror_mode": {
    "name": "ipython",
    "version": 3
   },
   "file_extension": ".py",
   "mimetype": "text/x-python",
   "name": "python",
   "nbconvert_exporter": "python",
   "pygments_lexer": "ipython3",
   "version": "3.8.8"
  },
  "toc": {
   "base_numbering": 1,
   "nav_menu": {},
   "number_sections": true,
   "sideBar": false,
   "skip_h1_title": true,
   "title_cell": "Table of Contents",
   "title_sidebar": "Contents",
   "toc_cell": true,
   "toc_position": {},
   "toc_section_display": true,
   "toc_window_display": false
  }
 },
 "nbformat": 4,
 "nbformat_minor": 5
}
