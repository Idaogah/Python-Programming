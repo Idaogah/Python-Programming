{
 "cells": [
  {
   "cell_type": "markdown",
   "id": "5e542180",
   "metadata": {
    "toc": true
   },
   "source": [
    "<h1>Table of Contents<span class=\"tocSkip\"></span></h1>\n",
    "<div class=\"toc\"><ul class=\"toc-item\"></ul></div>"
   ]
  },
  {
   "cell_type": "markdown",
   "id": "2192e295",
   "metadata": {},
   "source": [
    "Unexpected demand"
   ]
  },
  {
   "cell_type": "code",
   "execution_count": 1,
   "id": "24e0bd30",
   "metadata": {},
   "outputs": [
    {
     "name": "stdout",
     "output_type": "stream",
     "text": [
      "2\n",
      "1\n",
      "3\n",
      "0\n"
     ]
    }
   ],
   "source": [
    "def filledOrders(order, k):\n",
    "  total = 0\n",
    "  for i, v in enumerate(sorted(order)):\n",
    "    if total + v <= k:\n",
    "      total += v       # total stays <= k\n",
    "    else:\n",
    "      return i         # provides the count\n",
    "  else:\n",
    "    return len(order)  # was able to place all orders\n",
    "\n",
    "print(filledOrders([3, 2, 1], 3))  # Out: 2\n",
    "print(filledOrders([3, 2, 1], 1))  # Out: 1\n",
    "print(filledOrders([3, 2, 1], 10)) # Out: 3\n",
    "print(filledOrders([3, 2, 1], 0))  # Out: 0"
   ]
  },
  {
   "cell_type": "code",
   "execution_count": null,
   "id": "d1259714",
   "metadata": {},
   "outputs": [],
   "source": []
  }
 ],
 "metadata": {
  "kernelspec": {
   "display_name": "Python 3",
   "language": "python",
   "name": "python3"
  },
  "language_info": {
   "codemirror_mode": {
    "name": "ipython",
    "version": 3
   },
   "file_extension": ".py",
   "mimetype": "text/x-python",
   "name": "python",
   "nbconvert_exporter": "python",
   "pygments_lexer": "ipython3",
   "version": "3.8.8"
  },
  "toc": {
   "base_numbering": 1,
   "nav_menu": {},
   "number_sections": true,
   "sideBar": false,
   "skip_h1_title": true,
   "title_cell": "Table of Contents",
   "title_sidebar": "Contents",
   "toc_cell": true,
   "toc_position": {},
   "toc_section_display": true,
   "toc_window_display": false
  }
 },
 "nbformat": 4,
 "nbformat_minor": 5
}
