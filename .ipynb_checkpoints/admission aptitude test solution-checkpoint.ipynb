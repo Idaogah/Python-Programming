{
 "cells": [
  {
   "cell_type": "markdown",
   "id": "50bb233e",
   "metadata": {
    "toc": true
   },
   "source": [
    "<h1>Table of Contents<span class=\"tocSkip\"></span></h1>\n",
    "<div class=\"toc\"><ul class=\"toc-item\"></ul></div>"
   ]
  },
  {
   "cell_type": "markdown",
   "id": "1556c13b",
   "metadata": {},
   "source": [
    "A college admits students on the basis of their scores in a series of 5 aptitude tests. The academic performance of the admitted students is then tracked, and when they complete the first year of their academic program in college, their Grade Point Average (GPA) is recorded. A student's GPA is an indicator of his/her academic performance. Higher the GPA, the better. This exercise is conducted on one batch of students. Absolute GPA is used for this problem.\n",
    "\n",
    "The next year, the college realizes that it does not have the necessary resources to conduct all 5 aptitude tests, it decides to conduct only 1 of the 5 tests. Which of the aptitude tests would you recommend them to conduct for the next round of admissions?\n",
    "\n",
    "You are given the recorded data. Identify the aptitude test which has clearly the best predictive value in determining the relative academic standing of the students after they enter the college.\n",
    "\n",
    "Input Format\n",
    "\n",
    "The 1st line in the file is an integer T, T testcases follow.\n",
    "Each testcase has 7 lines.\n",
    "\n",
    "The 1st line of every testcase contains the number of admitted students, N.\n",
    "The 2nd line of every testcase has N decimal numbers (upto 2 decimal places) separated by a single space which are the Grade Point Averages (GPAs) of the admitted students at the end of the 1st academic year. The ith score, is the GPA of the ith student at the end of the 1st year.\n",
    "This next 5 lines of every testcase has N decimal numbers ( upto 2 decimal places) separated by a single space in each line, which is the performance of the students in the 5 aptitude tests conducted for the entrance exam. The ith integer in each line, is what the ith student scored in that aptitude test.\n",
    "\n",
    "Constraints\n",
    "\n",
    "1 <= T <= 10\n",
    "4 <= N <= 100\n",
    "0.0 <= k <= 10.0, where k is the GPA of every student.\n",
    "0.0 <= s <= 100.0, where s is the score of every student in any of the 5 aptitude tests.\n",
    "\n",
    "Output Format\n",
    "\n",
    "T integers, each on a new line.\n",
    "For each test case, output the Aptitude Test (1-5) which appears to be the best predictor of the relative academic standing of the students after they enter the college.\n",
    "\n",
    "Sample Input\n",
    "\n",
    "1\n",
    "5\n",
    "7.5 7.7 7.9 8.1 8.3\n",
    "10 30 20 40 50\n",
    "11 9 5 19 29\n",
    "21 9 15 19 39\n",
    "91 9 75 19 89\n",
    "81 99 55 59 89"
   ]
  },
  {
   "cell_type": "code",
   "execution_count": 2,
   "id": "7b518abd",
   "metadata": {},
   "outputs": [
    {
     "name": "stdout",
     "output_type": "stream",
     "text": [
      "2 3\n"
     ]
    },
    {
     "ename": "ValueError",
     "evalue": "invalid literal for int() with base 10: '2 3'",
     "output_type": "error",
     "traceback": [
      "\u001b[1;31m---------------------------------------------------------------------------\u001b[0m",
      "\u001b[1;31mValueError\u001b[0m                                Traceback (most recent call last)",
      "\u001b[1;32m<ipython-input-2-fc1097a62d96>\u001b[0m in \u001b[0;36m<module>\u001b[1;34m\u001b[0m\n\u001b[0;32m     23\u001b[0m     \u001b[1;32mreturn\u001b[0m \u001b[0msum\u001b[0m\u001b[1;33m(\u001b[0m\u001b[1;33m[\u001b[0m\u001b[0ma\u001b[0m\u001b[1;33m[\u001b[0m\u001b[0mi\u001b[0m\u001b[1;33m]\u001b[0m \u001b[1;33m*\u001b[0m \u001b[0mb\u001b[0m\u001b[1;33m[\u001b[0m\u001b[0mi\u001b[0m\u001b[1;33m]\u001b[0m \u001b[1;32mfor\u001b[0m \u001b[0mi\u001b[0m \u001b[1;32min\u001b[0m \u001b[0mrange\u001b[0m\u001b[1;33m(\u001b[0m\u001b[0mlen_a\u001b[0m\u001b[1;33m)\u001b[0m\u001b[1;33m]\u001b[0m\u001b[1;33m)\u001b[0m\u001b[1;33m\u001b[0m\u001b[1;33m\u001b[0m\u001b[0m\n\u001b[0;32m     24\u001b[0m \u001b[1;33m\u001b[0m\u001b[0m\n\u001b[1;32m---> 25\u001b[1;33m \u001b[0mcount\u001b[0m \u001b[1;33m=\u001b[0m \u001b[0mint\u001b[0m\u001b[1;33m(\u001b[0m\u001b[0minput\u001b[0m\u001b[1;33m(\u001b[0m\u001b[1;33m)\u001b[0m\u001b[1;33m)\u001b[0m\u001b[1;33m\u001b[0m\u001b[1;33m\u001b[0m\u001b[0m\n\u001b[0m\u001b[0;32m     26\u001b[0m \u001b[1;33m\u001b[0m\u001b[0m\n\u001b[0;32m     27\u001b[0m \u001b[1;32mfor\u001b[0m \u001b[0mi\u001b[0m \u001b[1;32min\u001b[0m \u001b[0mrange\u001b[0m\u001b[1;33m(\u001b[0m\u001b[0mcount\u001b[0m\u001b[1;33m)\u001b[0m\u001b[1;33m:\u001b[0m\u001b[1;33m\u001b[0m\u001b[1;33m\u001b[0m\u001b[0m\n",
      "\u001b[1;31mValueError\u001b[0m: invalid literal for int() with base 10: '2 3'"
     ]
    }
   ],
   "source": [
    "import math\n",
    "\n",
    "def mean(a):\n",
    "    l = len(a)\n",
    "    if len(a) == 0:\n",
    "        raise Exception(\"Empty Array\")\n",
    "    return sum([entry for entry in a])/len(a)\n",
    "    \n",
    "\n",
    "def unit(a):\n",
    "    a = [entry - mean(a) for entry in a]\n",
    "    b = sum([entry ** 2 for entry in a])\n",
    "    if b == 0: return [0 for entry in a]\n",
    "    b = math.sqrt(b)\n",
    "    a = [entry/b for entry in a]\n",
    "    return a\n",
    "\n",
    "def dot(a, b):\n",
    "    len_a = len(a)\n",
    "    len_b = len(b)\n",
    "    if len_a != len_b:\n",
    "        raise Exception(\"Vector lengths don't match\")\n",
    "    return sum([a[i] * b[i] for i in range(len_a)])\n",
    "\n",
    "count = int(input())\n",
    "\n",
    "for i in range(count):\n",
    "    student_size = int(input())\n",
    "    gpas = input().strip().split()\n",
    "    gpas = [float(entry) for entry in gpas]\n",
    "    gpas = unit(gpas)\n",
    "    tests = []\n",
    "    for j in range(5):\n",
    "        test = input().strip().split()\n",
    "        test = [float(entry) for entry in test]\n",
    "        test = unit(test)\n",
    "        score = dot(gpas, test)\n",
    "        tests.append(score)\n",
    "        \n",
    "    print(tests.index(max(tests)) + 1)\n",
    "    "
   ]
  },
  {
   "cell_type": "code",
   "execution_count": null,
   "id": "973507cd",
   "metadata": {},
   "outputs": [],
   "source": []
  }
 ],
 "metadata": {
  "kernelspec": {
   "display_name": "Python 3",
   "language": "python",
   "name": "python3"
  },
  "language_info": {
   "codemirror_mode": {
    "name": "ipython",
    "version": 3
   },
   "file_extension": ".py",
   "mimetype": "text/x-python",
   "name": "python",
   "nbconvert_exporter": "python",
   "pygments_lexer": "ipython3",
   "version": "3.8.8"
  },
  "toc": {
   "base_numbering": 1,
   "nav_menu": {},
   "number_sections": true,
   "sideBar": false,
   "skip_h1_title": true,
   "title_cell": "Table of Contents",
   "title_sidebar": "Contents",
   "toc_cell": true,
   "toc_position": {},
   "toc_section_display": true,
   "toc_window_display": false
  }
 },
 "nbformat": 4,
 "nbformat_minor": 5
}
