{
 "cells": [
  {
   "cell_type": "markdown",
   "id": "50e068f8",
   "metadata": {
    "toc": true
   },
   "source": [
    "<h1>Table of Contents<span class=\"tocSkip\"></span></h1>\n",
    "<div class=\"toc\"><ul class=\"toc-item\"></ul></div>"
   ]
  },
  {
   "cell_type": "markdown",
   "id": "f0164577",
   "metadata": {},
   "source": [
    "**Dota 2 Game Predictions**\n",
    "Linear regression gives an equation which is of the form y = mx + c, where y is a given variable and variables x1, x2,...xp  are related to y.\n",
    "It is an equation with degree 1. However, logistic regression gives an equation which is of the form\n",
    "Y = e^X/1+e^-X\n",
    "\n",
    "https://datacadamia.com/data_mining/simple_logistic_regression"
   ]
  },
  {
   "cell_type": "markdown",
   "id": "934075cc",
   "metadata": {},
   "source": [
    "The source to this image is here.\n",
    "\n",
    "Why not use a Regular Regression model?\n",
    "For few reason:\n",
    "\n",
    "It would not make much sense to model Y as a linear function of the parameters because Y has only two values.\n",
    "The predicted values can be any positive or negative number, not just 0 or 1.\n",
    "The values of 0 and 1 are arbitrary. The important part is not to predict the numerical value of Y, but the probability that success or failure occurs, and the extent to which that probability depends on the predictor variables."
   ]
  },
  {
   "cell_type": "markdown",
   "id": "ffa647e6",
   "metadata": {},
   "source": [
    "Approach\n",
    "Here each row of the training dataset contains 10 virtual hero names from a set of 100 heroes and an integer denoting which team won ( or ). We need to make a list of heroes that is unique from the training dataset provided."
   ]
  },
  {
   "cell_type": "code",
   "execution_count": 1,
   "id": "2af735c0",
   "metadata": {},
   "outputs": [
    {
     "ename": "FileNotFoundError",
     "evalue": "[Errno 2] No such file or directory: 'trainingdata.txt'",
     "output_type": "error",
     "traceback": [
      "\u001b[1;31m---------------------------------------------------------------------------\u001b[0m",
      "\u001b[1;31mFileNotFoundError\u001b[0m                         Traceback (most recent call last)",
      "\u001b[1;32m<ipython-input-1-86265bbc92ba>\u001b[0m in \u001b[0;36m<module>\u001b[1;34m\u001b[0m\n\u001b[0;32m      1\u001b[0m \u001b[1;31m#Import training dataset\u001b[0m\u001b[1;33m\u001b[0m\u001b[1;33m\u001b[0m\u001b[1;33m\u001b[0m\u001b[0m\n\u001b[1;32m----> 2\u001b[1;33m \u001b[1;32mwith\u001b[0m \u001b[0mopen\u001b[0m\u001b[1;33m(\u001b[0m\u001b[1;34m'trainingdata.txt'\u001b[0m\u001b[1;33m,\u001b[0m \u001b[1;34m'rt'\u001b[0m\u001b[1;33m)\u001b[0m \u001b[1;32mas\u001b[0m \u001b[0mf\u001b[0m\u001b[1;33m:\u001b[0m\u001b[1;33m\u001b[0m\u001b[1;33m\u001b[0m\u001b[0m\n\u001b[0m\u001b[0;32m      3\u001b[0m         \u001b[0mdata\u001b[0m \u001b[1;33m=\u001b[0m \u001b[1;33m[\u001b[0m\u001b[0mx\u001b[0m\u001b[1;33m.\u001b[0m\u001b[0mstrip\u001b[0m\u001b[1;33m(\u001b[0m\u001b[1;33m)\u001b[0m\u001b[1;33m.\u001b[0m\u001b[0mrstrip\u001b[0m\u001b[1;33m(\u001b[0m\u001b[1;33m)\u001b[0m\u001b[1;33m.\u001b[0m\u001b[0msplit\u001b[0m\u001b[1;33m(\u001b[0m\u001b[1;34m','\u001b[0m\u001b[1;33m)\u001b[0m \u001b[1;32mfor\u001b[0m \u001b[0mx\u001b[0m \u001b[1;32min\u001b[0m \u001b[0mf\u001b[0m\u001b[1;33m.\u001b[0m\u001b[0mreadlines\u001b[0m\u001b[1;33m(\u001b[0m\u001b[1;33m)\u001b[0m\u001b[1;33m]\u001b[0m\u001b[1;33m\u001b[0m\u001b[1;33m\u001b[0m\u001b[0m\n\u001b[0;32m      4\u001b[0m \u001b[1;33m\u001b[0m\u001b[0m\n\u001b[0;32m      5\u001b[0m \u001b[0mdata_train\u001b[0m \u001b[1;33m=\u001b[0m \u001b[1;33m[\u001b[0m\u001b[0mx\u001b[0m\u001b[1;33m[\u001b[0m\u001b[1;33m:\u001b[0m\u001b[1;33m-\u001b[0m\u001b[1;36m1\u001b[0m\u001b[1;33m]\u001b[0m \u001b[1;32mfor\u001b[0m \u001b[0mx\u001b[0m \u001b[1;32min\u001b[0m \u001b[0mdata\u001b[0m\u001b[1;33m]\u001b[0m\u001b[1;33m\u001b[0m\u001b[1;33m\u001b[0m\u001b[0m\n",
      "\u001b[1;31mFileNotFoundError\u001b[0m: [Errno 2] No such file or directory: 'trainingdata.txt'"
     ]
    }
   ],
   "source": [
    "#Import training dataset\n",
    "with open('trainingdata.txt', 'rt') as f:\n",
    "\tdata = [x.strip().rstrip().split(',') for x in f.readlines()]\n",
    "\n",
    "data_train = [x[:-1] for x in data]\n",
    "data_test = [int(x[-1]) for x in data]\n",
    "\n",
    "#create list/dict with heroes\n",
    "for x in data_train:\n",
    "    for y in x:\n",
    "        list_heroes.append(y)\n",
    " \n",
    "list_heroes=list(sorted(set(list_heroes)))\n",
    "for i in range(len(list_heroes)):\n",
    "    dict_heroes[list_heroes[i]]=i\n",
    "    "
   ]
  },
  {
   "cell_type": "markdown",
   "id": "ce22ebb0",
   "metadata": {},
   "source": [
    "By creating a number matrix of the dict_heroes for each input row of the training dataset we can fit a KNN model for classification. The value for n_neighbors is 50 on the basis of  (which is the second hidden test case)"
   ]
  },
  {
   "cell_type": "code",
   "execution_count": 2,
   "id": "e091ce3b",
   "metadata": {},
   "outputs": [
    {
     "name": "stdout",
     "output_type": "stream",
     "text": [
      "2\n"
     ]
    },
    {
     "ename": "NameError",
     "evalue": "name 'test_games' is not defined",
     "output_type": "error",
     "traceback": [
      "\u001b[1;31m---------------------------------------------------------------------------\u001b[0m",
      "\u001b[1;31mNameError\u001b[0m                                 Traceback (most recent call last)",
      "\u001b[1;32m<ipython-input-2-0bdc4df6c2a5>\u001b[0m in \u001b[0;36m<module>\u001b[1;34m\u001b[0m\n\u001b[0;32m      2\u001b[0m \u001b[1;33m\u001b[0m\u001b[0m\n\u001b[0;32m      3\u001b[0m \u001b[1;32mfor\u001b[0m \u001b[0mx\u001b[0m \u001b[1;32min\u001b[0m \u001b[0mrange\u001b[0m\u001b[1;33m(\u001b[0m\u001b[0mint\u001b[0m\u001b[1;33m(\u001b[0m\u001b[0mntest\u001b[0m\u001b[1;33m)\u001b[0m\u001b[1;33m)\u001b[0m\u001b[1;33m:\u001b[0m\u001b[1;33m\u001b[0m\u001b[1;33m\u001b[0m\u001b[0m\n\u001b[1;32m----> 4\u001b[1;33m         \u001b[0mtest_games\u001b[0m\u001b[1;33m.\u001b[0m\u001b[0mappend\u001b[0m\u001b[1;33m(\u001b[0m\u001b[1;33m(\u001b[0m\u001b[0minput\u001b[0m\u001b[1;33m(\u001b[0m\u001b[1;33m)\u001b[0m\u001b[1;33m.\u001b[0m\u001b[0mreplace\u001b[0m\u001b[1;33m(\u001b[0m\u001b[1;34m'\\n'\u001b[0m\u001b[1;33m,\u001b[0m\u001b[1;34m\"\"\u001b[0m\u001b[1;33m)\u001b[0m\u001b[1;33m)\u001b[0m\u001b[1;33m.\u001b[0m\u001b[0msplit\u001b[0m\u001b[1;33m(\u001b[0m\u001b[1;34m\",\"\u001b[0m\u001b[1;33m)\u001b[0m\u001b[1;33m)\u001b[0m\u001b[1;33m\u001b[0m\u001b[1;33m\u001b[0m\u001b[0m\n\u001b[0m\u001b[0;32m      5\u001b[0m \u001b[0mf\u001b[0m\u001b[1;33m.\u001b[0m\u001b[0mclose\u001b[0m\u001b[1;33m\u001b[0m\u001b[1;33m\u001b[0m\u001b[0m\n\u001b[0;32m      6\u001b[0m \u001b[1;33m\u001b[0m\u001b[0m\n",
      "\u001b[1;31mNameError\u001b[0m: name 'test_games' is not defined"
     ]
    }
   ],
   "source": [
    "ntest = input()\n",
    "\n",
    "for x in range(int(ntest)):\n",
    "\ttest_games.append((input().replace('\\n',\"\")).split(\",\"))\n",
    "f.close\n",
    "\n",
    "curteam2 = [[0 for _ in range(10)] for _ in range(int(ntest))]\n",
    "for i in range(int(int(ntest))):\n",
    "\tfor j in range(10):\n",
    "\t\tcurteam2[i][j] = dict_heroes[str(test_games[i][j])]\n",
    "\n",
    "import numpy as np\n",
    "from sklearn.multiclass import OneVsRestClassifier\n",
    "from sklearn.neighbors import KNeighborsClassifier\n",
    "\n",
    "xtrain = np.asarray(curteam)\n",
    "xtest = np.asarray(curteam2)\n",
    "ytrain = np.asarray(data_test)\n",
    "\n",
    "ovr_rf = OneVsRestClassifier(KNeighborsClassifier(n_neighbors = 50)).fit(xtrain, ytrain)\n",
    "multi_pred = ovr_rf.predict(xtest)\n",
    "\n",
    "#print the predicted values\n",
    "for i in range(0,int(ntest)):\n",
    "\tprint (multi_pred[i])\n",
    "    "
   ]
  },
  {
   "cell_type": "code",
   "execution_count": null,
   "id": "6df6978b",
   "metadata": {},
   "outputs": [],
   "source": []
  }
 ],
 "metadata": {
  "kernelspec": {
   "display_name": "Python 3",
   "language": "python",
   "name": "python3"
  },
  "language_info": {
   "codemirror_mode": {
    "name": "ipython",
    "version": 3
   },
   "file_extension": ".py",
   "mimetype": "text/x-python",
   "name": "python",
   "nbconvert_exporter": "python",
   "pygments_lexer": "ipython3",
   "version": "3.8.8"
  },
  "toc": {
   "base_numbering": 1,
   "nav_menu": {},
   "number_sections": true,
   "sideBar": false,
   "skip_h1_title": true,
   "title_cell": "Table of Contents",
   "title_sidebar": "Contents",
   "toc_cell": true,
   "toc_position": {},
   "toc_section_display": true,
   "toc_window_display": false
  }
 },
 "nbformat": 4,
 "nbformat_minor": 5
}
