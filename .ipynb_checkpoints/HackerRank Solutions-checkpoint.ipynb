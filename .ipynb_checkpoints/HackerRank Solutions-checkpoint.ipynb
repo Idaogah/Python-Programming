{
 "cells": [
  {
   "cell_type": "markdown",
   "id": "819cb8c8",
   "metadata": {
    "toc": true
   },
   "source": [
    "<h1>Table of Contents<span class=\"tocSkip\"></span></h1>\n",
    "<div class=\"toc\"><ul class=\"toc-item\"><li><span><a href=\"#References:\" data-toc-modified-id=\"References:-1\"><span class=\"toc-item-num\">1&nbsp;&nbsp;</span>References:</a></span></li></ul></div>"
   ]
  },
  {
   "cell_type": "markdown",
   "id": "c8647835",
   "metadata": {},
   "source": [
    "## References:\n",
    "`https://www.thecscience.com`\n",
    "`https://programs.programmingoneonone.com/p/hackerrank-1-week-preparation-kit.html` <br>\n",
    "`https://www.programmingoneonone.com/2022/05/iot-in-healthcare.html`  <br>\n",
    "`https://www.programmingoneonone.com/2020/05/header-linked-list.html`   <br>\n",
    "`https://www.programmingoneonone.com/p/data-structures-and-algorithms.html` <br>\n",
    "`https://www.datastructuresandalgorithm.com/search/label/data%20structures`   <br>\n",
    "`https://www.hackerearth.com/practice/`   <br>\n",
    "`https://www.thepoorcoder.com/hackerrank-chocolate-feast-solution/`   <br>"
   ]
  },
  {
   "cell_type": "code",
   "execution_count": 9,
   "id": "00792378",
   "metadata": {},
   "outputs": [
    {
     "name": "stdout",
     "output_type": "stream",
     "text": [
      "1st number:5\n",
      "2nd number: 8\n",
      "5  + 8  =  13\n"
     ]
    }
   ],
   "source": [
    "\n",
    "#Function to sum two integers:\n",
    "\n",
    "def sumTwoNumbers(a, b):\n",
    "    return a+b\n",
    "\n",
    "# test the function\n",
    "int1 = int(input('1st number:' ))\n",
    "int2 = int(input('2nd number: ' ))\n",
    "numsum  = sumTwoNumbers(int1, int2)\n",
    "print(int1, ' +', int2, ' = ', numsum)\n"
   ]
  },
  {
   "cell_type": "code",
   "execution_count": 7,
   "id": "546ec11a",
   "metadata": {
    "scrolled": false
   },
   "outputs": [
    {
     "name": "stdout",
     "output_type": "stream",
     "text": [
      "2\n",
      "2\n"
     ]
    },
    {
     "ename": "IndexError",
     "evalue": "list index out of range",
     "output_type": "error",
     "traceback": [
      "\u001b[1;31m---------------------------------------------------------------------------\u001b[0m",
      "\u001b[1;31mIndexError\u001b[0m                                Traceback (most recent call last)",
      "\u001b[1;32m<ipython-input-7-12996113c3e4>\u001b[0m in \u001b[0;36m<module>\u001b[1;34m\u001b[0m\n\u001b[0;32m     20\u001b[0m     \u001b[0mar_count\u001b[0m \u001b[1;33m=\u001b[0m \u001b[0mint\u001b[0m\u001b[1;33m(\u001b[0m\u001b[0minput\u001b[0m\u001b[1;33m(\u001b[0m\u001b[1;33m)\u001b[0m\u001b[1;33m.\u001b[0m\u001b[0mstrip\u001b[0m\u001b[1;33m(\u001b[0m\u001b[1;33m)\u001b[0m\u001b[1;33m)\u001b[0m\u001b[1;33m\u001b[0m\u001b[1;33m\u001b[0m\u001b[0m\n\u001b[0;32m     21\u001b[0m     \u001b[0mar\u001b[0m \u001b[1;33m=\u001b[0m \u001b[0mlist\u001b[0m\u001b[1;33m(\u001b[0m\u001b[0mmap\u001b[0m\u001b[1;33m(\u001b[0m\u001b[0mint\u001b[0m\u001b[1;33m,\u001b[0m \u001b[0minput\u001b[0m\u001b[1;33m(\u001b[0m\u001b[1;33m)\u001b[0m\u001b[1;33m.\u001b[0m\u001b[0mrstrip\u001b[0m\u001b[1;33m(\u001b[0m\u001b[1;33m)\u001b[0m\u001b[1;33m.\u001b[0m\u001b[0msplit\u001b[0m\u001b[1;33m(\u001b[0m\u001b[1;33m)\u001b[0m\u001b[1;33m)\u001b[0m\u001b[1;33m)\u001b[0m\u001b[1;33m\u001b[0m\u001b[1;33m\u001b[0m\u001b[0m\n\u001b[1;32m---> 22\u001b[1;33m     \u001b[0mresult\u001b[0m \u001b[1;33m=\u001b[0m \u001b[0msimpleArraySum\u001b[0m\u001b[1;33m(\u001b[0m\u001b[0mar\u001b[0m\u001b[1;33m)\u001b[0m\u001b[1;33m\u001b[0m\u001b[1;33m\u001b[0m\u001b[0m\n\u001b[0m\u001b[0;32m     23\u001b[0m     \u001b[0mfptr\u001b[0m\u001b[1;33m.\u001b[0m\u001b[0mwrite\u001b[0m\u001b[1;33m(\u001b[0m\u001b[0mstr\u001b[0m\u001b[1;33m(\u001b[0m\u001b[0mresult\u001b[0m\u001b[1;33m)\u001b[0m \u001b[1;33m+\u001b[0m \u001b[1;34m'\\n'\u001b[0m\u001b[1;33m)\u001b[0m\u001b[1;33m\u001b[0m\u001b[1;33m\u001b[0m\u001b[0m\n\u001b[0;32m     24\u001b[0m     \u001b[0mfptr\u001b[0m\u001b[1;33m.\u001b[0m\u001b[0mclose\u001b[0m\u001b[1;33m(\u001b[0m\u001b[1;33m)\u001b[0m\u001b[1;33m\u001b[0m\u001b[1;33m\u001b[0m\u001b[0m\n",
      "\u001b[1;32m<ipython-input-7-12996113c3e4>\u001b[0m in \u001b[0;36msimpleArraySum\u001b[1;34m(ar)\u001b[0m\n\u001b[0;32m     13\u001b[0m     \u001b[0mx\u001b[0m\u001b[1;33m=\u001b[0m\u001b[1;36m0\u001b[0m\u001b[1;33m\u001b[0m\u001b[1;33m\u001b[0m\u001b[0m\n\u001b[0;32m     14\u001b[0m     \u001b[1;32mfor\u001b[0m \u001b[0mi\u001b[0m \u001b[1;32min\u001b[0m \u001b[0mrange\u001b[0m\u001b[1;33m(\u001b[0m\u001b[1;36m0\u001b[0m\u001b[1;33m,\u001b[0m\u001b[0mar_count\u001b[0m\u001b[1;33m)\u001b[0m\u001b[1;33m:\u001b[0m\u001b[1;33m\u001b[0m\u001b[1;33m\u001b[0m\u001b[0m\n\u001b[1;32m---> 15\u001b[1;33m         \u001b[0mx\u001b[0m \u001b[1;33m=\u001b[0m \u001b[0mx\u001b[0m \u001b[1;33m+\u001b[0m \u001b[0mar\u001b[0m\u001b[1;33m[\u001b[0m\u001b[0mi\u001b[0m\u001b[1;33m]\u001b[0m\u001b[1;33m\u001b[0m\u001b[1;33m\u001b[0m\u001b[0m\n\u001b[0m\u001b[0;32m     16\u001b[0m     \u001b[1;32mreturn\u001b[0m \u001b[0mx\u001b[0m\u001b[1;33m\u001b[0m\u001b[1;33m\u001b[0m\u001b[0m\n\u001b[0;32m     17\u001b[0m \u001b[1;32mif\u001b[0m \u001b[0m__name__\u001b[0m \u001b[1;33m==\u001b[0m \u001b[1;34m'__main__'\u001b[0m\u001b[1;33m:\u001b[0m\u001b[1;33m\u001b[0m\u001b[1;33m\u001b[0m\u001b[0m\n",
      "\u001b[1;31mIndexError\u001b[0m: list index out of range"
     ]
    }
   ],
   "source": [
    "#!/bin/python3\n",
    "import math\n",
    "import os\n",
    "import random\n",
    "import re\n",
    "import sys\n",
    "#\n",
    "# Complete the 'simpleArraySum' function below.\n",
    "# The function is expected to return an INTEGER.\n",
    "# The function accepts INTEGER_ARRAY ar as parameter.\n",
    "#\n",
    "def simpleArraySum(ar):\n",
    "    x=0\n",
    "    for i in range(0,ar_count):\n",
    "        x = x + ar[i]\n",
    "    return x\n",
    "if __name__ == '__main__':\n",
    "    fptr = os.environ\n",
    "#     fptr = open(os.environ['OUTPUT_PATH'], 'w')\n",
    "    ar_count = int(input().strip())\n",
    "    ar = list(map(int, input().rstrip().split()))\n",
    "    result = simpleArraySum(ar)\n",
    "    fptr.write(str(result) + '\\n')\n",
    "    fptr.close()\n",
    "    \n",
    "\n",
    "aaa = [1,4,7,9,1]\n",
    "# General Solution\n"
   ]
  },
  {
   "cell_type": "raw",
   "id": "a27cc65d",
   "metadata": {},
   "source": [
    "n = list(input())\n",
    "nums = list(map(int, input().split()))\n",
    "sum = 0\n",
    "for num in nums:\n",
    "    sum += num\n",
    "print(sum)"
   ]
  },
  {
   "cell_type": "markdown",
   "id": "880887ad",
   "metadata": {},
   "source": [
    " In this HackerRank Plus Minus problem you have Given an array of integers, calculate the ratios of its elements that are positive, negative, and zero. Print the decimal value of each fraction on a new line with 6 places after the decimal."
   ]
  },
  {
   "cell_type": "code",
   "execution_count": 19,
   "id": "70672b57",
   "metadata": {},
   "outputs": [
    {
     "name": "stdout",
     "output_type": "stream",
     "text": [
      "a\n"
     ]
    },
    {
     "ename": "ValueError",
     "evalue": "invalid literal for int() with base 10: 'a'",
     "output_type": "error",
     "traceback": [
      "\u001b[1;31m---------------------------------------------------------------------------\u001b[0m",
      "\u001b[1;31mValueError\u001b[0m                                Traceback (most recent call last)",
      "\u001b[1;32m<ipython-input-19-7022eb761dcc>\u001b[0m in \u001b[0;36m<module>\u001b[1;34m\u001b[0m\n\u001b[0;32m     22\u001b[0m \u001b[1;33m\u001b[0m\u001b[0m\n\u001b[0;32m     23\u001b[0m \u001b[1;32mif\u001b[0m \u001b[0m__name__\u001b[0m \u001b[1;33m==\u001b[0m \u001b[1;34m'__main__'\u001b[0m\u001b[1;33m:\u001b[0m\u001b[1;33m\u001b[0m\u001b[1;33m\u001b[0m\u001b[0m\n\u001b[1;32m---> 24\u001b[1;33m     \u001b[0mn\u001b[0m \u001b[1;33m=\u001b[0m \u001b[0mint\u001b[0m\u001b[1;33m(\u001b[0m\u001b[0minput\u001b[0m\u001b[1;33m(\u001b[0m\u001b[1;33m)\u001b[0m\u001b[1;33m)\u001b[0m\u001b[1;33m\u001b[0m\u001b[1;33m\u001b[0m\u001b[0m\n\u001b[0m\u001b[0;32m     25\u001b[0m \u001b[1;33m\u001b[0m\u001b[0m\n\u001b[0;32m     26\u001b[0m     \u001b[0marr\u001b[0m \u001b[1;33m=\u001b[0m \u001b[0mlist\u001b[0m\u001b[1;33m(\u001b[0m\u001b[0mmap\u001b[0m\u001b[1;33m(\u001b[0m\u001b[0mint\u001b[0m\u001b[1;33m,\u001b[0m \u001b[0minput\u001b[0m\u001b[1;33m(\u001b[0m\u001b[1;33m)\u001b[0m\u001b[1;33m.\u001b[0m\u001b[0mrstrip\u001b[0m\u001b[1;33m(\u001b[0m\u001b[1;33m)\u001b[0m\u001b[1;33m.\u001b[0m\u001b[0msplit\u001b[0m\u001b[1;33m(\u001b[0m\u001b[1;33m)\u001b[0m\u001b[1;33m)\u001b[0m\u001b[1;33m)\u001b[0m\u001b[1;33m\u001b[0m\u001b[1;33m\u001b[0m\u001b[0m\n",
      "\u001b[1;31mValueError\u001b[0m: invalid literal for int() with base 10: 'a'"
     ]
    }
   ],
   "source": [
    "#!/bin/python3\n",
    "\n",
    "import math\n",
    "import os\n",
    "import random\n",
    "import re\n",
    "import sys\n",
    "\n",
    "# Complete the plusMinus function below.\n",
    "def plusMinus(arr):\n",
    "    x,z,y=0,0,0\n",
    "    for i in range(0,len(arr)):\n",
    "        if arr[i]>0:\n",
    "            x = x + 1\n",
    "        elif arr[i]<0:\n",
    "            y = y + 1\n",
    "        else:\n",
    "            z = z + 1\n",
    "    print(x/len(arr))\n",
    "    print(y/len(arr))\n",
    "    print(z/len(arr))\n",
    "\n",
    "if __name__ == '__main__':\n",
    "    n = int(input())\n",
    "\n",
    "    arr = list(map(int, input().rstrip().split()))\n",
    "\n",
    "    plusMinus(arr)"
   ]
  },
  {
   "cell_type": "markdown",
   "id": "6d323722",
   "metadata": {},
   "source": [
    "In this HackerRank Mini-Max Sum problem you have Given five positive integers, find the minimum and maximum values that can be calculated by summing exactly four of the five integers. Then print the respective minimum and maximum values as a single line of two space-separated long integers."
   ]
  },
  {
   "cell_type": "code",
   "execution_count": 16,
   "id": "a458d232",
   "metadata": {
    "scrolled": true
   },
   "outputs": [
    {
     "name": "stdout",
     "output_type": "stream",
     "text": [
      "1 -3 5 0 -2\n",
      "-4 4\n"
     ]
    }
   ],
   "source": [
    "#!/bin/python3\n",
    "\n",
    "import math\n",
    "import os\n",
    "import random\n",
    "import re\n",
    "import sys\n",
    "\n",
    "# Complete the miniMaxSum function below.\n",
    "def miniMaxSum(arr):\n",
    "    arr.sort()\n",
    "    hold = [None]*int(len(arr)-3)\n",
    "    for i in range(0,len(arr)-3):\n",
    "        temp = 0\n",
    "        for j in range(i,i+4):\n",
    "            temp = temp + arr[j]\n",
    "        hold[i] = temp\n",
    "    \n",
    "    print(hold[0],hold[-1])\n",
    "\n",
    "\n",
    "if __name__ == '__main__':\n",
    "    arr = list(map(int, input().rstrip().split()))\n",
    "\n",
    "    miniMaxSum(arr)"
   ]
  },
  {
   "cell_type": "markdown",
   "id": "683c658f",
   "metadata": {},
   "source": [
    "In this HackerRank Luck Balance interview preparation kit problem you need to complete the luckBalance function in the editor."
   ]
  },
  {
   "cell_type": "code",
   "execution_count": 9,
   "id": "22cbe7c5",
   "metadata": {
    "scrolled": true
   },
   "outputs": [
    {
     "name": "stdout",
     "output_type": "stream",
     "text": [
      "3 7\n",
      "6 5\n",
      "8 4\n",
      "5 7\n",
      "19\n"
     ]
    }
   ],
   "source": [
    "N, K = map(int, input().strip().split())\n",
    "\n",
    "luck = 0\n",
    "important = []\n",
    "\n",
    "for i in range(N):\n",
    "    L, T = list(map(int, input().strip().split()))\n",
    "    if T == 0:\n",
    "        luck += L\n",
    "    else:\n",
    "        important.append(L)\n",
    "        \n",
    "for i in sorted(important, reverse=True):\n",
    "    if K > 0:\n",
    "        luck += i\n",
    "        K -= 1\n",
    "    else:\n",
    "        luck -= i\n",
    "\n",
    "print(luck)\n"
   ]
  },
  {
   "cell_type": "markdown",
   "id": "d67b4ffc",
   "metadata": {},
   "source": [
    "In  this Time Conversion problem, you have given a time in 12 hour AM/PM format, you need to convert it to military (24-hour) time."
   ]
  },
  {
   "cell_type": "code",
   "execution_count": 26,
   "id": "1e8bc4fa",
   "metadata": {
    "scrolled": true
   },
   "outputs": [
    {
     "name": "stdout",
     "output_type": "stream",
     "text": [
      "6\n"
     ]
    },
    {
     "ename": "AttributeError",
     "evalue": "'_Environ' object has no attribute 'write'",
     "output_type": "error",
     "traceback": [
      "\u001b[1;31m---------------------------------------------------------------------------\u001b[0m",
      "\u001b[1;31mAttributeError\u001b[0m                            Traceback (most recent call last)",
      "\u001b[1;32m<ipython-input-26-14a13491eb9a>\u001b[0m in \u001b[0;36m<module>\u001b[1;34m\u001b[0m\n\u001b[0;32m     28\u001b[0m     \u001b[0mresult\u001b[0m \u001b[1;33m=\u001b[0m \u001b[0mtimeConversion\u001b[0m\u001b[1;33m(\u001b[0m\u001b[0ms\u001b[0m\u001b[1;33m)\u001b[0m\u001b[1;33m\u001b[0m\u001b[1;33m\u001b[0m\u001b[0m\n\u001b[0;32m     29\u001b[0m \u001b[1;33m\u001b[0m\u001b[0m\n\u001b[1;32m---> 30\u001b[1;33m     \u001b[0mf\u001b[0m\u001b[1;33m.\u001b[0m\u001b[0mwrite\u001b[0m\u001b[1;33m(\u001b[0m\u001b[0mstr\u001b[0m\u001b[1;33m(\u001b[0m\u001b[0mresult\u001b[0m\u001b[1;33m)\u001b[0m \u001b[1;33m+\u001b[0m \u001b[1;34m'\\n'\u001b[0m\u001b[1;33m)\u001b[0m\u001b[1;33m\u001b[0m\u001b[1;33m\u001b[0m\u001b[0m\n\u001b[0m\u001b[0;32m     31\u001b[0m \u001b[1;33m\u001b[0m\u001b[0m\n\u001b[0;32m     32\u001b[0m     \u001b[0mf\u001b[0m\u001b[1;33m.\u001b[0m\u001b[0mclose\u001b[0m\u001b[1;33m(\u001b[0m\u001b[1;33m)\u001b[0m\u001b[1;33m\u001b[0m\u001b[1;33m\u001b[0m\u001b[0m\n",
      "\u001b[1;31mAttributeError\u001b[0m: '_Environ' object has no attribute 'write'"
     ]
    }
   ],
   "source": [
    "#!/bin/python3\n",
    "\n",
    "import os\n",
    "import sys\n",
    "\n",
    "#\n",
    "# Complete the timeConversion function below.\n",
    "#\n",
    "def timeConversion(s):\n",
    "    if s[-2:] == \"AM\" and s[:2] == \"12\": \n",
    "        return \"00\" + s[2:-2] \n",
    "    elif s[-2:] == \"AM\": \n",
    "        return s[:-2]\n",
    "    elif s[-2:] == \"PM\" and s[:2] == \"12\": \n",
    "        return s[:-2] \n",
    "    else:\n",
    "       ans = int(s[:2]) + 12\n",
    "       return str(str(ans) + s[2:8]) \n",
    "        \n",
    "    \n",
    "if __name__ == '__main__':\n",
    "    \n",
    "    fptr = os.environ\n",
    "#     f = open(os.environ['OUTPUT_PATH'], 'w')\n",
    "\n",
    "    s = input()\n",
    "\n",
    "    result = timeConversion(s)\n",
    "\n",
    "    f.write(str(result) + '\\n')\n",
    "\n",
    "    f.close()\n"
   ]
  },
  {
   "cell_type": "markdown",
   "id": "adb6a5ca",
   "metadata": {},
   "source": [
    "In this HackerRank Count Triplets Interview preparation kit problem solution You are given an array and you need to find a number of triplets of indices (i,j,k) such that the elements at those indices are in geometric progression for a given common ratio r and i < j < k."
   ]
  },
  {
   "cell_type": "code",
   "execution_count": 7,
   "id": "1b5a85df",
   "metadata": {},
   "outputs": [
    {
     "ename": "KeyError",
     "evalue": "'OUTPUT_PATH'",
     "output_type": "error",
     "traceback": [
      "\u001b[1;31m---------------------------------------------------------------------------\u001b[0m",
      "\u001b[1;31mKeyError\u001b[0m                                  Traceback (most recent call last)",
      "\u001b[1;32m<ipython-input-7-0145626610ba>\u001b[0m in \u001b[0;36m<module>\u001b[1;34m\u001b[0m\n\u001b[0;32m     23\u001b[0m \u001b[1;33m\u001b[0m\u001b[0m\n\u001b[0;32m     24\u001b[0m \u001b[1;32mif\u001b[0m \u001b[0m__name__\u001b[0m \u001b[1;33m==\u001b[0m \u001b[1;34m'__main__'\u001b[0m\u001b[1;33m:\u001b[0m\u001b[1;33m\u001b[0m\u001b[1;33m\u001b[0m\u001b[0m\n\u001b[1;32m---> 25\u001b[1;33m     \u001b[0mfptr\u001b[0m \u001b[1;33m=\u001b[0m \u001b[0mopen\u001b[0m\u001b[1;33m(\u001b[0m\u001b[0mos\u001b[0m\u001b[1;33m.\u001b[0m\u001b[0menviron\u001b[0m\u001b[1;33m[\u001b[0m\u001b[1;34m'OUTPUT_PATH'\u001b[0m\u001b[1;33m]\u001b[0m\u001b[1;33m,\u001b[0m \u001b[1;34m'w'\u001b[0m\u001b[1;33m)\u001b[0m\u001b[1;33m\u001b[0m\u001b[1;33m\u001b[0m\u001b[0m\n\u001b[0m\u001b[0;32m     26\u001b[0m \u001b[1;33m\u001b[0m\u001b[0m\n\u001b[0;32m     27\u001b[0m     \u001b[0mnr\u001b[0m \u001b[1;33m=\u001b[0m \u001b[0minput\u001b[0m\u001b[1;33m(\u001b[0m\u001b[1;33m)\u001b[0m\u001b[1;33m.\u001b[0m\u001b[0mrstrip\u001b[0m\u001b[1;33m(\u001b[0m\u001b[1;33m)\u001b[0m\u001b[1;33m.\u001b[0m\u001b[0msplit\u001b[0m\u001b[1;33m(\u001b[0m\u001b[1;33m)\u001b[0m\u001b[1;33m\u001b[0m\u001b[1;33m\u001b[0m\u001b[0m\n",
      "\u001b[1;32m~\\anaconda3\\lib\\os.py\u001b[0m in \u001b[0;36m__getitem__\u001b[1;34m(self, key)\u001b[0m\n\u001b[0;32m    673\u001b[0m         \u001b[1;32mexcept\u001b[0m \u001b[0mKeyError\u001b[0m\u001b[1;33m:\u001b[0m\u001b[1;33m\u001b[0m\u001b[1;33m\u001b[0m\u001b[0m\n\u001b[0;32m    674\u001b[0m             \u001b[1;31m# raise KeyError with the original key value\u001b[0m\u001b[1;33m\u001b[0m\u001b[1;33m\u001b[0m\u001b[1;33m\u001b[0m\u001b[0m\n\u001b[1;32m--> 675\u001b[1;33m             \u001b[1;32mraise\u001b[0m \u001b[0mKeyError\u001b[0m\u001b[1;33m(\u001b[0m\u001b[0mkey\u001b[0m\u001b[1;33m)\u001b[0m \u001b[1;32mfrom\u001b[0m \u001b[1;32mNone\u001b[0m\u001b[1;33m\u001b[0m\u001b[1;33m\u001b[0m\u001b[0m\n\u001b[0m\u001b[0;32m    676\u001b[0m         \u001b[1;32mreturn\u001b[0m \u001b[0mself\u001b[0m\u001b[1;33m.\u001b[0m\u001b[0mdecodevalue\u001b[0m\u001b[1;33m(\u001b[0m\u001b[0mvalue\u001b[0m\u001b[1;33m)\u001b[0m\u001b[1;33m\u001b[0m\u001b[1;33m\u001b[0m\u001b[0m\n\u001b[0;32m    677\u001b[0m \u001b[1;33m\u001b[0m\u001b[0m\n",
      "\u001b[1;31mKeyError\u001b[0m: 'OUTPUT_PATH'"
     ]
    }
   ],
   "source": [
    "#!/bin/python3\n",
    "\n",
    "import math\n",
    "import os\n",
    "import random\n",
    "import re\n",
    "import sys\n",
    "from collections import Counter\n",
    "\n",
    "# Complete the countTriplets function below.\n",
    "def countTriplets(arr, r):\n",
    "    a = Counter(arr)\n",
    "    b = Counter()\n",
    "    s = 0\n",
    "    for i in arr:\n",
    "        j = i//r\n",
    "        k = i*r\n",
    "        a[i]-=1\n",
    "        if b[j] and a[k] and not i%r:\n",
    "            s+=b[j]*a[k]\n",
    "        b[i]+=1\n",
    "    return s\n",
    "\n",
    "if __name__ == '__main__':\n",
    "    fptr = open(os.environ['OUTPUT_PATH'], 'w')\n",
    "\n",
    "    nr = input().rstrip().split()\n",
    "\n",
    "    n = int(nr[0])\n",
    "\n",
    "    r = int(nr[1])\n",
    "\n",
    "    arr = list(map(int, input().rstrip().split()))\n",
    "\n",
    "    ans = countTriplets(arr, r)\n",
    "\n",
    "    fptr.write(str(ans) + '\\n')\n",
    "\n",
    "    fptr.close()\n",
    "    "
   ]
  },
  {
   "cell_type": "markdown",
   "id": "e90015d0",
   "metadata": {},
   "source": [
    " In this HackerRank Lonely Integer problem solution, we have Given an array of integers, where all elements but one occur twice, find the unique element."
   ]
  },
  {
   "cell_type": "code",
   "execution_count": 28,
   "id": "30fcc5cf",
   "metadata": {},
   "outputs": [
    {
     "name": "stdout",
     "output_type": "stream",
     "text": [
      "1 2 3 5 4 3 5 6 \n"
     ]
    },
    {
     "ename": "ValueError",
     "evalue": "invalid literal for int() with base 10: '1 2 3 5 4 3 5 6 '",
     "output_type": "error",
     "traceback": [
      "\u001b[1;31m---------------------------------------------------------------------------\u001b[0m",
      "\u001b[1;31mValueError\u001b[0m                                Traceback (most recent call last)",
      "\u001b[1;32m<ipython-input-28-931032278cdf>\u001b[0m in \u001b[0;36m<module>\u001b[1;34m\u001b[0m\n\u001b[0;32m      9\u001b[0m \u001b[1;33m\u001b[0m\u001b[0m\n\u001b[0;32m     10\u001b[0m \u001b[1;32mif\u001b[0m \u001b[0m__name__\u001b[0m \u001b[1;33m==\u001b[0m \u001b[1;34m'__main__'\u001b[0m\u001b[1;33m:\u001b[0m\u001b[1;33m\u001b[0m\u001b[1;33m\u001b[0m\u001b[0m\n\u001b[1;32m---> 11\u001b[1;33m     \u001b[0ma\u001b[0m \u001b[1;33m=\u001b[0m \u001b[0mint\u001b[0m\u001b[1;33m(\u001b[0m\u001b[0minput\u001b[0m\u001b[1;33m(\u001b[0m\u001b[1;33m)\u001b[0m\u001b[1;33m)\u001b[0m\u001b[1;33m\u001b[0m\u001b[1;33m\u001b[0m\u001b[0m\n\u001b[0m\u001b[0;32m     12\u001b[0m     \u001b[0mb\u001b[0m \u001b[1;33m=\u001b[0m \u001b[0mmap\u001b[0m\u001b[1;33m(\u001b[0m\u001b[0mint\u001b[0m\u001b[1;33m,\u001b[0m \u001b[0minput\u001b[0m\u001b[1;33m(\u001b[0m\u001b[1;33m)\u001b[0m\u001b[1;33m.\u001b[0m\u001b[0mstrip\u001b[0m\u001b[1;33m(\u001b[0m\u001b[1;33m)\u001b[0m\u001b[1;33m.\u001b[0m\u001b[0msplit\u001b[0m\u001b[1;33m(\u001b[0m\u001b[1;34m\" \"\u001b[0m\u001b[1;33m)\u001b[0m\u001b[1;33m)\u001b[0m\u001b[1;33m\u001b[0m\u001b[1;33m\u001b[0m\u001b[0m\n\u001b[0;32m     13\u001b[0m     \u001b[0mprint\u001b[0m\u001b[1;33m(\u001b[0m\u001b[0mlonelyinteger\u001b[0m\u001b[1;33m(\u001b[0m\u001b[0mb\u001b[0m\u001b[1;33m)\u001b[0m\u001b[1;33m)\u001b[0m\u001b[1;33m\u001b[0m\u001b[1;33m\u001b[0m\u001b[0m\n",
      "\u001b[1;31mValueError\u001b[0m: invalid literal for int() with base 10: '1 2 3 5 4 3 5 6 '"
     ]
    }
   ],
   "source": [
    "def lonelyinteger(a):\n",
    "    a = sorted(a)\n",
    "    if len(a) < 3:\n",
    "        return a[0]\n",
    "    elif a[0] != a[1]:\n",
    "        return a[0]\n",
    "    else:\n",
    "        return lonelyinteger(a[2:])\n",
    "\n",
    "if __name__ == '__main__':\n",
    "    a = int(input())\n",
    "    b = map(int, input().strip().split(\" \"))\n",
    "    print(lonelyinteger(b))\n"
   ]
  },
  {
   "cell_type": "markdown",
   "id": "fd3a3c0f",
   "metadata": {},
   "source": [
    "In this HackerRank Diagonal Difference problem you have Given a square matrix, calculate the absolute difference between the sums of its diagonals."
   ]
  },
  {
   "cell_type": "code",
   "execution_count": 29,
   "id": "a81f92c6",
   "metadata": {},
   "outputs": [
    {
     "ename": "KeyError",
     "evalue": "'OUTPUT_PATH'",
     "output_type": "error",
     "traceback": [
      "\u001b[1;31m---------------------------------------------------------------------------\u001b[0m",
      "\u001b[1;31mKeyError\u001b[0m                                  Traceback (most recent call last)",
      "\u001b[1;32m<ipython-input-29-1649ba490904>\u001b[0m in \u001b[0;36m<module>\u001b[1;34m\u001b[0m\n\u001b[0;32m     28\u001b[0m \u001b[1;33m\u001b[0m\u001b[0m\n\u001b[0;32m     29\u001b[0m \u001b[1;32mif\u001b[0m \u001b[0m__name__\u001b[0m \u001b[1;33m==\u001b[0m \u001b[1;34m'__main__'\u001b[0m\u001b[1;33m:\u001b[0m\u001b[1;33m\u001b[0m\u001b[1;33m\u001b[0m\u001b[0m\n\u001b[1;32m---> 30\u001b[1;33m     \u001b[0mfptr\u001b[0m \u001b[1;33m=\u001b[0m \u001b[0mopen\u001b[0m\u001b[1;33m(\u001b[0m\u001b[0mos\u001b[0m\u001b[1;33m.\u001b[0m\u001b[0menviron\u001b[0m\u001b[1;33m[\u001b[0m\u001b[1;34m'OUTPUT_PATH'\u001b[0m\u001b[1;33m]\u001b[0m\u001b[1;33m,\u001b[0m \u001b[1;34m'w'\u001b[0m\u001b[1;33m)\u001b[0m\u001b[1;33m\u001b[0m\u001b[1;33m\u001b[0m\u001b[0m\n\u001b[0m\u001b[0;32m     31\u001b[0m \u001b[1;33m\u001b[0m\u001b[0m\n\u001b[0;32m     32\u001b[0m     \u001b[0mn\u001b[0m \u001b[1;33m=\u001b[0m \u001b[0mint\u001b[0m\u001b[1;33m(\u001b[0m\u001b[0minput\u001b[0m\u001b[1;33m(\u001b[0m\u001b[1;33m)\u001b[0m\u001b[1;33m.\u001b[0m\u001b[0mstrip\u001b[0m\u001b[1;33m(\u001b[0m\u001b[1;33m)\u001b[0m\u001b[1;33m)\u001b[0m\u001b[1;33m\u001b[0m\u001b[1;33m\u001b[0m\u001b[0m\n",
      "\u001b[1;32m~\\anaconda3\\lib\\os.py\u001b[0m in \u001b[0;36m__getitem__\u001b[1;34m(self, key)\u001b[0m\n\u001b[0;32m    673\u001b[0m         \u001b[1;32mexcept\u001b[0m \u001b[0mKeyError\u001b[0m\u001b[1;33m:\u001b[0m\u001b[1;33m\u001b[0m\u001b[1;33m\u001b[0m\u001b[0m\n\u001b[0;32m    674\u001b[0m             \u001b[1;31m# raise KeyError with the original key value\u001b[0m\u001b[1;33m\u001b[0m\u001b[1;33m\u001b[0m\u001b[1;33m\u001b[0m\u001b[0m\n\u001b[1;32m--> 675\u001b[1;33m             \u001b[1;32mraise\u001b[0m \u001b[0mKeyError\u001b[0m\u001b[1;33m(\u001b[0m\u001b[0mkey\u001b[0m\u001b[1;33m)\u001b[0m \u001b[1;32mfrom\u001b[0m \u001b[1;32mNone\u001b[0m\u001b[1;33m\u001b[0m\u001b[1;33m\u001b[0m\u001b[0m\n\u001b[0m\u001b[0;32m    676\u001b[0m         \u001b[1;32mreturn\u001b[0m \u001b[0mself\u001b[0m\u001b[1;33m.\u001b[0m\u001b[0mdecodevalue\u001b[0m\u001b[1;33m(\u001b[0m\u001b[0mvalue\u001b[0m\u001b[1;33m)\u001b[0m\u001b[1;33m\u001b[0m\u001b[1;33m\u001b[0m\u001b[0m\n\u001b[0;32m    677\u001b[0m \u001b[1;33m\u001b[0m\u001b[0m\n",
      "\u001b[1;31mKeyError\u001b[0m: 'OUTPUT_PATH'"
     ]
    }
   ],
   "source": [
    "#!/bin/python3\n",
    "\n",
    "import math\n",
    "import os\n",
    "import random\n",
    "import re\n",
    "import sys\n",
    "\n",
    "#\n",
    "# Complete the 'diagonalDifference' function below.\n",
    "#\n",
    "# The function is expected to return an INTEGER.\n",
    "# The function accepts 2D_INTEGER_ARRAY arr as parameter.\n",
    "#\n",
    "\n",
    "def diagonalDifference(arr):\n",
    "    temp = 0\n",
    "    emp = 0\n",
    "    for i in range(0,len(arr)):\n",
    "        temp = temp + arr[i][i]\n",
    "    \n",
    "    for j in range(0,len(arr)):\n",
    "        emp = emp + arr[j][len(arr)-1-j]\n",
    "    \n",
    "    return abs(temp - emp)\n",
    "\n",
    "\n",
    "\n",
    "if __name__ == '__main__':\n",
    "    fptr = open(os.environ['OUTPUT_PATH'], 'w')\n",
    "\n",
    "    n = int(input().strip())\n",
    "\n",
    "    arr = []\n",
    "\n",
    "    for _ in range(n):\n",
    "        arr.append(list(map(int, input().rstrip().split())))\n",
    "\n",
    "    result = diagonalDifference(arr)\n",
    "\n",
    "    fptr.write(str(result) + '\\n')\n",
    "\n",
    "    fptr.close()\n",
    "    "
   ]
  },
  {
   "cell_type": "markdown",
   "id": "91a4959c",
   "metadata": {},
   "source": [
    "In this HackerRank Sorting: Bubble Sort Interview preparation kit you have Given an array of integers, sort the array in ascending order using the Bubble Sort algorithm."
   ]
  },
  {
   "cell_type": "code",
   "execution_count": 6,
   "id": "f5ee07d5",
   "metadata": {},
   "outputs": [
    {
     "name": "stdout",
     "output_type": "stream",
     "text": [
      "5\n",
      "5\n",
      "Array is sorted in 0 swaps.\n",
      "First Element: 5\n",
      "Last Element: 5\n"
     ]
    }
   ],
   "source": [
    "#!/bin/python3\n",
    "\n",
    "import math\n",
    "import os\n",
    "import random\n",
    "import re\n",
    "import sys\n",
    "\n",
    "# Complete the countSwaps function below.\n",
    "def countSwaps(a):\n",
    "    swaps=0\n",
    "    for i in range(len(a)):\n",
    "        for j in range(len(a)-1):\n",
    "            if a[j]> a[j+1]:\n",
    "                a[j],a[j+1]=a[j+1],a[j]\n",
    "                swaps+=1\n",
    "    print(\"Array is sorted in \" + str(swaps) + \" swaps.\")\n",
    "    print(\"First Element: \" + str(a[0]))\n",
    "    print(\"Last Element: \" + str(a[len(a)-1]))\n",
    "\n",
    "if __name__ == '__main__':\n",
    "    n = int(input())\n",
    "\n",
    "    a = list(map(int, input().rstrip().split()))\n",
    "\n",
    "    countSwaps(a)\n",
    "    "
   ]
  },
  {
   "cell_type": "markdown",
   "id": "fadbeef1",
   "metadata": {},
   "source": [
    "In this HackerRank Counting Sort 1 problem, you have given a list of integers, count and return the number of times each value appears as an array of integers"
   ]
  },
  {
   "cell_type": "code",
   "execution_count": 32,
   "id": "40574221",
   "metadata": {},
   "outputs": [
    {
     "name": "stdout",
     "output_type": "stream",
     "text": [
      "2 3 4\n"
     ]
    },
    {
     "ename": "ValueError",
     "evalue": "invalid literal for int() with base 10: '2 3 4'",
     "output_type": "error",
     "traceback": [
      "\u001b[1;31m---------------------------------------------------------------------------\u001b[0m",
      "\u001b[1;31mValueError\u001b[0m                                Traceback (most recent call last)",
      "\u001b[1;32m<ipython-input-32-327699c3632d>\u001b[0m in \u001b[0;36m<module>\u001b[1;34m\u001b[0m\n\u001b[1;32m----> 1\u001b[1;33m \u001b[0mn\u001b[0m \u001b[1;33m=\u001b[0m \u001b[0mint\u001b[0m\u001b[1;33m(\u001b[0m\u001b[0minput\u001b[0m\u001b[1;33m(\u001b[0m\u001b[1;33m)\u001b[0m\u001b[1;33m)\u001b[0m\u001b[1;33m\u001b[0m\u001b[1;33m\u001b[0m\u001b[0m\n\u001b[0m\u001b[0;32m      2\u001b[0m \u001b[0mar\u001b[0m \u001b[1;33m=\u001b[0m \u001b[0mlist\u001b[0m\u001b[1;33m(\u001b[0m\u001b[0mmap\u001b[0m\u001b[1;33m(\u001b[0m\u001b[0mint\u001b[0m\u001b[1;33m,\u001b[0m \u001b[0minput\u001b[0m\u001b[1;33m(\u001b[0m\u001b[1;33m)\u001b[0m\u001b[1;33m.\u001b[0m\u001b[0msplit\u001b[0m\u001b[1;33m(\u001b[0m\u001b[1;33m)\u001b[0m\u001b[1;33m)\u001b[0m\u001b[1;33m)\u001b[0m\u001b[1;33m\u001b[0m\u001b[1;33m\u001b[0m\u001b[0m\n\u001b[0;32m      3\u001b[0m \u001b[1;33m\u001b[0m\u001b[0m\n\u001b[0;32m      4\u001b[0m \u001b[0mtot\u001b[0m \u001b[1;33m=\u001b[0m \u001b[1;33m[\u001b[0m\u001b[1;36m0\u001b[0m\u001b[1;33m]\u001b[0m\u001b[1;33m*\u001b[0m\u001b[1;36m100\u001b[0m\u001b[1;33m\u001b[0m\u001b[1;33m\u001b[0m\u001b[0m\n\u001b[0;32m      5\u001b[0m \u001b[1;33m\u001b[0m\u001b[0m\n",
      "\u001b[1;31mValueError\u001b[0m: invalid literal for int() with base 10: '2 3 4'"
     ]
    }
   ],
   "source": [
    "\n",
    "n = int(input())\n",
    "ar = list(map(int, input().split()))\n",
    "\n",
    "tot = [0]*100\n",
    "\n",
    "for j in range(0,n):\n",
    "    temp = ar[j]\n",
    "    tot[temp] += 1\n",
    "print(*tot, sep =' ')"
   ]
  },
  {
   "cell_type": "markdown",
   "id": "8a1d8286",
   "metadata": {},
   "source": [
    "In this HackerRank Zig Zag Sequence problem solution, the task is to debug the existing code to successfully execute all provided test files.\n",
    "\n",
    "Given an array of n distinct integers, transform the array into a zig-zag sequence by permuting the array elements. A sequence will be called a zig-zag sequence if the first k elements in the sequence are in increasing order and the last k elements are in decreasing order, where k = (n + 1)/2. You need to find the lexicographically smallest zig-zag sequence of the given array"
   ]
  },
  {
   "cell_type": "code",
   "execution_count": 33,
   "id": "64827216",
   "metadata": {
    "scrolled": true
   },
   "outputs": [
    {
     "name": "stdout",
     "output_type": "stream",
     "text": [
      "w\n"
     ]
    },
    {
     "ename": "ValueError",
     "evalue": "invalid literal for int() with base 10: 'w'",
     "output_type": "error",
     "traceback": [
      "\u001b[1;31m---------------------------------------------------------------------------\u001b[0m",
      "\u001b[1;31mValueError\u001b[0m                                Traceback (most recent call last)",
      "\u001b[1;32m<ipython-input-33-bf7f5256aec3>\u001b[0m in \u001b[0;36m<module>\u001b[1;34m\u001b[0m\n\u001b[0;32m     18\u001b[0m     \u001b[1;32mreturn\u001b[0m\u001b[1;33m\u001b[0m\u001b[1;33m\u001b[0m\u001b[0m\n\u001b[0;32m     19\u001b[0m \u001b[1;33m\u001b[0m\u001b[0m\n\u001b[1;32m---> 20\u001b[1;33m \u001b[0mtest_cases\u001b[0m \u001b[1;33m=\u001b[0m \u001b[0mint\u001b[0m\u001b[1;33m(\u001b[0m\u001b[0minput\u001b[0m\u001b[1;33m(\u001b[0m\u001b[1;33m)\u001b[0m\u001b[1;33m)\u001b[0m\u001b[1;33m\u001b[0m\u001b[1;33m\u001b[0m\u001b[0m\n\u001b[0m\u001b[0;32m     21\u001b[0m \u001b[1;32mfor\u001b[0m \u001b[0mcs\u001b[0m \u001b[1;32min\u001b[0m \u001b[0mrange\u001b[0m \u001b[1;33m(\u001b[0m\u001b[0mtest_cases\u001b[0m\u001b[1;33m)\u001b[0m\u001b[1;33m:\u001b[0m\u001b[1;33m\u001b[0m\u001b[1;33m\u001b[0m\u001b[0m\n\u001b[0;32m     22\u001b[0m     \u001b[0mn\u001b[0m \u001b[1;33m=\u001b[0m \u001b[0mint\u001b[0m\u001b[1;33m(\u001b[0m\u001b[0minput\u001b[0m\u001b[1;33m(\u001b[0m\u001b[1;33m)\u001b[0m\u001b[1;33m)\u001b[0m\u001b[1;33m\u001b[0m\u001b[1;33m\u001b[0m\u001b[0m\n",
      "\u001b[1;31mValueError\u001b[0m: invalid literal for int() with base 10: 'w'"
     ]
    }
   ],
   "source": [
    "def findZigZagSequence(a, n):\n",
    "    a.sort()\n",
    "    mid = int(n / 2)\n",
    "    a[mid], a[n-1] = a[n-1], a[mid]\n",
    "\n",
    "    st = mid + 1\n",
    "    ed = n - 2\n",
    "    while(st <= ed):\n",
    "        a[st], a[ed] = a[ed], a[st]\n",
    "        st = st + 1\n",
    "        ed = ed - 1\n",
    "\n",
    "    for i in range (n):\n",
    "        if i == n-1:\n",
    "            print(a[i])\n",
    "        else:\n",
    "            print(a[i], end = ' ')\n",
    "    return\n",
    "\n",
    "test_cases = int(input())\n",
    "for cs in range (test_cases):\n",
    "    n = int(input())\n",
    "    a = list(map(int, input().split()))\n",
    "    findZigZagSequence(a, n)\n",
    "    "
   ]
  },
  {
   "cell_type": "markdown",
   "id": "e665e0c7",
   "metadata": {},
   "source": [
    "In this HackerRank Linked Lists: Detect a Cycle Interview preparation kit problem You need to Complete the function has_cycle that must return a boolean true if the graph contains a cycle, or false."
   ]
  },
  {
   "cell_type": "code",
   "execution_count": 18,
   "id": "c4a05647",
   "metadata": {},
   "outputs": [],
   "source": [
    "\"\"\"\n",
    "Detect a cycle in a linked list. Note that the head pointer may be 'None' if the list is empty.\n",
    "\n",
    "A Node is defined as: \n",
    " \n",
    "    class Node(object):\n",
    "        def __init__(self, data = None, next_node = None):\n",
    "            self.data = data\n",
    "            self.next = next_node\n",
    "\"\"\"\n",
    "\n",
    "\n",
    "def has_cycle(head):\n",
    "    if head is None or head.next is None:\n",
    "        return False\n",
    "    head.visited = True\n",
    "    current = head\n",
    "    while current.next is not None:\n",
    "        current = current.next\n",
    "        if current.visited:\n",
    "            return True\n",
    "    return False\n"
   ]
  },
  {
   "cell_type": "markdown",
   "id": "d536651a",
   "metadata": {},
   "source": [
    "In this HackerRank Tower Breakers problem solution, Two players are playing a game of Tower Breakers! Player 1 always moves first, and both players always play optimally. The rules of the game are as follows:\n",
    "\n",
    "Initially, there are N towers.\n",
    "Each tower is of height M.\n",
    "The players move in alternating turns.\n",
    "In each turn, a player can choose a tower of height X and reduce its height to Y, where 1 <= Y < X and Y evenly divide X.\n",
    "If the current player is unable to make a move, they lose the game.\n",
    "\n",
    "Given the values of N and M, determine which player will win. If the first player wins, return 1. Otherwise, return 2."
   ]
  },
  {
   "cell_type": "code",
   "execution_count": 35,
   "id": "808ff91a",
   "metadata": {},
   "outputs": [
    {
     "name": "stdout",
     "output_type": "stream",
     "text": [
      "T\n"
     ]
    },
    {
     "ename": "ValueError",
     "evalue": "invalid literal for int() with base 10: 'T'",
     "output_type": "error",
     "traceback": [
      "\u001b[1;31m---------------------------------------------------------------------------\u001b[0m",
      "\u001b[1;31mValueError\u001b[0m                                Traceback (most recent call last)",
      "\u001b[1;32m<ipython-input-35-5f234ae3e119>\u001b[0m in \u001b[0;36m<module>\u001b[1;34m\u001b[0m\n\u001b[1;32m----> 1\u001b[1;33m \u001b[0mT\u001b[0m \u001b[1;33m=\u001b[0m \u001b[0mint\u001b[0m\u001b[1;33m(\u001b[0m\u001b[0minput\u001b[0m\u001b[1;33m(\u001b[0m\u001b[1;33m)\u001b[0m\u001b[1;33m)\u001b[0m\u001b[1;33m\u001b[0m\u001b[1;33m\u001b[0m\u001b[0m\n\u001b[0m\u001b[0;32m      2\u001b[0m \u001b[1;32mfor\u001b[0m \u001b[0mt\u001b[0m \u001b[1;32min\u001b[0m \u001b[0mrange\u001b[0m\u001b[1;33m(\u001b[0m\u001b[0mT\u001b[0m\u001b[1;33m)\u001b[0m\u001b[1;33m:\u001b[0m\u001b[1;33m\u001b[0m\u001b[1;33m\u001b[0m\u001b[0m\n\u001b[0;32m      3\u001b[0m     \u001b[0mn\u001b[0m\u001b[1;33m,\u001b[0m \u001b[0mm\u001b[0m \u001b[1;33m=\u001b[0m \u001b[1;33m[\u001b[0m\u001b[0mint\u001b[0m\u001b[1;33m(\u001b[0m\u001b[0mx\u001b[0m\u001b[1;33m)\u001b[0m \u001b[1;32mfor\u001b[0m \u001b[0mx\u001b[0m \u001b[1;32min\u001b[0m \u001b[0minput\u001b[0m\u001b[1;33m(\u001b[0m\u001b[1;33m)\u001b[0m\u001b[1;33m.\u001b[0m\u001b[0mstrip\u001b[0m\u001b[1;33m(\u001b[0m\u001b[1;33m)\u001b[0m\u001b[1;33m.\u001b[0m\u001b[0msplit\u001b[0m\u001b[1;33m(\u001b[0m\u001b[1;33m)\u001b[0m\u001b[1;33m]\u001b[0m\u001b[1;33m\u001b[0m\u001b[1;33m\u001b[0m\u001b[0m\n\u001b[0;32m      4\u001b[0m     \u001b[1;32mif\u001b[0m \u001b[0mm\u001b[0m \u001b[1;33m==\u001b[0m \u001b[1;36m1\u001b[0m\u001b[1;33m:\u001b[0m\u001b[1;33m\u001b[0m\u001b[1;33m\u001b[0m\u001b[0m\n\u001b[0;32m      5\u001b[0m         \u001b[0mprint\u001b[0m\u001b[1;33m(\u001b[0m\u001b[1;36m2\u001b[0m\u001b[1;33m)\u001b[0m\u001b[1;33m\u001b[0m\u001b[1;33m\u001b[0m\u001b[0m\n",
      "\u001b[1;31mValueError\u001b[0m: invalid literal for int() with base 10: 'T'"
     ]
    }
   ],
   "source": [
    "T = int(input())\n",
    "for t in range(T):\n",
    "    n, m = [int(x) for x in input().strip().split()]\n",
    "    if m == 1: \n",
    "        print(2)\n",
    "    else:\n",
    "        if n % 2 == 1:\n",
    "            print(1)\n",
    "        else:\n",
    "            print(2)\n"
   ]
  },
  {
   "cell_type": "markdown",
   "id": "7b97a4cb",
   "metadata": {},
   "source": [
    "In  this HackerRank Caesar Cipher problem, you need to rotate the string by 3 shifts. and in the case of a rotation by 3, w, x, y, and z would map to z, a, b and c."
   ]
  },
  {
   "cell_type": "code",
   "execution_count": 36,
   "id": "8f15ffa9",
   "metadata": {},
   "outputs": [
    {
     "name": "stdout",
     "output_type": "stream",
     "text": [
      "d\n"
     ]
    },
    {
     "ename": "ValueError",
     "evalue": "invalid literal for int() with base 10: 'd'",
     "output_type": "error",
     "traceback": [
      "\u001b[1;31m---------------------------------------------------------------------------\u001b[0m",
      "\u001b[1;31mValueError\u001b[0m                                Traceback (most recent call last)",
      "\u001b[1;32m<ipython-input-36-dfd164ea3aa1>\u001b[0m in \u001b[0;36m<module>\u001b[1;34m\u001b[0m\n\u001b[1;32m----> 1\u001b[1;33m \u001b[0mN\u001b[0m \u001b[1;33m=\u001b[0m \u001b[0mint\u001b[0m\u001b[1;33m(\u001b[0m\u001b[0minput\u001b[0m\u001b[1;33m(\u001b[0m\u001b[1;33m)\u001b[0m\u001b[1;33m)\u001b[0m\u001b[1;33m\u001b[0m\u001b[1;33m\u001b[0m\u001b[0m\n\u001b[0m\u001b[0;32m      2\u001b[0m \u001b[0mstring\u001b[0m \u001b[1;33m=\u001b[0m \u001b[0mlist\u001b[0m\u001b[1;33m(\u001b[0m\u001b[0minput\u001b[0m\u001b[1;33m(\u001b[0m\u001b[1;33m)\u001b[0m\u001b[1;33m)\u001b[0m\u001b[1;33m\u001b[0m\u001b[1;33m\u001b[0m\u001b[0m\n\u001b[0;32m      3\u001b[0m \u001b[0maddNum\u001b[0m \u001b[1;33m=\u001b[0m \u001b[0mint\u001b[0m\u001b[1;33m(\u001b[0m\u001b[0minput\u001b[0m\u001b[1;33m(\u001b[0m\u001b[1;33m)\u001b[0m\u001b[1;33m)\u001b[0m\u001b[1;33m\u001b[0m\u001b[1;33m\u001b[0m\u001b[0m\n\u001b[0;32m      4\u001b[0m \u001b[1;33m\u001b[0m\u001b[0m\n\u001b[0;32m      5\u001b[0m \u001b[0mlength\u001b[0m \u001b[1;33m=\u001b[0m \u001b[0mlen\u001b[0m\u001b[1;33m(\u001b[0m\u001b[0mstring\u001b[0m\u001b[1;33m)\u001b[0m\u001b[1;33m\u001b[0m\u001b[1;33m\u001b[0m\u001b[0m\n",
      "\u001b[1;31mValueError\u001b[0m: invalid literal for int() with base 10: 'd'"
     ]
    }
   ],
   "source": [
    "N = int(input())\n",
    "string = list(input())\n",
    "addNum = int(input())\n",
    "\n",
    "length = len(string)\n",
    "for i in range(length):\n",
    "\tif ord(string[i]) <= ord(\"Z\") and ord(string[i]) >= ord(\"A\"):\n",
    "\t\tasciiCode = ord(string[i]) + addNum\n",
    "\t\twhile asciiCode > ord(\"Z\"):\n",
    "\t\t\tasciiCode = asciiCode - ord(\"Z\") + ord(\"A\") - 1\n",
    "\t\tstring[i] = chr(asciiCode)\n",
    "\telif ord(string[i]) <= ord(\"z\") and ord(string[i]) >= ord(\"a\"):\n",
    "\t\tasciiCode = ord(string[i]) + addNum\n",
    "\t\twhile asciiCode > ord(\"z\"):\n",
    "\t\t\tasciiCode = asciiCode - ord(\"z\") + ord(\"a\") - 1\n",
    "\t\tstring[i] = chr(asciiCode)\n",
    "\n",
    "print(\"\".join(string))\n"
   ]
  },
  {
   "cell_type": "markdown",
   "id": "9a45baec",
   "metadata": {},
   "source": [
    "In this HackerRank Grid challenge problem solution we have given a square grid of characters in the range ascii[a-z], rearrange elements of each row alphabetically, ascending. Determine if the columns are also in ascending alphabetical order, top to bottom. Return YES if they are or NO if they are not."
   ]
  },
  {
   "cell_type": "code",
   "execution_count": 37,
   "id": "64b71aee",
   "metadata": {},
   "outputs": [
    {
     "name": "stdout",
     "output_type": "stream",
     "text": [
      "2\n",
      "2\n",
      "r\n",
      "d\n",
      "NO\n",
      "w\n"
     ]
    },
    {
     "ename": "ValueError",
     "evalue": "invalid literal for int() with base 10: 'w'",
     "output_type": "error",
     "traceback": [
      "\u001b[1;31m---------------------------------------------------------------------------\u001b[0m",
      "\u001b[1;31mValueError\u001b[0m                                Traceback (most recent call last)",
      "\u001b[1;32m<ipython-input-37-4fc43dac0730>\u001b[0m in \u001b[0;36m<module>\u001b[1;34m\u001b[0m\n\u001b[0;32m     10\u001b[0m \u001b[1;33m\u001b[0m\u001b[0m\n\u001b[0;32m     11\u001b[0m \u001b[1;32mfor\u001b[0m \u001b[0mi\u001b[0m \u001b[1;32min\u001b[0m \u001b[0mrange\u001b[0m\u001b[1;33m(\u001b[0m\u001b[0mt\u001b[0m\u001b[1;33m)\u001b[0m\u001b[1;33m:\u001b[0m\u001b[1;33m\u001b[0m\u001b[1;33m\u001b[0m\u001b[0m\n\u001b[1;32m---> 12\u001b[1;33m     \u001b[0mn\u001b[0m \u001b[1;33m=\u001b[0m \u001b[0mint\u001b[0m\u001b[1;33m(\u001b[0m\u001b[0minput\u001b[0m\u001b[1;33m(\u001b[0m\u001b[1;33m)\u001b[0m\u001b[1;33m.\u001b[0m\u001b[0mstrip\u001b[0m\u001b[1;33m(\u001b[0m\u001b[1;33m)\u001b[0m\u001b[1;33m)\u001b[0m\u001b[1;33m\u001b[0m\u001b[1;33m\u001b[0m\u001b[0m\n\u001b[0m\u001b[0;32m     13\u001b[0m     \u001b[0mline\u001b[0m \u001b[1;33m=\u001b[0m \u001b[1;33m[\u001b[0m\u001b[1;33m]\u001b[0m\u001b[1;33m\u001b[0m\u001b[1;33m\u001b[0m\u001b[0m\n\u001b[0;32m     14\u001b[0m     \u001b[1;32mfor\u001b[0m \u001b[0mj\u001b[0m \u001b[1;32min\u001b[0m \u001b[0mrange\u001b[0m\u001b[1;33m(\u001b[0m\u001b[0mn\u001b[0m\u001b[1;33m)\u001b[0m\u001b[1;33m:\u001b[0m\u001b[1;33m\u001b[0m\u001b[1;33m\u001b[0m\u001b[0m\n",
      "\u001b[1;31mValueError\u001b[0m: invalid literal for int() with base 10: 'w'"
     ]
    }
   ],
   "source": [
    "def checkLex(arr, n):\n",
    "    for j in range(n-1):\n",
    "        for k in range(n):\n",
    "            if arr[j][k] > arr[j+1][k]:\n",
    "                return False\n",
    "    return True\n",
    "    \n",
    "\n",
    "t = int(input().strip())\n",
    "\n",
    "for i in range(t):\n",
    "    n = int(input().strip())\n",
    "    line = []\n",
    "    for j in range(n):\n",
    "        x = list(input().strip())\n",
    "        x.sort()\n",
    "        line.append(x)\n",
    "    \n",
    "    if checkLex(line, n):\n",
    "        print(\"YES\")\n",
    "    else:\n",
    "        print(\"NO\")\n",
    "        \n"
   ]
  },
  {
   "cell_type": "markdown",
   "id": "0f3d3b48",
   "metadata": {},
   "source": [
    "In  this HackerRank Recursive Digit Sum Interview preparation kit problem you need to Complete the function superDigit that must return the calculated super digit as an integer."
   ]
  },
  {
   "cell_type": "code",
   "execution_count": 45,
   "id": "7d332390",
   "metadata": {},
   "outputs": [
    {
     "name": "stdout",
     "output_type": "stream",
     "text": [
      "5 7\n",
      "8\n"
     ]
    }
   ],
   "source": [
    "def sup_digits(x,k):\n",
    "    a = digsum(x)\n",
    "    return sup_digit(str(int(a)*k))\n",
    "\n",
    "def sup_digit(x):\n",
    "    if len(x) <= 1:\n",
    "        return x\n",
    "    else:\n",
    "        return sup_digit( digsum(x) )\n",
    "\n",
    "def digsum(x):\n",
    "    return str(sum((int(i) for i in list(x))))\n",
    "\n",
    "\n",
    "n, k = input().split()\n",
    "print( sup_digits(n, int(k)))\n"
   ]
  },
  {
   "cell_type": "markdown",
   "id": "966121ff",
   "metadata": {},
   "source": [
    "In this HackerRank New year chaos interview preparation kit problem you need to Determine the minimum number of bribes that took place to get to the given queue order. Print the number of bribes, or, if anyone has bribed more than two people, print Too chaotic."
   ]
  },
  {
   "cell_type": "code",
   "execution_count": 46,
   "id": "5b68f292",
   "metadata": {},
   "outputs": [
    {
     "name": "stdout",
     "output_type": "stream",
     "text": [
      "g\n"
     ]
    },
    {
     "ename": "ValueError",
     "evalue": "invalid literal for int() with base 10: 'g'",
     "output_type": "error",
     "traceback": [
      "\u001b[1;31m---------------------------------------------------------------------------\u001b[0m",
      "\u001b[1;31mValueError\u001b[0m                                Traceback (most recent call last)",
      "\u001b[1;32m<ipython-input-46-e201b00ee777>\u001b[0m in \u001b[0;36m<module>\u001b[1;34m\u001b[0m\n\u001b[0;32m     24\u001b[0m \u001b[1;33m\u001b[0m\u001b[0m\n\u001b[0;32m     25\u001b[0m \u001b[1;32mif\u001b[0m \u001b[0m__name__\u001b[0m \u001b[1;33m==\u001b[0m \u001b[1;34m'__main__'\u001b[0m\u001b[1;33m:\u001b[0m\u001b[1;33m\u001b[0m\u001b[1;33m\u001b[0m\u001b[0m\n\u001b[1;32m---> 26\u001b[1;33m     \u001b[0mt\u001b[0m \u001b[1;33m=\u001b[0m \u001b[0mint\u001b[0m\u001b[1;33m(\u001b[0m\u001b[0minput\u001b[0m\u001b[1;33m(\u001b[0m\u001b[1;33m)\u001b[0m\u001b[1;33m)\u001b[0m\u001b[1;33m\u001b[0m\u001b[1;33m\u001b[0m\u001b[0m\n\u001b[0m\u001b[0;32m     27\u001b[0m \u001b[1;33m\u001b[0m\u001b[0m\n\u001b[0;32m     28\u001b[0m     \u001b[1;32mfor\u001b[0m \u001b[0mt_itr\u001b[0m \u001b[1;32min\u001b[0m \u001b[0mrange\u001b[0m\u001b[1;33m(\u001b[0m\u001b[0mt\u001b[0m\u001b[1;33m)\u001b[0m\u001b[1;33m:\u001b[0m\u001b[1;33m\u001b[0m\u001b[1;33m\u001b[0m\u001b[0m\n",
      "\u001b[1;31mValueError\u001b[0m: invalid literal for int() with base 10: 'g'"
     ]
    }
   ],
   "source": [
    "#!/bin/python3\n",
    "\n",
    "import math\n",
    "import os\n",
    "import random\n",
    "import re\n",
    "import sys\n",
    "\n",
    "# Complete the minimumBribes function below.\n",
    "def minimumBribes(q):\n",
    "    chaotic = ''\n",
    "    num_swaps = 0\n",
    "    for i in range(len(q)):\n",
    "        if(q[i]>i+3):\n",
    "            chaotic += 'Too chaotic'\n",
    "        for j in range(max(0,q[i]-2),i):\n",
    "            if(q[i]<q[j]):\n",
    "                num_swaps+=1\n",
    "\n",
    "    if('Too chaotic' in chaotic):\n",
    "        print('Too chaotic')\n",
    "    else:\n",
    "        print(num_swaps)\n",
    "\n",
    "if __name__ == '__main__':\n",
    "    t = int(input())\n",
    "\n",
    "    for t_itr in range(t):\n",
    "        n = int(input())\n",
    "\n",
    "        q = list(map(int, input().rstrip().split()))\n",
    "\n",
    "        minimumBribes(q)\n"
   ]
  },
  {
   "cell_type": "markdown",
   "id": "aabb3862",
   "metadata": {},
   "source": [
    "In this HackerRank Merge two sorted linked lists problem if we have given pointers of two sorted linked lists, then we need to merge them into a single sorted linked list. and if the pointer is null then it means the list is empty."
   ]
  },
  {
   "cell_type": "code",
   "execution_count": 47,
   "id": "aa93de13",
   "metadata": {},
   "outputs": [
    {
     "ename": "KeyError",
     "evalue": "'OUTPUT_PATH'",
     "output_type": "error",
     "traceback": [
      "\u001b[1;31m---------------------------------------------------------------------------\u001b[0m",
      "\u001b[1;31mKeyError\u001b[0m                                  Traceback (most recent call last)",
      "\u001b[1;32m<ipython-input-47-8c2aaec1dae4>\u001b[0m in \u001b[0;36m<module>\u001b[1;34m\u001b[0m\n\u001b[0;32m     69\u001b[0m \u001b[1;33m\u001b[0m\u001b[0m\n\u001b[0;32m     70\u001b[0m \u001b[1;32mif\u001b[0m \u001b[0m__name__\u001b[0m \u001b[1;33m==\u001b[0m \u001b[1;34m'__main__'\u001b[0m\u001b[1;33m:\u001b[0m\u001b[1;33m\u001b[0m\u001b[1;33m\u001b[0m\u001b[0m\n\u001b[1;32m---> 71\u001b[1;33m     \u001b[0mfptr\u001b[0m \u001b[1;33m=\u001b[0m \u001b[0mopen\u001b[0m\u001b[1;33m(\u001b[0m\u001b[0mos\u001b[0m\u001b[1;33m.\u001b[0m\u001b[0menviron\u001b[0m\u001b[1;33m[\u001b[0m\u001b[1;34m'OUTPUT_PATH'\u001b[0m\u001b[1;33m]\u001b[0m\u001b[1;33m,\u001b[0m \u001b[1;34m'w'\u001b[0m\u001b[1;33m)\u001b[0m\u001b[1;33m\u001b[0m\u001b[1;33m\u001b[0m\u001b[0m\n\u001b[0m\u001b[0;32m     72\u001b[0m \u001b[1;33m\u001b[0m\u001b[0m\n\u001b[0;32m     73\u001b[0m     \u001b[0mtests\u001b[0m \u001b[1;33m=\u001b[0m \u001b[0mint\u001b[0m\u001b[1;33m(\u001b[0m\u001b[0minput\u001b[0m\u001b[1;33m(\u001b[0m\u001b[1;33m)\u001b[0m\u001b[1;33m)\u001b[0m\u001b[1;33m\u001b[0m\u001b[1;33m\u001b[0m\u001b[0m\n",
      "\u001b[1;32m~\\anaconda3\\lib\\os.py\u001b[0m in \u001b[0;36m__getitem__\u001b[1;34m(self, key)\u001b[0m\n\u001b[0;32m    673\u001b[0m         \u001b[1;32mexcept\u001b[0m \u001b[0mKeyError\u001b[0m\u001b[1;33m:\u001b[0m\u001b[1;33m\u001b[0m\u001b[1;33m\u001b[0m\u001b[0m\n\u001b[0;32m    674\u001b[0m             \u001b[1;31m# raise KeyError with the original key value\u001b[0m\u001b[1;33m\u001b[0m\u001b[1;33m\u001b[0m\u001b[1;33m\u001b[0m\u001b[0m\n\u001b[1;32m--> 675\u001b[1;33m             \u001b[1;32mraise\u001b[0m \u001b[0mKeyError\u001b[0m\u001b[1;33m(\u001b[0m\u001b[0mkey\u001b[0m\u001b[1;33m)\u001b[0m \u001b[1;32mfrom\u001b[0m \u001b[1;32mNone\u001b[0m\u001b[1;33m\u001b[0m\u001b[1;33m\u001b[0m\u001b[0m\n\u001b[0m\u001b[0;32m    676\u001b[0m         \u001b[1;32mreturn\u001b[0m \u001b[0mself\u001b[0m\u001b[1;33m.\u001b[0m\u001b[0mdecodevalue\u001b[0m\u001b[1;33m(\u001b[0m\u001b[0mvalue\u001b[0m\u001b[1;33m)\u001b[0m\u001b[1;33m\u001b[0m\u001b[1;33m\u001b[0m\u001b[0m\n\u001b[0;32m    677\u001b[0m \u001b[1;33m\u001b[0m\u001b[0m\n",
      "\u001b[1;31mKeyError\u001b[0m: 'OUTPUT_PATH'"
     ]
    }
   ],
   "source": [
    "#/bin/python3\n",
    "\n",
    "import math\n",
    "import os\n",
    "import random\n",
    "import re\n",
    "import sys\n",
    "\n",
    "class SinglyLinkedListNode:\n",
    "    def __init__(self, node_data):\n",
    "        self.data = node_data\n",
    "        self.next = None\n",
    "\n",
    "class SinglyLinkedList:\n",
    "    def __init__(self):\n",
    "        self.head = None\n",
    "        self.tail = None\n",
    "\n",
    "    def insert_node(self, node_data):\n",
    "        node = SinglyLinkedListNode(node_data)\n",
    "\n",
    "        if not self.head:\n",
    "            self.head = node\n",
    "        else:\n",
    "            self.tail.next = node\n",
    "\n",
    "\n",
    "        self.tail = node\n",
    "\n",
    "def print_singly_linked_list(node, sep, fptr):\n",
    "    while node:\n",
    "        fptr.write(str(node.data))\n",
    "\n",
    "        node = node.next\n",
    "\n",
    "        if node:\n",
    "            fptr.write(sep)\n",
    "\n",
    "\n",
    "def mergeLists(headA, headB):\n",
    "    if headA == None:\n",
    "        return headB\n",
    "    if headB == None:\n",
    "        return headA\n",
    "    \n",
    "    if headA.data <= headB.data:\n",
    "        head = headA\n",
    "        headA = headA.next\n",
    "    else:\n",
    "        head = headB\n",
    "        headB = headB.next\n",
    "    \n",
    "    current = head\n",
    "    while headA != None or headB != None:\n",
    "        if headA == None:\n",
    "            current.next = headB\n",
    "            break\n",
    "        if headB == None:\n",
    "            current.next = headA\n",
    "            break\n",
    "        if headA.data <= headB.data:\n",
    "            current.next = headA\n",
    "            headA = headA.next\n",
    "        else:\n",
    "            current.next = headB\n",
    "            headB = headB.next\n",
    "        current = current.next\n",
    "    return head\n",
    "\n",
    "if __name__ == '__main__':\n",
    "    fptr = open(os.environ['OUTPUT_PATH'], 'w')\n",
    "\n",
    "    tests = int(input())\n",
    "\n",
    "    for tests_itr in range(tests):\n",
    "        llist1_count = int(input())\n",
    "\n",
    "        llist1 = SinglyLinkedList()\n",
    "\n",
    "        for _ in range(llist1_count):\n",
    "            llist1_item = int(input())\n",
    "            llist1.insert_node(llist1_item)\n",
    "            \n",
    "        llist2_count = int(input())\n",
    "\n",
    "        llist2 = SinglyLinkedList()\n",
    "\n",
    "        for _ in range(llist2_count):\n",
    "            llist2_item = int(input())\n",
    "            llist2.insert_node(llist2_item)\n",
    "\n",
    "        llist3 = mergeLists(llist1.head, llist2.head)\n",
    "\n",
    "        print_singly_linked_list(llist3, ' ', fptr)\n",
    "        fptr.write('\\n')\n",
    "\n",
    "    fptr.close()\n",
    "    \n",
    "    "
   ]
  },
  {
   "cell_type": "markdown",
   "id": "3cb8390f",
   "metadata": {},
   "source": [
    "In this tutorial, we are going to solve or make a solution of Queue using the Two Stacks problem. so first we need to implement a queue using two stacks. and then we need to perform three queries on the stack. first en queue an element, de queue the element at the front of the queue. after that print the element at the front of the queue."
   ]
  },
  {
   "cell_type": "code",
   "execution_count": 50,
   "id": "463222ee",
   "metadata": {},
   "outputs": [
    {
     "name": "stdout",
     "output_type": "stream",
     "text": [
      "2, 3 4\n"
     ]
    },
    {
     "ename": "ValueError",
     "evalue": "invalid literal for int() with base 10: '2, 3 4'",
     "output_type": "error",
     "traceback": [
      "\u001b[1;31m---------------------------------------------------------------------------\u001b[0m",
      "\u001b[1;31mValueError\u001b[0m                                Traceback (most recent call last)",
      "\u001b[1;32m<ipython-input-50-a0f658f1d241>\u001b[0m in \u001b[0;36m<module>\u001b[1;34m\u001b[0m\n\u001b[0;32m      1\u001b[0m \u001b[0mold\u001b[0m\u001b[1;33m,\u001b[0m \u001b[0mnew\u001b[0m \u001b[1;33m=\u001b[0m \u001b[1;33m[\u001b[0m\u001b[1;33m]\u001b[0m\u001b[1;33m,\u001b[0m \u001b[1;33m[\u001b[0m\u001b[1;33m]\u001b[0m\u001b[1;33m\u001b[0m\u001b[1;33m\u001b[0m\u001b[0m\n\u001b[1;32m----> 2\u001b[1;33m \u001b[1;32mfor\u001b[0m \u001b[0m_\u001b[0m \u001b[1;32min\u001b[0m \u001b[0mrange\u001b[0m\u001b[1;33m(\u001b[0m\u001b[0mint\u001b[0m\u001b[1;33m(\u001b[0m\u001b[0minput\u001b[0m\u001b[1;33m(\u001b[0m\u001b[1;33m)\u001b[0m\u001b[1;33m)\u001b[0m\u001b[1;33m)\u001b[0m\u001b[1;33m:\u001b[0m\u001b[1;33m\u001b[0m\u001b[1;33m\u001b[0m\u001b[0m\n\u001b[0m\u001b[0;32m      3\u001b[0m     \u001b[0mval\u001b[0m \u001b[1;33m=\u001b[0m \u001b[0mlist\u001b[0m\u001b[1;33m(\u001b[0m\u001b[0mmap\u001b[0m\u001b[1;33m(\u001b[0m\u001b[0mint\u001b[0m\u001b[1;33m,\u001b[0m\u001b[0minput\u001b[0m\u001b[1;33m(\u001b[0m\u001b[1;33m)\u001b[0m\u001b[1;33m.\u001b[0m\u001b[0msplit\u001b[0m\u001b[1;33m(\u001b[0m\u001b[1;33m)\u001b[0m\u001b[1;33m)\u001b[0m\u001b[1;33m)\u001b[0m\u001b[1;33m\u001b[0m\u001b[1;33m\u001b[0m\u001b[0m\n\u001b[0;32m      4\u001b[0m     \u001b[1;32mif\u001b[0m \u001b[0mval\u001b[0m\u001b[1;33m[\u001b[0m\u001b[1;36m0\u001b[0m\u001b[1;33m]\u001b[0m \u001b[1;33m==\u001b[0m \u001b[1;36m1\u001b[0m\u001b[1;33m:\u001b[0m\u001b[1;33m\u001b[0m\u001b[1;33m\u001b[0m\u001b[0m\n\u001b[0;32m      5\u001b[0m         \u001b[0mnew\u001b[0m\u001b[1;33m.\u001b[0m\u001b[0mappend\u001b[0m\u001b[1;33m(\u001b[0m\u001b[0mval\u001b[0m\u001b[1;33m[\u001b[0m\u001b[1;36m1\u001b[0m\u001b[1;33m]\u001b[0m\u001b[1;33m)\u001b[0m\u001b[1;33m\u001b[0m\u001b[1;33m\u001b[0m\u001b[0m\n",
      "\u001b[1;31mValueError\u001b[0m: invalid literal for int() with base 10: '2, 3 4'"
     ]
    }
   ],
   "source": [
    "old, new = [], []\n",
    "for _ in range(int(input())):\n",
    "    val = list(map(int,input().split()))\n",
    "    if val[0] == 1:\n",
    "        new.append(val[1])\n",
    "    elif val[0] == 2:\n",
    "        if not old :\n",
    "            while new : old.append(new.pop())\n",
    "        old.pop()\n",
    "    else:\n",
    "        print(old[-1] if old else new[0])\n"
   ]
  },
  {
   "cell_type": "markdown",
   "id": "9539e6fa",
   "metadata": {},
   "source": [
    "In this HackerRank Balanced Brackets Interview preparation kit problem you have Given n strings of brackets, determine whether each sequence of brackets is balanced. If a string is balanced, return YES. Otherwise, return NO."
   ]
  },
  {
   "cell_type": "code",
   "execution_count": 51,
   "id": "5669afbe",
   "metadata": {},
   "outputs": [
    {
     "name": "stdout",
     "output_type": "stream",
     "text": [
      "4\n",
      "4\n",
      "YES\n",
      "5\n",
      "YES\n",
      "6\n",
      "YES\n",
      "7\n",
      "YES\n"
     ]
    }
   ],
   "source": [
    "#! /usr/bin/python3\n",
    "\n",
    "def check():\n",
    "    stack = []\n",
    "    s = input()\n",
    "    for c in s:\n",
    "        #print(c)\n",
    "        if c == '(':\n",
    "            stack.append(0);\n",
    "        elif c == ')':\n",
    "            if len(stack) > 0 and stack[-1] == 0:\n",
    "                stack.pop()\n",
    "            else:\n",
    "                return -1\n",
    "        elif c == '[':\n",
    "            stack.append(2)\n",
    "        elif c == ']':\n",
    "            if len(stack) > 0 and stack[-1] == 2:\n",
    "                stack.pop()\n",
    "            else:\n",
    "                return -1\n",
    "        if c == '{':\n",
    "            stack.append(4)\n",
    "        elif c == '}':\n",
    "            if len(stack) > 0 and stack[-1] == 4:\n",
    "                stack.pop()\n",
    "            else:\n",
    "                return -1\n",
    "    \n",
    "    if len(stack) == 0:\n",
    "        return 0\n",
    "    else:\n",
    "        return -1\n",
    "\n",
    "def solve():\n",
    "    t = int(input())\n",
    "    for i in range(0,t):\n",
    "        if check() == 0:\n",
    "            print(\"YES\")\n",
    "        else:\n",
    "            print(\"NO\")\n",
    "solve()            \n",
    "                    \n",
    "    "
   ]
  },
  {
   "cell_type": "markdown",
   "id": "0afafa03",
   "metadata": {},
   "source": [
    "In this HackerRank Simple Text Editor problem solution, we need to implement a simple text editor that can append, delete or print a character and also undo the last move."
   ]
  },
  {
   "cell_type": "code",
   "execution_count": 52,
   "id": "4488cf1f",
   "metadata": {},
   "outputs": [
    {
     "name": "stdout",
     "output_type": "stream",
     "text": [
      "5\n",
      "7\n",
      "9\n",
      "4\n",
      "4\n",
      "9\n"
     ]
    },
    {
     "ename": "IndexError",
     "evalue": "pop from empty list",
     "output_type": "error",
     "traceback": [
      "\u001b[1;31m---------------------------------------------------------------------------\u001b[0m",
      "\u001b[1;31mIndexError\u001b[0m                                Traceback (most recent call last)",
      "\u001b[1;32m<ipython-input-52-a06d73a15ae8>\u001b[0m in \u001b[0;36m<module>\u001b[1;34m\u001b[0m\n\u001b[0;32m     23\u001b[0m         \u001b[0mprint\u001b[0m\u001b[1;33m(\u001b[0m\u001b[0ms\u001b[0m\u001b[1;33m[\u001b[0m\u001b[0mk\u001b[0m\u001b[1;33m-\u001b[0m\u001b[1;36m1\u001b[0m\u001b[1;33m]\u001b[0m\u001b[1;33m)\u001b[0m\u001b[1;33m\u001b[0m\u001b[1;33m\u001b[0m\u001b[0m\n\u001b[0;32m     24\u001b[0m     \u001b[1;32melif\u001b[0m \u001b[0mop\u001b[0m\u001b[1;33m[\u001b[0m\u001b[1;36m0\u001b[0m\u001b[1;33m]\u001b[0m \u001b[1;33m==\u001b[0m \u001b[1;34m'4'\u001b[0m\u001b[1;33m:\u001b[0m\u001b[1;33m\u001b[0m\u001b[1;33m\u001b[0m\u001b[0m\n\u001b[1;32m---> 25\u001b[1;33m         \u001b[0ms\u001b[0m \u001b[1;33m=\u001b[0m \u001b[0mhistory\u001b[0m\u001b[1;33m.\u001b[0m\u001b[0mpop\u001b[0m\u001b[1;33m(\u001b[0m\u001b[1;33m)\u001b[0m\u001b[1;33m\u001b[0m\u001b[1;33m\u001b[0m\u001b[0m\n\u001b[0m\u001b[0;32m     26\u001b[0m \u001b[1;33m\u001b[0m\u001b[0m\n",
      "\u001b[1;31mIndexError\u001b[0m: pop from empty list"
     ]
    }
   ],
   "source": [
    "no_ops = int(input())\n",
    "ops = []\n",
    "s = []\n",
    "for i in range(no_ops):\n",
    "    one_op = input().split(' ')\n",
    "    ops.append(one_op)\n",
    "    \n",
    "from copy import copy\n",
    "history = []\n",
    "for op in ops:\n",
    "    #print(s)\n",
    "    #print(op)\n",
    "    if op[0] == '1':\n",
    "        to_append = op[1]\n",
    "        history.append(copy(s))\n",
    "        s.extend(to_append)\n",
    "    elif op[0] == '2':\n",
    "        k = int(op[1])\n",
    "        history.append(copy(s))\n",
    "        del s[-k:]\n",
    "    elif op[0] == '3':\n",
    "        k = int(op[1])\n",
    "        print(s[k-1])\n",
    "    elif op[0] == '4':\n",
    "        s = history.pop()\n",
    "        \n"
   ]
  },
  {
   "cell_type": "markdown",
   "id": "681c743b",
   "metadata": {},
   "source": [
    "In  this HackerRank Lego Blocks problem solution, we have given an infinite number of 4 types of lego blocks of sizes given as (depth x height x width). and using these blocks we need to make a wall of height n and width m. and remember that wall should not have any holes in it and should be one solid structure and bricks must be laid horizontally. all the permutations of the wall are not valid so we need to find and print the number of valid wall formations."
   ]
  },
  {
   "cell_type": "code",
   "execution_count": 53,
   "id": "cf4353ef",
   "metadata": {},
   "outputs": [
    {
     "ename": "KeyError",
     "evalue": "'OUTPUT_PATH'",
     "output_type": "error",
     "traceback": [
      "\u001b[1;31m---------------------------------------------------------------------------\u001b[0m",
      "\u001b[1;31mKeyError\u001b[0m                                  Traceback (most recent call last)",
      "\u001b[1;32m<ipython-input-53-36ec2c1ac4e2>\u001b[0m in \u001b[0;36m<module>\u001b[1;34m\u001b[0m\n\u001b[0;32m     36\u001b[0m \u001b[1;33m\u001b[0m\u001b[0m\n\u001b[0;32m     37\u001b[0m \u001b[1;32mif\u001b[0m \u001b[0m__name__\u001b[0m \u001b[1;33m==\u001b[0m \u001b[1;34m'__main__'\u001b[0m\u001b[1;33m:\u001b[0m\u001b[1;33m\u001b[0m\u001b[1;33m\u001b[0m\u001b[0m\n\u001b[1;32m---> 38\u001b[1;33m     \u001b[0mfptr\u001b[0m \u001b[1;33m=\u001b[0m \u001b[0mopen\u001b[0m\u001b[1;33m(\u001b[0m\u001b[0mos\u001b[0m\u001b[1;33m.\u001b[0m\u001b[0menviron\u001b[0m\u001b[1;33m[\u001b[0m\u001b[1;34m'OUTPUT_PATH'\u001b[0m\u001b[1;33m]\u001b[0m\u001b[1;33m,\u001b[0m \u001b[1;34m'w'\u001b[0m\u001b[1;33m)\u001b[0m\u001b[1;33m\u001b[0m\u001b[1;33m\u001b[0m\u001b[0m\n\u001b[0m\u001b[0;32m     39\u001b[0m \u001b[1;33m\u001b[0m\u001b[0m\n\u001b[0;32m     40\u001b[0m     \u001b[0mt\u001b[0m \u001b[1;33m=\u001b[0m \u001b[0mint\u001b[0m\u001b[1;33m(\u001b[0m\u001b[0minput\u001b[0m\u001b[1;33m(\u001b[0m\u001b[1;33m)\u001b[0m\u001b[1;33m)\u001b[0m\u001b[1;33m\u001b[0m\u001b[1;33m\u001b[0m\u001b[0m\n",
      "\u001b[1;32m~\\anaconda3\\lib\\os.py\u001b[0m in \u001b[0;36m__getitem__\u001b[1;34m(self, key)\u001b[0m\n\u001b[0;32m    673\u001b[0m         \u001b[1;32mexcept\u001b[0m \u001b[0mKeyError\u001b[0m\u001b[1;33m:\u001b[0m\u001b[1;33m\u001b[0m\u001b[1;33m\u001b[0m\u001b[0m\n\u001b[0;32m    674\u001b[0m             \u001b[1;31m# raise KeyError with the original key value\u001b[0m\u001b[1;33m\u001b[0m\u001b[1;33m\u001b[0m\u001b[1;33m\u001b[0m\u001b[0m\n\u001b[1;32m--> 675\u001b[1;33m             \u001b[1;32mraise\u001b[0m \u001b[0mKeyError\u001b[0m\u001b[1;33m(\u001b[0m\u001b[0mkey\u001b[0m\u001b[1;33m)\u001b[0m \u001b[1;32mfrom\u001b[0m \u001b[1;32mNone\u001b[0m\u001b[1;33m\u001b[0m\u001b[1;33m\u001b[0m\u001b[0m\n\u001b[0m\u001b[0;32m    676\u001b[0m         \u001b[1;32mreturn\u001b[0m \u001b[0mself\u001b[0m\u001b[1;33m.\u001b[0m\u001b[0mdecodevalue\u001b[0m\u001b[1;33m(\u001b[0m\u001b[0mvalue\u001b[0m\u001b[1;33m)\u001b[0m\u001b[1;33m\u001b[0m\u001b[1;33m\u001b[0m\u001b[0m\n\u001b[0;32m    677\u001b[0m \u001b[1;33m\u001b[0m\u001b[0m\n",
      "\u001b[1;31mKeyError\u001b[0m: 'OUTPUT_PATH'"
     ]
    }
   ],
   "source": [
    "#!/bin/python3\n",
    "\n",
    "import os\n",
    "import sys\n",
    "import datetime\n",
    "#\n",
    "# Complete the legoBlocks function below.\n",
    "#\n",
    "def legoBlocks(n, m):\n",
    "    A = 1000000000+7\n",
    "    r = [0]*(m+1)\n",
    "    a = [0]*(m+1)\n",
    "    print(datetime.datetime.now())\n",
    "\n",
    "    a[0] = 1\n",
    "    for j in range(1, m+1):\n",
    "        a[j] += a[j-1] if j-1>=0 else 0\n",
    "        a[j] += a[j-2] if j-2>=0 else 0\n",
    "        a[j] += a[j-3] if j-3>=0 else 0\n",
    "        a[j] += a[j-4] if j-4>=0 else 0\n",
    "    print(datetime.datetime.now())    \n",
    "    for j in range(1, m+1):\n",
    "        a[j] = a[j] % A\n",
    "        a[j] = a[j] ** n\n",
    "        a[j] = a[j] % A\n",
    "    print(datetime.datetime.now())\n",
    "    \n",
    "    r[1] = 1\n",
    "    for j in range(2, m+1):\n",
    "        r[j] = a[j]\n",
    "        for k in range(1, j):\n",
    "            r[j] -= r[k]*a[j-k]\n",
    "        r[j] = r[j] % A\n",
    "    print(datetime.datetime.now())\n",
    "    return r[m]%A\n",
    "\n",
    "if __name__ == '__main__':\n",
    "    fptr = open(os.environ['OUTPUT_PATH'], 'w')\n",
    "\n",
    "    t = int(input())\n",
    "\n",
    "    for t_itr in range(t):\n",
    "        nm = input().split()\n",
    "\n",
    "        n = int(nm[0])\n",
    "\n",
    "        m = int(nm[1])\n",
    "\n",
    "        result = legoBlocks(n, m)\n",
    "\n",
    "        fptr.write(str(result) + '\\n')\n",
    "\n",
    "    fptr.close()\n"
   ]
  },
  {
   "cell_type": "markdown",
   "id": "aa0ffb07",
   "metadata": {},
   "source": [
    "In this HackerRank Jesse and Cookies problem, we have given n strings of brackets, we need to determine whether each sequence of brackets is balanced. if the string is balanced, return YES. otherwise, return NO."
   ]
  },
  {
   "cell_type": "code",
   "execution_count": 56,
   "id": "f5d28d97",
   "metadata": {},
   "outputs": [
    {
     "name": "stdout",
     "output_type": "stream",
     "text": [
      "2 4\n",
      "5 6\n",
      "0\n"
     ]
    }
   ],
   "source": [
    "from heapq import heapify, heappush, heappop\n",
    "\n",
    "def get_number_mixes(cookies, minimum_value):\n",
    "    cookies = list(cookies)\n",
    "    heapify(cookies)\n",
    "    count = 0\n",
    "    while cookies[0] < minimum_value:\n",
    "        if len(cookies) < 2:\n",
    "            return -1\n",
    "        heappush(cookies, heappop(cookies) + 2 * heappop(cookies))\n",
    "        count += 1\n",
    "    return count\n",
    "\n",
    "N, K = map(int, input().split())\n",
    "A = map(int, input().split())        \n",
    "print(get_number_mixes(A, K))\n",
    "\n"
   ]
  },
  {
   "cell_type": "markdown",
   "id": "6f53131c",
   "metadata": {},
   "source": [
    "In this HackerRank Tree: Preorder Traversal problem we have given a pointer of the root of a binary tree. and we need to traverse the tree in preorder and then print the values of the nodes in a single line."
   ]
  },
  {
   "cell_type": "code",
   "execution_count": 61,
   "id": "72824074",
   "metadata": {},
   "outputs": [
    {
     "name": "stdout",
     "output_type": "stream",
     "text": [
      "5\n",
      "1 2 6 3 4\n",
      "1 2 6 3 4 "
     ]
    }
   ],
   "source": [
    "class Node:\n",
    "    def __init__(self, info): \n",
    "        self.info = info  \n",
    "        self.left = None  \n",
    "        self.right = None \n",
    "        self.level = None \n",
    "\n",
    "    def __str__(self):\n",
    "        return str(self.info) \n",
    "\n",
    "class BinarySearchTree:\n",
    "    def __init__(self): \n",
    "        self.root = None\n",
    "\n",
    "    def create(self, val):  \n",
    "        if self.root == None:\n",
    "            self.root = Node(val)\n",
    "        else:\n",
    "            current = self.root\n",
    "         \n",
    "            while True:\n",
    "                if val < current.info:\n",
    "                    if current.left:\n",
    "                        current = current.left\n",
    "                    else:\n",
    "                        current.left = Node(val)\n",
    "                        break\n",
    "                elif val > current.info:\n",
    "                    if current.right:\n",
    "                        current = current.right\n",
    "                    else:\n",
    "                        current.right = Node(val)\n",
    "                        break\n",
    "                else:\n",
    "                    break\n",
    "\n",
    "\n",
    "def preOrder(root):\n",
    "    #Write your code here\n",
    "    p = root\n",
    "    if p is None:\n",
    "        return\n",
    "    print(p.info, end=' ')\n",
    "    preOrder(p.left)\n",
    "    preOrder(p.right)\n",
    "\n",
    "\n",
    "\n",
    "tree = BinarySearchTree()\n",
    "t = int(input())\n",
    "\n",
    "arr = list(map(int, input().split()))\n",
    "\n",
    "for i in range(t):\n",
    "    tree.create(arr[i])\n",
    "\n",
    "preOrder(tree.root)\n"
   ]
  },
  {
   "cell_type": "markdown",
   "id": "db1c9c08",
   "metadata": {},
   "source": [
    "In this HackerRank Tree: Huffman Decoding Interview preparation kit problem You are given a pointer to the root of the Huffman tree and a binary coded string to decode. You need to print the decoded string."
   ]
  },
  {
   "cell_type": "code",
   "execution_count": 63,
   "id": "0f3e3bb8",
   "metadata": {},
   "outputs": [
    {
     "name": "stdout",
     "output_type": "stream",
     "text": [
      "5 2\n",
      "5 2\n"
     ]
    }
   ],
   "source": [
    "import queue as Queue\n",
    "\n",
    "cntr = 0\n",
    "\n",
    "class Node:\n",
    "    def __init__(self, freq, data):\n",
    "        self.freq = freq\n",
    "        self.data = data\n",
    "        self.left = None\n",
    "        self.right = None\n",
    "        global cntr\n",
    "        self._count = cntr\n",
    "        cntr = cntr + 1\n",
    "        \n",
    "    def __lt__(self, other):\n",
    "        if self.freq != other.freq:\n",
    "            return self.freq < other.freq\n",
    "        return self._count < other._count\n",
    "\n",
    "def huffman_hidden():#builds the tree and returns root\n",
    "    q = Queue.PriorityQueue()\n",
    "\n",
    "    \n",
    "    for key in freq:\n",
    "        q.put((freq[key], key, Node(freq[key], key) ))\n",
    "    \n",
    "    while q.qsize() != 1:\n",
    "        a = q.get()\n",
    "        b = q.get()\n",
    "        obj = Node(a[0] + b[0], '\\0' )\n",
    "        obj.left = a[2]\n",
    "        obj.right = b[2]\n",
    "        q.put((obj.freq, obj.data, obj ))\n",
    "        \n",
    "    root = q.get()\n",
    "    root = root[2]#contains root object\n",
    "    return root\n",
    "\n",
    "def dfs_hidden(obj, already):\n",
    "    if(obj == None):\n",
    "        return\n",
    "    elif(obj.data != '\\0'):\n",
    "        code_hidden[obj.data] = already\n",
    "        \n",
    "    dfs_hidden(obj.right, already + \"1\")\n",
    "    dfs_hidden(obj.left, already + \"0\")\n",
    "\n",
    "\"\"\"class Node:\n",
    "    def __init__(self, freq,data):\n",
    "        self.freq= freq\n",
    "        self.data=data\n",
    "        self.left = None\n",
    "        self.right = None\n",
    "\"\"\"        \n",
    "\n",
    "# Enter your code here. Read input from STDIN. Print output to STDOUT\n",
    "def decodeHuff(root, s):\n",
    "    #Enter Your Code Here\n",
    "    cur = root\n",
    "    chararray = []\n",
    "    #For each character, \n",
    "    #If at an internal node, move left if 0, right if 1\n",
    "    #If at a leaf (no children), record data and jump back to root AFTER processing character\n",
    "    for c in s:\n",
    "        if c == '0' and cur.left:\n",
    "            cur = cur.left\n",
    "        elif cur.right:\n",
    "            cur = cur.right\n",
    "        \n",
    "        if cur.left is None and cur.right is None:\n",
    "            chararray.append(cur.data)\n",
    "            cur = root\n",
    "    \n",
    "    #Print final array\n",
    "    print(\"\".join(chararray))\n",
    "\n",
    "ip = input()\n",
    "freq = {}#maps each character to its frequency\n",
    "\n",
    "cntr = 0\n",
    "\n",
    "for ch in ip:\n",
    "    if(freq.get(ch) == None):\n",
    "        freq[ch] = 1\n",
    "    else:\n",
    "        freq[ch]+=1\n",
    "\n",
    "root = huffman_hidden()#contains root of huffman tree\n",
    "\n",
    "code_hidden = {}#contains code for each object\n",
    "\n",
    "dfs_hidden(root, \"\")\n",
    "\n",
    "if len(code_hidden) == 1:#if there is only one character in the i/p\n",
    "    for key in code_hidden:\n",
    "        code_hidden[key] = \"0\"\n",
    "\n",
    "toBeDecoded = \"\"\n",
    "\n",
    "for ch in ip:\n",
    "   toBeDecoded += code_hidden[ch]\n",
    "\n",
    "decodeHuff(root, toBeDecoded)\n",
    "\n"
   ]
  },
  {
   "cell_type": "markdown",
   "id": "809bb516",
   "metadata": {},
   "source": [
    "In this HackerRank No Prefix Set problem, we have given a list of strings where each string contains only lowercase letters and we need to find if no string is a prefix of another string then print GOOD SET otherwise print BAD SET."
   ]
  },
  {
   "cell_type": "code",
   "execution_count": 64,
   "id": "b7e5e6e3",
   "metadata": {},
   "outputs": [
    {
     "name": "stdout",
     "output_type": "stream",
     "text": [
      "4\n",
      "5\n",
      "7\n",
      "6\n",
      "9\n",
      "GOOD SET\n"
     ]
    }
   ],
   "source": [
    "root = {}\n",
    "def add_to(root,s):\n",
    "    current_node = root.setdefault(s[0],[0,{}])\n",
    "    if len(s) == 1:\n",
    "        current_node[0] += 1\n",
    "    else:\n",
    "        add_to(current_node[1],s[1:])\n",
    "        \n",
    "def is_prefix(root,s):\n",
    "    if len(s) == 1:\n",
    "        if len(root[s[0]][1])>0 or root[s[0]][0] > 1:\n",
    "            return True\n",
    "        else:\n",
    "            return False\n",
    "    else:\n",
    "        if root[s[0]][0] > 0:\n",
    "            return True\n",
    "        else:\n",
    "            return is_prefix(root[s[0]][1],s[1:])\n",
    "    \n",
    "    \n",
    "    \n",
    "n = int(input())\n",
    "count = 0 \n",
    "for _ in range(n):\n",
    "    word = input().strip()\n",
    "    add_to(root,word)\n",
    "    if is_prefix(root,word):\n",
    "        print(\"BAD SET\")\n",
    "        print(word)\n",
    "        break\n",
    "    count += 1\n",
    "if count == n:\n",
    "    print(\"GOOD SET\")\n",
    "    \n"
   ]
  },
  {
   "cell_type": "markdown",
   "id": "a0c5c9be",
   "metadata": {},
   "source": [
    "In this HackerRank Sparse Arrays problem, we need to develop a program in which for each gives string we need to determine how many times the query present in the string, and then we need to return an array as a result."
   ]
  },
  {
   "cell_type": "code",
   "execution_count": 66,
   "id": "4ef9a2ab",
   "metadata": {},
   "outputs": [
    {
     "name": "stdout",
     "output_type": "stream",
     "text": [
      "2\n",
      "2\n",
      "3\n",
      "4\n",
      "5\n",
      "0\n",
      "1\n",
      "0\n",
      "4\n",
      "0\n",
      "5\n",
      "0\n"
     ]
    }
   ],
   "source": [
    "n = int(input())\n",
    "hashmap = {}\n",
    "\n",
    "for i in range(n):\n",
    "    string = input()\n",
    "    hashmap[string] = 1 if string not in hashmap else hashmap[string] + 1\n",
    "\n",
    "q = int(input())\n",
    "\n",
    "for j in range(q):\n",
    "    string = input()\n",
    "    print(0 if string not in hashmap else hashmap[string])\n",
    "    "
   ]
  },
  {
   "cell_type": "markdown",
   "id": "abe54b71",
   "metadata": {},
   "source": [
    "In this HackerRank Flipping Bits Interview preparation kit problem You will be given a list of 32-bit unsigned integers. Flip all the bits (1 -> 0 and 0 -> 1) and return the result as an unsigned integer."
   ]
  },
  {
   "cell_type": "code",
   "execution_count": 68,
   "id": "abc59256",
   "metadata": {
    "scrolled": true
   },
   "outputs": [
    {
     "ename": "ValueError",
     "evalue": "invalid literal for int() with base 10: ''",
     "output_type": "error",
     "traceback": [
      "\u001b[1;31m---------------------------------------------------------------------------\u001b[0m",
      "\u001b[1;31mValueError\u001b[0m                                Traceback (most recent call last)",
      "\u001b[1;32m<ipython-input-68-4e7ca4e5d8a8>\u001b[0m in \u001b[0;36m<module>\u001b[1;34m\u001b[0m\n\u001b[0;32m      1\u001b[0m \u001b[1;32mimport\u001b[0m \u001b[0msys\u001b[0m\u001b[1;33m\u001b[0m\u001b[1;33m\u001b[0m\u001b[0m\n\u001b[0;32m      2\u001b[0m \u001b[1;33m\u001b[0m\u001b[0m\n\u001b[1;32m----> 3\u001b[1;33m \u001b[0mt\u001b[0m \u001b[1;33m=\u001b[0m \u001b[0mint\u001b[0m\u001b[1;33m(\u001b[0m\u001b[0msys\u001b[0m\u001b[1;33m.\u001b[0m\u001b[0mstdin\u001b[0m\u001b[1;33m.\u001b[0m\u001b[0mreadline\u001b[0m\u001b[1;33m(\u001b[0m\u001b[1;33m)\u001b[0m\u001b[1;33m.\u001b[0m\u001b[0mstrip\u001b[0m\u001b[1;33m(\u001b[0m\u001b[1;33m)\u001b[0m\u001b[1;33m)\u001b[0m\u001b[1;33m\u001b[0m\u001b[1;33m\u001b[0m\u001b[0m\n\u001b[0m\u001b[0;32m      4\u001b[0m \u001b[1;32mfor\u001b[0m \u001b[0mtests\u001b[0m \u001b[1;32min\u001b[0m \u001b[0mrange\u001b[0m\u001b[1;33m(\u001b[0m\u001b[0mt\u001b[0m\u001b[1;33m)\u001b[0m\u001b[1;33m:\u001b[0m\u001b[1;33m\u001b[0m\u001b[1;33m\u001b[0m\u001b[0m\n\u001b[0;32m      5\u001b[0m     \u001b[0mn\u001b[0m \u001b[1;33m=\u001b[0m \u001b[0mint\u001b[0m\u001b[1;33m(\u001b[0m\u001b[0msys\u001b[0m\u001b[1;33m.\u001b[0m\u001b[0mstdin\u001b[0m\u001b[1;33m.\u001b[0m\u001b[0mreadline\u001b[0m\u001b[1;33m(\u001b[0m\u001b[1;33m)\u001b[0m\u001b[1;33m.\u001b[0m\u001b[0mstrip\u001b[0m\u001b[1;33m(\u001b[0m\u001b[1;33m)\u001b[0m\u001b[1;33m)\u001b[0m\u001b[1;33m\u001b[0m\u001b[1;33m\u001b[0m\u001b[0m\n",
      "\u001b[1;31mValueError\u001b[0m: invalid literal for int() with base 10: ''"
     ]
    }
   ],
   "source": [
    "import sys\n",
    "\n",
    "t = int(sys.stdin.readline().strip())\n",
    "for tests in range(t):\n",
    "    n = int(sys.stdin.readline().strip())\n",
    "    s = ['0' for x in range(32)]\n",
    "    s_n = \"{0:b}\".format(n)\n",
    "    for x in range(len(s_n)):\n",
    "        s[31-x] = s_n[len(s_n) - 1 - x]\n",
    "    for x in range(32):\n",
    "        if s[x] == '0':\n",
    "            s[x] = '1'\n",
    "        else:\n",
    "            s[x] = '0'\n",
    "    print(int(''.join(s), 2))\n",
    "    \n"
   ]
  },
  {
   "cell_type": "markdown",
   "id": "0a4490b0",
   "metadata": {},
   "source": [
    "In this HackerRank Pangrams, problem Given a sentence determines whether it is a pangram in the English alphabet. Ignore case. Return either pangram or not pangram as appropriate."
   ]
  },
  {
   "cell_type": "code",
   "execution_count": 70,
   "id": "07faa58a",
   "metadata": {},
   "outputs": [
    {
     "name": "stdout",
     "output_type": "stream",
     "text": [
      "2 3 1 6 8 10\n",
      "not pangram\n"
     ]
    }
   ],
   "source": [
    "s = set(list(input().lower()))\n",
    "letters = []\n",
    "for i in range(97, 122):\n",
    "    letters.append(i)\n",
    "\n",
    "for i, element in enumerate(s):\n",
    "    if ord(element) in letters:\n",
    "        letters.remove(ord(element))\n",
    "\n",
    "if len(letters) > 0:\n",
    "    print(\"not\", end=\" \")\n",
    "print(\"pangram\")\n"
   ]
  },
  {
   "cell_type": "markdown",
   "id": "a0635980",
   "metadata": {},
   "source": [
    "In this HackerRank Permuting Two Arrays problem solution there are two n element arrays of integers A and B. we need to permute them into some A' and B' such that the relation A'[i] + B'[i] >= k holds for all I where 0 <= I < n. and there are q queries consisting of A, B, and k. for each query return YES if some permutation A'.B' satisfying the relation exists. otherwise, return NO."
   ]
  },
  {
   "cell_type": "code",
   "execution_count": 73,
   "id": "b3a5df8e",
   "metadata": {},
   "outputs": [
    {
     "name": "stdout",
     "output_type": "stream",
     "text": [
      "8\n",
      "3 4\n",
      "5 8\n",
      "2 7\n",
      "YES\n",
      "2 4\n",
      "2 4\n",
      "2, 5\n"
     ]
    },
    {
     "ename": "ValueError",
     "evalue": "invalid literal for int() with base 10: '2,'",
     "output_type": "error",
     "traceback": [
      "\u001b[1;31m---------------------------------------------------------------------------\u001b[0m",
      "\u001b[1;31mValueError\u001b[0m                                Traceback (most recent call last)",
      "\u001b[1;32m<ipython-input-73-8a571a40e7eb>\u001b[0m in \u001b[0;36m<module>\u001b[1;34m\u001b[0m\n\u001b[0;32m      8\u001b[0m     \u001b[0mN\u001b[0m\u001b[1;33m,\u001b[0m\u001b[0mK\u001b[0m \u001b[1;33m=\u001b[0m \u001b[0mrl\u001b[0m\u001b[1;33m(\u001b[0m\u001b[0mint\u001b[0m\u001b[1;33m)\u001b[0m\u001b[1;33m\u001b[0m\u001b[1;33m\u001b[0m\u001b[0m\n\u001b[0;32m      9\u001b[0m     \u001b[0mA\u001b[0m \u001b[1;33m=\u001b[0m \u001b[0mrl\u001b[0m\u001b[1;33m(\u001b[0m\u001b[0mint\u001b[0m\u001b[1;33m)\u001b[0m\u001b[1;33m\u001b[0m\u001b[1;33m\u001b[0m\u001b[0m\n\u001b[1;32m---> 10\u001b[1;33m     \u001b[0mB\u001b[0m \u001b[1;33m=\u001b[0m \u001b[0mrl\u001b[0m\u001b[1;33m(\u001b[0m\u001b[0mint\u001b[0m\u001b[1;33m)\u001b[0m\u001b[1;33m\u001b[0m\u001b[1;33m\u001b[0m\u001b[0m\n\u001b[0m\u001b[0;32m     11\u001b[0m     \u001b[0mA\u001b[0m\u001b[1;33m.\u001b[0m\u001b[0msort\u001b[0m\u001b[1;33m(\u001b[0m\u001b[1;33m)\u001b[0m\u001b[1;33m\u001b[0m\u001b[1;33m\u001b[0m\u001b[0m\n\u001b[0;32m     12\u001b[0m     \u001b[0mB\u001b[0m\u001b[1;33m.\u001b[0m\u001b[0msort\u001b[0m\u001b[1;33m(\u001b[0m\u001b[0mreverse\u001b[0m\u001b[1;33m=\u001b[0m\u001b[1;32mTrue\u001b[0m\u001b[1;33m)\u001b[0m\u001b[1;33m\u001b[0m\u001b[1;33m\u001b[0m\u001b[0m\n",
      "\u001b[1;32m<ipython-input-73-8a571a40e7eb>\u001b[0m in \u001b[0;36mrl\u001b[1;34m(T)\u001b[0m\n\u001b[0;32m      2\u001b[0m \u001b[1;33m\u001b[0m\u001b[0m\n\u001b[0;32m      3\u001b[0m \u001b[1;32mdef\u001b[0m \u001b[0mrl\u001b[0m\u001b[1;33m(\u001b[0m\u001b[0mT\u001b[0m\u001b[1;33m=\u001b[0m\u001b[0mstr\u001b[0m\u001b[1;33m)\u001b[0m\u001b[1;33m:\u001b[0m\u001b[1;33m\u001b[0m\u001b[1;33m\u001b[0m\u001b[0m\n\u001b[1;32m----> 4\u001b[1;33m     \u001b[1;32mreturn\u001b[0m \u001b[0mlist\u001b[0m\u001b[1;33m(\u001b[0m\u001b[0mmap\u001b[0m\u001b[1;33m(\u001b[0m\u001b[0mT\u001b[0m\u001b[1;33m,\u001b[0m\u001b[0minput\u001b[0m\u001b[1;33m(\u001b[0m\u001b[1;33m)\u001b[0m\u001b[1;33m.\u001b[0m\u001b[0msplit\u001b[0m\u001b[1;33m(\u001b[0m\u001b[1;33m)\u001b[0m\u001b[1;33m)\u001b[0m\u001b[1;33m)\u001b[0m\u001b[1;33m\u001b[0m\u001b[1;33m\u001b[0m\u001b[0m\n\u001b[0m\u001b[0;32m      5\u001b[0m \u001b[1;33m\u001b[0m\u001b[0m\n\u001b[0;32m      6\u001b[0m \u001b[0mT\u001b[0m\u001b[1;33m,\u001b[0m \u001b[1;33m=\u001b[0m \u001b[0mrl\u001b[0m\u001b[1;33m(\u001b[0m\u001b[0mint\u001b[0m\u001b[1;33m)\u001b[0m\u001b[1;33m\u001b[0m\u001b[1;33m\u001b[0m\u001b[0m\n",
      "\u001b[1;31mValueError\u001b[0m: invalid literal for int() with base 10: '2,'"
     ]
    }
   ],
   "source": [
    "#!/usr/bin/env python3\n",
    "\n",
    "def rl(T=str):\n",
    "    return list(map(T,input().split()))\n",
    "\n",
    "T, = rl(int)\n",
    "for _ in range((T)):\n",
    "    N,K = rl(int)\n",
    "    A = rl(int)\n",
    "    B = rl(int)\n",
    "    A.sort()\n",
    "    B.sort(reverse=True)\n",
    "    bad = len([a+b for a,b in zip(A,B) if a+b<K ])>0\n",
    "    print(\"NO\" if bad else \"YES\")\n",
    "    \n"
   ]
  },
  {
   "cell_type": "markdown",
   "id": "86dba072",
   "metadata": {},
   "source": [
    "In this HackerRank Subarray Division 1 problem, you need to determine how many ways she can divide the chocolate."
   ]
  },
  {
   "cell_type": "code",
   "execution_count": 76,
   "id": "b4a42dd1",
   "metadata": {},
   "outputs": [
    {
     "name": "stdout",
     "output_type": "stream",
     "text": [
      "2\n",
      "3\n",
      "2 3\n",
      "0\n"
     ]
    }
   ],
   "source": [
    "#!/bin/python3\n",
    "\n",
    "import sys\n",
    "\n",
    "\n",
    "n = int(input().strip())\n",
    "squares = list(map(int, input().strip().split(' ')))\n",
    "d,m = input().strip().split(' ')\n",
    "d,m = [int(d),int(m)]\n",
    "# your code goes here\n",
    "\n",
    "count = 0\n",
    "for i in range(m, n+1):\n",
    "#    print(i-m, i, squares[i-m:i], d)\n",
    "    if sum(squares[i-m:i]) == d:\n",
    "        count += 1\n",
    "        \n",
    "print(count)   \n"
   ]
  },
  {
   "cell_type": "markdown",
   "id": "17121587",
   "metadata": {},
   "source": [
    "In this HackerRank XOR Strings 2 problem solution, we have given Given two strings consisting of digits 0 and 1 only, find the XOR of the two strings"
   ]
  },
  {
   "cell_type": "code",
   "execution_count": 81,
   "id": "50ae82dd",
   "metadata": {},
   "outputs": [
    {
     "name": "stdout",
     "output_type": "stream",
     "text": [
      "3\n",
      "4\n",
      "0\n"
     ]
    }
   ],
   "source": [
    "def strings_xor(s, t):\n",
    "    res = \"\"\n",
    "    for i in range(len(s)):\n",
    "        if bool(1-int(s[i])^int(t[i])):\n",
    "            res += '0';\n",
    "        else:\n",
    "            res += '1';\n",
    "\n",
    "    return res\n",
    "\n",
    "s = input()\n",
    "t = input()\n",
    "print(strings_xor(s, t))\n",
    "\n"
   ]
  },
  {
   "cell_type": "markdown",
   "id": "ccc36a60",
   "metadata": {},
   "source": [
    "In this HackerRank Sales by Match problem in the Interview preparation kit, you need to Complete the sockMerchant function. it has the following parameter(s):\n",
    "\n",
    "int n: the number of socks in the pile\n",
    "int ar[n]: the colors of each sock"
   ]
  },
  {
   "cell_type": "code",
   "execution_count": 82,
   "id": "56b7ef71",
   "metadata": {},
   "outputs": [
    {
     "ename": "KeyError",
     "evalue": "'OUTPUT_PATH'",
     "output_type": "error",
     "traceback": [
      "\u001b[1;31m---------------------------------------------------------------------------\u001b[0m",
      "\u001b[1;31mKeyError\u001b[0m                                  Traceback (most recent call last)",
      "\u001b[1;32m<ipython-input-82-e498eb697914>\u001b[0m in \u001b[0;36m<module>\u001b[1;34m\u001b[0m\n\u001b[0;32m     23\u001b[0m \u001b[1;33m\u001b[0m\u001b[0m\n\u001b[0;32m     24\u001b[0m \u001b[1;32mif\u001b[0m \u001b[0m__name__\u001b[0m \u001b[1;33m==\u001b[0m \u001b[1;34m'__main__'\u001b[0m\u001b[1;33m:\u001b[0m\u001b[1;33m\u001b[0m\u001b[1;33m\u001b[0m\u001b[0m\n\u001b[1;32m---> 25\u001b[1;33m     \u001b[0mfptr\u001b[0m \u001b[1;33m=\u001b[0m \u001b[0mopen\u001b[0m\u001b[1;33m(\u001b[0m\u001b[0mos\u001b[0m\u001b[1;33m.\u001b[0m\u001b[0menviron\u001b[0m\u001b[1;33m[\u001b[0m\u001b[1;34m'OUTPUT_PATH'\u001b[0m\u001b[1;33m]\u001b[0m\u001b[1;33m,\u001b[0m \u001b[1;34m'w'\u001b[0m\u001b[1;33m)\u001b[0m\u001b[1;33m\u001b[0m\u001b[1;33m\u001b[0m\u001b[0m\n\u001b[0m\u001b[0;32m     26\u001b[0m \u001b[1;33m\u001b[0m\u001b[0m\n\u001b[0;32m     27\u001b[0m     \u001b[0mn\u001b[0m \u001b[1;33m=\u001b[0m \u001b[0mint\u001b[0m\u001b[1;33m(\u001b[0m\u001b[0minput\u001b[0m\u001b[1;33m(\u001b[0m\u001b[1;33m)\u001b[0m\u001b[1;33m)\u001b[0m\u001b[1;33m\u001b[0m\u001b[1;33m\u001b[0m\u001b[0m\n",
      "\u001b[1;32m~\\anaconda3\\lib\\os.py\u001b[0m in \u001b[0;36m__getitem__\u001b[1;34m(self, key)\u001b[0m\n\u001b[0;32m    673\u001b[0m         \u001b[1;32mexcept\u001b[0m \u001b[0mKeyError\u001b[0m\u001b[1;33m:\u001b[0m\u001b[1;33m\u001b[0m\u001b[1;33m\u001b[0m\u001b[0m\n\u001b[0;32m    674\u001b[0m             \u001b[1;31m# raise KeyError with the original key value\u001b[0m\u001b[1;33m\u001b[0m\u001b[1;33m\u001b[0m\u001b[1;33m\u001b[0m\u001b[0m\n\u001b[1;32m--> 675\u001b[1;33m             \u001b[1;32mraise\u001b[0m \u001b[0mKeyError\u001b[0m\u001b[1;33m(\u001b[0m\u001b[0mkey\u001b[0m\u001b[1;33m)\u001b[0m \u001b[1;32mfrom\u001b[0m \u001b[1;32mNone\u001b[0m\u001b[1;33m\u001b[0m\u001b[1;33m\u001b[0m\u001b[0m\n\u001b[0m\u001b[0;32m    676\u001b[0m         \u001b[1;32mreturn\u001b[0m \u001b[0mself\u001b[0m\u001b[1;33m.\u001b[0m\u001b[0mdecodevalue\u001b[0m\u001b[1;33m(\u001b[0m\u001b[0mvalue\u001b[0m\u001b[1;33m)\u001b[0m\u001b[1;33m\u001b[0m\u001b[1;33m\u001b[0m\u001b[0m\n\u001b[0;32m    677\u001b[0m \u001b[1;33m\u001b[0m\u001b[0m\n",
      "\u001b[1;31mKeyError\u001b[0m: 'OUTPUT_PATH'"
     ]
    }
   ],
   "source": [
    "#!/bin/python3\n",
    "\n",
    "import math\n",
    "import os\n",
    "import random\n",
    "import re\n",
    "import sys\n",
    "\n",
    "# Complete the sockMerchant function below.\n",
    "def sockMerchant(n, ar):\n",
    "    num = 0\n",
    "    for i in range(0,n):\n",
    "        gum = 1\n",
    "        for j in range(i+1,n):\n",
    "            if ar[i] == None:\n",
    "                continue\n",
    "            if ar[i] == ar[j] and gum ==1:\n",
    "                num = num + 1\n",
    "                gum = gum + 1\n",
    "                ar[j] = None\n",
    "            \n",
    "    return num\n",
    "\n",
    "if __name__ == '__main__':\n",
    "    fptr = open(os.environ['OUTPUT_PATH'], 'w')\n",
    "\n",
    "    n = int(input())\n",
    "\n",
    "    ar = list(map(int, input().rstrip().split()))\n",
    "\n",
    "    result = sockMerchant(n, ar)\n",
    "\n",
    "    fptr.write(str(result) + '\\n')\n",
    "\n",
    "    fptr.close()\n",
    "    "
   ]
  },
  {
   "cell_type": "markdown",
   "id": "5bdd7122",
   "metadata": {},
   "source": [
    "In this Drawing Book problem you have Given n and p, find and print the minimum number of pages that must be turned in in order to arrive at page p."
   ]
  },
  {
   "cell_type": "code",
   "execution_count": null,
   "id": "241fa450",
   "metadata": {},
   "outputs": [],
   "source": [
    "#!/bin/python3\n",
    "\n",
    "import sys\n",
    "\n",
    "\n",
    "n = int(input().strip())\n",
    "p = int(input().strip())\n",
    "# your code goes here\n",
    "\n",
    "page_in_book = p//2\n",
    "total_pages = n//2\n",
    "\n",
    "from_front = page_in_book\n",
    "from_back = total_pages - page_in_book\n",
    "print(min(from_front,from_back))\n"
   ]
  },
  {
   "cell_type": "markdown",
   "id": "0258fda6",
   "metadata": {},
   "source": [
    "In this HackerRank Max-Min interview preparation kit problem You will be given a list of integers, arr, and a single integer k. You must create an array of length k from elements of arr such that its unfairness is minimized."
   ]
  },
  {
   "cell_type": "code",
   "execution_count": 83,
   "id": "01ee422a",
   "metadata": {
    "scrolled": true
   },
   "outputs": [
    {
     "ename": "ValueError",
     "evalue": "invalid literal for int() with base 10: ''",
     "output_type": "error",
     "traceback": [
      "\u001b[1;31m---------------------------------------------------------------------------\u001b[0m",
      "\u001b[1;31mValueError\u001b[0m                                Traceback (most recent call last)",
      "\u001b[1;32m<ipython-input-83-e1e6ee82df53>\u001b[0m in \u001b[0;36m<module>\u001b[1;34m\u001b[0m\n\u001b[0;32m      5\u001b[0m \u001b[1;33m\u001b[0m\u001b[0m\n\u001b[0;32m      6\u001b[0m \u001b[1;32mif\u001b[0m \u001b[0m__name__\u001b[0m \u001b[1;33m==\u001b[0m \u001b[1;34m'__main__'\u001b[0m\u001b[1;33m:\u001b[0m\u001b[1;33m\u001b[0m\u001b[1;33m\u001b[0m\u001b[0m\n\u001b[1;32m----> 7\u001b[1;33m     \u001b[0mN\u001b[0m \u001b[1;33m=\u001b[0m \u001b[0mint\u001b[0m\u001b[1;33m(\u001b[0m\u001b[0msys\u001b[0m\u001b[1;33m.\u001b[0m\u001b[0mstdin\u001b[0m\u001b[1;33m.\u001b[0m\u001b[0mreadline\u001b[0m\u001b[1;33m(\u001b[0m\u001b[1;33m)\u001b[0m\u001b[1;33m)\u001b[0m\u001b[1;33m\u001b[0m\u001b[1;33m\u001b[0m\u001b[0m\n\u001b[0m\u001b[0;32m      8\u001b[0m     \u001b[0mK\u001b[0m \u001b[1;33m=\u001b[0m \u001b[0mint\u001b[0m\u001b[1;33m(\u001b[0m\u001b[0msys\u001b[0m\u001b[1;33m.\u001b[0m\u001b[0mstdin\u001b[0m\u001b[1;33m.\u001b[0m\u001b[0mreadline\u001b[0m\u001b[1;33m(\u001b[0m\u001b[1;33m)\u001b[0m\u001b[1;33m)\u001b[0m\u001b[1;33m\u001b[0m\u001b[1;33m\u001b[0m\u001b[0m\n\u001b[0;32m      9\u001b[0m     \u001b[0mx\u001b[0m \u001b[1;33m=\u001b[0m \u001b[0msorted\u001b[0m\u001b[1;33m(\u001b[0m\u001b[0mint\u001b[0m\u001b[1;33m(\u001b[0m\u001b[0msys\u001b[0m\u001b[1;33m.\u001b[0m\u001b[0mstdin\u001b[0m\u001b[1;33m.\u001b[0m\u001b[0mreadline\u001b[0m\u001b[1;33m(\u001b[0m\u001b[1;33m)\u001b[0m\u001b[1;33m)\u001b[0m \u001b[1;32mfor\u001b[0m \u001b[0m_\u001b[0m \u001b[1;32min\u001b[0m \u001b[0mrange\u001b[0m\u001b[1;33m(\u001b[0m\u001b[0mN\u001b[0m\u001b[1;33m)\u001b[0m\u001b[1;33m)\u001b[0m\u001b[1;33m\u001b[0m\u001b[1;33m\u001b[0m\u001b[0m\n",
      "\u001b[1;31mValueError\u001b[0m: invalid literal for int() with base 10: ''"
     ]
    }
   ],
   "source": [
    "#!/usr/bin/env python\n",
    "\n",
    "import collections, sys\n",
    "\n",
    "\n",
    "if __name__ == '__main__':\n",
    "    N = int(sys.stdin.readline())\n",
    "    K = int(sys.stdin.readline())\n",
    "    x = sorted(int(sys.stdin.readline()) for _ in range(N))\n",
    "    print(min(x[i + K - 1] - x[i] for i in range(0, N - K - 1)))\n"
   ]
  },
  {
   "cell_type": "markdown",
   "id": "c2b407f0",
   "metadata": {},
   "source": [
    "In this HackerRank Dynamic Array problem, we need to develop a program in which we need to perform the queries using the bitwise operations."
   ]
  },
  {
   "cell_type": "code",
   "execution_count": null,
   "id": "26528536",
   "metadata": {},
   "outputs": [],
   "source": [
    "a = input().split(' ')\n",
    "N, Q = [int(e) for e  in a]\n",
    "arrays = [[] for _ in range(N)]\n",
    "lastans = 0\n",
    "\n",
    "def insert(x, y):\n",
    "    global lastans\n",
    "    arrays[(x ^ lastans) % N].append(y)\n",
    "def printnum(x, y):\n",
    "    global lastans\n",
    "    inst = arrays[(x ^ lastans) % N]\n",
    "    lastans = inst[y % len(inst)]\n",
    "    print(lastans)\n",
    "    \n",
    "    \n",
    "for i in range(Q):\n",
    "    line = [int(e) for e in input().split(' ')]\n",
    "    insert(line[1], line[2]) if line[0] == 1 else printnum(line[1], line[2])\n",
    "    \n"
   ]
  },
  {
   "cell_type": "markdown",
   "id": "73705802",
   "metadata": {},
   "source": [
    "In this HackerRank Prime Dates problem solution, the task is to debug the existing code to successfully execute all provided test files.\n",
    "\n",
    "Given two dates each in the format dd-mm-yyyy, you have to find the number of lucky dates between them (inclusive). To see if a date is lucky,\n",
    "\n",
    "Firstly, sequentially concatinate the date, month and year, into a new integer x erasing the leading zeroes.\n",
    "\n",
    "Now if x is divisible by either 4 or 7, then we call the date a lucky date.\n",
    "\n",
    "For example, let's take the date \"02-08-2024\". After concatinating the day, month and year, we get  x= 2082024. As x is divisible by 4 so the date \"02-08-2024\" is called a lucky date.\n",
    "\n",
    "Debug the given function findPrimeDates and/or other lines of code, to find the correct lucky dates from the given input."
   ]
  },
  {
   "cell_type": "code",
   "execution_count": 84,
   "id": "863b5b01",
   "metadata": {},
   "outputs": [],
   "source": [
    "def updateLeapYear(year):\n",
    "    if year % 400 == 0:\n",
    "        month[2] = 29\n",
    "    elif year % 100 == 0:\n",
    "        month[2] = 28\n",
    "    elif year % 4 == 0:\n",
    "        month[2] = 29\n",
    "    else:\n",
    "        month[2] = 28\n",
    "\n",
    "def findPrimeDates(d1, m1, y1, d2, m2, y2):\n",
    "    storeMonth()\n",
    "    result = 0\n",
    "\n",
    "    while(True):\n",
    "        x = d1\n",
    "        x = x * 100 + m1\n",
    "        x = x * 10000 + y1\n",
    "        if x % 4 == 0 or x % 7 == 0:\n",
    "            result = result + 1\n",
    "        if d1 == d2 and m1 == m2 and y1 == y2:\n",
    "            break\n",
    "        updateLeapYear(y1)\n",
    "        d1 = d1 + 1\n",
    "        if d1 > month[m1]:\n",
    "            m1 = m1 + 1\n",
    "            d1 = 1\n",
    "            if m1 > 12:\n",
    "                y1 =  y1 + 1\n",
    "                m1 = 1\n",
    "    return result;\n"
   ]
  },
  {
   "cell_type": "markdown",
   "id": "56b249af",
   "metadata": {},
   "source": [
    "In this HackerRank Count Luck problem solution we have given a forest as an N x M grid. and each empty cell is represented by . and blocked is represent by x. we can move LEFT, RIGHT, UP, and DOWN through empty cells but we cannot travel through a tree cell. the starting point is marked with the character M and the portkey is marked with a * asterisk sign and the upper left corner is indexed as (0,0). we have to find a way from starting cell to portkey and find out the maximum number of turns that we need to wave and we were also given the number of guesses waves for finding the portkey. so if the guess number and our count number are correct then we need to print Impressed and if not then print Oops!."
   ]
  },
  {
   "cell_type": "code",
   "execution_count": 28,
   "id": "ef54fbad",
   "metadata": {},
   "outputs": [
    {
     "name": "stdout",
     "output_type": "stream",
     "text": [
      "5\n",
      "6\n"
     ]
    },
    {
     "ename": "ValueError",
     "evalue": "not enough values to unpack (expected 2, got 1)",
     "output_type": "error",
     "traceback": [
      "\u001b[1;31m---------------------------------------------------------------------------\u001b[0m",
      "\u001b[1;31mValueError\u001b[0m                                Traceback (most recent call last)",
      "\u001b[1;32m<ipython-input-28-11d0a856ae4d>\u001b[0m in \u001b[0;36m<module>\u001b[1;34m\u001b[0m\n\u001b[0;32m     25\u001b[0m \u001b[1;33m\u001b[0m\u001b[0m\n\u001b[0;32m     26\u001b[0m \u001b[1;32mfor\u001b[0m \u001b[0m_\u001b[0m \u001b[1;32min\u001b[0m \u001b[0mrange\u001b[0m\u001b[1;33m(\u001b[0m\u001b[0mint\u001b[0m\u001b[1;33m(\u001b[0m\u001b[0minput\u001b[0m\u001b[1;33m(\u001b[0m\u001b[1;33m)\u001b[0m\u001b[1;33m)\u001b[0m\u001b[1;33m)\u001b[0m\u001b[1;33m:\u001b[0m\u001b[1;33m\u001b[0m\u001b[1;33m\u001b[0m\u001b[0m\n\u001b[1;32m---> 27\u001b[1;33m     \u001b[0mm\u001b[0m\u001b[1;33m,\u001b[0m \u001b[0mn\u001b[0m \u001b[1;33m=\u001b[0m \u001b[0mmap\u001b[0m\u001b[1;33m(\u001b[0m\u001b[0mint\u001b[0m\u001b[1;33m,\u001b[0m \u001b[0minput\u001b[0m\u001b[1;33m(\u001b[0m\u001b[1;33m)\u001b[0m\u001b[1;33m.\u001b[0m\u001b[0msplit\u001b[0m\u001b[1;33m(\u001b[0m\u001b[1;33m)\u001b[0m\u001b[1;33m)\u001b[0m\u001b[1;33m\u001b[0m\u001b[1;33m\u001b[0m\u001b[0m\n\u001b[0m\u001b[0;32m     28\u001b[0m     \u001b[0mg\u001b[0m \u001b[1;33m=\u001b[0m \u001b[1;33m[\u001b[0m\u001b[0mlist\u001b[0m\u001b[1;33m(\u001b[0m\u001b[0minput\u001b[0m\u001b[1;33m(\u001b[0m\u001b[1;33m)\u001b[0m\u001b[1;33m)\u001b[0m \u001b[1;32mfor\u001b[0m \u001b[0m_\u001b[0m \u001b[1;32min\u001b[0m \u001b[0mrange\u001b[0m\u001b[1;33m(\u001b[0m\u001b[0mm\u001b[0m\u001b[1;33m)\u001b[0m\u001b[1;33m]\u001b[0m\u001b[1;33m\u001b[0m\u001b[1;33m\u001b[0m\u001b[0m\n\u001b[0;32m     29\u001b[0m     \u001b[0mk\u001b[0m \u001b[1;33m=\u001b[0m \u001b[0mint\u001b[0m\u001b[1;33m(\u001b[0m\u001b[0minput\u001b[0m\u001b[1;33m(\u001b[0m\u001b[1;33m)\u001b[0m\u001b[1;33m)\u001b[0m\u001b[1;33m\u001b[0m\u001b[1;33m\u001b[0m\u001b[0m\n",
      "\u001b[1;31mValueError\u001b[0m: not enough values to unpack (expected 2, got 1)"
     ]
    }
   ],
   "source": [
    "def search(g, m, n, i, j, c = 0):\n",
    "    if g[i][j] == '*':\n",
    "        return c\n",
    "    g[i][j] = 0\n",
    "    moves = getmoves(g, m, n, i, j)\n",
    "    if len(moves) > 1:\n",
    "        c += 1\n",
    "    for mv in moves:\n",
    "        res = search(g, m, n, mv[0], mv[1], c)\n",
    "        if res != None:\n",
    "            return res\n",
    "    return None\n",
    "\n",
    "def getmoves(g, m, n, i, j):\n",
    "    l, v = [], ('.', '*')\n",
    "    if i > 0 and g[i - 1][j] in v:\n",
    "        l.append((i - 1, j))\n",
    "    if j > 0 and g[i][j - 1] in v:\n",
    "        l.append((i, j - 1))\n",
    "    if i < m - 1 and g[i + 1][j] in v:\n",
    "        l.append((i + 1, j))\n",
    "    if j < n - 1 and g[i][j + 1] in v:\n",
    "        l.append((i, j + 1))\n",
    "    return l\n",
    "\n",
    "for _ in range(int(input())):\n",
    "    m, n = map(int, input().split())\n",
    "    g = [list(input()) for _ in range(m)]\n",
    "    k = int(input())\n",
    "    for i in range(m):\n",
    "        for j in range(n):\n",
    "            if g[i][j] == 'M':\n",
    "                print('Impressed' if search(g, m, n, i, j) == k else 'Oops!')\n",
    "                break\n",
    "                "
   ]
  },
  {
   "cell_type": "markdown",
   "id": "3074644f",
   "metadata": {},
   "source": [
    "In this HackerRank Sherlock and Array problem solution Given an array of integers and we need to find an element of the array such that the sum of all elements to the left is equal to the sum of all elements to the right."
   ]
  },
  {
   "cell_type": "code",
   "execution_count": 85,
   "id": "9a7bf12c",
   "metadata": {},
   "outputs": [
    {
     "name": "stdout",
     "output_type": "stream",
     "text": [
      "2\n",
      "5\n",
      "7\n",
      "YES\n",
      "2\n",
      "4\n",
      "YES\n"
     ]
    },
    {
     "ename": "SystemExit",
     "evalue": "",
     "output_type": "error",
     "traceback": [
      "An exception has occurred, use %tb to see the full traceback.\n",
      "\u001b[1;31mSystemExit\u001b[0m\n"
     ]
    },
    {
     "name": "stderr",
     "output_type": "stream",
     "text": [
      "C:\\Users\\ogahi\\anaconda3\\lib\\site-packages\\IPython\\core\\interactiveshell.py:3445: UserWarning: To exit: use 'exit', 'quit', or Ctrl-D.\n",
      "  warn(\"To exit: use 'exit', 'quit', or Ctrl-D.\", stacklevel=1)\n"
     ]
    }
   ],
   "source": [
    "import sys\n",
    "from functools import reduce\n",
    "\n",
    "def main(argv = None):\n",
    "    if argv is None:\n",
    "        argv = sys.argv\n",
    "\n",
    "    T = int(input())\n",
    "\n",
    "    for t in range(0, T):\n",
    "        N = int(input())\n",
    "        nums = list(map(int, input().split(\" \")))\n",
    "\n",
    "        found = 0\n",
    "\n",
    "        pivot = 0\n",
    "        left = 0\n",
    "        right = reduce(lambda x, y: x+y, nums[pivot+1:N+1], 0)\n",
    "        found = (left == right)\n",
    "\n",
    "        while (not found) and (pivot < N-1):\n",
    "            left = left + nums[pivot]\n",
    "            right = right - nums[pivot+1]\n",
    "            pivot = pivot + 1\n",
    "            found = (left == right)\n",
    "            if found:\n",
    "                break\n",
    "\n",
    "        if found:\n",
    "            print(\"YES\")\n",
    "        else:\n",
    "            print(\"NO\")\n",
    "\n",
    "\n",
    "# Invoking the program entry point\n",
    "if __name__ == \"__main__\":\n",
    "    sys.exit(main())\n"
   ]
  },
  {
   "cell_type": "markdown",
   "id": "225cec38",
   "metadata": {},
   "source": [
    "\n",
    "In this HackerRank Counter game problem solution, Louise and Richard have developed a numbers game. They pick a number and check to see if it is a power of 2. If it is, they divide it by 2. If not, they reduce it by the next lower number which is a power of 2. Whoever reduces the number to 1 wins the game. Louise always starts. we have Given an initial value, determine who wins the game."
   ]
  },
  {
   "cell_type": "code",
   "execution_count": 86,
   "id": "2df55e8c",
   "metadata": {},
   "outputs": [
    {
     "name": "stdout",
     "output_type": "stream",
     "text": [
      "8\n",
      "4\n",
      "Richard\n",
      "9\n",
      "Louise\n",
      "6\n",
      "Richard\n",
      "0\n",
      "Richard\n",
      "1\n",
      "Richard\n",
      "8\n",
      "Louise\n",
      "0\n",
      "Richard\n",
      "y\n"
     ]
    },
    {
     "ename": "ValueError",
     "evalue": "invalid literal for int() with base 10: 'y'",
     "output_type": "error",
     "traceback": [
      "\u001b[1;31m---------------------------------------------------------------------------\u001b[0m",
      "\u001b[1;31mValueError\u001b[0m                                Traceback (most recent call last)",
      "\u001b[1;32m<ipython-input-86-a51f9d1993ce>\u001b[0m in \u001b[0;36m<module>\u001b[1;34m\u001b[0m\n\u001b[0;32m     22\u001b[0m \u001b[0mt\u001b[0m \u001b[1;33m=\u001b[0m \u001b[0mint\u001b[0m\u001b[1;33m(\u001b[0m\u001b[0minput\u001b[0m\u001b[1;33m(\u001b[0m\u001b[1;33m)\u001b[0m\u001b[1;33m)\u001b[0m\u001b[1;33m\u001b[0m\u001b[1;33m\u001b[0m\u001b[0m\n\u001b[0;32m     23\u001b[0m \u001b[1;32mfor\u001b[0m \u001b[0mi\u001b[0m \u001b[1;32min\u001b[0m \u001b[0mrange\u001b[0m\u001b[1;33m(\u001b[0m\u001b[0mt\u001b[0m\u001b[1;33m)\u001b[0m\u001b[1;33m:\u001b[0m\u001b[1;33m\u001b[0m\u001b[1;33m\u001b[0m\u001b[0m\n\u001b[1;32m---> 24\u001b[1;33m     \u001b[0mn\u001b[0m \u001b[1;33m=\u001b[0m \u001b[0mint\u001b[0m\u001b[1;33m(\u001b[0m\u001b[0minput\u001b[0m\u001b[1;33m(\u001b[0m\u001b[1;33m)\u001b[0m\u001b[1;33m)\u001b[0m\u001b[1;33m\u001b[0m\u001b[1;33m\u001b[0m\u001b[0m\n\u001b[0m\u001b[0;32m     25\u001b[0m     \u001b[0mrun_game\u001b[0m\u001b[1;33m(\u001b[0m\u001b[0mn\u001b[0m\u001b[1;33m)\u001b[0m\u001b[1;33m\u001b[0m\u001b[1;33m\u001b[0m\u001b[0m\n\u001b[0;32m     26\u001b[0m \u001b[1;33m\u001b[0m\u001b[0m\n",
      "\u001b[1;31mValueError\u001b[0m: invalid literal for int() with base 10: 'y'"
     ]
    }
   ],
   "source": [
    "from math import *\n",
    "\n",
    "def get_turn(turns):\n",
    "    return \"Richard\" if turns % 2 == 0 else \"Louise\"\n",
    "\n",
    "def npot(x):\n",
    "    exp = floor(log(x, 2))\n",
    "    r = int(pow(2, exp))\n",
    "    return r\n",
    "    \n",
    "def run_game(n):\n",
    "    turns = 0\n",
    "    while(n > 1):\n",
    "        np = npot(n)\n",
    "        if np == n:\n",
    "            n >>= 1\n",
    "        else:\n",
    "            n -= np\n",
    "        turns += 1\n",
    "    print(get_turn(turns))\n",
    "\n",
    "t = int(input())\n",
    "for i in range(t):\n",
    "    n = int(input())\n",
    "    run_game(n)\n",
    "    \n"
   ]
  },
  {
   "cell_type": "markdown",
   "id": "9d002559",
   "metadata": {},
   "source": [
    "In this HackerRank Sum vs XOR problem solution, we have given an integer N and we need to find each X such that:\n",
    "\n",
    "0 <= X <= N\n",
    "\n",
    "N + X = N XOR X\n",
    "\n",
    "and then return the number of x that satisfying the criteria"
   ]
  },
  {
   "cell_type": "code",
   "execution_count": 91,
   "id": "1572efe6",
   "metadata": {},
   "outputs": [
    {
     "name": "stdout",
     "output_type": "stream",
     "text": [
      "8\n",
      "8\n"
     ]
    }
   ],
   "source": [
    "#!/bin/python3\n",
    "\n",
    "import sys\n",
    "\n",
    "def bitLen(int_type):\n",
    "    length = 0\n",
    "    while (int_type):\n",
    "        int_type >>= 1\n",
    "        length += 1\n",
    "    return(length)\n",
    "\n",
    "n = int(input().strip())\n",
    "st = '{0:b}'.format(n)\n",
    "elev = 0\n",
    "#print(st)\n",
    "for v in st:\n",
    "    if(v == '0'):\n",
    "        elev += 1\n",
    "if(n == 0):\n",
    "    elev -= 1\n",
    "print(1<<elev)\n"
   ]
  },
  {
   "cell_type": "markdown",
   "id": "22e8b942",
   "metadata": {},
   "source": [
    "In this HackerRank The Bomberman Game problem, you have Given the initial configuration of the grid with the locations of Bomberman's first batch of planted bombs, determine the state of the grid after N seconds\n"
   ]
  },
  {
   "cell_type": "code",
   "execution_count": 93,
   "id": "d423a3fa",
   "metadata": {},
   "outputs": [
    {
     "name": "stdout",
     "output_type": "stream",
     "text": [
      "8 5 10\n",
      "2 4 1\n",
      "2 6 7\n",
      "1 4 4\n",
      "0 9 11\n",
      "1 4 5\n",
      "2 3 3\n",
      "5 7 6\n",
      "2 4 9\n",
      "OOOOO\n",
      "OOOOO\n",
      "OOOOO\n",
      "OOOOO\n",
      "OOOOO\n",
      "OOOOO\n",
      "OOOOO\n",
      "OOOOO\n"
     ]
    }
   ],
   "source": [
    "def bomb(b,r,c):\n",
    "    field = [['O' for i in range(c)] for j in range(r)]\n",
    "    for i in range(r):\n",
    "        for j in range(c):\n",
    "            if b[i][j] == 'O':\n",
    "                field[i][j] = '.'\n",
    "                if i+1<r:\n",
    "                    field[i+1][j] = '.'\n",
    "                if i>0:\n",
    "                    field[i-1][j] = '.'\n",
    "                if j+1<c:\n",
    "                    field[i][j+1] = '.'\n",
    "                if j>0:\n",
    "                    field[i][j-1] = '.'\n",
    "    return field\n",
    "\n",
    "r,c,n = input().split()\n",
    "r,c,n = int(r),int(c),int(n)\n",
    "b = []\n",
    "for i in range(r):\n",
    "        row = list(input())\n",
    "        b.append(row)\n",
    "if n%2==0:\n",
    "    f = [['O' for i in range(c)] for j in range(r)]\n",
    "    for i in range(r):\n",
    "        print(''.join(map(str,f[i])))\n",
    "else:\n",
    "    bombed1 = bomb(b,r,c)               \n",
    "    bombed2 = bomb(bombed1,r,c)  \n",
    "    \n",
    "    if n==1:\n",
    "        for i in range(r):\n",
    "            print(''.join(map(str,b[i])))\n",
    "    elif (n+1)%4==0:\n",
    "        for i in range(r):\n",
    "            print(''.join(map(str,bombed1[i])))\n",
    "    elif (n+2)%4==0:\n",
    "        for i in range(r):\n",
    "            print(''.join(map(str,b[i])))\n",
    "    else:\n",
    "        for i in range(r):\n",
    "            print(''.join(map(str,bombed2[i])))\n",
    "        \n",
    "    "
   ]
  },
  {
   "cell_type": "markdown",
   "id": "fb964f38",
   "metadata": {},
   "source": [
    "In this, HackerRank sherlock and the valid string problem we need to develop a program that can take a string as input, and the string is considered to be valid if all the characters in the string are in an equal number of times. and also one string is valid if we can remove a character from the string on any index then all the remaining characters are in equal in occurance. "
   ]
  },
  {
   "cell_type": "code",
   "execution_count": null,
   "id": "524a1122",
   "metadata": {},
   "outputs": [],
   "source": [
    "# Enter your code here. Read input from STDIN. Print output to STDOUT\n",
    "s = str(raw_input())\n",
    "d = {}\n",
    "for c in s:\n",
    "    if c in d:\n",
    "        d[c]+=1\n",
    "    else:\n",
    "        d[c]=1\n",
    "k = sorted(d.values())\n",
    "if len(k) == 1:\n",
    "    print \"YES\"\n",
    "elif k[0] == 1 and k[1] == k[-1]:\n",
    "    print \"YES\"\n",
    "else:\n",
    "    print \"YES\" if k[-1]-k[0] <= 1 and (k[-1] != k[-2] or k[0] == k[-1]) else \"NO\"\n",
    "    \n"
   ]
  },
  {
   "cell_type": "markdown",
   "id": "b7062a1e",
   "metadata": {},
   "source": [
    "In this HackerRank Climbing the Leaderboard problem you need to complete the climbingLeaderboard function that has two integer arrays as parameters and then it needs to return the player's rank after each new score."
   ]
  },
  {
   "cell_type": "code",
   "execution_count": null,
   "id": "5365552b",
   "metadata": {},
   "outputs": [],
   "source": [
    "#!/bin/python3\n",
    "\n",
    "import sys\n",
    "from collections import Counter\n",
    "from bisect import bisect_left\n",
    "\n",
    "n = int(input().strip())\n",
    "scores = [int(scores_temp) for scores_temp in input().strip().split(' ')]\n",
    "m = int(input().strip())\n",
    "alice = [int(alice_temp) for alice_temp in input().strip().split(' ')]\n",
    "# your code goes here\n",
    "\n",
    "counts = Counter(scores)\n",
    "counts = sorted(counts)\n",
    "n = len(counts)\n",
    "for a in alice:\n",
    "    i = bisect_left(counts, a)\n",
    "    if i < n and counts[i]==a:\n",
    "        print(n - i)\n",
    "    else:\n",
    "        print(n+1-i)\n"
   ]
  },
  {
   "cell_type": "markdown",
   "id": "98fb80dd",
   "metadata": {},
   "source": [
    "In this HackerRank Mars Exploration problem, you have Given the signal received by Earth as a string, determine how many letters of the SOS message have been changed by the radiation."
   ]
  },
  {
   "cell_type": "code",
   "execution_count": 94,
   "id": "0741eea9",
   "metadata": {},
   "outputs": [
    {
     "name": "stdout",
     "output_type": "stream",
     "text": [
      "9\n",
      "1\n"
     ]
    }
   ],
   "source": [
    "#!/bin/python3\n",
    "\n",
    "import sys\n",
    "\n",
    "\n",
    "S = input().strip()\n",
    "\n",
    "num_errors = 0\n",
    "\n",
    "for i, char in enumerate(S):\n",
    "    if i%3 == 1:\n",
    "        if char != 'O':\n",
    "            num_errors += 1\n",
    "    else:\n",
    "        if char != 'S':\n",
    "            num_errors += 1\n",
    "  \n",
    "print(num_errors)\n"
   ]
  },
  {
   "cell_type": "markdown",
   "id": "b6ce9278",
   "metadata": {},
   "source": [
    "In this HackerRank Reverse a linked list problem we need to develop a program in which if we have given a pointer to the head of a singly linked list then we need to change the next pointer of every node so that their order is reversed. and if the head pointer is null then the initial list is empty."
   ]
  },
  {
   "cell_type": "code",
   "execution_count": null,
   "id": "a2bb5652",
   "metadata": {},
   "outputs": [],
   "source": [
    "#!/bin/python3\n",
    "\n",
    "import math\n",
    "import os\n",
    "import random\n",
    "import re\n",
    "import sys\n",
    "\n",
    "class SinglyLinkedListNode:\n",
    "    def __init__(self, node_data):\n",
    "        self.data = node_data\n",
    "        self.next = None\n",
    "\n",
    "class SinglyLinkedList:\n",
    "    def __init__(self):\n",
    "        self.head = None\n",
    "        self.tail = None\n",
    "\n",
    "    def insert_node(self, node_data):\n",
    "        node = SinglyLinkedListNode(node_data)\n",
    "\n",
    "        if not self.head:\n",
    "            self.head = node\n",
    "        else:\n",
    "            self.tail.next = node\n",
    "\n",
    "\n",
    "        self.tail = node\n",
    "\n",
    "def print_singly_linked_list(node, sep, fptr):\n",
    "    while node:\n",
    "        fptr.write(str(node.data))\n",
    "\n",
    "        node = node.next\n",
    "\n",
    "        if node:\n",
    "            fptr.write(sep)\n",
    "\n",
    "\n",
    "def reverse(head):\n",
    "    nxt = None\n",
    "    while head:\n",
    "        tmp = head.next\n",
    "        head.next = nxt\n",
    "        nxt = head\n",
    "        head = tmp\n",
    "    return nxt\n",
    "\n",
    "if __name__ == '__main__':\n",
    "    fptr = open(os.environ['OUTPUT_PATH'], 'w')\n",
    "\n",
    "    tests = int(input())\n",
    "\n",
    "    for tests_itr in range(tests):\n",
    "        llist_count = int(input())\n",
    "\n",
    "        llist = SinglyLinkedList()\n",
    "\n",
    "        for _ in range(llist_count):\n",
    "            llist_item = int(input())\n",
    "            llist.insert_node(llist_item)\n",
    "\n",
    "        llist1 = reverse(llist.head)\n",
    "\n",
    "        print_singly_linked_list(llist1, ' ', fptr)\n",
    "        fptr.write('\\n')\n",
    "\n",
    "    fptr.close()\n",
    "    "
   ]
  },
  {
   "cell_type": "markdown",
   "id": "941822fe",
   "metadata": {},
   "source": [
    "In this HackerRank Reverse a doubly linked list Interview preparation kit problem You have Given the pointer to the head node of a doubly-linked list, reverse the order of the nodes in place. That is, change the next and prev pointers of the nodes so that the direction of the list is reversed. Return a reference to the head node of the reversed list."
   ]
  },
  {
   "cell_type": "code",
   "execution_count": null,
   "id": "2fcd40bf",
   "metadata": {},
   "outputs": [],
   "source": [
    "#!/bin/python3\n",
    "\n",
    "import math\n",
    "import os\n",
    "import random\n",
    "import re\n",
    "import sys\n",
    "\n",
    "class DoublyLinkedListNode:\n",
    "    def __init__(self, node_data):\n",
    "        self.data = node_data\n",
    "        self.next = None\n",
    "        self.prev = None\n",
    "\n",
    "class DoublyLinkedList:\n",
    "    def __init__(self):\n",
    "        self.head = None\n",
    "        self.tail = None\n",
    "\n",
    "    def insert_node(self, node_data):\n",
    "        node = DoublyLinkedListNode(node_data)\n",
    "\n",
    "        if not self.head:\n",
    "            self.head = node\n",
    "        else:\n",
    "            self.tail.next = node\n",
    "            node.prev = self.tail\n",
    "\n",
    "\n",
    "        self.tail = node\n",
    "\n",
    "def print_doubly_linked_list(node, sep, fptr):\n",
    "    while node:\n",
    "        fptr.write(str(node.data))\n",
    "\n",
    "        node = node.next\n",
    "\n",
    "        if node:\n",
    "            fptr.write(sep)\n",
    "\n",
    "# Complete the reverse function below.\n",
    "\n",
    "#\n",
    "# For your reference:\n",
    "#\n",
    "# DoublyLinkedListNode:\n",
    "#     int data\n",
    "#     DoublyLinkedListNode next\n",
    "#     DoublyLinkedListNode prev\n",
    "#\n",
    "#\n",
    "def reverse(head):\n",
    "    if head == None or head.next == None:\n",
    "        return head\n",
    "    \n",
    "    while True:\n",
    "        temp = head.next\n",
    "        head.next = head.prev\n",
    "        head.prev = temp\n",
    "        head = head.prev\n",
    "        \n",
    "        if head.next == None:\n",
    "            break\n",
    "    temp = head.next\n",
    "    head.next = head.prev\n",
    "    head.prev = temp\n",
    "    return head\n",
    "\n",
    "if __name__ == '__main__':\n",
    "    fptr = open(os.environ['OUTPUT_PATH'], 'w')\n",
    "\n",
    "    t = int(input())\n",
    "\n",
    "    for t_itr in range(t):\n",
    "        llist_count = int(input())\n",
    "\n",
    "        llist = DoublyLinkedList()\n",
    "\n",
    "        for _ in range(llist_count):\n",
    "            llist_item = int(input())\n",
    "            llist.insert_node(llist_item)\n",
    "\n",
    "        llist1 = reverse(llist.head)\n",
    "\n",
    "        print_doubly_linked_list(llist1, ' ', fptr)\n",
    "        fptr.write('\\n')\n",
    "\n",
    "    fptr.close()\n",
    "    "
   ]
  },
  {
   "cell_type": "markdown",
   "id": "2734db92",
   "metadata": {},
   "source": [
    "\n",
    "In this HackerRank Insert, a node at a specific position in a linked list Interview preparation kit problem You have Given the pointer to the head node of a linked list and an integer to insert at a certain position, create a new node with the given integer as its data attribute, insert this node at the desired position and return the head node.\n",
    "\n"
   ]
  },
  {
   "cell_type": "code",
   "execution_count": null,
   "id": "51f54446",
   "metadata": {},
   "outputs": [],
   "source": [
    "#!/bin/python3\n",
    "\n",
    "import math\n",
    "import os\n",
    "import random\n",
    "import re\n",
    "import sys\n",
    "\n",
    "class SinglyLinkedListNode:\n",
    "    def __init__(self, node_data):\n",
    "        self.data = node_data\n",
    "        self.next = None\n",
    "\n",
    "class SinglyLinkedList:\n",
    "    def __init__(self):\n",
    "        self.head = None\n",
    "        self.tail = None\n",
    "\n",
    "    def insert_node(self, node_data):\n",
    "        node = SinglyLinkedListNode(node_data)\n",
    "\n",
    "        if not self.head:\n",
    "            self.head = node\n",
    "        else:\n",
    "            self.tail.next = node\n",
    "\n",
    "\n",
    "        self.tail = node\n",
    "\n",
    "def print_singly_linked_list(node, sep, fptr):\n",
    "    while node:\n",
    "        fptr.write(str(node.data))\n",
    "\n",
    "        node = node.next\n",
    "\n",
    "        if node:\n",
    "            fptr.write(sep)\n",
    "\n",
    "# Complete the insertNodeAtPosition function below.\n",
    "\n",
    "#\n",
    "# For your reference:\n",
    "#\n",
    "# SinglyLinkedListNode:\n",
    "#     int data\n",
    "#     SinglyLinkedListNode next\n",
    "#\n",
    "#\n",
    "class Node(object):\n",
    " \n",
    "    def __init__(self, data=None, next_node=None):\n",
    "       self.data = data\n",
    "       self.next = next_node\n",
    "\n",
    "def insertNodeAtPosition(head, data, position):\n",
    "    if position==0:\n",
    "        head = Node(data,head)\n",
    "        return head\n",
    "    else:\n",
    "        temp_head = head\n",
    "        while position>1:\n",
    "            temp_head = temp_head.next\n",
    "            position = position -1\n",
    "        temp_head.next = Node(data,temp_head.next)\n",
    "        return head\n",
    "\n",
    "if __name__ == '__main__':\n",
    "    fptr = open(os.environ['OUTPUT_PATH'], 'w')\n",
    "\n",
    "    llist_count = int(input())\n",
    "\n",
    "    llist = SinglyLinkedList()\n",
    "\n",
    "    for _ in range(llist_count):\n",
    "        llist_item = int(input())\n",
    "        llist.insert_node(llist_item)\n",
    "\n",
    "    data = int(input())\n",
    "\n",
    "    position = int(input())\n",
    "\n",
    "    llist_head = insertNodeAtPosition(llist.head, data, position)\n",
    "\n",
    "    print_singly_linked_list(llist_head, ' ', fptr)\n",
    "    fptr.write('\\n')\n",
    "\n",
    "    fptr.close()\n",
    "    "
   ]
  },
  {
   "cell_type": "markdown",
   "id": "480a29da",
   "metadata": {},
   "source": [
    "In this HackerRank Find Merge Point of Two Lists Interview preparation kit problem, You have Given pointers to the head nodes of 2 linked lists that merge together at some point, find the node where the two lists merge."
   ]
  },
  {
   "cell_type": "code",
   "execution_count": null,
   "id": "88619213",
   "metadata": {},
   "outputs": [],
   "source": [
    "#!/bin/python3\n",
    "\n",
    "import math\n",
    "import os\n",
    "import random\n",
    "import re\n",
    "import sys\n",
    "\n",
    "class SinglyLinkedListNode:\n",
    "    def __init__(self, node_data):\n",
    "        self.data = node_data\n",
    "        self.next = None\n",
    "\n",
    "class SinglyLinkedList:\n",
    "    def __init__(self):\n",
    "        self.head = None\n",
    "        self.tail = None\n",
    "\n",
    "    def insert_node(self, node_data):\n",
    "        node = SinglyLinkedListNode(node_data)\n",
    "\n",
    "        if not self.head:\n",
    "            self.head = node\n",
    "        else:\n",
    "            self.tail.next = node\n",
    "\n",
    "\n",
    "        self.tail = node\n",
    "\n",
    "def print_singly_linked_list(node, sep, fptr):\n",
    "    while node:\n",
    "        fptr.write(str(node.data))\n",
    "\n",
    "        node = node.next\n",
    "\n",
    "        if node:\n",
    "            fptr.write(sep)\n",
    "\n",
    "# Complete the findMergeNode function below.\n",
    "\n",
    "#\n",
    "# For your reference:\n",
    "#\n",
    "# SinglyLinkedListNode:\n",
    "#     int data\n",
    "#     SinglyLinkedListNode next\n",
    "#\n",
    "#\n",
    "def findMergeNode(headA, headB):\n",
    "    \n",
    "    while headA:\n",
    "        node = headB\n",
    "        while node:\n",
    "            if headA == node:\n",
    "                return headA.data\n",
    "            node = node.next\n",
    "        headA = headA.next\n",
    "\n",
    "if __name__ == '__main__':\n",
    "    fptr = open(os.environ['OUTPUT_PATH'], 'w')\n",
    "\n",
    "    tests = int(input())\n",
    "\n",
    "    for tests_itr in range(tests):\n",
    "        index = int(input())\n",
    "\n",
    "        llist1_count = int(input())\n",
    "\n",
    "        llist1 = SinglyLinkedList()\n",
    "\n",
    "        for _ in range(llist1_count):\n",
    "            llist1_item = int(input())\n",
    "            llist1.insert_node(llist1_item)\n",
    "            \n",
    "        llist2_count = int(input())\n",
    "\n",
    "        llist2 = SinglyLinkedList()\n",
    "\n",
    "        for _ in range(llist2_count):\n",
    "            llist2_item = int(input())\n",
    "            llist2.insert_node(llist2_item)\n",
    "            \n",
    "        ptr1 = llist1.head;\n",
    "        ptr2 = llist2.head;\n",
    "\n",
    "        for i in range(llist1_count):\n",
    "            if i < index:\n",
    "                ptr1 = ptr1.next\n",
    "                \n",
    "        for i in range(llist2_count):\n",
    "            if i != llist2_count-1:\n",
    "                ptr2 = ptr2.next\n",
    "\n",
    "        ptr2.next = ptr1\n",
    "\n",
    "        result = findMergeNode(llist1.head, llist2.head)\n",
    "\n",
    "        fptr.write(str(result) + '\\n')\n",
    "\n",
    "    fptr.close()"
   ]
  },
  {
   "cell_type": "markdown",
   "id": "fd05e658",
   "metadata": {},
   "source": [
    "In this HackerRank Ice Cream Parlor problem solution, we have given a list of prices for the flavors of ice cream, select the two that will cost all of the money they have"
   ]
  },
  {
   "cell_type": "code",
   "execution_count": null,
   "id": "de85e2f0",
   "metadata": {},
   "outputs": [],
   "source": [
    "for i in range(int(input())):\n",
    "    target = int(input())\n",
    "    loop = int(input())\n",
    "    costs = input().split(\" \")\n",
    "    cur = 0\n",
    "    done = False\n",
    "    for j in range(loop - 1):\n",
    "        for k in range(j+1, loop):\n",
    "            if(int(costs[j]) + int(costs[k]) == target):\n",
    "                print(str(j+1) + \" \" + str(k+1))\n",
    "                done = True\n",
    "                break;\n",
    "        if(done): break\n",
    "\n"
   ]
  },
  {
   "cell_type": "markdown",
   "id": "56ff69d1",
   "metadata": {},
   "source": [
    "In this tutorial, we are going to solve or make a solution of Queue using the Two Stacks problem. so first we need to implement a queue using two stacks. and then we need to perform three queries on the stack. first en queue an element, de queue the element at the front of the queue. after that print the element at the front of the queue."
   ]
  },
  {
   "cell_type": "code",
   "execution_count": null,
   "id": "48f62175",
   "metadata": {},
   "outputs": [],
   "source": [
    "old, new = [], []\n",
    "for _ in range(int(input())):\n",
    "    val = list(map(int,input().split()))\n",
    "    if val[0] == 1:\n",
    "        new.append(val[1])\n",
    "    elif val[0] == 2:\n",
    "        if not old :\n",
    "            while new : old.append(new.pop())\n",
    "        old.pop()\n",
    "    else:\n",
    "        print(old[-1] if old else new[0])\n",
    "        "
   ]
  },
  {
   "cell_type": "markdown",
   "id": "73276e7e",
   "metadata": {},
   "source": [
    "In this HackerRank Waiter problem solution, we have to Create an empty answer array. At each iteration, I, remove each plate from the top of the stack in order. Determine if the number on the plate is evenly divisible by the ith prime number. If it is, stack it in pile Bi. Otherwise, stack it in stack Ai. Store the values in Bi from top to bottom in answer. In the next iteration, do the same with the values in stack Ai. Once the required number of iterations is complete, store the remaining values in Ai in answers, again from top to bottom. Return the answers array."
   ]
  },
  {
   "cell_type": "code",
   "execution_count": null,
   "id": "36ae07a4",
   "metadata": {},
   "outputs": [],
   "source": [
    "[n,q] = [int(x) for x in input().split(\" \")]\n",
    "vals = [int(x) for x in input().split(\" \")]\n",
    "\n",
    "#print(n,q,vals)\n",
    "\n",
    "#http://stackoverflow.com/questions/2068372/fastest-way-to-list-all-primes-below-n\n",
    "#don't really care about the primes part\n",
    "def getprimes(n):\n",
    "    \"\"\" Returns  a list of primes < n \"\"\"\n",
    "    sieve = [True] * n\n",
    "    for i in range(3,int(n**0.5)+1,2):\n",
    "        if sieve[i]:\n",
    "            sieve[i*i::2*i]=[False]*int(((n-i*i-1)/(2*i)+1))\n",
    "    return [2] + [i for i in range(3,n,2) if sieve[i]]\n",
    "\n",
    "bp = [] #badplate (not divis)\n",
    "gp = [] #goodplate (divis)\n",
    "tp = [] #tempplate (holder for plate that are not divis)\n",
    "\n",
    "bp.extend(vals)\n",
    "primes = getprimes(10000) #magic number to get a little over 1200 primes\n",
    "\n",
    "p = 0\n",
    "currentPrime = primes[0]\n",
    "\n",
    "while (p < q):    \n",
    "    #print(currentPrime, p)\n",
    "    while bp:\n",
    "        cur = bp.pop()\n",
    "        #print(cur, 'w', cur / currentPrime)\n",
    "        if (cur % currentPrime == 0):            \n",
    "            gp.append(cur)\n",
    "        else:\n",
    "            tp.append(cur)\n",
    "\n",
    "    #refresh\n",
    "    p += 1    \n",
    "    currentPrime = primes[p]     \n",
    "    \n",
    "    #print good plates\n",
    "    while gp:\n",
    "        print(gp.pop())\n",
    "    \n",
    "    #rework stacks, good plates is already empty from the print above\n",
    "    bp = tp[:]\n",
    "    tp[:] = []\n",
    "    \n",
    "while bp:\n",
    "    print(bp.pop()) #print remaining bad plates\n",
    "    "
   ]
  },
  {
   "cell_type": "markdown",
   "id": "c40bc1b5",
   "metadata": {},
   "source": [
    "In this HackerRank Equal Stacks problem, we have three stacks of cylinders where each cylinder has the same diameter, but they may vary in height. you can change the height of a stack by removing and discarding its topmost cylinder any number of times. we need to find the maximum possible height of the stacks such that all of the stacks are exactly the same height."
   ]
  },
  {
   "cell_type": "code",
   "execution_count": null,
   "id": "9effecb5",
   "metadata": {},
   "outputs": [],
   "source": [
    "def check_equal_heights(heights):\n",
    "    h_0 = heights[0]\n",
    "    for h_i in heights[1:]:\n",
    "        if h_i != h_0:\n",
    "            return False\n",
    "    return True\n",
    "\n",
    "\n",
    "num_blocks = [int(num) for num in input().strip().split()]\n",
    "num_stacks = len(num_blocks)\n",
    "stacks = []\n",
    "for __ in range(num_stacks):\n",
    "    stack = [int(h) for h in input().strip().split()]\n",
    "    stacks.append(stack[::-1])\n",
    "\n",
    "goal = 1\n",
    "best_height = 0\n",
    "heights = [0] * num_stacks\n",
    "positions = [0] * num_stacks\n",
    "total_blocks = sum(num_blocks)\n",
    "while sum(positions) < total_blocks:\n",
    "    for i, stack in enumerate(stacks):\n",
    "        if positions[i] == num_blocks[i]:\n",
    "            continue\n",
    "            \n",
    "        if heights[i] == goal:\n",
    "            heights[i] += stack[positions[i]]\n",
    "            positions[i] += 1\n",
    "        \n",
    "        at_end = False\n",
    "        while heights[i] < goal:\n",
    "            if positions[i] == num_blocks[i]:\n",
    "                at_end = True\n",
    "                break\n",
    "            heights[i] += stack[positions[i]]\n",
    "            positions[i] += 1\n",
    "            \n",
    "        goal = heights[i]\n",
    "            \n",
    "        if at_end:\n",
    "            continue\n",
    "            \n",
    "        if check_equal_heights(heights):\n",
    "            best_height = heights[i]\n",
    "            \n",
    "print(best_height)\n"
   ]
  },
  {
   "cell_type": "markdown",
   "id": "3ac7c4fa",
   "metadata": {},
   "source": [
    "In this HackerRank The Maximum Subarray problem solution we have given an array and we need to find the maximum possible sum among all nonempty subarrays and all nonempty subsequences and then print the two values as space-separated integers on one line."
   ]
  },
  {
   "cell_type": "code",
   "execution_count": null,
   "id": "05bf1efb",
   "metadata": {},
   "outputs": [],
   "source": [
    "def max_subarray(A):\n",
    "\n",
    "    positive_sum = 0\n",
    "    if (A[0] > 0):\n",
    "        positive_sum = A[0]\n",
    "        \n",
    "    largest_num = A[0]\n",
    "    \n",
    "    max_ending_here = max_so_far = A[0]\n",
    "\n",
    "    for x in A[1:]:\n",
    "        max_ending_here = max(x, max_ending_here + x)\n",
    "        max_so_far = max(max_so_far, max_ending_here)\n",
    "\n",
    "        if (x > largest_num):\n",
    "            largest_num = x\n",
    "        if (x > 0):\n",
    "            positive_sum += x\n",
    "\n",
    "    if (largest_num < 0):\n",
    "        non_contingent_sum = largest_num\n",
    "    else:\n",
    "        non_contingent_sum = positive_sum\n",
    "    return max_so_far, non_contingent_sum\n",
    "\n",
    "    \n",
    "inputs = input()\n",
    "for i in range(0,int(inputs)):\n",
    "    input() # number of elements - not needed\n",
    "    elements = input()\n",
    "    arr = [int(x) for x in elements.strip().split(\" \")]\n",
    "    max1, max2 = max_subarray(arr)\n",
    "    print (\"{:d} {:d}\".format(max1, max2))\n",
    "    "
   ]
  },
  {
   "cell_type": "markdown",
   "id": "15d7bc2f",
   "metadata": {},
   "source": [
    "In this tutorial, we are going to solve or make a solution to the QHEAP1 problem. so here we have Q queries and 3 types of queries. we need to perform these queries on the heap."
   ]
  },
  {
   "cell_type": "code",
   "execution_count": null,
   "id": "08aa47fd",
   "metadata": {},
   "outputs": [],
   "source": [
    "from __future__ import print_function\n",
    "import heapq\n",
    "try: input = raw_input\n",
    "except: pass\n",
    "\n",
    "d = {}\n",
    "h = []\n",
    "Q = int(input())\n",
    "for q in range(Q):\n",
    "  l = [int(x) for x in input().strip().split(' ')]\n",
    "  (a,b) = (l[0], l[1] if len(l) > 1 else None)\n",
    "  if a == 1: heapq.heappush(h,b)\n",
    "  elif a == 2: # mark for deletion\n",
    "    if b in d: d[b] += 1\n",
    "    else: d[b] = 1\n",
    "  else:\n",
    "    while True:\n",
    "      x = h[0]\n",
    "      if x in d:\n",
    "        heapq.heappop(h)\n",
    "        d[x] -= 1\n",
    "        if d[x] <= 0: del(d[x])\n",
    "      else: break\n",
    "    print(x)\n",
    "    \n"
   ]
  },
  {
   "cell_type": "markdown",
   "id": "f2c65b34",
   "metadata": {},
   "source": [
    "In this HackerRank Hackerland Radio Transmitters problem solution we have given a map of Hackerland and the transmission range, determine the minimum number of transmitters so that every house is within range of at least one transmitter. Each transmitter must be installed on top of an existing house."
   ]
  },
  {
   "cell_type": "code",
   "execution_count": 97,
   "id": "fad2612b",
   "metadata": {},
   "outputs": [
    {
     "name": "stdout",
     "output_type": "stream",
     "text": [
      "5 7\n",
      "2 3\n",
      "1\n"
     ]
    }
   ],
   "source": [
    "n,k = input().strip().split(' ')\n",
    "n,k = [int(n),int(k)]\n",
    "x = [int(x_temp) for x_temp in input().strip().split(' ')]\n",
    "x.sort()\n",
    "l = list()\n",
    "#To remove duplicates\n",
    "l = [0 for i in range(100001)]\n",
    "for i in x:\n",
    "    l[i-1] = 1\n",
    "    #print(i)\n",
    "x = []\n",
    "for i in range(100001):\n",
    "    if l[i] == 1:\n",
    "        x.append(i+1)\n",
    "#print(x)\n",
    "start = 0\n",
    "i = 0\n",
    "c = 1\n",
    "n = len(x)\n",
    "while i < n:\n",
    "    if x[i] <= x[start] + k:\n",
    "        i = i + 1\n",
    "        continue\n",
    "    else:\n",
    "        s = i-1\n",
    "        while i < n and x[s] + k >= x[i]:\n",
    "            i += 1\n",
    "        start = i\n",
    "        if i < n:\n",
    "            c += 1\n",
    "print(c)\n"
   ]
  },
  {
   "cell_type": "markdown",
   "id": "c5c10c04",
   "metadata": {},
   "source": [
    "In this HackerRank Queries with Fixed Length problem we have given an array and q queries and we need to return a list of answers to each query."
   ]
  },
  {
   "cell_type": "code",
   "execution_count": null,
   "id": "bef62391",
   "metadata": {},
   "outputs": [],
   "source": [
    "n,q = [int(number) for number in input().split()]\n",
    "\n",
    "mylist = [int(number) for number in input().split()]\n",
    "\n",
    "for step in range(q):\n",
    "    minmax = 0\n",
    "    d = int(input())\n",
    "    maxnumber = 0\n",
    "    for i in range(n):\n",
    "        if mylist[i] >= maxnumber:\n",
    "            maxnumber = mylist[i]\n",
    "        elif i >= d:\n",
    "            if mylist[i-d] == maxnumber:\n",
    "                maxnumber = max(mylist[i-d+1:i+1])\n",
    "        if i >= d-1:\n",
    "            if minmax == 0 or minmax > maxnumber:\n",
    "                minmax = maxnumber\n",
    "\n",
    "    print(minmax)\n",
    "    \n",
    "    "
   ]
  },
  {
   "cell_type": "markdown",
   "id": "e23bc536",
   "metadata": {},
   "source": [
    "In this HackerRank Array Manipulation Interview preparation kit problem solution we have a Starting with a 1-indexed array of zeros and a list of operations, for each operation add a value to each array element between two given indices, inclusive. Once all operations have been performed, return the maximum value in the array."
   ]
  },
  {
   "cell_type": "code",
   "execution_count": null,
   "id": "a3e42629",
   "metadata": {},
   "outputs": [],
   "source": [
    "#!/usr/bin/env python\n",
    "\n",
    "import itertools, sys\n",
    "\n",
    "\n",
    "if __name__ == '__main__':\n",
    "    N, M = list(map(int, sys.stdin.readline().split()))\n",
    "    x = [0] * N\n",
    "\n",
    "    for _ in range(M):\n",
    "        a, b, k = list(map(int, sys.stdin.readline().split()))\n",
    "\n",
    "        x[a - 1] += k\n",
    "        if b < N:\n",
    "            x[b] -= k\n",
    "\n",
    "    print(max(itertools.accumulate(x)))\n",
    "    \n"
   ]
  },
  {
   "cell_type": "markdown",
   "id": "c03fc2b1",
   "metadata": {},
   "source": [
    "In this HackerRank Highest Value Palindrome problem solution we have given a string representing the starting number, and a maximum number of changes allowed, create the largest palindromic string of digits possible or the string '-1' if it is not possible to create a palindrome under the constraints."
   ]
  },
  {
   "cell_type": "code",
   "execution_count": null,
   "id": "b9513dde",
   "metadata": {},
   "outputs": [],
   "source": [
    "#!/bin/python3\n",
    "from sys import exit\n",
    "from math import floor\n",
    "n, k = map(int, input().split())\n",
    "num = list(input().strip())\n",
    "unpaired = len(list(filter(lambda x: x[0] != x[1], zip(num[:int(floor(n / 2))], reversed(num)))))\n",
    "if unpaired > k:\n",
    "    print(-1)\n",
    "    exit()\n",
    "for i in range(int(floor(n / 2))):\n",
    "    if unpaired < k and k >= 2:\n",
    "        if num[i] != num[n - 1 - i]:\n",
    "            unpaired -= 1\n",
    "        if num[i] != '9':\n",
    "            k -= 1\n",
    "        if num[n - 1 - i] != '9':\n",
    "            k -= 1\n",
    "        num[i] = num[n - 1 - i] = '9'\n",
    "        continue\n",
    "    if num[i] == num[n - 1 - i]:\n",
    "        continue\n",
    "    k -= 1\n",
    "    if k < 0:\n",
    "        break\n",
    "    num[i] = max(num[i], num[n - 1 - i])\n",
    "    num[n - 1 - i] = num[i]\n",
    "if k > 0 and n % 2 == 1:\n",
    "    num[int(floor(n / 2))] = '9'\n",
    "print(-1 if k < 0 else ''.join(num))\n"
   ]
  },
  {
   "cell_type": "markdown",
   "id": "03a7a3a9",
   "metadata": {},
   "source": [
    "In this HackerRank Lily's Homework problem solution we have given the array arr, determine and return the minimum number of swaps that should be performed in order to make the array beautiful."
   ]
  },
  {
   "cell_type": "code",
   "execution_count": 100,
   "id": "4f4da8d9",
   "metadata": {},
   "outputs": [
    {
     "name": "stdout",
     "output_type": "stream",
     "text": [
      "5\n",
      "1\n"
     ]
    },
    {
     "ename": "IndexError",
     "evalue": "list index out of range",
     "output_type": "error",
     "traceback": [
      "\u001b[1;31m---------------------------------------------------------------------------\u001b[0m",
      "\u001b[1;31mIndexError\u001b[0m                                Traceback (most recent call last)",
      "\u001b[1;32m<ipython-input-100-a627487ad1d4>\u001b[0m in \u001b[0;36m<module>\u001b[1;34m\u001b[0m\n\u001b[0;32m     22\u001b[0m \u001b[0md\u001b[0m \u001b[1;33m=\u001b[0m \u001b[1;33m{\u001b[0m\u001b[1;33m}\u001b[0m\u001b[1;33m\u001b[0m\u001b[1;33m\u001b[0m\u001b[0m\n\u001b[0;32m     23\u001b[0m \u001b[1;32mfor\u001b[0m \u001b[0mi\u001b[0m \u001b[1;32min\u001b[0m \u001b[0mrange\u001b[0m\u001b[1;33m(\u001b[0m\u001b[0mn\u001b[0m\u001b[1;33m)\u001b[0m\u001b[1;33m:\u001b[0m\u001b[1;33m\u001b[0m\u001b[1;33m\u001b[0m\u001b[0m\n\u001b[1;32m---> 24\u001b[1;33m     \u001b[1;32mif\u001b[0m \u001b[0msort\u001b[0m\u001b[1;33m[\u001b[0m\u001b[0mi\u001b[0m\u001b[1;33m]\u001b[0m \u001b[1;32mnot\u001b[0m \u001b[1;32min\u001b[0m \u001b[0md\u001b[0m\u001b[1;33m:\u001b[0m\u001b[1;33m\u001b[0m\u001b[1;33m\u001b[0m\u001b[0m\n\u001b[0m\u001b[0;32m     25\u001b[0m         \u001b[0md\u001b[0m\u001b[1;33m[\u001b[0m\u001b[0msort\u001b[0m\u001b[1;33m[\u001b[0m\u001b[0mi\u001b[0m\u001b[1;33m]\u001b[0m\u001b[1;33m]\u001b[0m \u001b[1;33m=\u001b[0m \u001b[0mi\u001b[0m\u001b[1;33m\u001b[0m\u001b[1;33m\u001b[0m\u001b[0m\n\u001b[0;32m     26\u001b[0m \u001b[1;33m\u001b[0m\u001b[0m\n",
      "\u001b[1;31mIndexError\u001b[0m: list index out of range"
     ]
    }
   ],
   "source": [
    "#!/bin/python3\n",
    "\n",
    "import math\n",
    "import os\n",
    "import random\n",
    "import re\n",
    "import sys\n",
    "\n",
    "#\n",
    "# Complete the 'lilysHomework' function below.\n",
    "#\n",
    "# The function is expected to return an INTEGER.\n",
    "# The function accepts INTEGER_ARRAY arr as parameter.\n",
    "#\n",
    "\n",
    "n = int(input())\n",
    "l = list(map(int, input().split()))\n",
    "\n",
    "sort = sorted(l)\n",
    "rev = list(reversed(l))\n",
    "\n",
    "d = {}\n",
    "for i in range(n):\n",
    "    if sort[i] not in d:\n",
    "        d[sort[i]] = i\n",
    "\n",
    "swaps = 0\n",
    "i = 0\n",
    "while i < n:\n",
    "    if sort[i] == l[i]:\n",
    "        i += 1\n",
    "        continue\n",
    "    swaps += 1\n",
    "    l[d[l[i]]], l[i] = l[i], l[d[l[i]]]\n",
    "    d[sort[i]] += 1\n",
    "\n",
    "d = {}\n",
    "for i in range(n):\n",
    "    if sort[i] not in d:\n",
    "        d[sort[i]] = i\n",
    "\n",
    "swaps_rev = 0\n",
    "i = 0\n",
    "while i < n:\n",
    "    if sort[i] == rev[i]:\n",
    "        i += 1\n",
    "        continue\n",
    "    swaps_rev += 1\n",
    "    rev[d[rev[i]]], rev[i] = rev[i], rev[d[rev[i]]]\n",
    "    d[sort[i]] += 1\n",
    "\n",
    "print(min(swaps, swaps_rev))\n"
   ]
  },
  {
   "cell_type": "markdown",
   "id": "3dec7400",
   "metadata": {},
   "source": [
    "In this HackerRank Tree: Preorder Traversal problem we have given a pointer of the root of a binary tree. and we need to traverse the tree in preorder and then print the values of the nodes in a single line."
   ]
  },
  {
   "cell_type": "code",
   "execution_count": null,
   "id": "2aead509",
   "metadata": {},
   "outputs": [],
   "source": [
    "class Node:\n",
    "    def __init__(self, info): \n",
    "        self.info = info  \n",
    "        self.left = None  \n",
    "        self.right = None \n",
    "        self.level = None \n",
    "\n",
    "    def __str__(self):\n",
    "        return str(self.info) \n",
    "\n",
    "class BinarySearchTree:\n",
    "    def __init__(self): \n",
    "        self.root = None\n",
    "\n",
    "    def create(self, val):  \n",
    "        if self.root == None:\n",
    "            self.root = Node(val)\n",
    "        else:\n",
    "            current = self.root\n",
    "         \n",
    "            while True:\n",
    "                if val < current.info:\n",
    "                    if current.left:\n",
    "                        current = current.left\n",
    "                    else:\n",
    "                        current.left = Node(val)\n",
    "                        break\n",
    "                elif val > current.info:\n",
    "                    if current.right:\n",
    "                        current = current.right\n",
    "                    else:\n",
    "                        current.right = Node(val)\n",
    "                        break\n",
    "                else:\n",
    "                    break\n",
    "\n",
    "\n",
    "def preOrder(root):\n",
    "    #Write your code here\n",
    "    p = root\n",
    "    if p is None:\n",
    "        return\n",
    "    print(p.info, end=' ')\n",
    "    preOrder(p.left)\n",
    "    preOrder(p.right)\n",
    "\n",
    "\n",
    "\n",
    "tree = BinarySearchTree()\n",
    "t = int(input())\n",
    "\n",
    "arr = list(map(int, input().split()))\n",
    "\n",
    "for i in range(t):\n",
    "    tree.create(arr[i])\n",
    "\n",
    "preOrder(tree.root)\n"
   ]
  },
  {
   "cell_type": "markdown",
   "id": "4b25d088",
   "metadata": {},
   "source": [
    "In this HackerRank Tree: Huffman Decoding Interview preparation kit problem You are given a pointer to the root of the Huffman tree and a binary coded string to decode. You need to print the decoded string."
   ]
  },
  {
   "cell_type": "code",
   "execution_count": null,
   "id": "687d47f2",
   "metadata": {},
   "outputs": [],
   "source": [
    "import queue as Queue\n",
    "\n",
    "cntr = 0\n",
    "\n",
    "class Node:\n",
    "    def __init__(self, freq, data):\n",
    "        self.freq = freq\n",
    "        self.data = data\n",
    "        self.left = None\n",
    "        self.right = None\n",
    "        global cntr\n",
    "        self._count = cntr\n",
    "        cntr = cntr + 1\n",
    "        \n",
    "    def __lt__(self, other):\n",
    "        if self.freq != other.freq:\n",
    "            return self.freq < other.freq\n",
    "        return self._count < other._count\n",
    "\n",
    "def huffman_hidden():#builds the tree and returns root\n",
    "    q = Queue.PriorityQueue()\n",
    "\n",
    "    \n",
    "    for key in freq:\n",
    "        q.put((freq[key], key, Node(freq[key], key) ))\n",
    "    \n",
    "    while q.qsize() != 1:\n",
    "        a = q.get()\n",
    "        b = q.get()\n",
    "        obj = Node(a[0] + b[0], '\\0' )\n",
    "        obj.left = a[2]\n",
    "        obj.right = b[2]\n",
    "        q.put((obj.freq, obj.data, obj ))\n",
    "        \n",
    "    root = q.get()\n",
    "    root = root[2]#contains root object\n",
    "    return root\n",
    "\n",
    "def dfs_hidden(obj, already):\n",
    "    if(obj == None):\n",
    "        return\n",
    "    elif(obj.data != '\\0'):\n",
    "        code_hidden[obj.data] = already\n",
    "        \n",
    "    dfs_hidden(obj.right, already + \"1\")\n",
    "    dfs_hidden(obj.left, already + \"0\")\n",
    "\n",
    "\"\"\"class Node:\n",
    "    def __init__(self, freq,data):\n",
    "        self.freq= freq\n",
    "        self.data=data\n",
    "        self.left = None\n",
    "        self.right = None\n",
    "\"\"\"        \n",
    "\n",
    "# Enter your code here. Read input from STDIN. Print output to STDOUT\n",
    "def decodeHuff(root, s):\n",
    "    #Enter Your Code Here\n",
    "    cur = root\n",
    "    chararray = []\n",
    "    #For each character, \n",
    "    #If at an internal node, move left if 0, right if 1\n",
    "    #If at a leaf (no children), record data and jump back to root AFTER processing character\n",
    "    for c in s:\n",
    "        if c == '0' and cur.left:\n",
    "            cur = cur.left\n",
    "        elif cur.right:\n",
    "            cur = cur.right\n",
    "        \n",
    "        if cur.left is None and cur.right is None:\n",
    "            chararray.append(cur.data)\n",
    "            cur = root\n",
    "    \n",
    "    #Print final array\n",
    "    print(\"\".join(chararray))\n",
    "\n",
    "ip = input()\n",
    "freq = {}#maps each character to its frequency\n",
    "\n",
    "cntr = 0\n",
    "\n",
    "for ch in ip:\n",
    "    if(freq.get(ch) == None):\n",
    "        freq[ch] = 1\n",
    "    else:\n",
    "        freq[ch]+=1\n",
    "\n",
    "root = huffman_hidden()#contains root of huffman tree\n",
    "\n",
    "code_hidden = {}#contains code for each object\n",
    "\n",
    "dfs_hidden(root, \"\")\n",
    "\n",
    "if len(code_hidden) == 1:#if there is only one character in the i/p\n",
    "    for key in code_hidden:\n",
    "        code_hidden[key] = \"0\"\n",
    "\n",
    "toBeDecoded = \"\"\n",
    "\n",
    "for ch in ip:\n",
    "   toBeDecoded += code_hidden[ch]\n",
    "\n",
    "decodeHuff(root, toBeDecoded)\n"
   ]
  },
  {
   "cell_type": "markdown",
   "id": "0712a034",
   "metadata": {},
   "source": [
    "In this HackerRank Binary Search Tree: Lowest Common Ancestor Interview preparation kit problem You are given a pointer to the root of the binary search tree and two values v1 and v2. You need to return the lowest common ancestor (LCA) of v1 and v2 in the binary search tree."
   ]
  },
  {
   "cell_type": "code",
   "execution_count": null,
   "id": "30cb93ea",
   "metadata": {},
   "outputs": [],
   "source": [
    "class Node:\n",
    "    def __init__(self, info): \n",
    "        self.info = info  \n",
    "        self.left = None  \n",
    "        self.right = None \n",
    "        self.level = None \n",
    "\n",
    "    def __str__(self):\n",
    "        return str(self.info) \n",
    "\n",
    "class BinarySearchTree:\n",
    "    def __init__(self): \n",
    "        self.root = None\n",
    "\n",
    "    def create(self, val):  \n",
    "        if self.root == None:\n",
    "            self.root = Node(val)\n",
    "        else:\n",
    "            current = self.root\n",
    "         \n",
    "            while True:\n",
    "                if val < current.info:\n",
    "                    if current.left:\n",
    "                        current = current.left\n",
    "                    else:\n",
    "                        current.left = Node(val)\n",
    "                        break\n",
    "                elif val > current.info:\n",
    "                    if current.right:\n",
    "                        current = current.right\n",
    "                    else:\n",
    "                        current.right = Node(val)\n",
    "                        break\n",
    "                else:\n",
    "                    break\n",
    "\n",
    "# Enter your code here. Read input from STDIN. Print output to STDOUT\n",
    "'''\n",
    "class Node:\n",
    "      def __init__(self,info): \n",
    "          self.info = info  \n",
    "          self.left = None  \n",
    "          self.right = None \n",
    "           \n",
    "\n",
    "       // this is a node of the tree , which contains info as data, left , right\n",
    "'''\n",
    "\n",
    "def lca(root, v1, v2):\n",
    "    if (root.info < v1 and root.info > v2) or (root.info > v1 and root.info < v2):\n",
    "        return root\n",
    "    elif root.info < v1 and root.info < v2:\n",
    "        return lca(root.right, v1, v2)\n",
    "    elif root.info > v1 and root.info > v2:\n",
    "        return lca(root.left, v1, v2)\n",
    "    elif root.info == v1 or root.info == v2:\n",
    "        return root\n",
    "    \n",
    "    \n",
    "  \n",
    "\n",
    "tree = BinarySearchTree()\n",
    "t = int(input())\n",
    "\n",
    "arr = list(map(int, input().split()))\n",
    "\n",
    "for i in range(t):\n",
    "    tree.create(arr[i])\n",
    "\n",
    "v = list(map(int, input().split()))\n",
    "\n",
    "ans = lca(tree.root, v[0], v[1])\n",
    "print (ans.info)\n"
   ]
  },
  {
   "cell_type": "markdown",
   "id": "3e820e78",
   "metadata": {},
   "source": [
    "In this HackerRank No Prefix Set problem, we have given a list of strings where each string contains only lowercase letters and we need to find if no string is a prefix of another string then print GOOD SET otherwise print BAD SET."
   ]
  },
  {
   "cell_type": "code",
   "execution_count": null,
   "id": "62522664",
   "metadata": {},
   "outputs": [],
   "source": [
    "root = {}\n",
    "def add_to(root,s):\n",
    "    current_node = root.setdefault(s[0],[0,{}])\n",
    "    if len(s) == 1:\n",
    "        current_node[0] += 1\n",
    "    else:\n",
    "        add_to(current_node[1],s[1:])\n",
    "        \n",
    "def is_prefix(root,s):\n",
    "    if len(s) == 1:\n",
    "        if len(root[s[0]][1])>0 or root[s[0]][0] > 1:\n",
    "            return True\n",
    "        else:\n",
    "            return False\n",
    "    else:\n",
    "        if root[s[0]][0] > 0:\n",
    "            return True\n",
    "        else:\n",
    "            return is_prefix(root[s[0]][1],s[1:])\n",
    "    \n",
    "    \n",
    "    \n",
    "n = int(input())\n",
    "count = 0 \n",
    "for _ in range(n):\n",
    "    word = input().strip()\n",
    "    add_to(root,word)\n",
    "    if is_prefix(root,word):\n",
    "        print(\"BAD SET\")\n",
    "        print(word)\n",
    "        break\n",
    "    count += 1\n",
    "if count == n:\n",
    "    print(\"GOOD SET\")\n",
    "    "
   ]
  },
  {
   "cell_type": "markdown",
   "id": "1ee88135",
   "metadata": {},
   "source": [
    "In this HackerRank Castle on the Grid Interview preparation kit problem you have Given a grid, a start, and a goal, determine the minimum number of moves to get to the goal."
   ]
  },
  {
   "cell_type": "code",
   "execution_count": null,
   "id": "98f31ba9",
   "metadata": {},
   "outputs": [],
   "source": [
    "import numbers\n",
    "import math\n",
    "from collections import namedtuple,deque\n",
    "class point(namedtuple(\"point\", \"i j\")):\n",
    "    def __eq__(self,o):\n",
    "        return self.i == o.i and self.j == o.j\n",
    "    def __ne__(self, o):\n",
    "        return self.i != o.i or self.j != o.j\n",
    "    def __lt__(self, o):\n",
    "        return self.i < o.i or self.j < o.j\n",
    "    def __gt__(self, o):\n",
    "        return self.i > o.i or self.j > o.j\n",
    "    def __le__(self, o):\n",
    "        return self.i <= o.i or self.j <= o.j\n",
    "    def __ge__(self, o):\n",
    "        return self.i >= o.i or self.j >= o.j\n",
    "    def __rshift__(self,o):\n",
    "        return self.i >= o.i and self.j >= o.j\n",
    "    def __lshift__(self,o):\n",
    "        return self.i <= o.i and self.j <= o.j\n",
    "    def __hash__(self):\n",
    "        return hash((self.i, self.j))\n",
    "    def __repr__(self):\n",
    "        return 'p(%r, %r)' % self\n",
    "    def __add__(self,o):\n",
    "        if isinstance(o, point):\n",
    "            return point.__new__(point,self.i+o.i,self.j+o.j)\n",
    "        if isinstance(o, numbers.Number):\n",
    "            return point.__new__(point,self.i+o,self.j+o)\n",
    "        return NotImplemented\n",
    "    def __iadd__(self,o):\n",
    "        return self.__add__(o)\n",
    "    def __sub__(self,o):\n",
    "        if isinstance(o, point):\n",
    "            return point.__new__(point,self.i-o.i,self.j-o.j)\n",
    "        if isinstance(o, numbers.Number):\n",
    "            return point.__new__(point,self.i-o,self.j-o)\n",
    "        return NotImplemented\n",
    "    def inbound(self,a,b=None):\n",
    "        if b is None:\n",
    "            a,b = point(0,0),a\n",
    "        im,ix = sorted([a.i,b.i])\n",
    "        jm,jx = sorted([a.j,b.j])\n",
    "        return im <= self.i and self.i < ix and jm <= self.j and self.j < jx\n",
    "    def distance(self,o):\n",
    "        return abs(self.i-o.i)+abs(self.j-o.j)\n",
    "        #return math.sqrt((self.i-o.i)**2+(self.j-o.j)**2)\n",
    "    def __isub__(self,o):\n",
    "        return self.__sub__(o)\n",
    "    def __neg__(self):\n",
    "        return point.__new__(point,-self.i,-self.j)\n",
    "    def I():\n",
    "        return point.__new__(point,1,0)\n",
    "    def J():\n",
    "        return point.__new__(point,0,1)\n",
    "\n",
    "class grid(list):\n",
    "    def __getitem__(self, *args, **kwargs):\n",
    "        if isinstance(args[0], point):\n",
    "            return self[args[0].i][args[0].j]\n",
    "        else:\n",
    "            return list.__getitem__(self, *args, **kwargs)\n",
    "    def __setitem__(self, *args, **kwargs):\n",
    "        if isinstance(args[0], point):\n",
    "            self[args[0].i][args[0].j] = args[1]\n",
    "        else:\n",
    "            return list.__setitem__(self, *args, **kwargs)\n",
    "    def __repr__(self):\n",
    "        return \"\\n\".join([\"\".join(map(lambda x:str(x)[-1],a)) for a in self])\n",
    "\n",
    "around = (-point.I(),-point.J(),point.J(),point.I())\n",
    "n = int(input())\n",
    "b = grid([list(input()) for _ in range(n)])\n",
    "_ = list(map(int,input().split()))\n",
    "p = point(_[0],_[1])\n",
    "f = point(_[2],_[3])\n",
    "b[p] = \"#\"\n",
    "b[f] = \"E\"\n",
    "q = deque([(p,0)])\n",
    "\n",
    "\n",
    "\n",
    "vg = grid([[False for _ in range(len(b[0]))] for _ in range(len(b))])\n",
    "while len(q):\n",
    "    \n",
    "    c,d = q.popleft()\n",
    "\n",
    "    vg[c] = True\n",
    "    #print(c,b[c.i][c.j])\n",
    "    if c == f:\n",
    "        break\n",
    "    if b[c] == \".\":\n",
    "        b[c] = \"=\"\n",
    "\n",
    "    for di in around:\n",
    "        pt = c\n",
    "        while True:\n",
    "            pt += di\n",
    "            if pt.inbound(point(0,0) ,point(len(b),len(b[0]))) and (b[pt] == \".\" or b[pt] == \"E\") :\n",
    "                q.append((pt,d+1))\n",
    "                vg[pt] = True\n",
    "                if b[pt] == \".\":\n",
    "                    b[pt] = d+1\n",
    "            else:\n",
    "                break\n",
    "    \n",
    "    #print(c,ar)\n",
    "    #print(q)\n",
    "\n",
    "#print(b)    \n",
    "print(d)\n"
   ]
  },
  {
   "cell_type": "markdown",
   "id": "7dc8c754",
   "metadata": {},
   "source": [
    "In this HackerRank Roads and Libraries Interview preparation kit problem, There are q queries, where each query consists of a map of HackerLand and value of c_lib and c_road. For each query, find the minimum cost to make libraries accessible to all citizens."
   ]
  },
  {
   "cell_type": "code",
   "execution_count": null,
   "id": "e4f1efff",
   "metadata": {},
   "outputs": [],
   "source": [
    "from collections import defaultdict\n",
    "from collections import deque\n",
    "\n",
    "from math import pi,cos,sin\n",
    "\n",
    "class graph:\n",
    "    def __init__(self):\n",
    "        self.nodes = []\n",
    "        self.edges = defaultdict(set)\n",
    "    def clone(self):\n",
    "        g = graph()\n",
    "        g.nodes = self.nodes[:]\n",
    "        for n in self.nodes:\n",
    "            for e in self.edges[n]:\n",
    "                g.edges[n].add(e)\n",
    "        return g\n",
    "\n",
    "def count_clusters(g):\n",
    "    nclust = 0\n",
    "    used = set()\n",
    "    n = len(g.nodes)\n",
    "\n",
    "    csize = []\n",
    "    \n",
    "    for node in g.nodes:\n",
    "        if node in used: continue\n",
    "        used.add(node)\n",
    "\n",
    "        size = 1\n",
    "        Q = deque()\n",
    "        Q.appendleft(node)\n",
    "        while Q:\n",
    "            cur = Q.pop()\n",
    "            for neigh in g.edges[cur]:\n",
    "                if neigh in used: continue\n",
    "                used.add(neigh)\n",
    "                Q.appendleft(neigh)\n",
    "                size += 1\n",
    "        nclust += 1\n",
    "        csize.append(size)\n",
    "\n",
    "    return nclust,csize\n",
    "\n",
    "q = int(input())\n",
    "\n",
    "\n",
    "for _ in range(q):\n",
    "    n,m,clib,croad = [int(x) for x in input().split()]\n",
    "    edges = [[int(x) for x in input().split()] for _ in range(m)]\n",
    "\n",
    "    if clib < croad:\n",
    "        print(clib*n)\n",
    "        continue\n",
    "    \n",
    "    g = graph()\n",
    "    g.nodes = range(1,n+1)\n",
    "    for a,b in edges:\n",
    "        g.edges[a].add(b)\n",
    "        g.edges[b].add(a)\n",
    "\n",
    "    nc,cs = count_clusters(g)\n",
    "    print(nc*clib + sum((x-1)*croad for x in cs))\n"
   ]
  },
  {
   "cell_type": "markdown",
   "id": "8041d20b",
   "metadata": {},
   "source": [
    "In this HackerRank Linear Algebra problem solution, You are given a square matrix A with dimensions NXN. Your task is to find the determinant. Note: Round the answer to 2 places after the decimal"
   ]
  },
  {
   "cell_type": "code",
   "execution_count": 106,
   "id": "1e0f64e2",
   "metadata": {},
   "outputs": [
    {
     "name": "stdout",
     "output_type": "stream",
     "text": [
      "3\n",
      "3\n",
      "2\n",
      "2 2\n"
     ]
    },
    {
     "name": "stderr",
     "output_type": "stream",
     "text": [
      "C:\\Users\\ogahi\\anaconda3\\lib\\site-packages\\numpy\\core\\_asarray.py:102: VisibleDeprecationWarning: Creating an ndarray from ragged nested sequences (which is a list-or-tuple of lists-or-tuples-or ndarrays with different lengths or shapes) is deprecated. If you meant to do this, you must specify 'dtype=object' when creating the ndarray.\n",
      "  return array(a, dtype, copy=False, order=order)\n"
     ]
    },
    {
     "ename": "LinAlgError",
     "evalue": "1-dimensional array given. Array must be at least two-dimensional",
     "output_type": "error",
     "traceback": [
      "\u001b[1;31m---------------------------------------------------------------------------\u001b[0m",
      "\u001b[1;31mLinAlgError\u001b[0m                               Traceback (most recent call last)",
      "\u001b[1;32m<ipython-input-106-150c7d4b8df4>\u001b[0m in \u001b[0;36m<module>\u001b[1;34m\u001b[0m\n\u001b[0;32m      5\u001b[0m     \u001b[0mA\u001b[0m\u001b[1;33m.\u001b[0m\u001b[0mappend\u001b[0m\u001b[1;33m(\u001b[0m\u001b[0mnumpy\u001b[0m\u001b[1;33m.\u001b[0m\u001b[0marray\u001b[0m\u001b[1;33m(\u001b[0m\u001b[0mlist\u001b[0m\u001b[1;33m(\u001b[0m\u001b[0mmap\u001b[0m\u001b[1;33m(\u001b[0m\u001b[0mfloat\u001b[0m\u001b[1;33m,\u001b[0m\u001b[0minput\u001b[0m\u001b[1;33m(\u001b[0m\u001b[1;33m)\u001b[0m\u001b[1;33m.\u001b[0m\u001b[0msplit\u001b[0m\u001b[1;33m(\u001b[0m\u001b[1;33m)\u001b[0m\u001b[1;33m)\u001b[0m\u001b[1;33m)\u001b[0m\u001b[1;33m)\u001b[0m\u001b[1;33m)\u001b[0m\u001b[1;33m\u001b[0m\u001b[1;33m\u001b[0m\u001b[0m\n\u001b[0;32m      6\u001b[0m \u001b[1;33m\u001b[0m\u001b[0m\n\u001b[1;32m----> 7\u001b[1;33m \u001b[0mprint\u001b[0m \u001b[1;33m(\u001b[0m\u001b[0mnumpy\u001b[0m\u001b[1;33m.\u001b[0m\u001b[0mlinalg\u001b[0m\u001b[1;33m.\u001b[0m\u001b[0mdet\u001b[0m\u001b[1;33m(\u001b[0m\u001b[0mA\u001b[0m\u001b[1;33m)\u001b[0m\u001b[1;33m)\u001b[0m\u001b[1;33m\u001b[0m\u001b[1;33m\u001b[0m\u001b[0m\n\u001b[0m",
      "\u001b[1;32m<__array_function__ internals>\u001b[0m in \u001b[0;36mdet\u001b[1;34m(*args, **kwargs)\u001b[0m\n",
      "\u001b[1;32m~\\anaconda3\\lib\\site-packages\\numpy\\linalg\\linalg.py\u001b[0m in \u001b[0;36mdet\u001b[1;34m(a)\u001b[0m\n\u001b[0;32m   2152\u001b[0m     \"\"\"\n\u001b[0;32m   2153\u001b[0m     \u001b[0ma\u001b[0m \u001b[1;33m=\u001b[0m \u001b[0masarray\u001b[0m\u001b[1;33m(\u001b[0m\u001b[0ma\u001b[0m\u001b[1;33m)\u001b[0m\u001b[1;33m\u001b[0m\u001b[1;33m\u001b[0m\u001b[0m\n\u001b[1;32m-> 2154\u001b[1;33m     \u001b[0m_assert_stacked_2d\u001b[0m\u001b[1;33m(\u001b[0m\u001b[0ma\u001b[0m\u001b[1;33m)\u001b[0m\u001b[1;33m\u001b[0m\u001b[1;33m\u001b[0m\u001b[0m\n\u001b[0m\u001b[0;32m   2155\u001b[0m     \u001b[0m_assert_stacked_square\u001b[0m\u001b[1;33m(\u001b[0m\u001b[0ma\u001b[0m\u001b[1;33m)\u001b[0m\u001b[1;33m\u001b[0m\u001b[1;33m\u001b[0m\u001b[0m\n\u001b[0;32m   2156\u001b[0m     \u001b[0mt\u001b[0m\u001b[1;33m,\u001b[0m \u001b[0mresult_t\u001b[0m \u001b[1;33m=\u001b[0m \u001b[0m_commonType\u001b[0m\u001b[1;33m(\u001b[0m\u001b[0ma\u001b[0m\u001b[1;33m)\u001b[0m\u001b[1;33m\u001b[0m\u001b[1;33m\u001b[0m\u001b[0m\n",
      "\u001b[1;32m~\\anaconda3\\lib\\site-packages\\numpy\\linalg\\linalg.py\u001b[0m in \u001b[0;36m_assert_stacked_2d\u001b[1;34m(*arrays)\u001b[0m\n\u001b[0;32m    194\u001b[0m     \u001b[1;32mfor\u001b[0m \u001b[0ma\u001b[0m \u001b[1;32min\u001b[0m \u001b[0marrays\u001b[0m\u001b[1;33m:\u001b[0m\u001b[1;33m\u001b[0m\u001b[1;33m\u001b[0m\u001b[0m\n\u001b[0;32m    195\u001b[0m         \u001b[1;32mif\u001b[0m \u001b[0ma\u001b[0m\u001b[1;33m.\u001b[0m\u001b[0mndim\u001b[0m \u001b[1;33m<\u001b[0m \u001b[1;36m2\u001b[0m\u001b[1;33m:\u001b[0m\u001b[1;33m\u001b[0m\u001b[1;33m\u001b[0m\u001b[0m\n\u001b[1;32m--> 196\u001b[1;33m             raise LinAlgError('%d-dimensional array given. Array must be '\n\u001b[0m\u001b[0;32m    197\u001b[0m                     'at least two-dimensional' % a.ndim)\n\u001b[0;32m    198\u001b[0m \u001b[1;33m\u001b[0m\u001b[0m\n",
      "\u001b[1;31mLinAlgError\u001b[0m: 1-dimensional array given. Array must be at least two-dimensional"
     ]
    }
   ],
   "source": [
    "import numpy\n",
    "N = int(input().strip())\n",
    "A = []\n",
    "for i in range(N):\n",
    "    A.append(numpy.array(list(map(float,input().split()))))\n",
    "\n",
    "print (numpy.linalg.det(A))\n"
   ]
  },
  {
   "cell_type": "markdown",
   "id": "05c724b4",
   "metadata": {},
   "source": [
    "In this HackerRank What's Your Name? problem You are given the first name and last name of a person on two different lines. Your task is to read them and print the following:\n",
    "\n",
    "Hello, first name last name! You just delved into python."
   ]
  },
  {
   "cell_type": "code",
   "execution_count": 107,
   "id": "1651eace",
   "metadata": {},
   "outputs": [
    {
     "name": "stdout",
     "output_type": "stream",
     "text": [
      "IDA\n",
      "OGAH\n",
      "Hello IDA OGAH! You just delved into python.\n"
     ]
    }
   ],
   "source": [
    "#FIRST SOLUTION\n",
    "# Enter your code here. Read input from STDIN. Print output to STDOUT\n",
    "first_name = input()\n",
    "last_name = input()\n",
    "\n",
    "print(\"Hello \" + first_name + \" \" + last_name + \"! You just delved into python.\")"
   ]
  },
  {
   "cell_type": "code",
   "execution_count": 108,
   "id": "c8c899ea",
   "metadata": {},
   "outputs": [
    {
     "name": "stdout",
     "output_type": "stream",
     "text": [
      "IDA\n",
      "OGAH\n",
      "Hello IDA OGAH! You just delved into python."
     ]
    }
   ],
   "source": [
    "#SECOND SOLTION \n",
    "firstname = input().strip( )\n",
    "secondname = input().strip( )\n",
    " \n",
    "print(\"Hello\", firstname, secondname, end=\"! You just delved into python.\")\n"
   ]
  },
  {
   "cell_type": "markdown",
   "id": "757324ea",
   "metadata": {},
   "source": [
    "In this HackerRank Re.start() & Re.end() problem solution You are given a string S. Your task is to find the indices of the start and end of string k in S."
   ]
  },
  {
   "cell_type": "code",
   "execution_count": 112,
   "id": "a4d035a6",
   "metadata": {},
   "outputs": [
    {
     "ename": "NameError",
     "evalue": "name 'raw_input' is not defined",
     "output_type": "error",
     "traceback": [
      "\u001b[1;31m---------------------------------------------------------------------------\u001b[0m",
      "\u001b[1;31mNameError\u001b[0m                                 Traceback (most recent call last)",
      "\u001b[1;32m<ipython-input-112-34a7e7bc717f>\u001b[0m in \u001b[0;36m<module>\u001b[1;34m\u001b[0m\n\u001b[0;32m      1\u001b[0m \u001b[1;31m# Enter your code here. Read input from STDIN. Print output to STDOUT\u001b[0m\u001b[1;33m\u001b[0m\u001b[1;33m\u001b[0m\u001b[1;33m\u001b[0m\u001b[0m\n\u001b[0;32m      2\u001b[0m \u001b[1;32mimport\u001b[0m \u001b[0mre\u001b[0m\u001b[1;33m\u001b[0m\u001b[1;33m\u001b[0m\u001b[0m\n\u001b[1;32m----> 3\u001b[1;33m \u001b[0ms\u001b[0m\u001b[1;33m=\u001b[0m\u001b[0mraw_input\u001b[0m\u001b[1;33m(\u001b[0m\u001b[1;33m)\u001b[0m\u001b[1;33m\u001b[0m\u001b[1;33m\u001b[0m\u001b[0m\n\u001b[0m\u001b[0;32m      4\u001b[0m \u001b[0mk\u001b[0m\u001b[1;33m=\u001b[0m\u001b[0mraw_input\u001b[0m\u001b[1;33m(\u001b[0m\u001b[1;33m)\u001b[0m\u001b[1;33m\u001b[0m\u001b[1;33m\u001b[0m\u001b[0m\n\u001b[0;32m      5\u001b[0m \u001b[0ma\u001b[0m\u001b[1;33m=\u001b[0m\u001b[1;33m[\u001b[0m\u001b[1;33m]\u001b[0m\u001b[1;33m\u001b[0m\u001b[1;33m\u001b[0m\u001b[0m\n",
      "\u001b[1;31mNameError\u001b[0m: name 'raw_input' is not defined"
     ]
    }
   ],
   "source": [
    "# Enter your code here. Read input from STDIN. Print output to STDOUT\n",
    "import re\n",
    "s=raw_input()\n",
    "k=raw_input()\n",
    "a=[]\n",
    "s1=\"\"\n",
    "s2=\"\"\n",
    "c=0\n",
    "for i in range(0,(len(s)-len(k))):\n",
    "    s1=\"\"\n",
    "    a=[]\n",
    "    for j in range(i,i+len(k)):\n",
    "        s1=s1+s[j]\n",
    "    a.append(i)\n",
    "    a.append(i+len(k)-1)\n",
    "    if s1==k:\n",
    "        c=c+1\n",
    "        s2= ', '.join(map(str,a))\n",
    "        print(\"(\"+s2+\")\")\n",
    "if c==0:\n",
    "   print(\"(-1, -1)\")\n"
   ]
  },
  {
   "cell_type": "markdown",
   "id": "7879a760",
   "metadata": {},
   "source": [
    "In this HackerRank Polynomials problem solution, You are given the coefficients of a polynomial P. Your task is to find the value of P at point x."
   ]
  },
  {
   "cell_type": "code",
   "execution_count": 113,
   "id": "ae959aa3",
   "metadata": {},
   "outputs": [
    {
     "name": "stdout",
     "output_type": "stream",
     "text": [
      "3\n",
      "3\n",
      "3.0\n"
     ]
    }
   ],
   "source": [
    "import numpy as np\n",
    "data = np.array([float(i) for i in input().split()])\n",
    "#print(data)\n",
    "print(np.polyval(data,float(input())))\n"
   ]
  },
  {
   "cell_type": "markdown",
   "id": "a4bcbae4",
   "metadata": {},
   "source": [
    "In this HackerRank Inner and Outer problem solution You are given two arrays: A and B. Your task is to compute their inner and outer product."
   ]
  },
  {
   "cell_type": "code",
   "execution_count": 115,
   "id": "3e9e3440",
   "metadata": {},
   "outputs": [
    {
     "ename": "NameError",
     "evalue": "name 'raw_input' is not defined",
     "output_type": "error",
     "traceback": [
      "\u001b[1;31m---------------------------------------------------------------------------\u001b[0m",
      "\u001b[1;31mNameError\u001b[0m                                 Traceback (most recent call last)",
      "\u001b[1;32m<ipython-input-115-688098c20d7a>\u001b[0m in \u001b[0;36m<module>\u001b[1;34m\u001b[0m\n\u001b[0;32m      1\u001b[0m \u001b[1;32mimport\u001b[0m \u001b[0mnumpy\u001b[0m\u001b[1;33m\u001b[0m\u001b[1;33m\u001b[0m\u001b[0m\n\u001b[0;32m      2\u001b[0m \u001b[1;33m\u001b[0m\u001b[0m\n\u001b[1;32m----> 3\u001b[1;33m \u001b[0ma\u001b[0m \u001b[1;33m=\u001b[0m \u001b[0mnumpy\u001b[0m\u001b[1;33m.\u001b[0m\u001b[0marray\u001b[0m\u001b[1;33m(\u001b[0m\u001b[0mmap\u001b[0m\u001b[1;33m(\u001b[0m\u001b[0mint\u001b[0m\u001b[1;33m,\u001b[0m \u001b[0mraw_input\u001b[0m\u001b[1;33m(\u001b[0m\u001b[1;33m)\u001b[0m\u001b[1;33m.\u001b[0m\u001b[0msplit\u001b[0m\u001b[1;33m(\u001b[0m\u001b[1;33m)\u001b[0m\u001b[1;33m)\u001b[0m\u001b[1;33m)\u001b[0m\u001b[1;33m\u001b[0m\u001b[1;33m\u001b[0m\u001b[0m\n\u001b[0m\u001b[0;32m      4\u001b[0m \u001b[0mb\u001b[0m \u001b[1;33m=\u001b[0m \u001b[0mnumpy\u001b[0m\u001b[1;33m.\u001b[0m\u001b[0marray\u001b[0m\u001b[1;33m(\u001b[0m\u001b[0mmap\u001b[0m\u001b[1;33m(\u001b[0m\u001b[0mint\u001b[0m\u001b[1;33m,\u001b[0m \u001b[0mraw_input\u001b[0m\u001b[1;33m(\u001b[0m\u001b[1;33m)\u001b[0m\u001b[1;33m.\u001b[0m\u001b[0msplit\u001b[0m\u001b[1;33m(\u001b[0m\u001b[1;33m)\u001b[0m\u001b[1;33m)\u001b[0m\u001b[1;33m)\u001b[0m\u001b[1;33m\u001b[0m\u001b[1;33m\u001b[0m\u001b[0m\n\u001b[0;32m      5\u001b[0m \u001b[0mprint\u001b[0m\u001b[1;33m(\u001b[0m\u001b[0mnumpy\u001b[0m\u001b[1;33m.\u001b[0m\u001b[0minner\u001b[0m\u001b[1;33m(\u001b[0m\u001b[0ma\u001b[0m\u001b[1;33m,\u001b[0m \u001b[0mb\u001b[0m\u001b[1;33m)\u001b[0m\u001b[1;33m)\u001b[0m\u001b[1;33m\u001b[0m\u001b[1;33m\u001b[0m\u001b[0m\n",
      "\u001b[1;31mNameError\u001b[0m: name 'raw_input' is not defined"
     ]
    }
   ],
   "source": [
    "import numpy\n",
    "\n",
    "a = numpy.array(map(int, raw_input().split()))\n",
    "b = numpy.array(map(int, raw_input().split()))\n",
    "print(numpy.inner(a, b))\n",
    "print(numpy.outer(a, b))"
   ]
  },
  {
   "cell_type": "markdown",
   "id": "be16897c",
   "metadata": {},
   "source": [
    "In this HackerRank Dot and Cross problem solution You are given two arrays A and B. Both have dimensions of NXN. Your task is to compute their matrix product."
   ]
  },
  {
   "cell_type": "code",
   "execution_count": 116,
   "id": "bc19c11a",
   "metadata": {},
   "outputs": [
    {
     "name": "stdout",
     "output_type": "stream",
     "text": [
      "2\n"
     ]
    },
    {
     "ename": "NameError",
     "evalue": "name 'xrange' is not defined",
     "output_type": "error",
     "traceback": [
      "\u001b[1;31m---------------------------------------------------------------------------\u001b[0m",
      "\u001b[1;31mNameError\u001b[0m                                 Traceback (most recent call last)",
      "\u001b[1;32m<ipython-input-116-69afee987f4a>\u001b[0m in \u001b[0;36m<module>\u001b[1;34m\u001b[0m\n\u001b[0;32m      2\u001b[0m \u001b[1;33m\u001b[0m\u001b[0m\n\u001b[0;32m      3\u001b[0m \u001b[0mn\u001b[0m \u001b[1;33m=\u001b[0m \u001b[0minput\u001b[0m\u001b[1;33m(\u001b[0m\u001b[1;33m)\u001b[0m\u001b[1;33m\u001b[0m\u001b[1;33m\u001b[0m\u001b[0m\n\u001b[1;32m----> 4\u001b[1;33m \u001b[0ma\u001b[0m \u001b[1;33m=\u001b[0m \u001b[1;33m[\u001b[0m\u001b[0mmap\u001b[0m\u001b[1;33m(\u001b[0m\u001b[0mint\u001b[0m\u001b[1;33m,\u001b[0m \u001b[0mraw_input\u001b[0m\u001b[1;33m(\u001b[0m\u001b[1;33m)\u001b[0m\u001b[1;33m.\u001b[0m\u001b[0msplit\u001b[0m\u001b[1;33m(\u001b[0m\u001b[1;33m)\u001b[0m\u001b[1;33m)\u001b[0m \u001b[1;32mfor\u001b[0m \u001b[0m_\u001b[0m \u001b[1;32min\u001b[0m \u001b[0mxrange\u001b[0m\u001b[1;33m(\u001b[0m\u001b[0mn\u001b[0m\u001b[1;33m)\u001b[0m\u001b[1;33m]\u001b[0m\u001b[1;33m\u001b[0m\u001b[1;33m\u001b[0m\u001b[0m\n\u001b[0m\u001b[0;32m      5\u001b[0m \u001b[0mb\u001b[0m \u001b[1;33m=\u001b[0m \u001b[1;33m[\u001b[0m\u001b[0mmap\u001b[0m\u001b[1;33m(\u001b[0m\u001b[0mint\u001b[0m\u001b[1;33m,\u001b[0m \u001b[0mraw_input\u001b[0m\u001b[1;33m(\u001b[0m\u001b[1;33m)\u001b[0m\u001b[1;33m.\u001b[0m\u001b[0msplit\u001b[0m\u001b[1;33m(\u001b[0m\u001b[1;33m)\u001b[0m\u001b[1;33m)\u001b[0m \u001b[1;32mfor\u001b[0m \u001b[0m_\u001b[0m \u001b[1;32min\u001b[0m \u001b[0mxrange\u001b[0m\u001b[1;33m(\u001b[0m\u001b[0mn\u001b[0m\u001b[1;33m)\u001b[0m\u001b[1;33m]\u001b[0m\u001b[1;33m\u001b[0m\u001b[1;33m\u001b[0m\u001b[0m\n\u001b[0;32m      6\u001b[0m \u001b[1;33m\u001b[0m\u001b[0m\n",
      "\u001b[1;31mNameError\u001b[0m: name 'xrange' is not defined"
     ]
    }
   ],
   "source": [
    "import numpy\n",
    "\n",
    "n = input()\n",
    "a = [map(int, raw_input().split()) for _ in xrange(n)]\n",
    "b = [map(int, raw_input().split()) for _ in xrange(n)]\n",
    "\n",
    "print(numpy.dot(a, b))\n"
   ]
  },
  {
   "cell_type": "markdown",
   "id": "d4462a85",
   "metadata": {},
   "source": [
    "In this HackerRank Min and Max problem solution, You are given a 2-D array with dimensions NXM. Your task is to perform the min function over axis 1 and then find the max of that."
   ]
  },
  {
   "cell_type": "code",
   "execution_count": 118,
   "id": "6af21beb",
   "metadata": {},
   "outputs": [
    {
     "name": "stdout",
     "output_type": "stream",
     "text": [
      "5 7\n",
      "2 4\n",
      "2 3\n",
      "2 5\n",
      "2 1\n",
      "1 2\n",
      "2\n"
     ]
    }
   ],
   "source": [
    "import numpy as np\n",
    "[N,M]=list(map(int,input().split()))\n",
    "L1 = []\n",
    "for i in range(N):\n",
    "    L1.append(list(map(int,input().split())))\n",
    "npArr = np.array(L1)\n",
    "print(np.max(np.min(npArr,axis = 1)))\n"
   ]
  },
  {
   "cell_type": "markdown",
   "id": "0de7ab18",
   "metadata": {},
   "source": [
    "In this HackerRank Min Max Riddle Interview preparation kit problem you have Given an integer array of size n, find the maximum of the minimum(s) of every window size in the array. The window size varies from 1 to n."
   ]
  },
  {
   "cell_type": "code",
   "execution_count": 23,
   "id": "d908cd99",
   "metadata": {
    "scrolled": true
   },
   "outputs": [
    {
     "ename": "KeyError",
     "evalue": "'OUTPUT_PATH'",
     "output_type": "error",
     "traceback": [
      "\u001b[1;31m---------------------------------------------------------------------------\u001b[0m",
      "\u001b[1;31mKeyError\u001b[0m                                  Traceback (most recent call last)",
      "\u001b[1;32m<ipython-input-23-1b944a0e489f>\u001b[0m in \u001b[0;36m<module>\u001b[1;34m\u001b[0m\n\u001b[0;32m     42\u001b[0m \u001b[1;33m\u001b[0m\u001b[0m\n\u001b[0;32m     43\u001b[0m \u001b[1;32mif\u001b[0m \u001b[0m__name__\u001b[0m \u001b[1;33m==\u001b[0m \u001b[1;34m'__main__'\u001b[0m\u001b[1;33m:\u001b[0m\u001b[1;33m\u001b[0m\u001b[1;33m\u001b[0m\u001b[0m\n\u001b[1;32m---> 44\u001b[1;33m     \u001b[0mfptr\u001b[0m \u001b[1;33m=\u001b[0m \u001b[0mopen\u001b[0m\u001b[1;33m(\u001b[0m\u001b[0mos\u001b[0m\u001b[1;33m.\u001b[0m\u001b[0menviron\u001b[0m\u001b[1;33m[\u001b[0m\u001b[1;34m'OUTPUT_PATH'\u001b[0m\u001b[1;33m]\u001b[0m\u001b[1;33m,\u001b[0m \u001b[1;34m'w'\u001b[0m\u001b[1;33m)\u001b[0m\u001b[1;33m\u001b[0m\u001b[1;33m\u001b[0m\u001b[0m\n\u001b[0m\u001b[0;32m     45\u001b[0m \u001b[1;33m\u001b[0m\u001b[0m\n\u001b[0;32m     46\u001b[0m     \u001b[0mn\u001b[0m \u001b[1;33m=\u001b[0m \u001b[0mint\u001b[0m\u001b[1;33m(\u001b[0m\u001b[0minput\u001b[0m\u001b[1;33m(\u001b[0m\u001b[1;33m)\u001b[0m\u001b[1;33m)\u001b[0m\u001b[1;33m\u001b[0m\u001b[1;33m\u001b[0m\u001b[0m\n",
      "\u001b[1;32m~\\anaconda3\\lib\\os.py\u001b[0m in \u001b[0;36m__getitem__\u001b[1;34m(self, key)\u001b[0m\n\u001b[0;32m    673\u001b[0m         \u001b[1;32mexcept\u001b[0m \u001b[0mKeyError\u001b[0m\u001b[1;33m:\u001b[0m\u001b[1;33m\u001b[0m\u001b[1;33m\u001b[0m\u001b[0m\n\u001b[0;32m    674\u001b[0m             \u001b[1;31m# raise KeyError with the original key value\u001b[0m\u001b[1;33m\u001b[0m\u001b[1;33m\u001b[0m\u001b[1;33m\u001b[0m\u001b[0m\n\u001b[1;32m--> 675\u001b[1;33m             \u001b[1;32mraise\u001b[0m \u001b[0mKeyError\u001b[0m\u001b[1;33m(\u001b[0m\u001b[0mkey\u001b[0m\u001b[1;33m)\u001b[0m \u001b[1;32mfrom\u001b[0m \u001b[1;32mNone\u001b[0m\u001b[1;33m\u001b[0m\u001b[1;33m\u001b[0m\u001b[0m\n\u001b[0m\u001b[0;32m    676\u001b[0m         \u001b[1;32mreturn\u001b[0m \u001b[0mself\u001b[0m\u001b[1;33m.\u001b[0m\u001b[0mdecodevalue\u001b[0m\u001b[1;33m(\u001b[0m\u001b[0mvalue\u001b[0m\u001b[1;33m)\u001b[0m\u001b[1;33m\u001b[0m\u001b[1;33m\u001b[0m\u001b[0m\n\u001b[0;32m    677\u001b[0m \u001b[1;33m\u001b[0m\u001b[0m\n",
      "\u001b[1;31mKeyError\u001b[0m: 'OUTPUT_PATH'"
     ]
    }
   ],
   "source": [
    "#!/bin/python3\n",
    "\n",
    "import math\n",
    "import os\n",
    "import random\n",
    "import re\n",
    "import sys\n",
    "\n",
    "# Complete the riddle function below.\n",
    "def riddle(arr):\n",
    "    n = len(arr)\n",
    "    max_mins = [None]*n\n",
    "    stack = [] # will store (num, index)\n",
    "    for i in range(n):\n",
    "        #print('stack', stack)\n",
    "        #print('max_mins', max_mins)\n",
    "        # remember to \"push back\"\n",
    "        _m = i\n",
    "        while len(stack) > 0 and stack[-1][0] > arr[i]:\n",
    "            _v, _i = stack.pop(-1)\n",
    "            w = i - _i\n",
    "            for _w in range(w): # note that it's zero indexed and shifted down\n",
    "                if max_mins[_w] is None:\n",
    "                    max_mins[_w] = _v\n",
    "                else:\n",
    "                    max_mins[_w] = max(max_mins[_w], _v)\n",
    "            _m = _i # get the smallest index at which we could start\n",
    "        stack.append((arr[i],_m))\n",
    "\n",
    "    # these were the minima for all this time\n",
    "    while len(stack) > 0:\n",
    "        #print('stack', stack)\n",
    "        #print('max_mins', max_mins)\n",
    "        _v, _i = stack.pop(-1)\n",
    "        w = n - _i\n",
    "        for _w in range(w):\n",
    "            if max_mins[_w] is None:\n",
    "                max_mins[_w] = _v\n",
    "            else:\n",
    "                max_mins[_w] = max(max_mins[_w], _v)\n",
    "    return max_mins\n",
    "\n",
    "if __name__ == '__main__':\n",
    "    fptr = open(os.environ['OUTPUT_PATH'], 'w')\n",
    "\n",
    "    n = int(input())\n",
    "\n",
    "    arr = list(map(int, input().rstrip().split()))\n",
    "\n",
    "    res = riddle(arr)\n",
    "\n",
    "    fptr.write(' '.join(map(str, res)))\n",
    "    fptr.write('\\n')\n",
    "\n",
    "    fptr.close()\n",
    "    "
   ]
  },
  {
   "cell_type": "markdown",
   "id": "6b38b181",
   "metadata": {},
   "source": [
    "In this HackerRank Queues: A Tale of Two Stacks Interview preparation kit problem you must first implement a queue using two stacks."
   ]
  },
  {
   "cell_type": "code",
   "execution_count": 26,
   "id": "41fd5e9c",
   "metadata": {
    "scrolled": true
   },
   "outputs": [
    {
     "name": "stdout",
     "output_type": "stream",
     "text": [
      "6\n",
      "2 4 6 7\n"
     ]
    },
    {
     "ename": "IndexError",
     "evalue": "pop from empty list",
     "output_type": "error",
     "traceback": [
      "\u001b[1;31m---------------------------------------------------------------------------\u001b[0m",
      "\u001b[1;31mIndexError\u001b[0m                                Traceback (most recent call last)",
      "\u001b[1;32m<ipython-input-26-b3bf72b1fa67>\u001b[0m in \u001b[0;36m<module>\u001b[1;34m\u001b[0m\n\u001b[0;32m     23\u001b[0m         \u001b[0mqueue\u001b[0m\u001b[1;33m.\u001b[0m\u001b[0mput\u001b[0m\u001b[1;33m(\u001b[0m\u001b[0mvalues\u001b[0m\u001b[1;33m[\u001b[0m\u001b[1;36m1\u001b[0m\u001b[1;33m]\u001b[0m\u001b[1;33m)\u001b[0m\u001b[1;33m\u001b[0m\u001b[1;33m\u001b[0m\u001b[0m\n\u001b[0;32m     24\u001b[0m     \u001b[1;32melif\u001b[0m \u001b[0mvalues\u001b[0m\u001b[1;33m[\u001b[0m\u001b[1;36m0\u001b[0m\u001b[1;33m]\u001b[0m \u001b[1;33m==\u001b[0m \u001b[1;36m2\u001b[0m\u001b[1;33m:\u001b[0m\u001b[1;33m\u001b[0m\u001b[1;33m\u001b[0m\u001b[0m\n\u001b[1;32m---> 25\u001b[1;33m         \u001b[0mqueue\u001b[0m\u001b[1;33m.\u001b[0m\u001b[0mpop\u001b[0m\u001b[1;33m(\u001b[0m\u001b[1;33m)\u001b[0m\u001b[1;33m\u001b[0m\u001b[1;33m\u001b[0m\u001b[0m\n\u001b[0m\u001b[0;32m     26\u001b[0m     \u001b[1;32melse\u001b[0m\u001b[1;33m:\u001b[0m\u001b[1;33m\u001b[0m\u001b[1;33m\u001b[0m\u001b[0m\n\u001b[0;32m     27\u001b[0m         \u001b[0mprint\u001b[0m\u001b[1;33m(\u001b[0m\u001b[0mqueue\u001b[0m\u001b[1;33m.\u001b[0m\u001b[0mpeek\u001b[0m\u001b[1;33m(\u001b[0m\u001b[1;33m)\u001b[0m\u001b[1;33m)\u001b[0m\u001b[1;33m\u001b[0m\u001b[1;33m\u001b[0m\u001b[0m\n",
      "\u001b[1;32m<ipython-input-26-b3bf72b1fa67>\u001b[0m in \u001b[0;36mpop\u001b[1;34m(self)\u001b[0m\n\u001b[0;32m      9\u001b[0m \u001b[1;33m\u001b[0m\u001b[0m\n\u001b[0;32m     10\u001b[0m     \u001b[1;32mdef\u001b[0m \u001b[0mpop\u001b[0m\u001b[1;33m(\u001b[0m\u001b[0mself\u001b[0m\u001b[1;33m)\u001b[0m\u001b[1;33m:\u001b[0m\u001b[1;33m\u001b[0m\u001b[1;33m\u001b[0m\u001b[0m\n\u001b[1;32m---> 11\u001b[1;33m         \u001b[1;32mreturn\u001b[0m \u001b[0mself\u001b[0m\u001b[1;33m.\u001b[0m\u001b[0mitems\u001b[0m\u001b[1;33m.\u001b[0m\u001b[0mpop\u001b[0m\u001b[1;33m(\u001b[0m\u001b[1;33m)\u001b[0m\u001b[1;33m\u001b[0m\u001b[1;33m\u001b[0m\u001b[0m\n\u001b[0m\u001b[0;32m     12\u001b[0m \u001b[1;33m\u001b[0m\u001b[0m\n\u001b[0;32m     13\u001b[0m     \u001b[1;32mdef\u001b[0m \u001b[0mput\u001b[0m\u001b[1;33m(\u001b[0m\u001b[0mself\u001b[0m\u001b[1;33m,\u001b[0m \u001b[0mvalue\u001b[0m\u001b[1;33m)\u001b[0m\u001b[1;33m:\u001b[0m\u001b[1;33m\u001b[0m\u001b[1;33m\u001b[0m\u001b[0m\n",
      "\u001b[1;31mIndexError\u001b[0m: pop from empty list"
     ]
    }
   ],
   "source": [
    "class MyQueue(object):\n",
    "    def __init__(self):\n",
    "        self.items=[]\n",
    "    \n",
    "    def peek(self):\n",
    "        i = self.items.pop()\n",
    "        self.items.append(i)\n",
    "        return i\n",
    "        \n",
    "    def pop(self):\n",
    "        return self.items.pop()\n",
    "        \n",
    "    def put(self, value):\n",
    "        self.items.insert(0, value)\n",
    "        \n",
    "\n",
    "queue = MyQueue()\n",
    "t = int(input())\n",
    "for line in range(t):\n",
    "    values = map(int, input().split())\n",
    "    values = list(values)\n",
    "    if values[0] == 1:\n",
    "        queue.put(values[1])        \n",
    "    elif values[0] == 2:\n",
    "        queue.pop()\n",
    "    else:\n",
    "        print(queue.peek())\n",
    "        "
   ]
  },
  {
   "cell_type": "markdown",
   "id": "dfdff41b",
   "metadata": {},
   "source": [
    "In this HackerRank Sum and Prod problem solution, You are given a 2-D array with dimensions NXM. Your task is to perform the sum tool over axis 0 and then find the product of that result."
   ]
  },
  {
   "cell_type": "code",
   "execution_count": 120,
   "id": "9da3bb67",
   "metadata": {
    "scrolled": true
   },
   "outputs": [
    {
     "name": "stdout",
     "output_type": "stream",
     "text": [
      "2\n",
      "3\n",
      "4\n",
      "7\n"
     ]
    }
   ],
   "source": [
    "import numpy\n",
    "\n",
    "A = []\n",
    "\n",
    "for i in range(int(input().split(' ')[0])):\n",
    "    A.append([int(x) for x in input().split(' ')])\n",
    "A = numpy.array(A)\n",
    "\n",
    "sum_prod = numpy.sum(A, axis=0)\n",
    "sum_prod = numpy.prod(sum_prod)\n",
    "\n",
    "print(sum_prod)\n"
   ]
  },
  {
   "cell_type": "markdown",
   "id": "db6bee63",
   "metadata": {},
   "source": []
  },
  {
   "cell_type": "code",
   "execution_count": null,
   "id": "3fedd60e",
   "metadata": {},
   "outputs": [],
   "source": []
  },
  {
   "cell_type": "markdown",
   "id": "80261f40",
   "metadata": {},
   "source": [
    "In this HackerRank Floor, Ceil, and Rint problem solution You are given a 1-D array, A. Your task is to print the floor, ceil, and rint of all the elements of A."
   ]
  },
  {
   "cell_type": "code",
   "execution_count": 121,
   "id": "e787ae6a",
   "metadata": {},
   "outputs": [
    {
     "name": "stdout",
     "output_type": "stream",
     "text": [
      "3\n",
      "[3.]\n",
      "[3.]\n",
      "[3.]\n"
     ]
    }
   ],
   "source": [
    "import numpy as np\n",
    "S = np.array(list(map(float,input().split()))) #raw_input\n",
    "print(np.floor(S))\n",
    "print(np.ceil(S))\n",
    "print(np.rint(S))\n"
   ]
  },
  {
   "cell_type": "markdown",
   "id": "157eecfb",
   "metadata": {},
   "source": [
    "In this HackerRank Array Mathematics problem solution, you are given two integer arrays A and B of dimensions N x M. and your task is to perform the operations on the arrays."
   ]
  },
  {
   "cell_type": "code",
   "execution_count": 123,
   "id": "1ecd2cc8",
   "metadata": {},
   "outputs": [
    {
     "name": "stdout",
     "output_type": "stream",
     "text": [
      "2 3\n",
      "5 7\n",
      "2 4\n",
      "1 6\n",
      "0 6\n",
      "[[ 6 13]\n",
      " [ 2 10]]\n",
      "[[ 4  1]\n",
      " [ 2 -2]]\n",
      "[[ 5 42]\n",
      " [ 0 24]]\n",
      "[[5 1]\n",
      " [0 0]]\n",
      "[[0 1]\n",
      " [0 4]]\n",
      "[[     5 117649]\n",
      " [     1   4096]]\n"
     ]
    },
    {
     "name": "stderr",
     "output_type": "stream",
     "text": [
      "<ipython-input-123-a84979f6e709>:13: RuntimeWarning: divide by zero encountered in floor_divide\n",
      "  print(np.floor_divide(npArr1,npArr2))\n",
      "<ipython-input-123-a84979f6e709>:14: RuntimeWarning: divide by zero encountered in remainder\n",
      "  print(np.mod(npArr1,npArr2))\n"
     ]
    }
   ],
   "source": [
    "import numpy as np\n",
    "[N,M]=list(map(int,input().split()))   #raw_input\n",
    "L1,L2 = [],[]\n",
    "for i in range(N):\n",
    "    L1.append(list(map(int,input().split()))) #raw_input\n",
    "for i in range(N):\n",
    "    L2.append(list(map(int,input().split()))) #raw_input\n",
    "npArr1 = np.array(L1)\n",
    "npArr2 = np.array(L2)\n",
    "print(np.add(npArr1,npArr2))\n",
    "print(np.subtract(npArr1,npArr2))\n",
    "print(np.multiply(npArr1,npArr2))\n",
    "print(np.floor_divide(npArr1,npArr2))\n",
    "print(np.mod(npArr1,npArr2))\n",
    "print(np.power(npArr1,npArr2))\n"
   ]
  },
  {
   "cell_type": "markdown",
   "id": "2f944b9b",
   "metadata": {},
   "source": [
    "In this HackerRank Eye and Identity problem solution Your task is to print an array of size N X M with its main diagonal elements as 1's and 0's everywhere else"
   ]
  },
  {
   "cell_type": "code",
   "execution_count": 124,
   "id": "cc70de6b",
   "metadata": {},
   "outputs": [
    {
     "name": "stdout",
     "output_type": "stream",
     "text": [
      "1 2\n",
      "[[1. 0.]]\n"
     ]
    }
   ],
   "source": [
    "import numpy\n",
    "\n",
    "N,M = list(int(x) for x in input().split()) #raw_input\n",
    "\n",
    "print(numpy.eye(N,M))"
   ]
  },
  {
   "cell_type": "markdown",
   "id": "b0483f94",
   "metadata": {},
   "source": [
    "In this HackerRank zero and One's problem solution, You are given the shape of the array in the form of space-separated integers, each integer representing the size of different dimensions, your task is to print an array of the given shape and integer type using the tools numpy.zeros and numpy.ones."
   ]
  },
  {
   "cell_type": "code",
   "execution_count": 126,
   "id": "b9803065",
   "metadata": {},
   "outputs": [
    {
     "name": "stdout",
     "output_type": "stream",
     "text": [
      "2\n",
      "[0 0]\n",
      "[1 1]\n"
     ]
    }
   ],
   "source": [
    "input = tuple(map(int, input().split())) #raw_input\n",
    "\n",
    "print(numpy.zeros(input,'int'))\n",
    "print(numpy.ones(input,'int'))"
   ]
  },
  {
   "cell_type": "markdown",
   "id": "0abacd64",
   "metadata": {},
   "source": [
    "In this HackerRank Default Arguments problem solution You are given two integer arrays of size N X P and M X P (N & M are rows, and P is the column). Your task is to concatenate the arrays along axis 0."
   ]
  },
  {
   "cell_type": "code",
   "execution_count": 134,
   "id": "9745e264",
   "metadata": {},
   "outputs": [
    {
     "ename": "TypeError",
     "evalue": "'tuple' object is not callable",
     "output_type": "error",
     "traceback": [
      "\u001b[1;31m---------------------------------------------------------------------------\u001b[0m",
      "\u001b[1;31mTypeError\u001b[0m                                 Traceback (most recent call last)",
      "\u001b[1;32m<ipython-input-134-c42dc89dc49c>\u001b[0m in \u001b[0;36m<module>\u001b[1;34m\u001b[0m\n\u001b[0;32m      1\u001b[0m \u001b[1;32mimport\u001b[0m \u001b[0mnumpy\u001b[0m\u001b[1;33m\u001b[0m\u001b[1;33m\u001b[0m\u001b[0m\n\u001b[1;32m----> 2\u001b[1;33m \u001b[0mN\u001b[0m\u001b[1;33m,\u001b[0m \u001b[0mM\u001b[0m\u001b[1;33m,\u001b[0m \u001b[0mP\u001b[0m \u001b[1;33m=\u001b[0m \u001b[0mmap\u001b[0m\u001b[1;33m(\u001b[0m\u001b[0mint\u001b[0m\u001b[1;33m,\u001b[0m \u001b[0minput\u001b[0m\u001b[1;33m(\u001b[0m\u001b[1;33m)\u001b[0m\u001b[1;33m.\u001b[0m\u001b[0msplit\u001b[0m\u001b[1;33m(\u001b[0m\u001b[1;34m\" \"\u001b[0m\u001b[1;33m)\u001b[0m\u001b[1;33m)\u001b[0m\u001b[1;33m\u001b[0m\u001b[1;33m\u001b[0m\u001b[0m\n\u001b[0m\u001b[0;32m      3\u001b[0m \u001b[1;33m\u001b[0m\u001b[0m\n\u001b[0;32m      4\u001b[0m \u001b[0marr1\u001b[0m \u001b[1;33m=\u001b[0m \u001b[0mnumpy\u001b[0m\u001b[1;33m.\u001b[0m\u001b[0marray\u001b[0m\u001b[1;33m(\u001b[0m\u001b[1;33m[\u001b[0m\u001b[0mlist\u001b[0m\u001b[1;33m(\u001b[0m\u001b[0mmap\u001b[0m\u001b[1;33m(\u001b[0m\u001b[0mint\u001b[0m\u001b[1;33m,\u001b[0m \u001b[0minput\u001b[0m\u001b[1;33m(\u001b[0m\u001b[1;33m)\u001b[0m\u001b[1;33m.\u001b[0m\u001b[0mrstrip\u001b[0m\u001b[1;33m(\u001b[0m\u001b[1;33m)\u001b[0m\u001b[1;33m.\u001b[0m\u001b[0msplit\u001b[0m\u001b[1;33m(\u001b[0m\u001b[1;34m\" \"\u001b[0m\u001b[1;33m)\u001b[0m\u001b[1;33m)\u001b[0m\u001b[1;33m)\u001b[0m \u001b[1;32mfor\u001b[0m \u001b[0mi\u001b[0m \u001b[1;32min\u001b[0m \u001b[0mrange\u001b[0m\u001b[1;33m(\u001b[0m\u001b[0mN\u001b[0m\u001b[1;33m)\u001b[0m\u001b[1;33m]\u001b[0m\u001b[1;33m)\u001b[0m\u001b[1;33m\u001b[0m\u001b[1;33m\u001b[0m\u001b[0m\n\u001b[0;32m      5\u001b[0m \u001b[0marr2\u001b[0m \u001b[1;33m=\u001b[0m \u001b[0mnumpy\u001b[0m\u001b[1;33m.\u001b[0m\u001b[0marray\u001b[0m\u001b[1;33m(\u001b[0m\u001b[1;33m[\u001b[0m\u001b[0mlist\u001b[0m\u001b[1;33m(\u001b[0m\u001b[0mmap\u001b[0m\u001b[1;33m(\u001b[0m\u001b[0mint\u001b[0m\u001b[1;33m,\u001b[0m \u001b[0minput\u001b[0m\u001b[1;33m(\u001b[0m\u001b[1;33m)\u001b[0m\u001b[1;33m.\u001b[0m\u001b[0mrstrip\u001b[0m\u001b[1;33m(\u001b[0m\u001b[1;33m)\u001b[0m\u001b[1;33m.\u001b[0m\u001b[0msplit\u001b[0m\u001b[1;33m(\u001b[0m\u001b[1;34m\" \"\u001b[0m\u001b[1;33m)\u001b[0m\u001b[1;33m)\u001b[0m\u001b[1;33m)\u001b[0m \u001b[1;32mfor\u001b[0m \u001b[0mi\u001b[0m \u001b[1;32min\u001b[0m \u001b[0mrange\u001b[0m\u001b[1;33m(\u001b[0m\u001b[0mM\u001b[0m\u001b[1;33m)\u001b[0m\u001b[1;33m]\u001b[0m\u001b[1;33m)\u001b[0m\u001b[1;33m\u001b[0m\u001b[1;33m\u001b[0m\u001b[0m\n",
      "\u001b[1;31mTypeError\u001b[0m: 'tuple' object is not callable"
     ]
    }
   ],
   "source": [
    "import numpy\n",
    "N, M, P = map(int, input().split(\" \"))\n",
    "\n",
    "arr1 = numpy.array([list(map(int, input().rstrip().split(\" \"))) for i in range(N)])\n",
    "arr2 = numpy.array([list(map(int, input().rstrip().split(\" \"))) for i in range(M)])\n",
    "print(numpy.concatenate((arr1, arr2)))\n"
   ]
  },
  {
   "cell_type": "markdown",
   "id": "f32999ab",
   "metadata": {},
   "source": [
    "In this HackerRank Default Arguments problem solution You are given a N X M integer array matrix with space separated elements (N = rows and M = columns). Your task is to print the transpose and flatten results."
   ]
  },
  {
   "cell_type": "code",
   "execution_count": 138,
   "id": "4de0199a",
   "metadata": {},
   "outputs": [
    {
     "ename": "TypeError",
     "evalue": "'tuple' object is not callable",
     "output_type": "error",
     "traceback": [
      "\u001b[1;31m---------------------------------------------------------------------------\u001b[0m",
      "\u001b[1;31mTypeError\u001b[0m                                 Traceback (most recent call last)",
      "\u001b[1;32m<ipython-input-138-be5fe026ce23>\u001b[0m in \u001b[0;36m<module>\u001b[1;34m\u001b[0m\n\u001b[0;32m      1\u001b[0m \u001b[1;32mimport\u001b[0m \u001b[0mnumpy\u001b[0m\u001b[1;33m\u001b[0m\u001b[1;33m\u001b[0m\u001b[0m\n\u001b[1;32m----> 2\u001b[1;33m \u001b[0mn\u001b[0m\u001b[1;33m,\u001b[0m\u001b[0mm\u001b[0m \u001b[1;33m=\u001b[0m \u001b[0mmap\u001b[0m\u001b[1;33m(\u001b[0m\u001b[0mint\u001b[0m\u001b[1;33m,\u001b[0m\u001b[0minput\u001b[0m\u001b[1;33m(\u001b[0m\u001b[1;33m)\u001b[0m\u001b[1;33m.\u001b[0m\u001b[0msplit\u001b[0m\u001b[1;33m(\u001b[0m\u001b[1;33m)\u001b[0m\u001b[1;33m)\u001b[0m \u001b[1;31m#raw_input\u001b[0m\u001b[1;33m\u001b[0m\u001b[1;33m\u001b[0m\u001b[0m\n\u001b[0m\u001b[0;32m      3\u001b[0m \u001b[0ma\u001b[0m\u001b[1;33m=\u001b[0m\u001b[1;33m[\u001b[0m\u001b[1;33m]\u001b[0m\u001b[1;33m\u001b[0m\u001b[1;33m\u001b[0m\u001b[0m\n\u001b[0;32m      4\u001b[0m \u001b[1;32mfor\u001b[0m \u001b[0mi\u001b[0m \u001b[1;32min\u001b[0m \u001b[0mxrange\u001b[0m\u001b[1;33m(\u001b[0m\u001b[0mn\u001b[0m\u001b[1;33m)\u001b[0m\u001b[1;33m:\u001b[0m\u001b[1;33m\u001b[0m\u001b[1;33m\u001b[0m\u001b[0m\n\u001b[0;32m      5\u001b[0m     \u001b[0ma\u001b[0m\u001b[1;33m.\u001b[0m\u001b[0mappend\u001b[0m\u001b[1;33m(\u001b[0m\u001b[0mmap\u001b[0m\u001b[1;33m(\u001b[0m\u001b[0mint\u001b[0m\u001b[1;33m,\u001b[0m\u001b[0minput\u001b[0m\u001b[1;33m(\u001b[0m\u001b[1;33m)\u001b[0m\u001b[1;33m.\u001b[0m\u001b[0msplit\u001b[0m\u001b[1;33m(\u001b[0m\u001b[1;33m)\u001b[0m\u001b[1;33m)\u001b[0m\u001b[1;33m)\u001b[0m \u001b[1;31m#raw_input\u001b[0m\u001b[1;33m\u001b[0m\u001b[1;33m\u001b[0m\u001b[0m\n",
      "\u001b[1;31mTypeError\u001b[0m: 'tuple' object is not callable"
     ]
    }
   ],
   "source": [
    "import numpy\n",
    "n,m = map(int,input().split()) #raw_input\n",
    "a=[]\n",
    "for i in xrange(n):\n",
    "    a.append(map(int,input().split())) #raw_input\n",
    "\n",
    "b = numpy.array(a)\n",
    "#print a       \n",
    "print(numpy.transpose(b))\n",
    "print(b.flatten())\n"
   ]
  },
  {
   "cell_type": "markdown",
   "id": "161010f7",
   "metadata": {},
   "source": [
    "In this HackerRank Shape and Reshape problem solution You are given a space-separated list of nine integers. Your task is to convert this list into a 3X3 NumPy array."
   ]
  },
  {
   "cell_type": "code",
   "execution_count": 140,
   "id": "9d8685d4",
   "metadata": {},
   "outputs": [
    {
     "ename": "TypeError",
     "evalue": "'tuple' object is not callable",
     "output_type": "error",
     "traceback": [
      "\u001b[1;31m---------------------------------------------------------------------------\u001b[0m",
      "\u001b[1;31mTypeError\u001b[0m                                 Traceback (most recent call last)",
      "\u001b[1;32m<ipython-input-140-7fb4563c7e93>\u001b[0m in \u001b[0;36m<module>\u001b[1;34m\u001b[0m\n\u001b[0;32m      1\u001b[0m \u001b[1;32mimport\u001b[0m \u001b[0mnumpy\u001b[0m\u001b[1;33m\u001b[0m\u001b[1;33m\u001b[0m\u001b[0m\n\u001b[1;32m----> 2\u001b[1;33m \u001b[0mstr_input\u001b[0m\u001b[1;33m=\u001b[0m\u001b[0minput\u001b[0m\u001b[1;33m(\u001b[0m\u001b[1;33m)\u001b[0m \u001b[1;31m#raw_input\u001b[0m\u001b[1;33m\u001b[0m\u001b[1;33m\u001b[0m\u001b[0m\n\u001b[0m\u001b[0;32m      3\u001b[0m \u001b[0mstr_input1\u001b[0m\u001b[1;33m=\u001b[0m \u001b[0mstr_input\u001b[0m\u001b[1;33m.\u001b[0m\u001b[0msplit\u001b[0m\u001b[1;33m(\u001b[0m\u001b[1;34m\" \"\u001b[0m\u001b[1;33m)\u001b[0m\u001b[1;33m\u001b[0m\u001b[1;33m\u001b[0m\u001b[0m\n\u001b[0;32m      4\u001b[0m \u001b[0ma\u001b[0m\u001b[1;33m=\u001b[0m\u001b[0mnumpy\u001b[0m\u001b[1;33m.\u001b[0m\u001b[0marray\u001b[0m\u001b[1;33m(\u001b[0m\u001b[1;33m[\u001b[0m\u001b[1;33m]\u001b[0m\u001b[1;33m,\u001b[0m\u001b[0mint\u001b[0m\u001b[1;33m)\u001b[0m\u001b[1;33m\u001b[0m\u001b[1;33m\u001b[0m\u001b[0m\n\u001b[0;32m      5\u001b[0m \u001b[1;32mfor\u001b[0m \u001b[0mi\u001b[0m \u001b[1;32min\u001b[0m \u001b[0mrange\u001b[0m\u001b[1;33m(\u001b[0m\u001b[0mlen\u001b[0m\u001b[1;33m(\u001b[0m\u001b[0mstr_input1\u001b[0m\u001b[1;33m)\u001b[0m\u001b[1;33m)\u001b[0m\u001b[1;33m:\u001b[0m\u001b[1;33m\u001b[0m\u001b[1;33m\u001b[0m\u001b[0m\n",
      "\u001b[1;31mTypeError\u001b[0m: 'tuple' object is not callable"
     ]
    }
   ],
   "source": [
    "import numpy\n",
    "str_input=input() #raw_input\n",
    "str_input1= str_input.split(\" \")\n",
    "a=numpy.array([],int)\n",
    "for i in range(len(str_input1)):\n",
    "    test=int(str_input1[i])\n",
    "    a=numpy.append(a,test)\n",
    "#a.shape = (3, 3)\n",
    "reshape_val=int(numpy.sqrt(len(str_input1)))\n",
    "print(numpy.reshape(a,(reshape_val,reshape_val)))"
   ]
  },
  {
   "cell_type": "markdown",
   "id": "391553b9",
   "metadata": {},
   "source": [
    "In this HackerRank Arrays problem solution, You are given a space-separated list of numbers. Your task is to print a reversed NumPy array with the element type float."
   ]
  },
  {
   "cell_type": "code",
   "execution_count": 142,
   "id": "ab5e7468",
   "metadata": {},
   "outputs": [
    {
     "ename": "TypeError",
     "evalue": "'tuple' object is not callable",
     "output_type": "error",
     "traceback": [
      "\u001b[1;31m---------------------------------------------------------------------------\u001b[0m",
      "\u001b[1;31mTypeError\u001b[0m                                 Traceback (most recent call last)",
      "\u001b[1;32m<ipython-input-142-4fb0e51268b5>\u001b[0m in \u001b[0;36m<module>\u001b[1;34m\u001b[0m\n\u001b[0;32m      1\u001b[0m \u001b[1;32mimport\u001b[0m \u001b[0mnumpy\u001b[0m\u001b[1;33m\u001b[0m\u001b[1;33m\u001b[0m\u001b[0m\n\u001b[1;32m----> 2\u001b[1;33m \u001b[0mL\u001b[0m \u001b[1;33m=\u001b[0m \u001b[0mlist\u001b[0m\u001b[1;33m(\u001b[0m\u001b[0mmap\u001b[0m\u001b[1;33m(\u001b[0m\u001b[0mfloat\u001b[0m\u001b[1;33m,\u001b[0m \u001b[0minput\u001b[0m\u001b[1;33m(\u001b[0m\u001b[1;33m)\u001b[0m\u001b[1;33m.\u001b[0m\u001b[0msplit\u001b[0m\u001b[1;33m(\u001b[0m\u001b[1;33m)\u001b[0m\u001b[1;33m)\u001b[0m\u001b[1;33m)\u001b[0m\u001b[1;33m[\u001b[0m\u001b[1;33m:\u001b[0m\u001b[1;33m:\u001b[0m\u001b[1;33m-\u001b[0m\u001b[1;36m1\u001b[0m\u001b[1;33m]\u001b[0m\u001b[1;33m\u001b[0m\u001b[1;33m\u001b[0m\u001b[0m\n\u001b[0m\u001b[0;32m      3\u001b[0m \u001b[0mprint\u001b[0m\u001b[1;33m(\u001b[0m\u001b[0mnumpy\u001b[0m\u001b[1;33m.\u001b[0m\u001b[0marray\u001b[0m\u001b[1;33m(\u001b[0m\u001b[0mL\u001b[0m\u001b[1;33m,\u001b[0m \u001b[0mfloat\u001b[0m\u001b[1;33m)\u001b[0m\u001b[1;33m)\u001b[0m\u001b[1;33m\u001b[0m\u001b[1;33m\u001b[0m\u001b[0m\n\u001b[0;32m      4\u001b[0m \u001b[1;33m\u001b[0m\u001b[0m\n",
      "\u001b[1;31mTypeError\u001b[0m: 'tuple' object is not callable"
     ]
    }
   ],
   "source": [
    "#first solution \n",
    "\n",
    "import numpy\n",
    "L = list(map(float, input().split()))[::-1] #raw_input\n",
    "print(numpy.array(L, float))\n",
    "      "
   ]
  },
  {
   "cell_type": "code",
   "execution_count": 144,
   "id": "edce8253",
   "metadata": {},
   "outputs": [
    {
     "ename": "TypeError",
     "evalue": "'tuple' object is not callable",
     "output_type": "error",
     "traceback": [
      "\u001b[1;31m---------------------------------------------------------------------------\u001b[0m",
      "\u001b[1;31mTypeError\u001b[0m                                 Traceback (most recent call last)",
      "\u001b[1;32m<ipython-input-144-561c90b17359>\u001b[0m in \u001b[0;36m<module>\u001b[1;34m\u001b[0m\n\u001b[0;32m      2\u001b[0m \u001b[1;32mimport\u001b[0m \u001b[0mnumpy\u001b[0m \u001b[1;32mas\u001b[0m \u001b[0mnp\u001b[0m\u001b[1;33m\u001b[0m\u001b[1;33m\u001b[0m\u001b[0m\n\u001b[0;32m      3\u001b[0m \u001b[1;33m\u001b[0m\u001b[0m\n\u001b[1;32m----> 4\u001b[1;33m \u001b[0mN\u001b[0m\u001b[1;33m=\u001b[0m \u001b[0mnp\u001b[0m\u001b[1;33m.\u001b[0m\u001b[0marray\u001b[0m\u001b[1;33m(\u001b[0m\u001b[0mmap\u001b[0m\u001b[1;33m(\u001b[0m\u001b[0mfloat\u001b[0m\u001b[1;33m,\u001b[0m \u001b[0mreversed\u001b[0m\u001b[1;33m(\u001b[0m\u001b[0minput\u001b[0m\u001b[1;33m(\u001b[0m\u001b[1;33m)\u001b[0m\u001b[1;33m.\u001b[0m\u001b[0msplit\u001b[0m\u001b[1;33m(\u001b[0m\u001b[1;33m)\u001b[0m\u001b[1;33m)\u001b[0m\u001b[1;33m)\u001b[0m\u001b[1;33m)\u001b[0m\u001b[1;33m\u001b[0m\u001b[1;33m\u001b[0m\u001b[0m\n\u001b[0m\u001b[0;32m      5\u001b[0m \u001b[0mprint\u001b[0m\u001b[1;33m(\u001b[0m\u001b[0mN\u001b[0m\u001b[1;33m)\u001b[0m\u001b[1;33m\u001b[0m\u001b[1;33m\u001b[0m\u001b[0m\n",
      "\u001b[1;31mTypeError\u001b[0m: 'tuple' object is not callable"
     ]
    }
   ],
   "source": [
    "#second solution \n",
    "import numpy as np\n",
    "\n",
    "N= np.array(map(float, reversed(input().split()))) #raw_input\n",
    "print(N)\n"
   ]
  },
  {
   "cell_type": "markdown",
   "id": "f4cbee77",
   "metadata": {},
   "source": [
    "In this HackerRank Word Score problem solution In this challenge, the task is to debug the existing code to successfully execute all provided test files.\n",
    "\n",
    "Consider that vowels in the alphabet are a, e, i, o, u, and y. Function score_words takes a list of lowercase words as an argument and returns a score as follows:\n",
    "\n",
    "The score of a single word is 2 if the word contains an even number of vowels. Otherwise, the score of this word is 1. The score for the whole list of words is the sum of scores of all words in the list.\n",
    "\n",
    "Debug the given function score_words such that it returns a correct score. Your function will be tested on several cases by the locked template code."
   ]
  },
  {
   "cell_type": "code",
   "execution_count": 5,
   "id": "e6a0b0d9",
   "metadata": {},
   "outputs": [],
   "source": [
    "def is_vowel(letter):\n",
    "    return letter in ['a', 'e', 'i', 'o', 'u', 'y']\n",
    "\n",
    "def score_words(words):\n",
    "    score = 0\n",
    "    for word in words:\n",
    "        num_vowels = 0\n",
    "        for letter in word:\n",
    "            if is_vowel(letter):\n",
    "                num_vowels += 1\n",
    "        if num_vowels % 2 == 0:\n",
    "            score += 2\n",
    "        else:\n",
    "            score += 1\n",
    "    return score\n"
   ]
  },
  {
   "cell_type": "markdown",
   "id": "543452d2",
   "metadata": {},
   "source": [
    "In this HackerRank Matrix Script problem solution Neo has a complex matrix script. The matrix script is a N X M grid of strings. It consists of alphanumeric characters, spaces and symbols (!,@,#,$,%,&).\n",
    "\n",
    "To decode the script, Neo needs to read each column and select only the alphanumeric characters and connect them. Neo reads the column from top to bottom and starts reading from the leftmost column.\n",
    "\n",
    "If there are symbols or spaces between two alphanumeric characters of the decoded script, then Neo replaces them with a single space '' for better readability.\n",
    "\n",
    "Neo feels that there is no need to use 'if' conditions for decoding. Alphanumeric characters consist of: [A-Z, a-z, and 0-9]."
   ]
  },
  {
   "cell_type": "code",
   "execution_count": null,
   "id": "c6676145",
   "metadata": {},
   "outputs": [],
   "source": [
    "import sys\n",
    "import re\n",
    "N, M = map(int, sys.stdin.readline().split())\n",
    "rows = [sys.stdin.readline()[:M] for i in xrange(N)]\n",
    "\n",
    "cols = [''.join([rows[i][j] for i in xrange(N)]) for j in xrange(M)]\n",
    "decode = ''.join(cols)\n",
    "\n",
    "print re.sub('([0-9a-zA-Z])[^0-9a-zA-Z]+([0-9a-zA-Z])', '\\g<1> \\g<2>', decode)\n",
    "\n",
    "#bdict = {True: 1, False: 0}\n",
    "#fanum = -max([-i*bdict[c.isalnum()] for i, c in enumerate(decode)])\n",
    "#lanum = max([i*bdict[c.isalnum()] for i, c in enumerate(decode)])+1\n",
    "\n",
    "#decsub = decode[fanum:lanum]\n",
    "#decsub = re.sub('[^0-9a-zA-Z]+', ' ', decsub)\n",
    "#print decode[:fanum] + decsub + decode[lanum:]\n"
   ]
  },
  {
   "cell_type": "markdown",
   "id": "8915a474",
   "metadata": {},
   "source": [
    "In this HackerRank Decorators 2 - Name Directory problem solution You are given some information about N people. Each person has a first name, last name, age, and sex. Print their names in a specific format sorted by their age in ascending order i.e. the youngest person's name should be printed first. For two people of the same age, print them in the order of their input."
   ]
  },
  {
   "cell_type": "code",
   "execution_count": null,
   "id": "ccd962e1",
   "metadata": {},
   "outputs": [],
   "source": [
    "# Enter your code here. Read input from STDIN. Print output to STDOUT\n",
    "from operator import itemgetter\n",
    "list = []\n",
    "for i in xrange(input()):\n",
    "    list.append(raw_input().split(' '))\n",
    "list.sort(key=itemgetter(2))\n",
    "for id in list:\n",
    "    print('Mr.' if  id[3]=='M' else 'Ms.'), id[0], id[1]"
   ]
  },
  {
   "cell_type": "markdown",
   "id": "1b5bf050",
   "metadata": {},
   "source": [
    "n this HackerRank Crossword Puzzle Interview preparation kit problem you need to Complete the crosswordPuzzle function. It should return an array of strings, each representing a row of the finished puzzle."
   ]
  },
  {
   "cell_type": "code",
   "execution_count": 4,
   "id": "c7b8909e",
   "metadata": {},
   "outputs": [
    {
     "name": "stdout",
     "output_type": "stream",
     "text": [
      "2 3\n",
      "2 3\n",
      "2 3\n",
      "11 4\n",
      "1 3\n",
      "4 5\n",
      "3 5\n",
      "3 5\n",
      "2 4\n",
      "2 5\n",
      "6 3\n"
     ]
    },
    {
     "ename": "TypeError",
     "evalue": "object of type 'NoneType' has no len()",
     "output_type": "error",
     "traceback": [
      "\u001b[1;31m---------------------------------------------------------------------------\u001b[0m",
      "\u001b[1;31mTypeError\u001b[0m                                 Traceback (most recent call last)",
      "\u001b[1;32m<ipython-input-4-2bc1242b5a7e>\u001b[0m in \u001b[0;36m<module>\u001b[1;34m\u001b[0m\n\u001b[0;32m    122\u001b[0m     \u001b[0mfirst_board\u001b[0m\u001b[1;33m.\u001b[0m\u001b[0minsert\u001b[0m\u001b[1;33m(\u001b[0m\u001b[0mx\u001b[0m\u001b[1;33m,\u001b[0m \u001b[0mstring_list\u001b[0m\u001b[1;33m)\u001b[0m\u001b[1;33m\u001b[0m\u001b[1;33m\u001b[0m\u001b[0m\n\u001b[0;32m    123\u001b[0m \u001b[0mwords\u001b[0m \u001b[1;33m=\u001b[0m \u001b[0minput\u001b[0m\u001b[1;33m(\u001b[0m\u001b[1;33m)\u001b[0m\u001b[1;33m.\u001b[0m\u001b[0msplit\u001b[0m\u001b[1;33m(\u001b[0m\u001b[1;34m';'\u001b[0m\u001b[1;33m)\u001b[0m\u001b[1;33m\u001b[0m\u001b[1;33m\u001b[0m\u001b[0m\n\u001b[1;32m--> 124\u001b[1;33m \u001b[0mfill_board\u001b[0m\u001b[1;33m(\u001b[0m\u001b[0mfirst_board\u001b[0m\u001b[1;33m,\u001b[0m \u001b[0mwords\u001b[0m\u001b[1;33m)\u001b[0m\u001b[1;33m\u001b[0m\u001b[1;33m\u001b[0m\u001b[0m\n\u001b[0m",
      "\u001b[1;32m<ipython-input-4-2bc1242b5a7e>\u001b[0m in \u001b[0;36mfill_board\u001b[1;34m(board, words)\u001b[0m\n\u001b[0;32m      9\u001b[0m             \u001b[0mprint\u001b[0m\u001b[1;33m(\u001b[0m\u001b[1;34m\"\"\u001b[0m\u001b[1;33m)\u001b[0m\u001b[1;33m\u001b[0m\u001b[1;33m\u001b[0m\u001b[0m\n\u001b[0;32m     10\u001b[0m     \u001b[0mfirst_open_space\u001b[0m \u001b[1;33m=\u001b[0m \u001b[0mopen_space_finder\u001b[0m\u001b[1;33m(\u001b[0m\u001b[0mboard\u001b[0m\u001b[1;33m)\u001b[0m\u001b[1;33m\u001b[0m\u001b[1;33m\u001b[0m\u001b[0m\n\u001b[1;32m---> 11\u001b[1;33m     \u001b[0mresult\u001b[0m \u001b[1;33m=\u001b[0m \u001b[0mword_placer\u001b[0m\u001b[1;33m(\u001b[0m\u001b[0mfirst_open_space\u001b[0m\u001b[1;33m,\u001b[0m \u001b[0mboard\u001b[0m\u001b[1;33m,\u001b[0m \u001b[0mwords\u001b[0m\u001b[1;33m)\u001b[0m\u001b[1;33m\u001b[0m\u001b[1;33m\u001b[0m\u001b[0m\n\u001b[0m\u001b[0;32m     12\u001b[0m     \u001b[1;32mif\u001b[0m \u001b[1;32mnot\u001b[0m \u001b[0mresult\u001b[0m\u001b[1;33m:\u001b[0m\u001b[1;33m\u001b[0m\u001b[1;33m\u001b[0m\u001b[0m\n\u001b[0;32m     13\u001b[0m         \u001b[1;32mreturn\u001b[0m \u001b[1;32mFalse\u001b[0m\u001b[1;33m\u001b[0m\u001b[1;33m\u001b[0m\u001b[0m\n",
      "\u001b[1;32m<ipython-input-4-2bc1242b5a7e>\u001b[0m in \u001b[0;36mword_placer\u001b[1;34m(place_list, board, words)\u001b[0m\n\u001b[0;32m     98\u001b[0m \u001b[1;33m\u001b[0m\u001b[0m\n\u001b[0;32m     99\u001b[0m \u001b[1;32mdef\u001b[0m \u001b[0mword_placer\u001b[0m\u001b[1;33m(\u001b[0m\u001b[0mplace_list\u001b[0m\u001b[1;33m,\u001b[0m \u001b[0mboard\u001b[0m\u001b[1;33m,\u001b[0m \u001b[0mwords\u001b[0m\u001b[1;33m)\u001b[0m\u001b[1;33m:\u001b[0m\u001b[1;33m\u001b[0m\u001b[1;33m\u001b[0m\u001b[0m\n\u001b[1;32m--> 100\u001b[1;33m     \u001b[0mwords_that_fit\u001b[0m \u001b[1;33m=\u001b[0m \u001b[1;33m[\u001b[0m\u001b[0mX\u001b[0m \u001b[1;32mfor\u001b[0m \u001b[0mX\u001b[0m \u001b[1;32min\u001b[0m \u001b[0mwords\u001b[0m \u001b[1;32mif\u001b[0m \u001b[0mlen\u001b[0m\u001b[1;33m(\u001b[0m\u001b[0mX\u001b[0m\u001b[1;33m)\u001b[0m \u001b[1;33m==\u001b[0m \u001b[0mlen\u001b[0m\u001b[1;33m(\u001b[0m\u001b[0mplace_list\u001b[0m\u001b[1;33m)\u001b[0m\u001b[1;33m]\u001b[0m\u001b[1;33m\u001b[0m\u001b[1;33m\u001b[0m\u001b[0m\n\u001b[0m\u001b[0;32m    101\u001b[0m \u001b[1;33m\u001b[0m\u001b[0m\n\u001b[0;32m    102\u001b[0m     \u001b[1;32mfor\u001b[0m \u001b[0ma\u001b[0m \u001b[1;32min\u001b[0m \u001b[0mwords_that_fit\u001b[0m\u001b[1;33m:\u001b[0m\u001b[1;33m\u001b[0m\u001b[1;33m\u001b[0m\u001b[0m\n",
      "\u001b[1;32m<ipython-input-4-2bc1242b5a7e>\u001b[0m in \u001b[0;36m<listcomp>\u001b[1;34m(.0)\u001b[0m\n\u001b[0;32m     98\u001b[0m \u001b[1;33m\u001b[0m\u001b[0m\n\u001b[0;32m     99\u001b[0m \u001b[1;32mdef\u001b[0m \u001b[0mword_placer\u001b[0m\u001b[1;33m(\u001b[0m\u001b[0mplace_list\u001b[0m\u001b[1;33m,\u001b[0m \u001b[0mboard\u001b[0m\u001b[1;33m,\u001b[0m \u001b[0mwords\u001b[0m\u001b[1;33m)\u001b[0m\u001b[1;33m:\u001b[0m\u001b[1;33m\u001b[0m\u001b[1;33m\u001b[0m\u001b[0m\n\u001b[1;32m--> 100\u001b[1;33m     \u001b[0mwords_that_fit\u001b[0m \u001b[1;33m=\u001b[0m \u001b[1;33m[\u001b[0m\u001b[0mX\u001b[0m \u001b[1;32mfor\u001b[0m \u001b[0mX\u001b[0m \u001b[1;32min\u001b[0m \u001b[0mwords\u001b[0m \u001b[1;32mif\u001b[0m \u001b[0mlen\u001b[0m\u001b[1;33m(\u001b[0m\u001b[0mX\u001b[0m\u001b[1;33m)\u001b[0m \u001b[1;33m==\u001b[0m \u001b[0mlen\u001b[0m\u001b[1;33m(\u001b[0m\u001b[0mplace_list\u001b[0m\u001b[1;33m)\u001b[0m\u001b[1;33m]\u001b[0m\u001b[1;33m\u001b[0m\u001b[1;33m\u001b[0m\u001b[0m\n\u001b[0m\u001b[0;32m    101\u001b[0m \u001b[1;33m\u001b[0m\u001b[0m\n\u001b[0;32m    102\u001b[0m     \u001b[1;32mfor\u001b[0m \u001b[0ma\u001b[0m \u001b[1;32min\u001b[0m \u001b[0mwords_that_fit\u001b[0m\u001b[1;33m:\u001b[0m\u001b[1;33m\u001b[0m\u001b[1;33m\u001b[0m\u001b[0m\n",
      "\u001b[1;31mTypeError\u001b[0m: object of type 'NoneType' has no len()"
     ]
    }
   ],
   "source": [
    "from copy import deepcopy\n",
    "\n",
    "\n",
    "def fill_board(board, words):\n",
    "    if len(words) == 0:\n",
    "        for a in board:\n",
    "            for b in a:\n",
    "                print(b, end=\"\")\n",
    "            print(\"\")\n",
    "    first_open_space = open_space_finder(board)\n",
    "    result = word_placer(first_open_space, board, words)\n",
    "    if not result:\n",
    "        return False\n",
    "\n",
    "def open_space_finder(board):\n",
    "    for a in range(len(board)):\n",
    "        for b in range(len(board[a])):\n",
    "            if board[a][b] == '-':\n",
    "                return word_finder([a, b], board)\n",
    "\n",
    "\n",
    "def word_finder(open_space, board):\n",
    "    word_place =[]\n",
    "    x = open_space[0]\n",
    "    y = open_space[1]\n",
    "    if x in range(1, len(board)-1):\n",
    "        if look_up(x,y,board):\n",
    "            word_place.append([x-1, y])\n",
    "            word_place.append(open_space)\n",
    "            return fill_down(word_place, board)\n",
    "        if look_down(x,y,board):\n",
    "            word_place.append(open_space)\n",
    "            word_place.append([x+1, y])\n",
    "            return fill_down(word_place, board)\n",
    "    elif x == 0:\n",
    "        if look_down(x,y,board):\n",
    "            word_place.append(open_space)\n",
    "            word_place.append([x+1, y])\n",
    "            return fill_down(word_place, board)\n",
    "\n",
    "    if y in range(1, len(board[y])-1):\n",
    "        if look_left(x,y,board):\n",
    "            word_place.append([x, y-1])\n",
    "            word_place.append(open_space)\n",
    "            return fill_across(word_place, board)\n",
    "        if look_right(x,y, board):\n",
    "            word_place.append(open_space)\n",
    "            word_place.append([x, y+1])\n",
    "            return fill_across(word_place, board)\n",
    "    elif y == 0:\n",
    "        if look_right(x,y, board):\n",
    "            word_place.append(open_space)\n",
    "            word_place.append([x, y+1])\n",
    "            return fill_across(word_place, board)\n",
    "\n",
    "\n",
    "def look_up(x, y, board):\n",
    "    return board[x-1][y]!='+'\n",
    "\n",
    "\n",
    "def look_down(x, y, board):\n",
    "    return board[x+1][y]!='+'\n",
    "\n",
    "\n",
    "def look_left(x, y, board):\n",
    "    return board[x][y-1]!='+'\n",
    "\n",
    "\n",
    "def look_right(x, y, board):\n",
    "    return board[x][y+1] != '+'\n",
    "\n",
    "\n",
    "def fill_down(place_list, board):\n",
    "    where_to_start = place_list[len(place_list)-1]\n",
    "    x =where_to_start[0]+1\n",
    "    y= where_to_start[1]\n",
    "    while x<len(board):\n",
    "        if board[x][y]!='+':\n",
    "            place_list.append([x,y])\n",
    "            x += 1\n",
    "        else:\n",
    "            x=len(board)\n",
    "    return place_list\n",
    "\n",
    "\n",
    "def fill_across(place_list, board):\n",
    "    where_to_start = place_list[len(place_list)-1]\n",
    "    x = where_to_start[0]\n",
    "    y = where_to_start[1]+1\n",
    "    while y<len(board[x]):\n",
    "        if board[x][y] != '+':\n",
    "            place_list.append([x,y])\n",
    "            y += 1\n",
    "        else:\n",
    "            y = len(board[x])\n",
    "    return place_list\n",
    "\n",
    "\n",
    "def word_placer(place_list, board, words):\n",
    "    words_that_fit = [X for X in words if len(X) == len(place_list)]\n",
    "\n",
    "    for a in words_that_fit:\n",
    "        board1 = deepcopy(board)\n",
    "        words1 = deepcopy(words)\n",
    "        for index in range(len(a)):\n",
    "            x = place_list[index][0]\n",
    "            y = place_list[index][1]\n",
    "            if board[x][y] == '-':\n",
    "                board1[x][y] = a[index]\n",
    "            else:\n",
    "                if board[x][y] != a[index]:\n",
    "                    break\n",
    "            if index == len(a)-1:\n",
    "                words1.remove(a)\n",
    "                buzz = fill_board(board1, words1)\n",
    "                break\n",
    "    return False\n",
    "first_board = []\n",
    "for x in range(10):\n",
    "    string = input()\n",
    "    string_list =list(string)\n",
    "    first_board.insert(x, string_list)\n",
    "words = input().split(';')\n",
    "fill_board(first_board, words)\n"
   ]
  },
  {
   "cell_type": "markdown",
   "id": "7bcd2c2c",
   "metadata": {},
   "source": [
    "In this HackerRank Time Complexity: Primality Interview preparation kit problem You have Given p integers, determine the primality of each integer and return Prime or Not prime on a new line."
   ]
  },
  {
   "cell_type": "code",
   "execution_count": 1,
   "id": "59263727",
   "metadata": {},
   "outputs": [
    {
     "name": "stdout",
     "output_type": "stream",
     "text": [
      "2\n",
      "3\n",
      "Prime\n",
      "4\n",
      "Prime\n"
     ]
    }
   ],
   "source": [
    "from math import *\n",
    "p = int(input().strip())\n",
    "for a0 in range(p):\n",
    "    n = int(input().strip())\n",
    "    f=5\n",
    "    if(n!=1):\n",
    "        for i in range(2,int(sqrt(n))):\n",
    "            if(n%i==0):\n",
    "                f=0\n",
    "    if(f==0 or n==1):\n",
    "        print(\"Not prime\")\n",
    "    else:\n",
    "        print(\"Prime\")\n",
    "    "
   ]
  },
  {
   "cell_type": "markdown",
   "id": "64e0fcb0",
   "metadata": {},
   "source": [
    "In this HackerRank Find the Running Median problem we have given an input stream of n integers, and we need to add the integer to a running list of integers. and then we need to find the median of the updated list and then print the updated median on the new line."
   ]
  },
  {
   "cell_type": "code",
   "execution_count": 7,
   "id": "79d7b0ec",
   "metadata": {},
   "outputs": [
    {
     "name": "stdout",
     "output_type": "stream",
     "text": [
      "2\n",
      "3\n",
      "3\n",
      "4\n",
      "3.5\n"
     ]
    }
   ],
   "source": [
    "from heapq import *\n",
    "under = []\n",
    "upper = []\n",
    "N = int(input())\n",
    "for _ in range(N):\n",
    "    curNumber = int(input())\n",
    "    if (len(upper) == 0):\n",
    "        upper.append(curNumber)\n",
    "        print(curNumber)\n",
    "        continue\n",
    "    middle = upper[0]\n",
    "    if curNumber >= middle:\n",
    "        heappush(upper,curNumber)\n",
    "    else:\n",
    "        heappush(under, -curNumber)\n",
    "    if len(under) >= len(upper):\n",
    "        heappush(upper, -heappop(under))\n",
    "    if len(upper) >= len(under) + 2:\n",
    "        heappush(under, -heappop(upper))\n",
    "    if (len(upper) + len(under)) % 2 == 1:\n",
    "        print(float(upper[0]))\n",
    "    else:\n",
    "        print((float(upper[0]) + -under[0])/2)\n"
   ]
  },
  {
   "cell_type": "markdown",
   "id": "2196b288",
   "metadata": {},
   "source": [
    "In this HackerRank Minimum Loss 1 problem-solution, Lauren has a chart of distinct projected prices for a house over the next several years. She must buy the house in one year and sell it in another, and she must do so at a loss. She wants to minimize her financial loss."
   ]
  },
  {
   "cell_type": "code",
   "execution_count": 8,
   "id": "b2f2ce3f",
   "metadata": {},
   "outputs": [
    {
     "ename": "KeyError",
     "evalue": "'OUTPUT_PATH'",
     "output_type": "error",
     "traceback": [
      "\u001b[1;31m---------------------------------------------------------------------------\u001b[0m",
      "\u001b[1;31mKeyError\u001b[0m                                  Traceback (most recent call last)",
      "\u001b[1;32m<ipython-input-8-3a19610afa9e>\u001b[0m in \u001b[0;36m<module>\u001b[1;34m\u001b[0m\n\u001b[0;32m     23\u001b[0m \u001b[1;33m\u001b[0m\u001b[0m\n\u001b[0;32m     24\u001b[0m \u001b[1;32mif\u001b[0m \u001b[0m__name__\u001b[0m \u001b[1;33m==\u001b[0m \u001b[1;34m'__main__'\u001b[0m\u001b[1;33m:\u001b[0m\u001b[1;33m\u001b[0m\u001b[1;33m\u001b[0m\u001b[0m\n\u001b[1;32m---> 25\u001b[1;33m     \u001b[0mfptr\u001b[0m \u001b[1;33m=\u001b[0m \u001b[0mopen\u001b[0m\u001b[1;33m(\u001b[0m\u001b[0mos\u001b[0m\u001b[1;33m.\u001b[0m\u001b[0menviron\u001b[0m\u001b[1;33m[\u001b[0m\u001b[1;34m'OUTPUT_PATH'\u001b[0m\u001b[1;33m]\u001b[0m\u001b[1;33m,\u001b[0m \u001b[1;34m'w'\u001b[0m\u001b[1;33m)\u001b[0m\u001b[1;33m\u001b[0m\u001b[1;33m\u001b[0m\u001b[0m\n\u001b[0m\u001b[0;32m     26\u001b[0m \u001b[1;33m\u001b[0m\u001b[0m\n\u001b[0;32m     27\u001b[0m     \u001b[0mn\u001b[0m \u001b[1;33m=\u001b[0m \u001b[0mint\u001b[0m\u001b[1;33m(\u001b[0m\u001b[0minput\u001b[0m\u001b[1;33m(\u001b[0m\u001b[1;33m)\u001b[0m\u001b[1;33m.\u001b[0m\u001b[0mstrip\u001b[0m\u001b[1;33m(\u001b[0m\u001b[1;33m)\u001b[0m\u001b[1;33m)\u001b[0m\u001b[1;33m\u001b[0m\u001b[1;33m\u001b[0m\u001b[0m\n",
      "\u001b[1;32m~\\anaconda3\\lib\\os.py\u001b[0m in \u001b[0;36m__getitem__\u001b[1;34m(self, key)\u001b[0m\n\u001b[0;32m    673\u001b[0m         \u001b[1;32mexcept\u001b[0m \u001b[0mKeyError\u001b[0m\u001b[1;33m:\u001b[0m\u001b[1;33m\u001b[0m\u001b[1;33m\u001b[0m\u001b[0m\n\u001b[0;32m    674\u001b[0m             \u001b[1;31m# raise KeyError with the original key value\u001b[0m\u001b[1;33m\u001b[0m\u001b[1;33m\u001b[0m\u001b[1;33m\u001b[0m\u001b[0m\n\u001b[1;32m--> 675\u001b[1;33m             \u001b[1;32mraise\u001b[0m \u001b[0mKeyError\u001b[0m\u001b[1;33m(\u001b[0m\u001b[0mkey\u001b[0m\u001b[1;33m)\u001b[0m \u001b[1;32mfrom\u001b[0m \u001b[1;32mNone\u001b[0m\u001b[1;33m\u001b[0m\u001b[1;33m\u001b[0m\u001b[0m\n\u001b[0m\u001b[0;32m    676\u001b[0m         \u001b[1;32mreturn\u001b[0m \u001b[0mself\u001b[0m\u001b[1;33m.\u001b[0m\u001b[0mdecodevalue\u001b[0m\u001b[1;33m(\u001b[0m\u001b[0mvalue\u001b[0m\u001b[1;33m)\u001b[0m\u001b[1;33m\u001b[0m\u001b[1;33m\u001b[0m\u001b[0m\n\u001b[0;32m    677\u001b[0m \u001b[1;33m\u001b[0m\u001b[0m\n",
      "\u001b[1;31mKeyError\u001b[0m: 'OUTPUT_PATH'"
     ]
    }
   ],
   "source": [
    "#!/bin/python3\n",
    "\n",
    "import math\n",
    "import os\n",
    "import random\n",
    "import re\n",
    "import sys\n",
    "\n",
    "#\n",
    "# Complete the 'minimumLoss' function below.\n",
    "#\n",
    "# The function is expected to return an INTEGER.\n",
    "# The function accepts LONG_INTEGER_ARRAY price as parameter.\n",
    "#\n",
    "\n",
    "def minimumLoss(price):\n",
    "    # Write your code here\n",
    "    s = sorted (enumerate (price), key = lambda kv : kv[1])\n",
    "    print(s)\n",
    "    return min ((s[i+1][1] - s[i][1] for i in range (len(s) - 1) if s[i+1][0] < s[i][0]))\n",
    "    \n",
    "\n",
    "\n",
    "if __name__ == '__main__':\n",
    "    fptr = open(os.environ['OUTPUT_PATH'], 'w')\n",
    "\n",
    "    n = int(input().strip())\n",
    "\n",
    "    price = list(map(int, input().rstrip().split()))\n",
    "\n",
    "    result = minimumLoss(price)\n",
    "\n",
    "    fptr.write(str(result) + '\\n')\n",
    "\n",
    "    fptr.close()\n"
   ]
  },
  {
   "cell_type": "markdown",
   "id": "99e6c250",
   "metadata": {},
   "source": [
    "In this HackerRank Matrix Interview preparation kit problem a Heap there is Given a list of edges and times, determine the minimum time to stop the attack."
   ]
  },
  {
   "cell_type": "code",
   "execution_count": 22,
   "id": "a7d6db6c",
   "metadata": {},
   "outputs": [
    {
     "name": "stdout",
     "output_type": "stream",
     "text": [
      "4 5\n",
      "5 4 6\n",
      "7 4 5\n",
      "9 0 8\n",
      "0 7 5\n"
     ]
    },
    {
     "ename": "ValueError",
     "evalue": "invalid literal for int() with base 10: '0 7 5'",
     "output_type": "error",
     "traceback": [
      "\u001b[1;31m---------------------------------------------------------------------------\u001b[0m",
      "\u001b[1;31mValueError\u001b[0m                                Traceback (most recent call last)",
      "\u001b[1;32m<ipython-input-22-465264fdf6b0>\u001b[0m in \u001b[0;36m<module>\u001b[1;34m\u001b[0m\n\u001b[0;32m     17\u001b[0m \u001b[0mmachineCities\u001b[0m \u001b[1;33m=\u001b[0m \u001b[0mdict\u001b[0m\u001b[1;33m(\u001b[0m\u001b[1;33m)\u001b[0m\u001b[1;33m\u001b[0m\u001b[1;33m\u001b[0m\u001b[0m\n\u001b[0;32m     18\u001b[0m \u001b[1;32mfor\u001b[0m \u001b[0mi\u001b[0m \u001b[1;32min\u001b[0m \u001b[0mrange\u001b[0m\u001b[1;33m(\u001b[0m\u001b[0mK\u001b[0m\u001b[1;33m)\u001b[0m\u001b[1;33m:\u001b[0m\u001b[1;33m\u001b[0m\u001b[1;33m\u001b[0m\u001b[0m\n\u001b[1;32m---> 19\u001b[1;33m     \u001b[0mmc\u001b[0m \u001b[1;33m=\u001b[0m \u001b[0mint\u001b[0m\u001b[1;33m(\u001b[0m\u001b[0minput\u001b[0m\u001b[1;33m(\u001b[0m\u001b[1;33m)\u001b[0m\u001b[1;33m)\u001b[0m\u001b[1;33m\u001b[0m\u001b[1;33m\u001b[0m\u001b[0m\n\u001b[0m\u001b[0;32m     20\u001b[0m     \u001b[0mmachineCities\u001b[0m\u001b[1;33m[\u001b[0m\u001b[0mmc\u001b[0m\u001b[1;33m]\u001b[0m \u001b[1;33m=\u001b[0m \u001b[1;32mTrue\u001b[0m\u001b[1;33m\u001b[0m\u001b[1;33m\u001b[0m\u001b[0m\n\u001b[0;32m     21\u001b[0m     \u001b[0mcityToGroup\u001b[0m\u001b[1;33m[\u001b[0m\u001b[0mmc\u001b[0m\u001b[1;33m]\u001b[0m \u001b[1;33m=\u001b[0m \u001b[0mmc\u001b[0m\u001b[1;33m\u001b[0m\u001b[1;33m\u001b[0m\u001b[0m\n",
      "\u001b[1;31mValueError\u001b[0m: invalid literal for int() with base 10: '0 7 5'"
     ]
    }
   ],
   "source": [
    "class Edge(object):\n",
    "    def __init__(self, city1: int, city2: int, weight: int):\n",
    "        self.cities = [city1, city2]\n",
    "        self.weight = weight\n",
    "\n",
    "[N, K] = [int(i) for i in input().split(' ')]\n",
    "edges = list()\n",
    "for i in range(N - 1):\n",
    "    line = input()\n",
    "    #print(line)\n",
    "    [city1, city2, weight] = [int(j) for j in line.split(' ')]\n",
    "    edges.append(Edge(city1, city2, weight))\n",
    "\n",
    "edges.sort(key = lambda x: x.weight, reverse = True)\n",
    "\n",
    "cityToGroup = dict()\n",
    "machineCities = dict()\n",
    "for i in range(K):\n",
    "    mc = int(input())\n",
    "    machineCities[mc] = True\n",
    "    cityToGroup[mc] = mc\n",
    "    \n",
    "result = 0\n",
    "groups = dict()\n",
    "for i in range(N):\n",
    "    groups[i] = [i]\n",
    "    cityToGroup[i] = i\n",
    "\n",
    "for e in edges:\n",
    "    city1 = e.cities[0]\n",
    "    city2 = e.cities[1]\n",
    "    g1 = cityToGroup[city1]\n",
    "    g2 = cityToGroup[city2]\n",
    "    if g1 == g2:\n",
    "        continue\n",
    "    if machineCities.get(g1, None) is not None: # in this group we have a machine\n",
    "        if machineCities.get(g2, None) is not None: # do not add this edge, as it connects the machines\n",
    "            result += e.weight\n",
    "        else:\n",
    "            for c in groups[g2]:\n",
    "                cityToGroup[c] = g1\n",
    "                groups[g1].append(c)\n",
    "            del groups[g2]\n",
    "    else: # Either the second group has a machine or not, we add all g1 cities to it and delete the first g1\n",
    "        for c in groups[g1]:\n",
    "            groups[g2].append(c)\n",
    "            cityToGroup[c] = g2\n",
    "        del groups[g1]\n",
    "print(result)\n"
   ]
  },
  {
   "cell_type": "markdown",
   "id": "51516ebb",
   "metadata": {},
   "source": [
    "In this HackerRank Cube Summation problem, we have to Define a 3-D Matrix in which each block contains 0 initially. The first block is defined by the coordinates (1,1,1) and the last block is defined by the coordinates (n,n,n). Calculate the sum of the values of blocks whose x coordinate is between x1 and x2 (inclusive), y coordinate between y1 and y2 (inclusive), and z coordinate between z1 and z2 (inclusive)."
   ]
  },
  {
   "cell_type": "code",
   "execution_count": 16,
   "id": "3a572296",
   "metadata": {},
   "outputs": [
    {
     "name": "stdout",
     "output_type": "stream",
     "text": [
      "'1'\n"
     ]
    },
    {
     "ename": "ValueError",
     "evalue": "invalid literal for int() with base 10: \"'1'\"",
     "output_type": "error",
     "traceback": [
      "\u001b[1;31m---------------------------------------------------------------------------\u001b[0m",
      "\u001b[1;31mValueError\u001b[0m                                Traceback (most recent call last)",
      "\u001b[1;32m<ipython-input-16-530124a373e5>\u001b[0m in \u001b[0;36m<module>\u001b[1;34m\u001b[0m\n\u001b[1;32m----> 1\u001b[1;33m \u001b[0mT\u001b[0m \u001b[1;33m=\u001b[0m \u001b[0mint\u001b[0m\u001b[1;33m(\u001b[0m\u001b[0minput\u001b[0m\u001b[1;33m(\u001b[0m\u001b[1;33m)\u001b[0m\u001b[1;33m)\u001b[0m\u001b[1;33m\u001b[0m\u001b[1;33m\u001b[0m\u001b[0m\n\u001b[0m\u001b[0;32m      2\u001b[0m \u001b[1;33m\u001b[0m\u001b[0m\n\u001b[0;32m      3\u001b[0m \u001b[1;32mfor\u001b[0m \u001b[0mi\u001b[0m \u001b[1;32min\u001b[0m \u001b[0mrange\u001b[0m\u001b[1;33m(\u001b[0m\u001b[0mT\u001b[0m\u001b[1;33m)\u001b[0m\u001b[1;33m:\u001b[0m\u001b[1;33m\u001b[0m\u001b[1;33m\u001b[0m\u001b[0m\n\u001b[0;32m      4\u001b[0m     \u001b[0mN\u001b[0m\u001b[1;33m,\u001b[0m\u001b[0mM\u001b[0m \u001b[1;33m=\u001b[0m \u001b[1;33m[\u001b[0m\u001b[0mint\u001b[0m\u001b[1;33m(\u001b[0m\u001b[0ms\u001b[0m\u001b[1;33m)\u001b[0m \u001b[1;32mfor\u001b[0m \u001b[0ms\u001b[0m \u001b[1;32min\u001b[0m \u001b[0minput\u001b[0m\u001b[1;33m(\u001b[0m\u001b[1;33m)\u001b[0m\u001b[1;33m.\u001b[0m\u001b[0msplit\u001b[0m\u001b[1;33m(\u001b[0m\u001b[1;33m)\u001b[0m\u001b[1;33m]\u001b[0m\u001b[1;33m\u001b[0m\u001b[1;33m\u001b[0m\u001b[0m\n\u001b[0;32m      5\u001b[0m     \u001b[0mdata\u001b[0m \u001b[1;33m=\u001b[0m \u001b[1;33m{\u001b[0m\u001b[1;33m}\u001b[0m\u001b[1;33m\u001b[0m\u001b[1;33m\u001b[0m\u001b[0m\n",
      "\u001b[1;31mValueError\u001b[0m: invalid literal for int() with base 10: \"'1'\""
     ]
    }
   ],
   "source": [
    "T = int(input())\n",
    "\n",
    "for i in range(T):\n",
    "    N,M = [int(s) for s in input().split()]\n",
    "    data = {}\n",
    "    for j in range(M):\n",
    "        info = input().split()\n",
    "        if info[0] == \"UPDATE\":\n",
    "            data[info[1]+\" \"+info[2]+\" \"+info[3]] = int(info[4])\n",
    "        else:\n",
    "            x1 = int(info[1])\n",
    "            y1 = int(info[2])\n",
    "            z1 = int(info[3])\n",
    "            x2 = int(info[4])\n",
    "            y2 = int(info[5])\n",
    "            z2 = int(info[6])\n",
    "            res = 0\n",
    "            for k,v in data.items():\n",
    "                corr = [int(s) for s in k.split()]\n",
    "                if corr[0] <= x2 and x1 <= corr[0] and corr[1] <= y2 and y1 <= corr[1] and corr[2] <= z2 and z1 <= corr[2]:\n",
    "                    res += v\n",
    "            print(res)\n",
    "            \n"
   ]
  },
  {
   "cell_type": "markdown",
   "id": "691e2e43",
   "metadata": {},
   "source": [
    "In this tutorial, we are going to solve or make a solution to the Merging Communities problem. so here we have n queries that representing the n communities. we need to print the size of the community to which person belongs."
   ]
  },
  {
   "cell_type": "code",
   "execution_count": 19,
   "id": "73cfd960",
   "metadata": {
    "scrolled": true
   },
   "outputs": [
    {
     "name": "stdout",
     "output_type": "stream",
     "text": [
      "'John'\n"
     ]
    },
    {
     "ename": "ValueError",
     "evalue": "invalid literal for int() with base 10: \"'John'\"",
     "output_type": "error",
     "traceback": [
      "\u001b[1;31m---------------------------------------------------------------------------\u001b[0m",
      "\u001b[1;31mValueError\u001b[0m                                Traceback (most recent call last)",
      "\u001b[1;32m<ipython-input-19-7c397502a6c7>\u001b[0m in \u001b[0;36m<module>\u001b[1;34m\u001b[0m\n\u001b[0;32m      4\u001b[0m \u001b[1;32mfrom\u001b[0m \u001b[0mcollections\u001b[0m \u001b[1;32mimport\u001b[0m \u001b[0mdeque\u001b[0m\u001b[1;33m\u001b[0m\u001b[1;33m\u001b[0m\u001b[0m\n\u001b[0;32m      5\u001b[0m \u001b[1;33m\u001b[0m\u001b[0m\n\u001b[1;32m----> 6\u001b[1;33m \u001b[0mN\u001b[0m\u001b[1;33m,\u001b[0m \u001b[0mQ\u001b[0m \u001b[1;33m=\u001b[0m \u001b[0mmap\u001b[0m\u001b[1;33m(\u001b[0m\u001b[0mint\u001b[0m\u001b[1;33m,\u001b[0m\u001b[0minput\u001b[0m\u001b[1;33m(\u001b[0m\u001b[1;33m)\u001b[0m\u001b[1;33m.\u001b[0m\u001b[0mstrip\u001b[0m\u001b[1;33m(\u001b[0m\u001b[1;33m)\u001b[0m\u001b[1;33m.\u001b[0m\u001b[0msplit\u001b[0m\u001b[1;33m(\u001b[0m\u001b[1;34m' '\u001b[0m\u001b[1;33m)\u001b[0m\u001b[1;33m)\u001b[0m\u001b[1;33m\u001b[0m\u001b[1;33m\u001b[0m\u001b[0m\n\u001b[0m\u001b[0;32m      7\u001b[0m \u001b[1;33m\u001b[0m\u001b[0m\n\u001b[0;32m      8\u001b[0m \u001b[0ms\u001b[0m \u001b[1;33m=\u001b[0m \u001b[1;33m[\u001b[0m\u001b[0mi\u001b[0m \u001b[1;32mfor\u001b[0m \u001b[0mi\u001b[0m \u001b[1;32min\u001b[0m \u001b[0mrange\u001b[0m\u001b[1;33m(\u001b[0m\u001b[0mN\u001b[0m\u001b[1;33m+\u001b[0m\u001b[1;36m1\u001b[0m\u001b[1;33m)\u001b[0m\u001b[1;33m]\u001b[0m\u001b[1;33m\u001b[0m\u001b[1;33m\u001b[0m\u001b[0m\n",
      "\u001b[1;31mValueError\u001b[0m: invalid literal for int() with base 10: \"'John'\""
     ]
    }
   ],
   "source": [
    "#!/bin/python\n",
    "\n",
    "import sys\n",
    "from collections import deque\n",
    "\n",
    "N, Q = map(int,input().strip().split(' '))\n",
    "\n",
    "s = [i for i in range(N+1)]\n",
    "cnt = [0]+[1 for i in range(N)]\n",
    "\n",
    "for i in range(Q):\n",
    "    inpt = input().strip().split(' ')\n",
    "    qry = inpt[0]\n",
    "    a = sorted(map(lambda x: int(x),inpt[1:]))\n",
    "    i0 = a[0]\n",
    "    if qry == 'M' and s[i0] != s[a[1]]:\n",
    "        i1 = a[1]\n",
    "        tmp = deque()\n",
    "        while i0 != s[i0]:\n",
    "            tmp.append(i0)\n",
    "            i0 = s[i0]\n",
    "        while i1 != s[i1]:\n",
    "            tmp.append(i1)\n",
    "            i1 = s[i1]\n",
    "        if s[i0] != s[i1]:\n",
    "            cnt[s[i0]] += cnt[s[i1]]\n",
    "            tmp.append(i1)\n",
    "            for ix in tmp:\n",
    "                s[ix] = s[i0]\n",
    "    elif qry == 'Q':\n",
    "        tmp = deque()\n",
    "        while i0 != s[i0]:\n",
    "            tmp.append(i0)\n",
    "            i0 = s[i0]\n",
    "        for ix in tmp:\n",
    "            s[ix] = s[i0]\n",
    "        print(cnt[i0])\n",
    "        \n"
   ]
  },
  {
   "cell_type": "markdown",
   "id": "d9b4b0d8",
   "metadata": {},
   "source": [
    "In this HackerRank Minimum operation 4 problem solution, the task is to debug the existing code to successfully execute all provided test files.\n",
    "\n",
    "There are n boxes in front of you. For each i, box i contains r[i] red balls, g[i] green balls, and b[i] blue balls.\n",
    "\n",
    "You want to separate the balls by their color. In each operation, you can pick a single ball from some box and put it into another box. The balls are separated if no box contains balls of more than one color.\n",
    "\n",
    "Debug the given function min_operations and compute the minimal number of operations required to separate the balls"
   ]
  },
  {
   "cell_type": "code",
   "execution_count": 24,
   "id": "da34c65d",
   "metadata": {},
   "outputs": [
    {
     "name": "stdout",
     "output_type": "stream",
     "text": [
      "3\n",
      "2 3 1\n",
      "3 4 2\n",
      "6 4 7\n"
     ]
    },
    {
     "ename": "NameError",
     "evalue": "name 'xrange' is not defined",
     "output_type": "error",
     "traceback": [
      "\u001b[1;31m---------------------------------------------------------------------------\u001b[0m",
      "\u001b[1;31mNameError\u001b[0m                                 Traceback (most recent call last)",
      "\u001b[1;32m<ipython-input-24-8de8a5263c21>\u001b[0m in \u001b[0;36m<module>\u001b[1;34m\u001b[0m\n\u001b[0;32m     32\u001b[0m     \u001b[0mgreen\u001b[0m\u001b[1;33m.\u001b[0m\u001b[0mappend\u001b[0m\u001b[1;33m(\u001b[0m\u001b[0mg\u001b[0m\u001b[1;33m)\u001b[0m\u001b[1;33m\u001b[0m\u001b[1;33m\u001b[0m\u001b[0m\n\u001b[0;32m     33\u001b[0m     \u001b[0mblue\u001b[0m\u001b[1;33m.\u001b[0m\u001b[0mappend\u001b[0m\u001b[1;33m(\u001b[0m\u001b[0mb\u001b[0m\u001b[1;33m)\u001b[0m\u001b[1;33m\u001b[0m\u001b[1;33m\u001b[0m\u001b[0m\n\u001b[1;32m---> 34\u001b[1;33m \u001b[0mprint\u001b[0m\u001b[1;33m(\u001b[0m\u001b[0mmin_operations\u001b[0m\u001b[1;33m(\u001b[0m\u001b[0mred\u001b[0m\u001b[1;33m,\u001b[0m \u001b[0mgreen\u001b[0m\u001b[1;33m,\u001b[0m \u001b[0mblue\u001b[0m\u001b[1;33m)\u001b[0m\u001b[1;33m)\u001b[0m\u001b[1;33m\u001b[0m\u001b[1;33m\u001b[0m\u001b[0m\n\u001b[0m",
      "\u001b[1;32m<ipython-input-24-8de8a5263c21>\u001b[0m in \u001b[0;36mmin_operations\u001b[1;34m(red, green, blue)\u001b[0m\n\u001b[0;32m      3\u001b[0m     \u001b[0mn\u001b[0m \u001b[1;33m=\u001b[0m \u001b[0mlen\u001b[0m\u001b[1;33m(\u001b[0m\u001b[0mred\u001b[0m\u001b[1;33m)\u001b[0m\u001b[1;33m\u001b[0m\u001b[1;33m\u001b[0m\u001b[0m\n\u001b[0;32m      4\u001b[0m     \u001b[0mdp\u001b[0m\u001b[1;33m[\u001b[0m\u001b[1;36m0\u001b[0m\u001b[1;33m]\u001b[0m\u001b[1;33m[\u001b[0m\u001b[1;36m0\u001b[0m\u001b[1;33m]\u001b[0m \u001b[1;33m=\u001b[0m \u001b[1;36m0\u001b[0m\u001b[1;33m\u001b[0m\u001b[1;33m\u001b[0m\u001b[0m\n\u001b[1;32m----> 5\u001b[1;33m     \u001b[1;32mfor\u001b[0m \u001b[0mi\u001b[0m \u001b[1;32min\u001b[0m \u001b[0mxrange\u001b[0m\u001b[1;33m(\u001b[0m\u001b[1;36m0\u001b[0m\u001b[1;33m,\u001b[0m \u001b[0mn\u001b[0m\u001b[1;33m)\u001b[0m\u001b[1;33m:\u001b[0m\u001b[1;33m\u001b[0m\u001b[1;33m\u001b[0m\u001b[0m\n\u001b[0m\u001b[0;32m      6\u001b[0m         \u001b[1;32mfor\u001b[0m \u001b[0mj\u001b[0m \u001b[1;32min\u001b[0m \u001b[0mxrange\u001b[0m\u001b[1;33m(\u001b[0m\u001b[1;36m0\u001b[0m\u001b[1;33m,\u001b[0m \u001b[1;36m8\u001b[0m\u001b[1;33m)\u001b[0m\u001b[1;33m:\u001b[0m\u001b[1;33m\u001b[0m\u001b[1;33m\u001b[0m\u001b[0m\n\u001b[0;32m      7\u001b[0m             \u001b[0mdp\u001b[0m\u001b[1;33m[\u001b[0m\u001b[0mi\u001b[0m \u001b[1;33m+\u001b[0m \u001b[1;36m1\u001b[0m\u001b[1;33m]\u001b[0m\u001b[1;33m[\u001b[0m\u001b[0mj\u001b[0m \u001b[1;33m|\u001b[0m \u001b[1;36m1\u001b[0m\u001b[1;33m]\u001b[0m \u001b[1;33m=\u001b[0m \u001b[0mmin\u001b[0m\u001b[1;33m(\u001b[0m\u001b[0mdp\u001b[0m\u001b[1;33m[\u001b[0m\u001b[0mi\u001b[0m \u001b[1;33m+\u001b[0m \u001b[1;36m1\u001b[0m\u001b[1;33m]\u001b[0m\u001b[1;33m[\u001b[0m\u001b[0mj\u001b[0m \u001b[1;33m|\u001b[0m \u001b[1;36m1\u001b[0m\u001b[1;33m]\u001b[0m\u001b[1;33m,\u001b[0m \u001b[0mdp\u001b[0m\u001b[1;33m[\u001b[0m\u001b[0mi\u001b[0m\u001b[1;33m]\u001b[0m\u001b[1;33m[\u001b[0m\u001b[0mj\u001b[0m\u001b[1;33m]\u001b[0m \u001b[1;33m+\u001b[0m \u001b[0mgreen\u001b[0m\u001b[1;33m[\u001b[0m\u001b[0mi\u001b[0m\u001b[1;33m]\u001b[0m \u001b[1;33m+\u001b[0m \u001b[0mblue\u001b[0m\u001b[1;33m[\u001b[0m\u001b[0mi\u001b[0m\u001b[1;33m]\u001b[0m\u001b[1;33m)\u001b[0m\u001b[1;33m\u001b[0m\u001b[1;33m\u001b[0m\u001b[0m\n",
      "\u001b[1;31mNameError\u001b[0m: name 'xrange' is not defined"
     ]
    }
   ],
   "source": [
    "def min_operations(red, green, blue):\n",
    "    dp = [[(1<<30) for x in range(8)] for y in range(101)]\n",
    "    n = len(red)\n",
    "    dp[0][0] = 0\n",
    "    for i in xrange(0, n):\n",
    "        for j in xrange(0, 8):\n",
    "            dp[i + 1][j | 1] = min(dp[i + 1][j | 1], dp[i][j] + green[i] + blue[i])\n",
    "            dp[i + 1][j | 2] = min(dp[i + 1][j | 2], dp[i][j] + red[i] + blue[i])\n",
    "            dp[i + 1][j | 4] = min(dp[i + 1][j | 4], dp[i][j] + red[i] + green[i])\n",
    "         \n",
    "    j = 0\n",
    "    for i in range(0, n):\n",
    "        if red[i]:\n",
    "            j |= 1\n",
    "        if green[i]:\n",
    "            j |= 2\n",
    "        if blue[i]:\n",
    "            j |= 4\n",
    "\n",
    "    if dp[n][j] >= (1<<30):\n",
    "        dp[n][j] = -1\n",
    "\n",
    "    return dp[n][j]\n",
    "\n",
    "n = int(input())\n",
    "red = []\n",
    "green = []\n",
    "blue = []\n",
    "for i in range(n):\n",
    "    r, g, b = map(int, input().split())\n",
    "    red.append(r)\n",
    "    green.append(g)\n",
    "    blue.append(b)\n",
    "print(min_operations(red, green, blue))\n"
   ]
  },
  {
   "cell_type": "markdown",
   "id": "290e674c",
   "metadata": {},
   "source": [
    "In this HackerRank Largest Rectangle Interview preparation kit problem you need to Complete the function largestRectangle. It should return an integer representing the largest rectangle that can be formed within the bounds of consecutive buildings."
   ]
  },
  {
   "cell_type": "code",
   "execution_count": null,
   "id": "48ba38b1",
   "metadata": {},
   "outputs": [],
   "source": [
    "#!/bin/python3\n",
    "\n",
    "import math\n",
    "import os\n",
    "import random\n",
    "import re\n",
    "import sys\n",
    "\n",
    "# Complete the largestRectangle function below.\n",
    "def largestRectangle(h):\n",
    "    h += [0]\n",
    "    s = []\n",
    "    ma = 0\n",
    "    for i in range(0, len(h)):\n",
    "        j = i\n",
    "        while len(s) > 0 and s[-1][0] >= h[i]:\n",
    "            val, j = s.pop()\n",
    "            ma = max(ma, (i - j) * val)\n",
    "        s.append([h[i], j])\n",
    "    return ma\n",
    "\n",
    "if __name__ == '__main__':\n",
    "    fptr = open(os.environ['OUTPUT_PATH'], 'w')\n",
    "\n",
    "    n = int(input())\n",
    "\n",
    "    h = list(map(int, input().rstrip().split()))\n",
    "\n",
    "    result = largestRectangle(h)\n",
    "\n",
    "    fptr.write(str(result) + '\\n')\n",
    "\n",
    "    fptr.close()\n",
    "    \n"
   ]
  },
  {
   "cell_type": "markdown",
   "id": "ba01cec5",
   "metadata": {},
   "source": [
    "In this HackerRank Weighted Uniform Strings, problem Given a string, s, let U be the set of weights for all possible uniform contiguous substrings of string s. There will be n queries to answer where each query consists of a single integer. Create a return array where for each query, the value is Yes if query[i] related to U. Otherwise, append No."
   ]
  },
  {
   "cell_type": "code",
   "execution_count": null,
   "id": "08e8d548",
   "metadata": {},
   "outputs": [],
   "source": [
    "#!/bin/python3\n",
    "\n",
    "import sys\n",
    "from collections import Counter\n",
    "\n",
    "def weight_of_letter(l):\n",
    "    return ord(l) - 96\n",
    "\n",
    "def get_uniform_subsets(s):\n",
    "    cnt = Counter()\n",
    "    curr = 0\n",
    "    last = \"\"\n",
    "    for ch in s:\n",
    "        if ch == last:\n",
    "            curr += 1\n",
    "        else:\n",
    "            last = ch\n",
    "            curr = 1\n",
    "        if curr > cnt[ch]: cnt[ch] = curr\n",
    "\n",
    "    weights = set()\n",
    "    for i in cnt:\n",
    "        for j in range(cnt[i]):\n",
    "            weights.add((j+1)*weight_of_letter(i))\n",
    "    return weights\n",
    "            \n",
    "s = input().strip()\n",
    "weights = get_uniform_subsets(s)\n",
    "n = int(input().strip())\n",
    "for a0 in range(n):\n",
    "    x = int(input().strip())\n",
    "    # your code goes here\n",
    "    if x in weights:\n",
    "        print(\"Yes\")\n",
    "    else:\n",
    "        print(\"No\")"
   ]
  },
  {
   "cell_type": "markdown",
   "id": "f8c21453",
   "metadata": {},
   "source": [
    "In this HackerRank Stock Maximize problem solution, Your algorithms have become so good at predicting the market that you now know what the share price of Wooden Orange Toothpicks Inc. (WOT) will be for the next number of days.\n",
    "\n",
    "Each day, you can either buy one share of WOT, sell any number of shares of WOT that you own, or not make any transaction at all. What is the maximum profit you can obtain with an optimum trading strategy?"
   ]
  },
  {
   "cell_type": "code",
   "execution_count": 25,
   "id": "c5621193",
   "metadata": {},
   "outputs": [
    {
     "name": "stdout",
     "output_type": "stream",
     "text": [
      "3\n",
      "5\n",
      "2\n",
      "0\n",
      "3\n",
      "2\n",
      "0\n",
      "6\n",
      "4\n",
      "0\n"
     ]
    }
   ],
   "source": [
    "for case in range(int(input())):\n",
    "    N = int(input())\n",
    "    prices = [int(x) for x in input().split()]\n",
    "    \n",
    "    shares = 0\n",
    "    profit = 0\n",
    "    m = max(prices)\n",
    "    while len(prices) > 0:\n",
    "        day = prices.pop(0)\n",
    "        if day == m:\n",
    "            profit += day*shares\n",
    "            shares = 0\n",
    "            if len(prices) > 0:\n",
    "                m = max(prices)\n",
    "        elif day < m:\n",
    "            profit -= day\n",
    "            shares += 1\n",
    "    print(profit)\n"
   ]
  },
  {
   "cell_type": "markdown",
   "id": "65922431",
   "metadata": {},
   "source": [
    "In this HackerRank The Coin Change Problem solution you have given an amount and the denominations of coins available, determine how many ways change can be made for amount. There is a limitless supply of each coin type."
   ]
  },
  {
   "cell_type": "code",
   "execution_count": 27,
   "id": "9e8818ad",
   "metadata": {},
   "outputs": [
    {
     "name": "stdout",
     "output_type": "stream",
     "text": [
      "3 4\n",
      "2 3\n",
      "1\n"
     ]
    }
   ],
   "source": [
    "amount, _ = [int(item) for item in input().strip().split()]\n",
    "coins = [int(item) for item in input().strip().split()]\n",
    "\n",
    "dp_arr = [1] + [0] * amount\n",
    "for coin in coins:\n",
    "    for idx in range(coin, amount+1):\n",
    "        dp_arr[idx] += dp_arr[idx - coin]\n",
    "print(dp_arr[-1])\n"
   ]
  },
  {
   "cell_type": "markdown",
   "id": "75b4faae",
   "metadata": {},
   "source": [
    "In this HackerRank Goodland Electricity problem solution, You are given a list of city-data. Cities that may contain a power plant have been labeled 1. Others not suitable for building a plant are labeled 0. Given a distribution range of k, find the lowest number of plants that must be built such that all cities are served. The distribution range limits supply to cities where the distance is less than k."
   ]
  },
  {
   "cell_type": "code",
   "execution_count": 33,
   "id": "f851c94d",
   "metadata": {},
   "outputs": [
    {
     "name": "stdout",
     "output_type": "stream",
     "text": [
      "3 4\n",
      "4\n"
     ]
    },
    {
     "ename": "AssertionError",
     "evalue": "",
     "output_type": "error",
     "traceback": [
      "\u001b[1;31m---------------------------------------------------------------------------\u001b[0m",
      "\u001b[1;31mAssertionError\u001b[0m                            Traceback (most recent call last)",
      "\u001b[1;32m<ipython-input-33-0910315a4472>\u001b[0m in \u001b[0;36m<module>\u001b[1;34m\u001b[0m\n\u001b[0;32m     18\u001b[0m \u001b[1;33m\u001b[0m\u001b[0m\n\u001b[0;32m     19\u001b[0m     \u001b[0mlights\u001b[0m \u001b[1;33m=\u001b[0m \u001b[0mlist\u001b[0m\u001b[1;33m(\u001b[0m\u001b[0mmap\u001b[0m\u001b[1;33m(\u001b[0m\u001b[0mint\u001b[0m\u001b[1;33m,\u001b[0m\u001b[1;33m(\u001b[0m\u001b[0minput\u001b[0m\u001b[1;33m(\u001b[0m\u001b[1;33m)\u001b[0m\u001b[1;33m.\u001b[0m\u001b[0mstrip\u001b[0m\u001b[1;33m(\u001b[0m\u001b[1;33m)\u001b[0m\u001b[1;33m.\u001b[0m\u001b[0msplit\u001b[0m\u001b[1;33m(\u001b[0m\u001b[1;34m' '\u001b[0m\u001b[1;33m)\u001b[0m\u001b[1;33m)\u001b[0m\u001b[1;33m)\u001b[0m\u001b[1;33m)\u001b[0m\u001b[1;33m\u001b[0m\u001b[1;33m\u001b[0m\u001b[0m\n\u001b[1;32m---> 20\u001b[1;33m     \u001b[1;32massert\u001b[0m\u001b[1;33m(\u001b[0m\u001b[0mN\u001b[0m\u001b[1;33m==\u001b[0m\u001b[0mlen\u001b[0m\u001b[1;33m(\u001b[0m\u001b[0mlights\u001b[0m\u001b[1;33m)\u001b[0m\u001b[1;33m)\u001b[0m\u001b[1;33m\u001b[0m\u001b[1;33m\u001b[0m\u001b[0m\n\u001b[0m\u001b[0;32m     21\u001b[0m     \u001b[0mlights\u001b[0m \u001b[1;33m=\u001b[0m \u001b[1;33m[\u001b[0m\u001b[0mi\u001b[0m \u001b[1;32mfor\u001b[0m \u001b[0mi\u001b[0m\u001b[1;33m,\u001b[0m\u001b[0mval\u001b[0m \u001b[1;32min\u001b[0m \u001b[0menumerate\u001b[0m\u001b[1;33m(\u001b[0m\u001b[0mlights\u001b[0m\u001b[1;33m)\u001b[0m \u001b[1;32mif\u001b[0m \u001b[0mval\u001b[0m\u001b[1;33m==\u001b[0m\u001b[1;36m1\u001b[0m\u001b[1;33m]\u001b[0m\u001b[1;33m\u001b[0m\u001b[1;33m\u001b[0m\u001b[0m\n\u001b[0;32m     22\u001b[0m \u001b[1;33m\u001b[0m\u001b[0m\n",
      "\u001b[1;31mAssertionError\u001b[0m: "
     ]
    }
   ],
   "source": [
    "import math\n",
    "\n",
    "def get_min(x,k,lights):\n",
    "        \n",
    "    best = -1\n",
    "    best_ind=None\n",
    "    for ind,i in enumerate(lights):\n",
    "        #if abs(x - i)<k:\n",
    "        if -k < x - i < k:\n",
    "            best=i\n",
    "            best_ind=ind\n",
    "        elif i>x+k:\n",
    "            break\n",
    "    return best,best_ind\n",
    "\n",
    "for qu in [1]:\n",
    "    N,k = list(map(int,(input().strip().split(' '))))\n",
    "\n",
    "    lights = list(map(int,(input().strip().split(' '))))\n",
    "    assert(N==len(lights))\n",
    "    lights = [i for i,val in enumerate(lights) if val==1]\n",
    "    \n",
    "    pos=0\n",
    "    best=None\n",
    "    best_ind=None\n",
    "    count=0\n",
    " \n",
    "    while 1:                                \n",
    "            \n",
    "        if pos>=N:\n",
    "            break\n",
    "        \n",
    "        if best==lights[-1]:\n",
    "            count=-1\n",
    "            break\n",
    "                       \n",
    "        if best_ind==None:\n",
    "            best,best_ind = get_min(pos,k,lights)\n",
    "        else:\n",
    "            lights = lights[(best_ind+1):]\n",
    "            best,best_ind = get_min(pos,k,lights)\n",
    "        \n",
    "        if best==-1:\n",
    "            count=-1\n",
    "            break\n",
    "        \n",
    "        count+=1\n",
    "        pos = best + k                                            \n",
    "\n",
    "    \n",
    "    print(count)\n"
   ]
  },
  {
   "cell_type": "markdown",
   "id": "a86440b2",
   "metadata": {},
   "source": [
    "In this Hackerrank The Full Counting Sort problem we have given a list of strings associated with integers. we need to sort the list and print the values in sorted order."
   ]
  },
  {
   "cell_type": "code",
   "execution_count": null,
   "id": "931823d0",
   "metadata": {},
   "outputs": [],
   "source": [
    "import collections\n",
    "\n",
    "def tc(n, arr):\n",
    "    d = collections.defaultdict(list)\n",
    "    for i in range(n):\n",
    "        k,v = arr[i].split()\n",
    "        if i < n//2:\n",
    "            d[int(k)].append(\"-\")\n",
    "        else:\n",
    "            d[int(k)].append(v)\n",
    "    od = collections.OrderedDict(sorted(d.items()))\n",
    "    print(\" \".join([\" \".join(l) for l in od.values()]))\n",
    "\n",
    "n = int(input())\n",
    "arr = []\n",
    "for _ in range(n):\n",
    "    arr.append(input())\n",
    "tc(n,arr)\n"
   ]
  },
  {
   "cell_type": "markdown",
   "id": "858f5dbe",
   "metadata": {},
   "source": [
    "In this HackerRank Missing Numbers problem solution Given two arrays of integers, find which elements in the second array are missing from the first array."
   ]
  },
  {
   "cell_type": "code",
   "execution_count": 43,
   "id": "86fa2d32",
   "metadata": {},
   "outputs": [
    {
     "name": "stdout",
     "output_type": "stream",
     "text": [
      "a:6\n",
      "4\n",
      "5\n",
      "2\n",
      "4\n"
     ]
    },
    {
     "ename": "NameError",
     "evalue": "name 'false' is not defined",
     "output_type": "error",
     "traceback": [
      "\u001b[1;31m---------------------------------------------------------------------------\u001b[0m",
      "\u001b[1;31mNameError\u001b[0m                                 Traceback (most recent call last)",
      "\u001b[1;32m<ipython-input-43-4db4c59d952b>\u001b[0m in \u001b[0;36m<module>\u001b[1;34m\u001b[0m\n\u001b[0;32m     17\u001b[0m \u001b[1;33m\u001b[0m\u001b[0m\n\u001b[0;32m     18\u001b[0m \u001b[1;33m\u001b[0m\u001b[0m\n\u001b[1;32m---> 19\u001b[1;33m \u001b[1;33m{\u001b[0m\u001b[1;34m\"mode\"\u001b[0m\u001b[1;33m:\u001b[0m\u001b[1;34m\"full\"\u001b[0m\u001b[1;33m,\u001b[0m\u001b[1;34m\"isActive\"\u001b[0m\u001b[1;33m:\u001b[0m\u001b[0mfalse\u001b[0m\u001b[1;33m}\u001b[0m\u001b[1;33m\u001b[0m\u001b[1;33m\u001b[0m\u001b[0m\n\u001b[0m",
      "\u001b[1;31mNameError\u001b[0m: name 'false' is not defined"
     ]
    }
   ],
   "source": [
    "from collections import Counter\n",
    "\n",
    "k1 = input()\n",
    "c1 = Counter(map(int, input().split()))\n",
    "k2 = input()\n",
    "c2 = Counter(map(int, input().split()))\n",
    "\n",
    "if k1 > k2:\n",
    "    c2, c1 = c1, c2\n",
    "    \n",
    "l = []\n",
    "for k in c2.keys():\n",
    "    if k not in c1 or c1[k] < c2[k]:\n",
    "        l.append(k)\n",
    "        \n",
    "print(' '.join(map(str, sorted(l))))\n",
    "\n",
    "\n",
    "{\"mode\":\"full\",\"isActive\":false}\n"
   ]
  },
  {
   "cell_type": "markdown",
   "id": "afb4f50f",
   "metadata": {},
   "source": [
    "In this HackerRank Smart Number 2 problem solution, the task is to debug the existing code to successfully execute all provided test files.\n",
    "\n",
    "A number is called a smart number if it has an odd number of factors. Given some numbers, find whether they are smart numbers or not.\n",
    "\n",
    "Debug the given function is_smart_number to correctly check if a given number is a smart number."
   ]
  },
  {
   "cell_type": "code",
   "execution_count": 45,
   "id": "034b2761",
   "metadata": {},
   "outputs": [
    {
     "name": "stdout",
     "output_type": "stream",
     "text": [
      "5\n",
      "3\n",
      "NO\n",
      "5\n",
      "NO\n",
      "3\n",
      "NO\n",
      "7\n",
      "NO\n",
      "1\n",
      "YES\n"
     ]
    }
   ],
   "source": [
    "import math\n",
    "\n",
    "def is_smart_number(num):\n",
    "    val = int(math.sqrt(num))\n",
    "    if val ** 2 == num:\n",
    "        return True\n",
    "    return False\n",
    "\n",
    "for _ in range(int(input())):\n",
    "    num = int(input())\n",
    "    ans = is_smart_number(num)\n",
    "    if ans:\n",
    "        print(\"YES\")\n",
    "    else:\n",
    "        print(\"NO\")\n"
   ]
  },
  {
   "cell_type": "markdown",
   "id": "5fca5c11",
   "metadata": {},
   "source": [
    "In this HackerRank Minimum Absolute Difference interview preparation kit problem you have Given an array of integers, find the minimum absolute difference between any two elements in the array."
   ]
  },
  {
   "cell_type": "code",
   "execution_count": 46,
   "id": "a0b483af",
   "metadata": {},
   "outputs": [
    {
     "ename": "KeyError",
     "evalue": "'OUTPUT_PATH'",
     "output_type": "error",
     "traceback": [
      "\u001b[1;31m---------------------------------------------------------------------------\u001b[0m",
      "\u001b[1;31mKeyError\u001b[0m                                  Traceback (most recent call last)",
      "\u001b[1;32m<ipython-input-46-f410620953c9>\u001b[0m in \u001b[0;36m<module>\u001b[1;34m\u001b[0m\n\u001b[0;32m     16\u001b[0m \u001b[1;33m\u001b[0m\u001b[0m\n\u001b[0;32m     17\u001b[0m \u001b[1;32mif\u001b[0m \u001b[0m__name__\u001b[0m \u001b[1;33m==\u001b[0m \u001b[1;34m'__main__'\u001b[0m\u001b[1;33m:\u001b[0m\u001b[1;33m\u001b[0m\u001b[1;33m\u001b[0m\u001b[0m\n\u001b[1;32m---> 18\u001b[1;33m     \u001b[0mfptr\u001b[0m \u001b[1;33m=\u001b[0m \u001b[0mopen\u001b[0m\u001b[1;33m(\u001b[0m\u001b[0mos\u001b[0m\u001b[1;33m.\u001b[0m\u001b[0menviron\u001b[0m\u001b[1;33m[\u001b[0m\u001b[1;34m'OUTPUT_PATH'\u001b[0m\u001b[1;33m]\u001b[0m\u001b[1;33m,\u001b[0m \u001b[1;34m'w'\u001b[0m\u001b[1;33m)\u001b[0m\u001b[1;33m\u001b[0m\u001b[1;33m\u001b[0m\u001b[0m\n\u001b[0m\u001b[0;32m     19\u001b[0m \u001b[1;33m\u001b[0m\u001b[0m\n\u001b[0;32m     20\u001b[0m     \u001b[0mn\u001b[0m \u001b[1;33m=\u001b[0m \u001b[0mint\u001b[0m\u001b[1;33m(\u001b[0m\u001b[0minput\u001b[0m\u001b[1;33m(\u001b[0m\u001b[1;33m)\u001b[0m\u001b[1;33m)\u001b[0m\u001b[1;33m\u001b[0m\u001b[1;33m\u001b[0m\u001b[0m\n",
      "\u001b[1;32m~\\anaconda3\\lib\\os.py\u001b[0m in \u001b[0;36m__getitem__\u001b[1;34m(self, key)\u001b[0m\n\u001b[0;32m    673\u001b[0m         \u001b[1;32mexcept\u001b[0m \u001b[0mKeyError\u001b[0m\u001b[1;33m:\u001b[0m\u001b[1;33m\u001b[0m\u001b[1;33m\u001b[0m\u001b[0m\n\u001b[0;32m    674\u001b[0m             \u001b[1;31m# raise KeyError with the original key value\u001b[0m\u001b[1;33m\u001b[0m\u001b[1;33m\u001b[0m\u001b[1;33m\u001b[0m\u001b[0m\n\u001b[1;32m--> 675\u001b[1;33m             \u001b[1;32mraise\u001b[0m \u001b[0mKeyError\u001b[0m\u001b[1;33m(\u001b[0m\u001b[0mkey\u001b[0m\u001b[1;33m)\u001b[0m \u001b[1;32mfrom\u001b[0m \u001b[1;32mNone\u001b[0m\u001b[1;33m\u001b[0m\u001b[1;33m\u001b[0m\u001b[0m\n\u001b[0m\u001b[0;32m    676\u001b[0m         \u001b[1;32mreturn\u001b[0m \u001b[0mself\u001b[0m\u001b[1;33m.\u001b[0m\u001b[0mdecodevalue\u001b[0m\u001b[1;33m(\u001b[0m\u001b[0mvalue\u001b[0m\u001b[1;33m)\u001b[0m\u001b[1;33m\u001b[0m\u001b[1;33m\u001b[0m\u001b[0m\n\u001b[0;32m    677\u001b[0m \u001b[1;33m\u001b[0m\u001b[0m\n",
      "\u001b[1;31mKeyError\u001b[0m: 'OUTPUT_PATH'"
     ]
    }
   ],
   "source": [
    "#!/bin/python3\n",
    "\n",
    "import math\n",
    "import os\n",
    "import random\n",
    "import re\n",
    "import sys\n",
    "\n",
    "# Complete the minimumAbsoluteDifference function below.\n",
    "def minimumAbsoluteDifference(arr):\n",
    "    diffs = []\n",
    "    arr.sort()\n",
    "    for i in range(len(arr)-1):\n",
    "        diffs.append(abs(arr[i]-arr[i+1]))\n",
    "    return min(diffs)\n",
    "\n",
    "if __name__ == '__main__':\n",
    "    fptr = open(os.environ['OUTPUT_PATH'], 'w')\n",
    "\n",
    "    n = int(input())\n",
    "\n",
    "    arr = list(map(int, input().rstrip().split()))\n",
    "\n",
    "    result = minimumAbsoluteDifference(arr)\n",
    "\n",
    "    fptr.write(str(result) + '\\n')\n",
    "\n",
    "    fptr.close()\n"
   ]
  },
  {
   "cell_type": "markdown",
   "id": "295c5244",
   "metadata": {},
   "source": [
    "In this HackerRank Strong Password problem, Give the string she typed, can you find the minimum number of characters she must add to make her password strong."
   ]
  },
  {
   "cell_type": "code",
   "execution_count": 48,
   "id": "0f84c62a",
   "metadata": {
    "scrolled": true
   },
   "outputs": [
    {
     "name": "stdout",
     "output_type": "stream",
     "text": [
      "9\n",
      "3\n",
      "3\n"
     ]
    }
   ],
   "source": [
    "#!/bin/python3\n",
    "\n",
    "import sys\n",
    "\n",
    "def minimumNumber(n, password):\n",
    "    numbers = \"0123456789\"\n",
    "    lower_case = \"abcdefghijklmnopqrstuvwxyz\"\n",
    "    upper_case = \"ABCDEFGHIJKLMNOPQRSTUVWXYZ\"\n",
    "    special_characters = \"!@#$%^&*()-+\"\n",
    "    \n",
    "    n_bool = 1\n",
    "    l_bool = 1\n",
    "    u_bool = 1\n",
    "    s_bool = 1\n",
    "    for c in password:\n",
    "        if c in numbers: n_bool = 0\n",
    "        elif c in lower_case: l_bool = 0\n",
    "        elif c in upper_case: u_bool = 0\n",
    "        elif c in special_characters: s_bool = 0\n",
    "    return max(6-n, n_bool + l_bool + u_bool + s_bool)\n",
    "\n",
    "if __name__ == \"__main__\":\n",
    "    n = int(input().strip())\n",
    "    password = input().strip()\n",
    "    answer = minimumNumber(n, password)\n",
    "    print(answer)\n"
   ]
  },
  {
   "cell_type": "markdown",
   "id": "8b9e9b2a",
   "metadata": {},
   "source": [
    "In this Hackerrank Closest Numbers problem, we have given a list of unsorted integers, we need to find the pair of elements that have the smallest absolute difference between them. and if there are multiple elements then find them all and print them."
   ]
  },
  {
   "cell_type": "code",
   "execution_count": 50,
   "id": "9b1aecb3",
   "metadata": {},
   "outputs": [
    {
     "name": "stdout",
     "output_type": "stream",
     "text": [
      "3\n",
      "2 3\n",
      "2 3\n"
     ]
    }
   ],
   "source": [
    "#!/usr/bin/env python3\n",
    "\n",
    "N = int(input())\n",
    "arr = [int(x) for x in input().split()]\n",
    "arr.sort()\n",
    "\n",
    "result = []\n",
    "diff = 2**31-1\n",
    "for i in range(1, len(arr)):\n",
    "    if arr[i] - arr[i-1] <= diff:\n",
    "        if arr[i] - arr[i-1] < diff:\n",
    "            diff = arr[i] - arr[i-1]\n",
    "            result = []\n",
    "        result.append(arr[i])\n",
    "        result.append(arr[i-1])\n",
    "\n",
    "print(' '.join([str(x) for x in sorted(result)]))\n"
   ]
  },
  {
   "cell_type": "markdown",
   "id": "e8346a5e",
   "metadata": {},
   "source": [
    "In this HackerRank Separate the Numbers, problem For each query, print whether or not the string is beautiful on a new line. If it is beautiful, print YES x, where x is the first number of the increasing sequence. If there are multiple such values of x, choose the smallest. Otherwise, print NO."
   ]
  },
  {
   "cell_type": "code",
   "execution_count": 52,
   "id": "b197a101",
   "metadata": {},
   "outputs": [
    {
     "name": "stdout",
     "output_type": "stream",
     "text": [
      "5\n",
      "3\n",
      "NO\n",
      "5\n",
      "NO\n",
      "3\n",
      "NO\n",
      "1\n",
      "NO\n",
      "2\n",
      "NO\n"
     ]
    }
   ],
   "source": [
    "import sys\n",
    "\n",
    "q = int(input())\n",
    "best = None\n",
    "for _ in range(q):\n",
    "    s = input().strip()\n",
    "    \n",
    "    found = False\n",
    "    for i in range(len(s)//2):\n",
    "        a = s[:i+1]\n",
    "        f = n = int(s[:i+1])\n",
    "        while len(a) < len(s):\n",
    "            n += 1\n",
    "            a += str(n)\n",
    "        if a == s:\n",
    "            found = True\n",
    "            print('YES',f)\n",
    "            break\n",
    "    if not found:\n",
    "        print('NO')\n"
   ]
  },
  {
   "cell_type": "markdown",
   "id": "04074e28",
   "metadata": {},
   "source": [
    "In this Number Line Jumps problem, you are given two kangaroos on a number line ready to jump in the positive direction (i.e, toward positive infinity). The first kangaroo starts at location x1 and moves at a rate of v1 meters per jump. The second kangaroo starts at location x2 and moves at a rate of v2 meters per jump. You have to figure out a way to get both kangaroos at the same location at the same time as part of the show. If it is possible, return YES, otherwise return NO."
   ]
  },
  {
   "cell_type": "code",
   "execution_count": 54,
   "id": "1e29ca4a",
   "metadata": {},
   "outputs": [
    {
     "name": "stdout",
     "output_type": "stream",
     "text": [
      "2 3 4 5\n",
      "NO\n"
     ]
    }
   ],
   "source": [
    "#!/bin/python3\n",
    "\n",
    "import sys\n",
    "\n",
    "\n",
    "x1,v1,x2,v2 = input().strip().split(' ')\n",
    "x1,v1,x2,v2 = [int(x1),int(v1),int(x2),int(v2)]\n",
    "\n",
    "exist = False\n",
    "while(True):\n",
    "    if x1 == x2:\n",
    "        exist = True\n",
    "        break\n",
    "    if (v1 > v2 and x1 > x2) or (v2 > v1 and x2 > x1) or (v2 == v1 and x2 != x1):\n",
    "        break\n",
    "    x1 += v1\n",
    "    x2 += v2\n",
    "    \n",
    "if exist:\n",
    "    print('YES')\n",
    "else:\n",
    "    print('NO')\n",
    "    \n"
   ]
  },
  {
   "cell_type": "markdown",
   "id": "7612695b",
   "metadata": {},
   "source": [
    "\n",
    "In this HackerRank Left Rotation problem, we need to develop a program in which we have given an integer d and we need to rotate the array d times in left and return the result."
   ]
  },
  {
   "cell_type": "code",
   "execution_count": 57,
   "id": "e770a9b8",
   "metadata": {},
   "outputs": [
    {
     "name": "stdout",
     "output_type": "stream",
     "text": [
      "3 4\n",
      "1\n"
     ]
    },
    {
     "ename": "IndexError",
     "evalue": "list assignment index out of range",
     "output_type": "error",
     "traceback": [
      "\u001b[1;31m---------------------------------------------------------------------------\u001b[0m",
      "\u001b[1;31mIndexError\u001b[0m                                Traceback (most recent call last)",
      "\u001b[1;32m<ipython-input-57-89cca0f6088e>\u001b[0m in \u001b[0;36m<module>\u001b[1;34m\u001b[0m\n\u001b[0;32m      5\u001b[0m \u001b[1;32mfor\u001b[0m \u001b[0mi\u001b[0m \u001b[1;32min\u001b[0m \u001b[0mrange\u001b[0m\u001b[1;33m(\u001b[0m\u001b[0mlength\u001b[0m\u001b[1;33m)\u001b[0m\u001b[1;33m:\u001b[0m\u001b[1;33m\u001b[0m\u001b[1;33m\u001b[0m\u001b[0m\n\u001b[0;32m      6\u001b[0m     \u001b[0mo\u001b[0m \u001b[1;33m=\u001b[0m \u001b[0mi\u001b[0m\u001b[1;33m-\u001b[0m\u001b[0md\u001b[0m\u001b[1;33m\u001b[0m\u001b[1;33m\u001b[0m\u001b[0m\n\u001b[1;32m----> 7\u001b[1;33m     \u001b[0mnew\u001b[0m\u001b[1;33m[\u001b[0m\u001b[0mo\u001b[0m\u001b[1;33m]\u001b[0m\u001b[1;33m=\u001b[0m\u001b[0mstr\u001b[0m\u001b[1;33m(\u001b[0m\u001b[0ml\u001b[0m\u001b[1;33m[\u001b[0m\u001b[0mi\u001b[0m\u001b[1;33m]\u001b[0m\u001b[1;33m)\u001b[0m\u001b[1;33m\u001b[0m\u001b[1;33m\u001b[0m\u001b[0m\n\u001b[0m\u001b[0;32m      8\u001b[0m \u001b[0mprint\u001b[0m\u001b[1;33m(\u001b[0m\u001b[1;34m\" \"\u001b[0m\u001b[1;33m.\u001b[0m\u001b[0mjoin\u001b[0m\u001b[1;33m(\u001b[0m\u001b[0mnew\u001b[0m\u001b[1;33m)\u001b[0m\u001b[1;33m)\u001b[0m\u001b[1;33m\u001b[0m\u001b[1;33m\u001b[0m\u001b[0m\n",
      "\u001b[1;31mIndexError\u001b[0m: list assignment index out of range"
     ]
    }
   ],
   "source": [
    "n,d = (int(x) for x in input().split())\n",
    "l = [int(x) for x in input().split()]\n",
    "length = len(l)\n",
    "new = [0 for x in l]\n",
    "for i in range(length):\n",
    "    o = i-d\n",
    "    new[o]=str(l[i])\n",
    "print(\" \".join(new))\n"
   ]
  },
  {
   "cell_type": "markdown",
   "id": "d4e0e4be",
   "metadata": {},
   "source": [
    "In this HackerRank Picking Numbers problem You have Given an array of integers, find the longest subarray where the absolute difference between any two elements is less than or equal to 1."
   ]
  },
  {
   "cell_type": "code",
   "execution_count": 60,
   "id": "b54250fe",
   "metadata": {},
   "outputs": [
    {
     "name": "stdout",
     "output_type": "stream",
     "text": [
      "3\n",
      "2\n",
      "1\n"
     ]
    }
   ],
   "source": [
    "#!/bin/python3\n",
    "\n",
    "import sys\n",
    "\n",
    "def count(n, a):\n",
    "    return len(list(filter( (lambda x: x==n), a)))\n",
    "\n",
    "n = int(input().strip())\n",
    "a = [int(a_temp) for a_temp in input().strip().split(' ')]\n",
    "\n",
    "mi = min(a)\n",
    "ma = max(a)\n",
    "maxCount = -1\n",
    "if mi == ma:\n",
    "    print(len(a))\n",
    "else:\n",
    "    for i in range(mi, ma):\n",
    "            c = count(i, a) + count(i+1, a)\n",
    "            if c > maxCount:\n",
    "                maxCount = c\n",
    "            \n",
    "    print(maxCount)\n"
   ]
  },
  {
   "cell_type": "markdown",
   "id": "8c623cb2",
   "metadata": {},
   "source": [
    "In this HackerRank Migratory Birds problem, you have Given an array of bird sightings where every element represents a bird type id, determine the id of the most frequently sighted type. If more than 1 type has been spotted that maximum amount, return the smallest of their ids."
   ]
  },
  {
   "cell_type": "code",
   "execution_count": 62,
   "id": "56c30d42",
   "metadata": {},
   "outputs": [
    {
     "name": "stdout",
     "output_type": "stream",
     "text": [
      "9\n",
      "4\n",
      "4\n"
     ]
    }
   ],
   "source": [
    "#!/bin/python3\n",
    "\n",
    "import sys\n",
    "from collections import Counter\n",
    "import operator\n",
    "\n",
    "n = int(input().strip())\n",
    "types = list(map(int, input().strip().split(' ')))\n",
    "# your code goes here\n",
    "mydict = dict(Counter(types))\n",
    "maximum = max(mydict, key=mydict.get)  \n",
    "print(maximum)\n"
   ]
  },
  {
   "cell_type": "markdown",
   "id": "e7623012",
   "metadata": {},
   "source": [
    "In this HackerRank Maximum Perimeter Triangle problem solution we have given an array of stick lengths, use 3 of them to construct a non-degenerate triangle with the maximum possible perimeter. Return an array of the lengths of its sides as 3 integers in non-decreasing order."
   ]
  },
  {
   "cell_type": "code",
   "execution_count": 66,
   "id": "cf2d49fc",
   "metadata": {},
   "outputs": [
    {
     "name": "stdout",
     "output_type": "stream",
     "text": [
      "3 4 5 6 6\n"
     ]
    },
    {
     "ename": "ValueError",
     "evalue": "invalid literal for int() with base 10: '3 4 5 6 6'",
     "output_type": "error",
     "traceback": [
      "\u001b[1;31m---------------------------------------------------------------------------\u001b[0m",
      "\u001b[1;31mValueError\u001b[0m                                Traceback (most recent call last)",
      "\u001b[1;32m<ipython-input-66-3c5285afe1e5>\u001b[0m in \u001b[0;36m<module>\u001b[1;34m\u001b[0m\n\u001b[1;32m----> 1\u001b[1;33m \u001b[0mn\u001b[0m \u001b[1;33m=\u001b[0m \u001b[0mint\u001b[0m\u001b[1;33m(\u001b[0m\u001b[0minput\u001b[0m\u001b[1;33m(\u001b[0m\u001b[1;33m)\u001b[0m\u001b[1;33m)\u001b[0m\u001b[1;33m\u001b[0m\u001b[1;33m\u001b[0m\u001b[0m\n\u001b[0m\u001b[0;32m      2\u001b[0m \u001b[0ma\u001b[0m \u001b[1;33m=\u001b[0m \u001b[0mlist\u001b[0m\u001b[1;33m(\u001b[0m\u001b[0mmap\u001b[0m\u001b[1;33m(\u001b[0m\u001b[0mint\u001b[0m\u001b[1;33m,\u001b[0m \u001b[0minput\u001b[0m\u001b[1;33m(\u001b[0m\u001b[1;33m)\u001b[0m\u001b[1;33m.\u001b[0m\u001b[0msplit\u001b[0m\u001b[1;33m(\u001b[0m\u001b[1;33m)\u001b[0m\u001b[1;33m)\u001b[0m\u001b[1;33m)\u001b[0m\u001b[1;33m\u001b[0m\u001b[1;33m\u001b[0m\u001b[0m\n\u001b[0;32m      3\u001b[0m \u001b[0ma\u001b[0m \u001b[1;33m=\u001b[0m \u001b[0msorted\u001b[0m\u001b[1;33m(\u001b[0m\u001b[0ma\u001b[0m\u001b[1;33m)\u001b[0m\u001b[1;33m\u001b[0m\u001b[1;33m\u001b[0m\u001b[0m\n\u001b[0;32m      4\u001b[0m \u001b[1;32mfor\u001b[0m \u001b[0mi\u001b[0m \u001b[1;32min\u001b[0m \u001b[0mrange\u001b[0m\u001b[1;33m(\u001b[0m\u001b[1;36m0\u001b[0m\u001b[1;33m,\u001b[0m\u001b[0mn\u001b[0m\u001b[1;33m-\u001b[0m\u001b[1;36m2\u001b[0m\u001b[1;33m)\u001b[0m\u001b[1;33m:\u001b[0m\u001b[1;33m\u001b[0m\u001b[1;33m\u001b[0m\u001b[0m\n\u001b[0;32m      5\u001b[0m     \u001b[0mx\u001b[0m \u001b[1;33m=\u001b[0m \u001b[0ma\u001b[0m\u001b[1;33m[\u001b[0m\u001b[0mn\u001b[0m\u001b[1;33m-\u001b[0m\u001b[1;36m1\u001b[0m\u001b[1;33m-\u001b[0m\u001b[0mi\u001b[0m\u001b[1;33m]\u001b[0m\u001b[1;33m\u001b[0m\u001b[1;33m\u001b[0m\u001b[0m\n",
      "\u001b[1;31mValueError\u001b[0m: invalid literal for int() with base 10: '3 4 5 6 6'"
     ]
    }
   ],
   "source": [
    "n = int(input())\n",
    "a = list(map(int, input().split()))\n",
    "a = sorted(a)\n",
    "for i in range(0,n-2):\n",
    "    x = a[n-1-i]\n",
    "    y = a[n-2-i]\n",
    "    z = a[n-3-i]\n",
    "    if y + z > x:\n",
    "        print(str(z) + \" \"+ str(y) + \" \" + str(x))\n",
    "        exit()\n",
    "print(-1)\n"
   ]
  },
  {
   "cell_type": "markdown",
   "id": "79a91c39",
   "metadata": {},
   "source": [
    "In this Grading Students problem, you need to complete the function gradingStudents that has an integer array as a parameter and need to return the rounding of grades"
   ]
  },
  {
   "cell_type": "code",
   "execution_count": null,
   "id": "3dcd7432",
   "metadata": {},
   "outputs": [],
   "source": [
    "#!/bin/python3\n",
    "\n",
    "import math\n",
    "import os\n",
    "import random\n",
    "import re\n",
    "import sys\n",
    "\n",
    "#\n",
    "# Complete the 'gradingStudents' function below.\n",
    "#\n",
    "# The function is expected to return an INTEGER_ARRAY.\n",
    "# The function accepts INTEGER_ARRAY grades as parameter.\n",
    "#\n",
    "\n",
    "def gradingStudents(grades):\n",
    "    \n",
    "    for i in range(0,len(grades)):\n",
    "        \n",
    "        if grades[i] < 38:\n",
    "            continue\n",
    "        else:\n",
    "            temp = grades[i]\n",
    "            te = temp % 5\n",
    "            if te == 3:\n",
    "                temp = temp + 2\n",
    "                grades[i] = temp\n",
    "            elif te == 4:\n",
    "                temp = temp + 1\n",
    "                grades[i] = temp\n",
    "            else:\n",
    "                continue\n",
    "    return grades\n",
    "\n",
    "\n",
    "\n",
    "if __name__ == '__main__':\n",
    "    fptr = open(os.environ['OUTPUT_PATH'], 'w')\n",
    "\n",
    "    grades_count = int(input().strip())\n",
    "\n",
    "    grades = []\n",
    "\n",
    "    for _ in range(grades_count):\n",
    "        grades_item = int(input().strip())\n",
    "        grades.append(grades_item)\n",
    "\n",
    "    result = gradingStudents(grades)\n",
    "\n",
    "    fptr.write('\\n'.join(map(str, result)))\n",
    "    fptr.write('\\n')\n",
    "\n",
    "    fptr.close()\n"
   ]
  },
  {
   "cell_type": "markdown",
   "id": "a037a0a1",
   "metadata": {},
   "source": [
    "In this Divisible Sum Pairs problem you have Given an array of integers and a positive integer k, determine the number of (i,j) pairs where i < j and ar[i]+ar[j] is divisible by k."
   ]
  },
  {
   "cell_type": "code",
   "execution_count": 68,
   "id": "9d94029d",
   "metadata": {},
   "outputs": [
    {
     "name": "stdout",
     "output_type": "stream",
     "text": [
      "3 4\n",
      "3 2\n",
      "0\n"
     ]
    }
   ],
   "source": [
    "#!/bin/python3\n",
    "\n",
    "import sys\n",
    "\n",
    "\n",
    "n,k = input().strip().split(' ')\n",
    "n,k = [int(n),int(k)]\n",
    "a = [int(a_temp) for a_temp in input().strip().split(' ')]\n",
    "acc = 0\n",
    "for i, e in enumerate(a):\n",
    "    for j in range(i+1, len(a)):\n",
    "        acc += (e + a[j]) % k == 0\n",
    "print(acc)\n"
   ]
  },
  {
   "cell_type": "markdown",
   "id": "395835ae",
   "metadata": {},
   "source": [
    "\n",
    "In this HackerRank Pairs interview preparation kit problem You are Given an array of integers and a target value, determine the number of pairs of array elements that have a difference equal to the target value."
   ]
  },
  {
   "cell_type": "code",
   "execution_count": 27,
   "id": "48df664b",
   "metadata": {},
   "outputs": [
    {
     "name": "stdout",
     "output_type": "stream",
     "text": [
      "8\n"
     ]
    },
    {
     "ename": "IndexError",
     "evalue": "list index out of range",
     "output_type": "error",
     "traceback": [
      "\u001b[1;31m---------------------------------------------------------------------------\u001b[0m",
      "\u001b[1;31mIndexError\u001b[0m                                Traceback (most recent call last)",
      "\u001b[1;32m<ipython-input-27-965b24091617>\u001b[0m in \u001b[0;36m<module>\u001b[1;34m\u001b[0m\n\u001b[0;32m     26\u001b[0m     \u001b[0ma\u001b[0m \u001b[1;33m=\u001b[0m \u001b[0mlist\u001b[0m\u001b[1;33m(\u001b[0m\u001b[0mmap\u001b[0m\u001b[1;33m(\u001b[0m\u001b[0mint\u001b[0m\u001b[1;33m,\u001b[0m \u001b[0ma\u001b[0m\u001b[1;33m.\u001b[0m\u001b[0msplit\u001b[0m\u001b[1;33m(\u001b[0m\u001b[1;34m' '\u001b[0m\u001b[1;33m)\u001b[0m\u001b[1;33m)\u001b[0m\u001b[1;33m)\u001b[0m\u001b[1;33m\u001b[0m\u001b[1;33m\u001b[0m\u001b[0m\n\u001b[0;32m     27\u001b[0m     \u001b[0m_a_size\u001b[0m\u001b[1;33m=\u001b[0m\u001b[0ma\u001b[0m\u001b[1;33m[\u001b[0m\u001b[1;36m0\u001b[0m\u001b[1;33m]\u001b[0m\u001b[1;33m\u001b[0m\u001b[1;33m\u001b[0m\u001b[0m\n\u001b[1;32m---> 28\u001b[1;33m     \u001b[0m_k\u001b[0m\u001b[1;33m=\u001b[0m\u001b[0ma\u001b[0m\u001b[1;33m[\u001b[0m\u001b[1;36m1\u001b[0m\u001b[1;33m]\u001b[0m\u001b[1;33m\u001b[0m\u001b[1;33m\u001b[0m\u001b[0m\n\u001b[0m\u001b[0;32m     29\u001b[0m     \u001b[0mb\u001b[0m \u001b[1;33m=\u001b[0m \u001b[0minput\u001b[0m\u001b[1;33m(\u001b[0m\u001b[1;33m)\u001b[0m\u001b[1;33m.\u001b[0m\u001b[0mstrip\u001b[0m\u001b[1;33m(\u001b[0m\u001b[1;33m)\u001b[0m\u001b[1;33m\u001b[0m\u001b[1;33m\u001b[0m\u001b[0m\n\u001b[0;32m     30\u001b[0m     \u001b[0mb\u001b[0m \u001b[1;33m=\u001b[0m \u001b[0mlist\u001b[0m\u001b[1;33m(\u001b[0m\u001b[0mmap\u001b[0m\u001b[1;33m(\u001b[0m\u001b[0mint\u001b[0m\u001b[1;33m,\u001b[0m \u001b[0mb\u001b[0m\u001b[1;33m.\u001b[0m\u001b[0msplit\u001b[0m\u001b[1;33m(\u001b[0m\u001b[1;34m' '\u001b[0m\u001b[1;33m)\u001b[0m\u001b[1;33m)\u001b[0m\u001b[1;33m)\u001b[0m\u001b[1;33m\u001b[0m\u001b[1;33m\u001b[0m\u001b[0m\n",
      "\u001b[1;31mIndexError\u001b[0m: list index out of range"
     ]
    }
   ],
   "source": [
    "#!/usr/bin/py\n",
    "# Head ends here\n",
    "def pairs(a,k):\n",
    "    # a is the list of numbers and k is the difference value\n",
    "    a.sort()\n",
    "    left = 0\n",
    "    right = 1\n",
    "    answer = 0\n",
    "    while right < len(a):\n",
    "        val = a[right]-a[left]\n",
    "        if val == k:\n",
    "            answer += 1\n",
    "            left += 1\n",
    "            right += 1\n",
    "        elif val < k:\n",
    "            right += 1\n",
    "        else:\n",
    "            left += 1\n",
    "            if left == right:\n",
    "                right += 1\n",
    "\n",
    "    return answer\n",
    "# Tail starts here\n",
    "if __name__ == '__main__':\n",
    "    a = input().strip()\n",
    "    a = list(map(int, a.split(' ')))\n",
    "    _a_size=a[0]\n",
    "    _k=a[1]\n",
    "    b = input().strip()\n",
    "    b = list(map(int, b.split(' ')))\n",
    "    print(pairs(b,_k))\n",
    "    \n",
    "    "
   ]
  },
  {
   "cell_type": "markdown",
   "id": "b09fe11e",
   "metadata": {},
   "source": [
    "In this Breaking the Records problem you have Given the scores for a season, determine the number of times Maria breaks her records for most and least points scored during the season."
   ]
  },
  {
   "cell_type": "code",
   "execution_count": null,
   "id": "2ca115d8",
   "metadata": {},
   "outputs": [],
   "source": [
    "def solution(arr):\n",
    "    lo = arr[0]\n",
    "    hi = arr[0]\n",
    "    lob = 0\n",
    "    hib = 0\n",
    "    for i in range(1,len(arr)):\n",
    "        if arr[i] < lo:\n",
    "            lob += 1\n",
    "            lo = arr[i]\n",
    "        if arr[i] > hi:\n",
    "            hib += 1\n",
    "            hi = arr[i]\n",
    "    return [hib, lob]\n",
    "\n",
    "if __name__ == \"__main__\":\n",
    "    size = int(input())\n",
    "    arr = [int(t) for t in input().strip().split()]\n",
    "    ans = solution(arr)\n",
    "    print(str(ans)[1:-1].replace(\",\",\"\"))\n",
    "    \n"
   ]
  },
  {
   "cell_type": "markdown",
   "id": "9fab0e87",
   "metadata": {},
   "source": [
    "In this HackerRank Camel Case 4 problem-solution Camel Case is a naming style common in many programming languages. In Java, method and variable names typically start with a lowercase letter, with all subsequent words starting with a capital letter (example: startThread). Names of classes follow the same pattern, except that they start with a capital letter (example: BlueCar).\n",
    "\n",
    "Your task is to write a program that creates or splits Camel Case variable, method, and class names."
   ]
  },
  {
   "cell_type": "code",
   "execution_count": 78,
   "id": "eb16ce8f",
   "metadata": {
    "scrolled": true
   },
   "outputs": [
    {
     "name": "stdout",
     "output_type": "stream",
     "text": [
      "'ida', 'ogah', 'pdp'\n"
     ]
    },
    {
     "ename": "ValueError",
     "evalue": "not enough values to unpack (expected 3, got 1)",
     "output_type": "error",
     "traceback": [
      "\u001b[1;31m---------------------------------------------------------------------------\u001b[0m",
      "\u001b[1;31mValueError\u001b[0m                                Traceback (most recent call last)",
      "\u001b[1;32m<ipython-input-78-f89e031e923d>\u001b[0m in \u001b[0;36m<module>\u001b[1;34m\u001b[0m\n\u001b[0;32m      3\u001b[0m     \u001b[1;32mtry\u001b[0m\u001b[1;33m:\u001b[0m\u001b[1;33m\u001b[0m\u001b[1;33m\u001b[0m\u001b[0m\n\u001b[0;32m      4\u001b[0m         \u001b[0ms\u001b[0m \u001b[1;33m=\u001b[0m \u001b[0minput\u001b[0m\u001b[1;33m(\u001b[0m\u001b[1;33m)\u001b[0m\u001b[1;33m.\u001b[0m\u001b[0mrstrip\u001b[0m\u001b[1;33m(\u001b[0m\u001b[1;33m)\u001b[0m\u001b[1;33m\u001b[0m\u001b[1;33m\u001b[0m\u001b[0m\n\u001b[1;32m----> 5\u001b[1;33m         \u001b[0msc\u001b[0m\u001b[1;33m,\u001b[0m \u001b[0mmcv\u001b[0m\u001b[1;33m,\u001b[0m \u001b[0mop\u001b[0m \u001b[1;33m=\u001b[0m \u001b[0ms\u001b[0m\u001b[1;33m.\u001b[0m\u001b[0msplit\u001b[0m\u001b[1;33m(\u001b[0m\u001b[1;34m\";\"\u001b[0m\u001b[1;33m)\u001b[0m\u001b[1;33m\u001b[0m\u001b[1;33m\u001b[0m\u001b[0m\n\u001b[0m\u001b[0;32m      6\u001b[0m         \u001b[1;32mif\u001b[0m \u001b[0msc\u001b[0m \u001b[1;33m==\u001b[0m \u001b[1;34m\"S\"\u001b[0m\u001b[1;33m:\u001b[0m\u001b[1;33m\u001b[0m\u001b[1;33m\u001b[0m\u001b[0m\n\u001b[0;32m      7\u001b[0m             \u001b[1;32mif\u001b[0m \u001b[0mmcv\u001b[0m \u001b[1;33m==\u001b[0m \u001b[1;34m\"M\"\u001b[0m\u001b[1;33m:\u001b[0m\u001b[1;33m\u001b[0m\u001b[1;33m\u001b[0m\u001b[0m\n",
      "\u001b[1;31mValueError\u001b[0m: not enough values to unpack (expected 3, got 1)"
     ]
    }
   ],
   "source": [
    "import re\n",
    "while True:\n",
    "    try:\n",
    "        s = input().rstrip()    \n",
    "        sc, mcv, op = s.split(\";\")\n",
    "        if sc == \"S\":\n",
    "            if mcv == \"M\":\n",
    "                cap = op[:-2]                                   \n",
    "                \n",
    "            if mcv == \"C\" or mcv == \"V\":\n",
    "                cap = op\n",
    "            \n",
    "            s = re.sub (\"(\\w)([A-Z])\", r\"\\1 \\2\", cap)\n",
    "            print (s.lower())\n",
    "                \n",
    "        if sc == \"C\":\n",
    "            cap = op.title ()\n",
    "            s = re.sub (r\" \", r\"\", cap)\n",
    "            q = s[:1].lower() + s[1:]                \n",
    "            \n",
    "            if mcv == \"M\":                                \n",
    "                print (q+\"()\")\n",
    "                \n",
    "            if mcv == \"C\":\n",
    "                print (s)\n",
    "              \n",
    "            if mcv == \"V\":\n",
    "                print (q)\n",
    "            \n",
    "    except EOFError:\n",
    "        break\n"
   ]
  },
  {
   "cell_type": "markdown",
   "id": "102dfb6c",
   "metadata": {},
   "source": [
    "In this HackerRank Minimum Time Required Interview preparation kit problem you need to complete the minimumTimefunction."
   ]
  },
  {
   "cell_type": "code",
   "execution_count": 10,
   "id": "a5686c5f",
   "metadata": {},
   "outputs": [
    {
     "ename": "KeyError",
     "evalue": "'OUTPUT_PATH'",
     "output_type": "error",
     "traceback": [
      "\u001b[1;31m---------------------------------------------------------------------------\u001b[0m",
      "\u001b[1;31mKeyError\u001b[0m                                  Traceback (most recent call last)",
      "\u001b[1;32m<ipython-input-10-09a552f5351b>\u001b[0m in \u001b[0;36m<module>\u001b[1;34m\u001b[0m\n\u001b[0;32m     25\u001b[0m \u001b[1;33m\u001b[0m\u001b[0m\n\u001b[0;32m     26\u001b[0m \u001b[1;32mif\u001b[0m \u001b[0m__name__\u001b[0m \u001b[1;33m==\u001b[0m \u001b[1;34m'__main__'\u001b[0m\u001b[1;33m:\u001b[0m\u001b[1;33m\u001b[0m\u001b[1;33m\u001b[0m\u001b[0m\n\u001b[1;32m---> 27\u001b[1;33m     \u001b[0mfptr\u001b[0m \u001b[1;33m=\u001b[0m \u001b[0mopen\u001b[0m\u001b[1;33m(\u001b[0m\u001b[0mos\u001b[0m\u001b[1;33m.\u001b[0m\u001b[0menviron\u001b[0m\u001b[1;33m[\u001b[0m\u001b[1;34m'OUTPUT_PATH'\u001b[0m\u001b[1;33m]\u001b[0m\u001b[1;33m,\u001b[0m \u001b[1;34m'w'\u001b[0m\u001b[1;33m)\u001b[0m\u001b[1;33m\u001b[0m\u001b[1;33m\u001b[0m\u001b[0m\n\u001b[0m\u001b[0;32m     28\u001b[0m \u001b[1;33m\u001b[0m\u001b[0m\n\u001b[0;32m     29\u001b[0m     \u001b[0mnGoal\u001b[0m \u001b[1;33m=\u001b[0m \u001b[0minput\u001b[0m\u001b[1;33m(\u001b[0m\u001b[1;33m)\u001b[0m\u001b[1;33m.\u001b[0m\u001b[0msplit\u001b[0m\u001b[1;33m(\u001b[0m\u001b[1;33m)\u001b[0m\u001b[1;33m\u001b[0m\u001b[1;33m\u001b[0m\u001b[0m\n",
      "\u001b[1;32m~\\anaconda3\\lib\\os.py\u001b[0m in \u001b[0;36m__getitem__\u001b[1;34m(self, key)\u001b[0m\n\u001b[0;32m    673\u001b[0m         \u001b[1;32mexcept\u001b[0m \u001b[0mKeyError\u001b[0m\u001b[1;33m:\u001b[0m\u001b[1;33m\u001b[0m\u001b[1;33m\u001b[0m\u001b[0m\n\u001b[0;32m    674\u001b[0m             \u001b[1;31m# raise KeyError with the original key value\u001b[0m\u001b[1;33m\u001b[0m\u001b[1;33m\u001b[0m\u001b[1;33m\u001b[0m\u001b[0m\n\u001b[1;32m--> 675\u001b[1;33m             \u001b[1;32mraise\u001b[0m \u001b[0mKeyError\u001b[0m\u001b[1;33m(\u001b[0m\u001b[0mkey\u001b[0m\u001b[1;33m)\u001b[0m \u001b[1;32mfrom\u001b[0m \u001b[1;32mNone\u001b[0m\u001b[1;33m\u001b[0m\u001b[1;33m\u001b[0m\u001b[0m\n\u001b[0m\u001b[0;32m    676\u001b[0m         \u001b[1;32mreturn\u001b[0m \u001b[0mself\u001b[0m\u001b[1;33m.\u001b[0m\u001b[0mdecodevalue\u001b[0m\u001b[1;33m(\u001b[0m\u001b[0mvalue\u001b[0m\u001b[1;33m)\u001b[0m\u001b[1;33m\u001b[0m\u001b[1;33m\u001b[0m\u001b[0m\n\u001b[0;32m    677\u001b[0m \u001b[1;33m\u001b[0m\u001b[0m\n",
      "\u001b[1;31mKeyError\u001b[0m: 'OUTPUT_PATH'"
     ]
    }
   ],
   "source": [
    "#!/bin/python3\n",
    "\n",
    "import math\n",
    "import os\n",
    "import random\n",
    "import re\n",
    "import sys\n",
    "\n",
    "# Complete the minTime function below.\n",
    "def minTime(machines, goal):\n",
    "    machines, count = sorted(machines), len(machines)\n",
    "    min_day = math.ceil(goal / count) * machines[0]\n",
    "    max_day = math.ceil(goal / count) * machines[-1]\n",
    "\n",
    "    while min_day < max_day:\n",
    "        day = (max_day + min_day) // 2\n",
    "        day_sum = sum(day // m for m in machines)\n",
    "\n",
    "        if day_sum >= goal:\n",
    "            max_day = day\n",
    "        else:\n",
    "            min_day = day + 1\n",
    "\n",
    "    return min_day\n",
    "\n",
    "if __name__ == '__main__':\n",
    "    fptr = open(os.environ['OUTPUT_PATH'], 'w')\n",
    "\n",
    "    nGoal = input().split()\n",
    "\n",
    "    n = int(nGoal[0])\n",
    "\n",
    "    goal = int(nGoal[1])\n",
    "\n",
    "    machines = list(map(int, input().rstrip().split()))\n",
    "\n",
    "    ans = minTime(machines, goal)\n",
    "\n",
    "    fptr.write(str(ans) + '\\n')\n",
    "\n",
    "    fptr.close() "
   ]
  },
  {
   "cell_type": "markdown",
   "id": "5b631434",
   "metadata": {},
   "source": [
    "In this HackerRank Swap Nodes [Algo] interview preparation kit problem You are given a tree of n nodes where nodes are indexed from [1..n] and it is rooted at 1. You have to perform t swap operations on it and after each swap operation print the in-order traversal of the current state of the tree."
   ]
  },
  {
   "cell_type": "code",
   "execution_count": 81,
   "id": "495db595",
   "metadata": {},
   "outputs": [
    {
     "name": "stdout",
     "output_type": "stream",
     "text": [
      "34\n",
      "2 4\n",
      "5 7\n",
      "3 6\n",
      "8 9\n",
      "11 21\n",
      "2 5\n",
      "33 5\n",
      "4 2\n",
      "22 3\n",
      "23 44\n",
      "8 9\n",
      "65 1\n",
      "6\n"
     ]
    },
    {
     "ename": "ValueError",
     "evalue": "not enough values to unpack (expected 2, got 1)",
     "output_type": "error",
     "traceback": [
      "\u001b[1;31m---------------------------------------------------------------------------\u001b[0m",
      "\u001b[1;31mValueError\u001b[0m                                Traceback (most recent call last)",
      "\u001b[1;32m<ipython-input-81-9a9a18d9aee7>\u001b[0m in \u001b[0;36m<module>\u001b[1;34m\u001b[0m\n\u001b[0;32m     46\u001b[0m \u001b[1;32mfor\u001b[0m \u001b[0mi\u001b[0m \u001b[1;32min\u001b[0m \u001b[0mrange\u001b[0m\u001b[1;33m(\u001b[0m\u001b[1;36m1\u001b[0m\u001b[1;33m,\u001b[0m \u001b[0mN\u001b[0m\u001b[1;33m+\u001b[0m\u001b[1;36m1\u001b[0m\u001b[1;33m)\u001b[0m\u001b[1;33m:\u001b[0m\u001b[1;33m\u001b[0m\u001b[1;33m\u001b[0m\u001b[0m\n\u001b[0;32m     47\u001b[0m     \u001b[0mn\u001b[0m \u001b[1;33m=\u001b[0m \u001b[0mNode\u001b[0m\u001b[1;33m(\u001b[0m\u001b[0mi\u001b[0m\u001b[1;33m)\u001b[0m\u001b[1;33m\u001b[0m\u001b[1;33m\u001b[0m\u001b[0m\n\u001b[1;32m---> 48\u001b[1;33m     \u001b[0mn\u001b[0m\u001b[1;33m.\u001b[0m\u001b[0mleft_index\u001b[0m\u001b[1;33m,\u001b[0m \u001b[0mn\u001b[0m\u001b[1;33m.\u001b[0m\u001b[0mright_index\u001b[0m \u001b[1;33m=\u001b[0m \u001b[1;33m[\u001b[0m\u001b[0mv\u001b[0m \u001b[1;32mif\u001b[0m \u001b[0mv\u001b[0m \u001b[1;33m>\u001b[0m \u001b[1;36m0\u001b[0m \u001b[1;32melse\u001b[0m \u001b[1;36m0\u001b[0m \u001b[1;32mfor\u001b[0m \u001b[0mv\u001b[0m \u001b[1;32min\u001b[0m \u001b[0mmap\u001b[0m\u001b[1;33m(\u001b[0m\u001b[0mint\u001b[0m\u001b[1;33m,\u001b[0m \u001b[0minput\u001b[0m\u001b[1;33m(\u001b[0m\u001b[1;33m)\u001b[0m\u001b[1;33m.\u001b[0m\u001b[0msplit\u001b[0m\u001b[1;33m(\u001b[0m\u001b[1;33m)\u001b[0m\u001b[1;33m)\u001b[0m\u001b[1;33m]\u001b[0m\u001b[1;33m\u001b[0m\u001b[1;33m\u001b[0m\u001b[0m\n\u001b[0m\u001b[0;32m     49\u001b[0m     \u001b[0mnodes\u001b[0m\u001b[1;33m[\u001b[0m\u001b[0mi\u001b[0m\u001b[1;33m]\u001b[0m \u001b[1;33m=\u001b[0m \u001b[0mn\u001b[0m\u001b[1;33m\u001b[0m\u001b[1;33m\u001b[0m\u001b[0m\n\u001b[0;32m     50\u001b[0m \u001b[1;33m\u001b[0m\u001b[0m\n",
      "\u001b[1;31mValueError\u001b[0m: not enough values to unpack (expected 2, got 1)"
     ]
    }
   ],
   "source": [
    "from collections import deque\n",
    "\n",
    "class Node:\n",
    "    def __init__(self, index):\n",
    "        self.left = None\n",
    "        self.right = None\n",
    "        self.index = index\n",
    "        \n",
    "    \n",
    "def in_order_traverse(root):\n",
    "    \"\"\"Don't use recursion b/c of recursion limit.\"\"\"\n",
    "    stack = deque([root])\n",
    "    visited = set()\n",
    "    while stack:\n",
    "        node = stack.pop()\n",
    "        if node is None:\n",
    "            continue\n",
    "        if node.index in visited:\n",
    "            print(node.index, end=' ')\n",
    "            continue\n",
    "        visited.add(node.index)\n",
    "        stack.append(node.right)\n",
    "        stack.append(node)\n",
    "        stack.append(node.left)\n",
    "    \n",
    "    \n",
    "def swap(root, k):\n",
    "    \"\"\"Don't use recursion b/c of recursion limit.\"\"\"\n",
    "    q = deque([(root, 1)])\n",
    "    while q:\n",
    "        node, level = q.popleft()\n",
    "        if node is None:\n",
    "            continue\n",
    "        if level % k == 0:\n",
    "            node.left, node.right = node.right, node.left\n",
    "        q.append((node.left, level+1))\n",
    "        q.append((node.right, level+1))\n",
    "\n",
    "        \n",
    "        \n",
    "# get number of nodes    \n",
    "N = int(input())\n",
    "\n",
    "# create node list\n",
    "nodes = [None]*(N+1)\n",
    "for i in range(1, N+1):\n",
    "    n = Node(i)\n",
    "    n.left_index, n.right_index = [v if v > 0 else 0 for v in map(int, input().split())]\n",
    "    nodes[i] = n\n",
    "\n",
    "# fill out node objects\n",
    "for n in nodes[1:]:\n",
    "    left = nodes[n.left_index]\n",
    "    right = nodes[n.right_index]\n",
    "    n.left = left\n",
    "    n.right = right\n",
    "\n",
    "T = int(input())\n",
    "root = nodes[1]\n",
    "# do the swapping\n",
    "for _ in range(T):\n",
    "    k = int(input())\n",
    "    swap(root, k)\n",
    "    in_order_traverse(root)\n",
    "    print('')\n",
    "    "
   ]
  },
  {
   "cell_type": "markdown",
   "id": "7b23f1ca",
   "metadata": {},
   "source": [
    "In this HackerRank Abbreviation Interview preparation kit problem you need to complete the function abbreviation."
   ]
  },
  {
   "cell_type": "code",
   "execution_count": 84,
   "id": "3a1779d6",
   "metadata": {},
   "outputs": [
    {
     "name": "stdout",
     "output_type": "stream",
     "text": [
      "2\n",
      "38\n",
      "22\n",
      "NO\n",
      "1\n",
      "22\n",
      "NO\n"
     ]
    }
   ],
   "source": [
    "import sys\n",
    "\n",
    "q = int(input().strip())\n",
    "for i in range(q):\n",
    "    a = input().strip()\n",
    "    b = input().strip()\n",
    "    #store all possibilities\n",
    "    bpos = {}\n",
    "    for i in range(len(b)):\n",
    "        bpos[b[i]] = (bpos[b[i]] | set([i])) if b[i] in bpos else set([i])\n",
    "    possibilities = set([0])\n",
    "    for i in range(len(a)):\n",
    "        if a[i].upper() in bpos:\n",
    "            intersection = bpos[a[i].upper()] & possibilities\n",
    "            advancement = set([i + 1 for i in intersection])\n",
    "        else:\n",
    "            advancement = set([])\n",
    "        if a[i].upper() == a[i]:#capitals must follow the intersection\n",
    "            possibilities = advancement\n",
    "        else:\n",
    "            possibilities = possibilities | advancement\n",
    "    print(\"YES\" if (len(b)) in possibilities else \"NO\")\n",
    "    "
   ]
  },
  {
   "cell_type": "markdown",
   "id": "0a14a20a",
   "metadata": {},
   "source": [
    "\n",
    "In this HackerRank Frequency queries Interview preparation kit problem solution Complete the freqQuery function in the editor below. It must return an array of integers where each element is a 1 if there is at least one element value with the queried number of occurrences in the current array, or 0 if there is not. "
   ]
  },
  {
   "cell_type": "code",
   "execution_count": 85,
   "id": "f72bfaf2",
   "metadata": {},
   "outputs": [
    {
     "ename": "KeyError",
     "evalue": "'OUTPUT_PATH'",
     "output_type": "error",
     "traceback": [
      "\u001b[1;31m---------------------------------------------------------------------------\u001b[0m",
      "\u001b[1;31mKeyError\u001b[0m                                  Traceback (most recent call last)",
      "\u001b[1;32m<ipython-input-85-eec5b93aaa54>\u001b[0m in \u001b[0;36m<module>\u001b[1;34m\u001b[0m\n\u001b[0;32m     23\u001b[0m \u001b[1;33m\u001b[0m\u001b[0m\n\u001b[0;32m     24\u001b[0m \u001b[1;32mif\u001b[0m \u001b[0m__name__\u001b[0m \u001b[1;33m==\u001b[0m \u001b[1;34m'__main__'\u001b[0m\u001b[1;33m:\u001b[0m\u001b[1;33m\u001b[0m\u001b[1;33m\u001b[0m\u001b[0m\n\u001b[1;32m---> 25\u001b[1;33m     \u001b[0mfptr\u001b[0m \u001b[1;33m=\u001b[0m \u001b[0mopen\u001b[0m\u001b[1;33m(\u001b[0m\u001b[0mos\u001b[0m\u001b[1;33m.\u001b[0m\u001b[0menviron\u001b[0m\u001b[1;33m[\u001b[0m\u001b[1;34m'OUTPUT_PATH'\u001b[0m\u001b[1;33m]\u001b[0m\u001b[1;33m,\u001b[0m \u001b[1;34m'w'\u001b[0m\u001b[1;33m)\u001b[0m\u001b[1;33m\u001b[0m\u001b[1;33m\u001b[0m\u001b[0m\n\u001b[0m\u001b[0;32m     26\u001b[0m \u001b[1;33m\u001b[0m\u001b[0m\n\u001b[0;32m     27\u001b[0m     \u001b[0mq\u001b[0m \u001b[1;33m=\u001b[0m \u001b[0mint\u001b[0m\u001b[1;33m(\u001b[0m\u001b[0minput\u001b[0m\u001b[1;33m(\u001b[0m\u001b[1;33m)\u001b[0m\u001b[1;33m.\u001b[0m\u001b[0mstrip\u001b[0m\u001b[1;33m(\u001b[0m\u001b[1;33m)\u001b[0m\u001b[1;33m)\u001b[0m\u001b[1;33m\u001b[0m\u001b[1;33m\u001b[0m\u001b[0m\n",
      "\u001b[1;32m~\\anaconda3\\lib\\os.py\u001b[0m in \u001b[0;36m__getitem__\u001b[1;34m(self, key)\u001b[0m\n\u001b[0;32m    673\u001b[0m         \u001b[1;32mexcept\u001b[0m \u001b[0mKeyError\u001b[0m\u001b[1;33m:\u001b[0m\u001b[1;33m\u001b[0m\u001b[1;33m\u001b[0m\u001b[0m\n\u001b[0;32m    674\u001b[0m             \u001b[1;31m# raise KeyError with the original key value\u001b[0m\u001b[1;33m\u001b[0m\u001b[1;33m\u001b[0m\u001b[1;33m\u001b[0m\u001b[0m\n\u001b[1;32m--> 675\u001b[1;33m             \u001b[1;32mraise\u001b[0m \u001b[0mKeyError\u001b[0m\u001b[1;33m(\u001b[0m\u001b[0mkey\u001b[0m\u001b[1;33m)\u001b[0m \u001b[1;32mfrom\u001b[0m \u001b[1;32mNone\u001b[0m\u001b[1;33m\u001b[0m\u001b[1;33m\u001b[0m\u001b[0m\n\u001b[0m\u001b[0;32m    676\u001b[0m         \u001b[1;32mreturn\u001b[0m \u001b[0mself\u001b[0m\u001b[1;33m.\u001b[0m\u001b[0mdecodevalue\u001b[0m\u001b[1;33m(\u001b[0m\u001b[0mvalue\u001b[0m\u001b[1;33m)\u001b[0m\u001b[1;33m\u001b[0m\u001b[1;33m\u001b[0m\u001b[0m\n\u001b[0;32m    677\u001b[0m \u001b[1;33m\u001b[0m\u001b[0m\n",
      "\u001b[1;31mKeyError\u001b[0m: 'OUTPUT_PATH'"
     ]
    }
   ],
   "source": [
    "#!/bin/python3\n",
    "\n",
    "import math\n",
    "import os\n",
    "import random\n",
    "import re\n",
    "import sys\n",
    "from collections import defaultdict\n",
    "\n",
    "# Complete the freqQuery function below.\n",
    "def freqQuery(queries):\n",
    "    res = []\n",
    "    fre = defaultdict(int)\n",
    "    for x in queries:\n",
    "        if x[0] == 1:\n",
    "            fre[x[1]] += 1\n",
    "        elif x[0] == 2:\n",
    "            if x[1] in fre and fre[x[1]] > 0:\n",
    "                fre[x[1]] -= 1\n",
    "        else:\n",
    "            res.append(1 if x[1] in set(fre.values()) else 0)\n",
    "    return res\n",
    "\n",
    "if __name__ == '__main__':\n",
    "    fptr = open(os.environ['OUTPUT_PATH'], 'w')\n",
    "\n",
    "    q = int(input().strip())\n",
    "\n",
    "    queries = []\n",
    "\n",
    "    for _ in range(q):\n",
    "        queries.append(list(map(int, input().rstrip().split())))\n",
    "\n",
    "    ans = freqQuery(queries)\n",
    "\n",
    "    fptr.write('\\n'.join(map(str, ans)))\n",
    "    fptr.write('\\n')\n",
    "\n",
    "    fptr.close()\n",
    "    \n",
    "    "
   ]
  },
  {
   "cell_type": "markdown",
   "id": "b3f4fb70",
   "metadata": {},
   "source": [
    "In this HackerRank Fraudulent Activity Notifications Interview preparation kit you have Given the number of trailing days d and a client's total daily expenditures for a period of n days, find and print the number of times the client will receive a notification over all n days."
   ]
  },
  {
   "cell_type": "code",
   "execution_count": 88,
   "id": "fc649800",
   "metadata": {},
   "outputs": [
    {
     "name": "stdout",
     "output_type": "stream",
     "text": [
      "3 5\n",
      "\n",
      "0\n"
     ]
    }
   ],
   "source": [
    "from bisect import bisect_left, insort_left\n",
    "\n",
    "n, d = map(int, input().split())\n",
    "t = list(map(int, input().split()))\n",
    "noti = 0\n",
    "\n",
    "lastd = sorted(t[:d])\n",
    "def med():\n",
    "    return lastd[d//2] if d % 2 == 1 else ((lastd[d//2] + lastd[d//2-1])/2)\n",
    "\n",
    "for i in range(d, n):\n",
    "    if t[i] >= 2*med():\n",
    "        noti += 1\n",
    "    del lastd[bisect_left(lastd,t[i-d])]\n",
    "    insort_left(lastd, t[i])\n",
    "print(noti)\n"
   ]
  },
  {
   "cell_type": "markdown",
   "id": "80a2edae",
   "metadata": {},
   "source": [
    "In this HackerRank Alternating Characters Interview preparation kit problem You are given a string containing characters A and B only. Your task is to change it into a string such that there are no matching adjacent characters."
   ]
  },
  {
   "cell_type": "code",
   "execution_count": 89,
   "id": "9aeff5a2",
   "metadata": {},
   "outputs": [
    {
     "name": "stdout",
     "output_type": "stream",
     "text": [
      "3\n",
      "2\n",
      "0\n",
      "6\n",
      "0\n",
      "5\n",
      "0\n"
     ]
    }
   ],
   "source": [
    "def f(s):\n",
    "    return sum(1 for c1, c2 in zip(s, s[1:]) if c1 == c2)\n",
    "\n",
    "t = int(input())\n",
    "for _ in range(t):\n",
    "    print(f(input()))\n",
    "    \n"
   ]
  },
  {
   "cell_type": "markdown",
   "id": "3f299cbe",
   "metadata": {},
   "source": [
    "In this HackerRank Repeated String interview preparation kit problem you have Given an integer, n, find and print the number of letter a's in the first n letters of the infinite string."
   ]
  },
  {
   "cell_type": "code",
   "execution_count": null,
   "id": "5e74471d",
   "metadata": {},
   "outputs": [],
   "source": [
    "#!/bin/python3\n",
    "\n",
    "import math\n",
    "import os\n",
    "import random\n",
    "import re\n",
    "import sys\n",
    "\n",
    "# Complete the repeatedString function below.\n",
    "def repeatedString(s, n):\n",
    "    x,y = divmod(n,len(s))\n",
    "    return s[:y].count(\"a\")*(x+1) + s[y:].count(\"a\")*x\n",
    "\n",
    "if __name__ == '__main__':\n",
    "    fptr = open(os.environ['OUTPUT_PATH'], 'w')\n",
    "\n",
    "    s = input()\n",
    "\n",
    "    n = int(input())\n",
    "\n",
    "    result = repeatedString(s, n)\n",
    "\n",
    "    fptr.write(str(result) + '\\n')\n",
    "\n",
    "    fptr.close()\n"
   ]
  },
  {
   "cell_type": "markdown",
   "id": "ac992c96",
   "metadata": {},
   "source": [
    "In this HackerRank Reverse shuffle merge interview preparation kit problem, You need to complete the reverseShuffleMerge function."
   ]
  },
  {
   "cell_type": "code",
   "execution_count": null,
   "id": "e61db54b",
   "metadata": {},
   "outputs": [],
   "source": [
    "#!/bin/python3\n",
    "\n",
    "import math\n",
    "import os\n",
    "import random\n",
    "import re\n",
    "import sys\n",
    "from collections import Counter\n",
    "\n",
    "# Complete the reverseShuffleMerge function below.\n",
    "def reverseShuffleMerge(s):\n",
    "    s = list(reversed(s))\n",
    "    remaining_dict,required_dict,added_dict = {},{},{}\n",
    "    for c in s:\n",
    "        if c not in remaining_dict:\n",
    "            remaining_dict[c]=1\n",
    "        else:\n",
    "            remaining_dict[c]+=1\n",
    "    for key,value in remaining_dict.items():\n",
    "        required_dict[key] = value // 2\n",
    "        added_dict[key] = 0\n",
    "    char_list=[]\n",
    "    index = 0\n",
    "    min_index = 0\n",
    "    min_char = '|'\n",
    "    while index < len(s):\n",
    "        char = s[index]\n",
    "        if required_dict[char]>added_dict[char]:\n",
    "            if char < min_char:\n",
    "                min_char = char\n",
    "                min_index = index\n",
    "            if remaining_dict[char]-1<required_dict[char]-added_dict[char]:\n",
    "                while index>min_index:\n",
    "                    index-=1\n",
    "                    char = s[index]\n",
    "                    remaining_dict[char]+=1\n",
    "                added_dict[char]+=1\n",
    "                char_list.append(char)\n",
    "                min_char = '|'\n",
    "        remaining_dict[char]-=1\n",
    "        index+=1\n",
    "    return \"\".join(char_list)\n",
    "\n",
    "if __name__ == '__main__':\n",
    "    fptr = open(os.environ['OUTPUT_PATH'], 'w')\n",
    "\n",
    "    s = input()\n",
    "\n",
    "    result = reverseShuffleMerge(s)\n",
    "\n",
    "    fptr.write(result + '\\n')\n",
    "\n",
    "    fptr.close()\n"
   ]
  },
  {
   "cell_type": "markdown",
   "id": "286ca7b1",
   "metadata": {},
   "source": [
    "In this HackerRank BFS: Shortest Reach in a Graph Interview preparation kit problem there is given a graph, determine the distances from the start node to each of its descendants and return the list in node number order, ascending. If a node is disconnected, its distance should be -1."
   ]
  },
  {
   "cell_type": "code",
   "execution_count": 133,
   "id": "0dd83cfd",
   "metadata": {},
   "outputs": [
    {
     "name": "stdout",
     "output_type": "stream",
     "text": [
      "1\n",
      "3 4\n",
      "2 3\n",
      "1 3\n",
      "1 2\n",
      "1 1\n",
      "0 0\n"
     ]
    },
    {
     "ename": "ValueError",
     "evalue": "invalid literal for int() with base 10: '0 0'",
     "output_type": "error",
     "traceback": [
      "\u001b[1;31m---------------------------------------------------------------------------\u001b[0m",
      "\u001b[1;31mValueError\u001b[0m                                Traceback (most recent call last)",
      "\u001b[1;32m<ipython-input-133-0698f83a30b0>\u001b[0m in \u001b[0;36m<module>\u001b[1;34m\u001b[0m\n\u001b[0;32m     35\u001b[0m         \u001b[0mnodes\u001b[0m\u001b[1;33m[\u001b[0m\u001b[0mend\u001b[0m\u001b[1;33m-\u001b[0m\u001b[1;36m1\u001b[0m\u001b[1;33m]\u001b[0m \u001b[1;33m=\u001b[0m \u001b[1;33m(\u001b[0m\u001b[0mid\u001b[0m\u001b[1;33m,\u001b[0m \u001b[0mcost\u001b[0m\u001b[1;33m,\u001b[0m \u001b[0medges\u001b[0m \u001b[1;33m+\u001b[0m \u001b[1;33m[\u001b[0m\u001b[0mstart\u001b[0m\u001b[1;33m]\u001b[0m\u001b[1;33m)\u001b[0m\u001b[1;33m\u001b[0m\u001b[1;33m\u001b[0m\u001b[0m\n\u001b[0;32m     36\u001b[0m \u001b[1;33m\u001b[0m\u001b[0m\n\u001b[1;32m---> 37\u001b[1;33m     \u001b[0ms\u001b[0m \u001b[1;33m=\u001b[0m \u001b[0mint\u001b[0m\u001b[1;33m(\u001b[0m\u001b[0minput\u001b[0m\u001b[1;33m(\u001b[0m\u001b[1;33m)\u001b[0m\u001b[1;33m.\u001b[0m\u001b[0mstrip\u001b[0m\u001b[1;33m(\u001b[0m\u001b[1;33m)\u001b[0m\u001b[1;33m)\u001b[0m\u001b[1;33m\u001b[0m\u001b[1;33m\u001b[0m\u001b[0m\n\u001b[0m\u001b[0;32m     38\u001b[0m \u001b[1;33m\u001b[0m\u001b[0m\n\u001b[0;32m     39\u001b[0m     \u001b[0mnodes\u001b[0m \u001b[1;33m=\u001b[0m \u001b[0mcalculate_cost\u001b[0m\u001b[1;33m(\u001b[0m\u001b[0mnodes\u001b[0m\u001b[1;33m,\u001b[0m \u001b[1;33m[\u001b[0m\u001b[0ms\u001b[0m\u001b[1;33m]\u001b[0m\u001b[1;33m)\u001b[0m\u001b[1;33m\u001b[0m\u001b[1;33m\u001b[0m\u001b[0m\n",
      "\u001b[1;31mValueError\u001b[0m: invalid literal for int() with base 10: '0 0'"
     ]
    }
   ],
   "source": [
    "t = int(input().strip())\n",
    "\n",
    "def calculate_cost(nodes, travel_edges):    \n",
    "    new_edges = []\n",
    "    weight = 6\n",
    "    current_cost = 0\n",
    "\n",
    "    while travel_edges:\n",
    "        for e in travel_edges:\n",
    "            id, cost, edges = nodes[e-1]\n",
    "            \n",
    "            if cost == -1:\n",
    "                new_edges = new_edges + edges\n",
    "                cost = current_cost\n",
    "                nodes[e-1] = (id, cost, edges)\n",
    "            \n",
    "        travel_edges = new_edges\n",
    "        new_edges = []\n",
    "        current_cost += weight\n",
    "                \n",
    "    return nodes\n",
    "    \n",
    "for test in range(t):\n",
    "    n, m = [int(i) for i in input().strip().split()]\n",
    "    \n",
    "    nodes = [(i, -1, []) for i in range(1, n+1)]\n",
    "\n",
    "    for edge in range(m):\n",
    "        start, end = [int(i) for i in input().strip().split()]\n",
    "        \n",
    "        id, cost, edges = nodes[start-1]\n",
    "        nodes[start-1] = (id, cost, edges + [end])\n",
    "\n",
    "        id, cost, edges = nodes[end-1]\n",
    "        nodes[end-1] = (id, cost, edges + [start])\n",
    "        \n",
    "    s = int(input().strip())\n",
    "    \n",
    "    nodes = calculate_cost(nodes, [s])\n",
    "    \n",
    "    weights = ' '.join([str(node[1]) for node in nodes if node[1] != 0])\n",
    "    \n",
    "    print(weights)\n"
   ]
  },
  {
   "cell_type": "markdown",
   "id": "c2ecde0c",
   "metadata": {},
   "source": [
    "In this HackerRank DFS: Connected Cell in a Grid Interview preparation kit problem there is Given an n x m matrix, find and print the number of cells in the largest region in the matrix."
   ]
  },
  {
   "cell_type": "code",
   "execution_count": 19,
   "id": "7e77bf23",
   "metadata": {},
   "outputs": [
    {
     "name": "stdout",
     "output_type": "stream",
     "text": [
      "2\n",
      "4\n",
      "1\n",
      "0\n",
      "1\n"
     ]
    }
   ],
   "source": [
    "def getAdjacentNodes(matrix, i, j):\n",
    "    s = set()\n",
    "    if i - 1 >= 0:\n",
    "        if matrix[i-1][j] == 1:\n",
    "            s = s.union([(i-1, j)])\n",
    "        if j - 1 >= 0:\n",
    "            if matrix[i-1][j-1] == 1:\n",
    "                s = s.union([(i-1, j-1)])\n",
    "        \n",
    "        if j + 1 < len(matrix[i]):\n",
    "            if matrix[i-1][j+1] == 1:\n",
    "                s = s.union([(i-1, j+1)])\n",
    "        \n",
    "    if i + 1 < len(matrix):\n",
    "        if matrix[i+1][j] == 1:\n",
    "            s = s.union([(i+1, j)])\n",
    "        if j - 1 >= 0:\n",
    "            if matrix[i+1][j-1] == 1:\n",
    "                s = s.union([(i+1, j-1)])\n",
    "        \n",
    "        if j + 1 < len(matrix[i]):\n",
    "            if matrix[i+1][j+1] == 1:\n",
    "                s = s.union([(i+1, j+1)])\n",
    "    \n",
    "    if j - 1 >= 0:\n",
    "        if matrix[i][j-1] == 1:\n",
    "            s = s.union([(i, j-1)])\n",
    "        \n",
    "    if j + 1 < len(matrix[i]):\n",
    "        if matrix[i][j+1] == 1:\n",
    "            s = s.union([(i, j+1)]) \n",
    "    \n",
    "    return s\n",
    "\n",
    "def matrixToAdjacencyList(matrix):\n",
    "    g = {}\n",
    "    for i in range(len(matrix)):\n",
    "        for j in range(len(matrix[i])):\n",
    "            if matrix[i][j] == 1:\n",
    "                g[(i, j)] = getAdjacentNodes(matrix, i, j)\n",
    "    return g\n",
    "\n",
    "def dfs(graph):\n",
    "    def helper(start):\n",
    "        visited, stack = set(), [start]\n",
    "        while stack:\n",
    "            vertex = stack.pop()\n",
    "            if vertex not in visited:\n",
    "                visited.add(vertex)\n",
    "                stack.extend(graph[vertex] - visited)\n",
    "        return len(visited)\n",
    "    return helper\n",
    "    \n",
    "def getBiggestRegion(grid):\n",
    "    graph = matrixToAdjacencyList(grid)\n",
    "    sizes = []\n",
    "    gdfs = dfs(graph)\n",
    "    for i in range(len(grid)):\n",
    "        for j in range(len(grid[i])):\n",
    "            if grid[i][j] == 1:\n",
    "                sizes.append(gdfs((i, j)))\n",
    "    return max(sizes)\n",
    "\n",
    "n = int(input().strip())\n",
    "m = int(input().strip())\n",
    "grid = []\n",
    "for grid_i in range(n):\n",
    "    grid_t = list(map(int, input().strip().split(' ')))\n",
    "    grid.append(grid_t)\n",
    "print(getBiggestRegion(grid))\n"
   ]
  },
  {
   "cell_type": "markdown",
   "id": "97cb07c2",
   "metadata": {},
   "source": [
    "\n",
    "In this HackerRank Recursion: Fibonacci Numbers Interview preparation kit problem you have Given n, return the nth number in the sequence."
   ]
  },
  {
   "cell_type": "code",
   "execution_count": 97,
   "id": "d50cb608",
   "metadata": {},
   "outputs": [
    {
     "name": "stdout",
     "output_type": "stream",
     "text": [
      "3\n",
      "2\n"
     ]
    }
   ],
   "source": [
    "var = [0] *40\n",
    "\n",
    "\n",
    "def fibonacci(n):\n",
    "    if n <= 1:\n",
    "        return n\n",
    "    if var[n] == 0:\n",
    "        var[n] = fibonacci(n-1) + fibonacci(n-2)\n",
    "    return var[n]\n",
    "    \n",
    "n = int(input())\n",
    "print(fibonacci(n))\n"
   ]
  },
  {
   "attachments": {
    "tbl.png": {
     "image/png": "[encoded data removed]"
    }
   },
   "cell_type": "markdown",
   "id": "9d943e66",
   "metadata": {},
   "source": [
    "**Use CITY table below to answer the following questions**\n",
    "![tbl.png](attachment:tbl.png)"
   ]
  },
  {
   "cell_type": "raw",
   "id": "f1f4b3b2",
   "metadata": {},
   "source": [
    "#Query all columns for all American cities in CITY with populations larger than\n",
    "#100000. The CountryCode for America is USA.\n",
    "\n",
    "SELECT * FROM CITY WHERE COUNTRYCODE = ‘USA’ AND POPULATION > 100000;"
   ]
  },
  {
   "cell_type": "raw",
   "id": "b1093bc3",
   "metadata": {},
   "source": [
    "#Query the names of all American cities in CITY with populations larger than 120000. \n",
    "#The CountryCode for America is USA.\n",
    "\n",
    "SELECT NAME FROM CITY WHERE COUNTRYCODE = ‘USA’ AND POPULATION > 120000;"
   ]
  },
  {
   "cell_type": "raw",
   "id": "5425a5fc",
   "metadata": {},
   "source": [
    "#Query all columns (attributes) for every row in the CITY table.\n",
    "\n",
    "SELECT * FROM CITY;"
   ]
  },
  {
   "cell_type": "raw",
   "id": "ec26418e",
   "metadata": {},
   "source": [
    "#Query all columns for a city in CITY with the ID 1661.\n",
    "\n",
    "SELECT * FROM CITY WHERE ID = 1661;"
   ]
  },
  {
   "cell_type": "raw",
   "id": "7552ecc7",
   "metadata": {},
   "source": [
    "#Query all attributes of every Japanese city in the CITY table. The COUNTRYCODE for Japan is JPN.\n",
    "\n",
    "SELECT * FROM CITY WHERE COUNTRYCODE = ‘JPN’;"
   ]
  },
  {
   "cell_type": "raw",
   "id": "8f4b358d",
   "metadata": {},
   "source": [
    "#Query the names of all the Japanese cities in the CITY table. The COUNTRYCODE for Japan is JPN.\n",
    "\n",
    "SELECT NAME FROM CITY WHERE COUNTRYCODE = ‘JPN’;"
   ]
  },
  {
   "attachments": {
    "tbl2.png": {
     "image/png": "[encoded data removed]"
    }
   },
   "cell_type": "markdown",
   "id": "ff107332",
   "metadata": {},
   "source": [
    "**Use the STATION table below to answer the following questions**\n",
    "\n",
    "![tbl2.png](attachment:tbl2.png)\n",
    "where LAT_N is the northern latitude and LONG_W is the western longitude."
   ]
  },
  {
   "cell_type": "raw",
   "id": "89df484a",
   "metadata": {},
   "source": [
    "#Query a list of CITY and STATE from the STATION table.\n",
    "\n",
    "SELECT CITY, STATE FROM STATION;"
   ]
  },
  {
   "cell_type": "raw",
   "id": "f8ff9014",
   "metadata": {},
   "source": [
    "# Query a list of CITY names from STATION with even ID numbers only. \n",
    "#You may print the results in any order but must exclude duplicates from your answer.\n",
    "\n",
    "SELECT DISTINCT CITY FROM STATION WHERE MOD(ID, 2) = 0;"
   ]
  },
  {
   "cell_type": "raw",
   "id": "8d99ef93",
   "metadata": {},
   "source": [
    "#Let N be the number of CITY entries in STATION, and let N’ be the number of distinct CITY names in STATION; query the value of N-N’ from STATION. In other words, find the difference between the total number of CITY entries in the table and the number of distinct CITY entries in the table.\n",
    "\n",
    "SELECT COUNT(CITY) — COUNT(DISTINCT CITY) FROM STATION ;"
   ]
  },
  {
   "cell_type": "raw",
   "id": "1e51e8da",
   "metadata": {},
   "source": [
    "#Query the two cities in STATION with the shortest and longest CITY names, as well as their respective lengths (i.e.: number of characters in the name). If there is more than one smallest or largest city, choose the one that comes first when ordered alphabetically.\n",
    "\n",
    "SELECT * FROM (SELECT DISTINCT city, LENGTH(city) FROM station ORDER BY LENGTH(city) ASC, city ASC) WHERE ROWNUM = 1\n",
    "\n",
    " UNION\n",
    " \n",
    "SELECT * FROM (SELECT DISTINCT city, LENGTH(city) FROM station ORDER BY LENGTH(city) DESC, city ASC) WHERE ROWNUM = 1;"
   ]
  },
  {
   "cell_type": "raw",
   "id": "a21d51f1",
   "metadata": {},
   "source": [
    "#Query the list of CITY names starting with vowels (i.e., a, e, i, o, or u) from STATION. Your result cannot contain duplicates.\n",
    "\n",
    "SELECT DISTINCT city FROM station WHERE city LIKE ‘A%’ OR city LIKE ‘E%’ OR city LIKE ‘I%’ OR city LIKE ‘O%’ OR city LIKE ‘U%’;"
   ]
  },
  {
   "cell_type": "raw",
   "id": "23c3f791",
   "metadata": {},
   "source": [
    "#Query the list of CITY names ending with vowels (a, e, i, o, u) from STATION. Your result cannot contain duplicates.\n",
    "\n",
    "SELECT DISTINCT city FROM station WHERE city LIKE ‘%a’ OR city LIKE ‘%e’ OR city LIKE ‘%i’ OR city LIKE ‘%o’ OR city LIKE ‘%u’;\n"
   ]
  },
  {
   "cell_type": "raw",
   "id": "1f556517",
   "metadata": {},
   "source": [
    "#Query the list of CITY names from STATION which have vowels (i.e., a, e, i, o, and u) as both their first and last characters. Your result cannot contain duplicates.\n",
    "\n",
    "SELECT DISTINCT city FROM (SELECT DISTINCT city FROM station WHERE city LIKE ‘A%’ OR city LIKE ‘E%’ OR city LIKE ‘I%’ OR city LIKE ‘O%’ OR city LIKE ‘U%’) WHERE city LIKE ‘%a’ OR city LIKE ‘%e’ OR city LIKE ‘%i’ OR city LIKE ‘%o’ OR city LIKE ‘%u’;"
   ]
  },
  {
   "cell_type": "raw",
   "id": "7932fd80",
   "metadata": {},
   "source": [
    "#Query the list of CITY names from STATION that does not start with vowels. Your result cannot contain duplicates.\n",
    "\n",
    "SELECT DISTINCT city FROM station WHERE NOT (city LIKE ‘A%’ OR city LIKE ‘E%’ OR city LIKE ‘I%’ OR city LIKE ‘O%’ OR city LIKE ‘U%’);"
   ]
  },
  {
   "cell_type": "raw",
   "id": "aeff1c0b",
   "metadata": {},
   "source": [
    "#Query the list of CITY names from STATION that do not end with vowels. \n",
    "#Your result cannot contain duplicates.\n",
    "\n",
    "SELECT DISTINCT city FROM station WHERE NOT (city LIKE ‘%a’ OR city LIKE ‘%e’ OR city LIKE ‘%i’ OR city LIKE ‘%o’ OR city LIKE ‘%u’);"
   ]
  },
  {
   "cell_type": "raw",
   "id": "58aa15f1",
   "metadata": {},
   "source": [
    "#Query the list of CITY names from STATION that either do not start with vowels or do not end with vowels. Your result cannot contain duplicates.\n",
    "\n",
    "SELECT DISTINCT city FROM station WHERE\n",
    "(NOT (city LIKE ‘A%’ OR city LIKE ‘E%’ OR city LIKE ‘I%’ OR city LIKE ‘O%’ OR city LIKE ‘U%’)\n",
    "OR NOT(city LIKE ‘%a’ OR city LIKE ‘%e’ OR city LIKE ‘%i’ OR city LIKE ‘%o’ OR city LIKE ‘%u’));"
   ]
  },
  {
   "cell_type": "raw",
   "id": "e5ad9bee",
   "metadata": {},
   "source": [
    "#Query the list of CITY names from STATION that do not start with vowels and do not end with vowels. Your result cannot contain duplicates.\n",
    "\n",
    "SELECT DISTINCT city FROM station WHERE NOT\n",
    "((city LIKE ‘A%’ OR city LIKE ‘E%’ OR city LIKE ‘I%’ OR city LIKE ‘O%’ OR city LIKE ‘U%’)\n",
    "OR (city LIKE ‘%a’ OR city LIKE ‘%e’ OR city LIKE ‘%i’ OR city LIKE ‘%o’ OR city LIKE ‘%u’));"
   ]
  },
  {
   "attachments": {
    "tbl3.png": {
     "image/png": "[encoded data removed]"
    }
   },
   "cell_type": "markdown",
   "id": "3de654dc",
   "metadata": {},
   "source": [
    "**Use the STUDENT table below to answer the following questions**\n",
    "![tbl3.png](attachment:tbl3.png)\n",
    "The Name column only contains uppercase (A-Z) and lowercase (a-z) letters."
   ]
  },
  {
   "cell_type": "raw",
   "id": "7227960b",
   "metadata": {},
   "source": [
    "#Query the Name of any student in STUDENTS who scored higher than Marks. Order your output by the last three characters of each name. If two or more students both have names ending in the same last three characters (i.e.: Bobby, Robby, etc.), secondary sort them by ascending ID.\n",
    "\n",
    "\n",
    "SELECT name FROM students WHERE marks > 75 ORDER BY SUBSTR(name, LENGTH(name)-2, 3), id;"
   ]
  },
  {
   "cell_type": "markdown",
   "id": "368690c6",
   "metadata": {},
   "source": [
    "**Use the EMPLOYEE table below to answer the following questions**\n",
    "\n",
    "![tbl4.png](attachment:tbl4.png)\n",
    "\n",
    "where employee_id is an employee’s ID number, the name is their name, months is the total number of months they’ve been working for the company, and salary is their monthly salary."
   ]
  },
  {
   "cell_type": "raw",
   "id": "f15ad568",
   "metadata": {},
   "source": [
    "#Write a query that prints a list of employee names (i.e.: the name attribute) from the Employee table in alphabetical order.\n",
    "\n",
    "SELECT name FROM employee ORDER BY name;"
   ]
  },
  {
   "cell_type": "raw",
   "id": "40c821b0",
   "metadata": {},
   "source": [
    "#Write a query that prints a list of employee names (i.e.: the name attribute) for employees in Employee having a salary greater than per month who have been employees for less than months. Sort your result by ascending employee_id.\n",
    "\n",
    "SELECT name FROM employee WHERE salary > 2000 AND months < 10 ORDER BY employee_id;"
   ]
  },
  {
   "attachments": {
    "tbl5.png": {
     "image/png": "[encoded data removed]"
    }
   },
   "cell_type": "markdown",
   "id": "f3df8d43",
   "metadata": {},
   "source": [
    "Write a query identifying the type of each record in the TRIANGLES table using its three side lengths. Output one of the following statements for each record in the table:\n",
    "\n",
    "Equilateral: It’s a triangle with 3 sides of equal length.\n",
    "\n",
    "Isosceles: It’s a triangle with 2 sides of equal length.\n",
    "\n",
    "Scalene: It’s a triangle with 3 sides of differing lengths.\n",
    "\n",
    "Not A Triangle: The given values of A, B, and C don’t form a triangle.\n",
    "\n",
    "Input Format\n",
    "\n",
    "The TRIANGLES table is described as follows:\n",
    "![tbl5.png](attachment:tbl5.png)\n",
    "\n",
    "Each row in the table denotes the lengths of each of a triangle’s three sides."
   ]
  },
  {
   "cell_type": "raw",
   "id": "5a961954",
   "metadata": {},
   "source": [
    "select if(A+B<=C or B+C<=A or A+C<=B,’Not A Triangle’,\n",
    "if(A=B and B=C,’Equilateral’,\n",
    "if(A=B or B=C or A=C,’Isosceles’,’Scalene’)))\n",
    "from TRIANGLES as T;"
   ]
  },
  {
   "attachments": {
    "tbl6.png": {
     "image/png": "[encoded data removed]"
    }
   },
   "cell_type": "markdown",
   "id": "03157f5a",
   "metadata": {},
   "source": [
    "Generate the following two result sets:\n",
    "\n",
    "Query an alphabetically ordered list of all names in OCCUPATIONS, immediately followed by the first letter of each profession as a parenthetical (i.e.: enclosed in parentheses). For example: AnActorName(A), ADoctorName(D), AProfessorName(P), and ASingerName(S).\n",
    "\n",
    "Query the number of occurrences of each occupation in OCCUPATIONS. Sort the occurrences in ascending order, and output them in the following format:\n",
    "\n",
    "There are a total of [occupation_count] [occupation]s.\n",
    "\n",
    "where [occupation_count] is the number of occurrences of occupation in OCCUPATIONS and [occupation] is the lowercase occupation name. If more than one Occupation has the same [occupation_count], they should be ordered alphabetically.\n",
    "\n",
    "Note: There will be at least two entries in the table for each type of occupation.\n",
    "\n",
    "The OCCUPATIONS table is described as follows:\n",
    "\n",
    "![tbl6.png](attachment:tbl6.png)\n",
    "\n",
    "The occupation will only contain one of the following values: Doctor, Professor, Singer, or Actor."
   ]
  },
  {
   "cell_type": "raw",
   "id": "80e5a19c",
   "metadata": {},
   "source": [
    "SELECT concat(NAME,concat(“(“,concat(substr(OCCUPATION,1,1),”)”))) FROM OCCUPATIONS ORDER BY NAME ASC;\n",
    "\n",
    "SELECT “There are a total of “, count(OCCUPATION), concat(lower(occupation),”s.”) FROM OCCUPATIONS GROUP BY OCCUPATION ORDER BY count(OCCUPATION), OCCUPATION ASC"
   ]
  },
  {
   "cell_type": "raw",
   "id": "597a2b16",
   "metadata": {},
   "source": [
    "Pivot the Occupation column in OCCUPATIONS so that each Name is sorted alphabetically and displayed underneath its corresponding Occupation. The output column headers should be Doctor, Professor, Singer, and Actor, respectively.\n",
    "\n",
    "Note: Print NULL when there are no more names corresponding to an occupation.\n",
    "\n",
    "*************************\n",
    "#SOLUTION \n",
    "\n",
    "\n",
    "set @r1=0, @r2=0, @r3=0, @r4=0;\n",
    "\n",
    "select min(Doctor), min(Professor), min(Singer), min(Actor)\n",
    "\n",
    "from(select case when Occupation=’Doctor’ then (@r1:=@r1+1) when Occupation=’Professor’ then (@r2:=@r2+1) when Occupation=’Singer’ then (@r3:=@r3+1) when Occupation=’Actor’ then (@r4:=@r4+1) end \n",
    "\n",
    "as RowNumber,\n",
    "\n",
    "case when Occupation=’Doctor’ then Name end as Doctor,\n",
    "\n",
    "case when Occupation=’Professor’ then Name end as Professor,\n",
    "\n",
    "case when Occupation=’Singer’ then Name end as Singer,\n",
    "\n",
    "case when Occupation=’Actor’ then Name end as Acto from OCCUPATIONS order by Name\n",
    ") Temp group by RowNumber;"
   ]
  },
  {
   "attachments": {
    "tbl7.png": {
     "image/png": "[encoded data removed]"
    }
   },
   "cell_type": "markdown",
   "id": "8c97dbdc",
   "metadata": {},
   "source": [
    "You are given a table, BST, containing two columns: N and P, where N represents the value of a node in Binary Tree, and P is the parent of N.\n",
    "![tbl7.png](attachment:tbl7.png)\n",
    "\n",
    "Write a query to find the node type of Binary Tree ordered by the value of the node. Output one of the following for each node:\n",
    "\n",
    "Root: If node is root node.\n",
    "\n",
    "Leaf: If node is leaf node.\n",
    "\n",
    "Inner: If node is neither root nor leaf node."
   ]
  },
  {
   "cell_type": "raw",
   "id": "c4435a10",
   "metadata": {},
   "source": [
    "SELECT N, IF(P IS NULL,’Root’,IF((SELECT COUNT(*) FROM BST WHERE P=B.N)>0,’Inner’,’Leaf’)) FROM BST AS B ORDER BY N;"
   ]
  },
  {
   "attachments": {
    "atbl.png": {
     "image/png": "[encoded data removed]"
    }
   },
   "cell_type": "markdown",
   "id": "e0604ddb",
   "metadata": {},
   "source": [
    "Amber’s conglomerate corporation just acquired some new companies. Each of the companies follows this hierarchy:\n",
    "![atbl.png](attachment:atbl.png)\n",
    "Given the table schemas below, write a query to print the company_code, founder name, total number of lead managers, total number of senior managers, total number of managers, and total number of employees. Order your output by ascending company_code.\n",
    "\n",
    "Note:\n",
    "\n",
    "The tables may contain duplicate records.\n",
    "\n",
    "The company_code is string, so the sorting should not be numeric. For example, if the company_codes are C_1, C_2, and C_10, then the ascending company_codes will be C_1, C_10, and C_2.\n",
    "\n",
    "Input Format\n",
    "\n",
    "The following tables contain company data:\n",
    "\n",
    "Company: The company_code is the code of the company and founder is the founder of the company.\n"
   ]
  },
  {
   "attachments": {
    "btble.png": {
     "image/png": "[encoded data removed]"
    }
   },
   "cell_type": "markdown",
   "id": "4d3cf01e",
   "metadata": {},
   "source": [
    "![btble.png](attachment:btble.png)\n",
    "Lead_Manager: The lead_manager_code is the code of the lead manager, and the company_code is the code of the working company."
   ]
  },
  {
   "attachments": {
    "ctbl.png": {
     "image/png": "[encoded data removed]"
    }
   },
   "cell_type": "markdown",
   "id": "4fef3a1a",
   "metadata": {},
   "source": [
    "Senior_Manager: The senior_manager_code is the code of the senior manager, the lead_manager_code is the code of its lead manager, and the company_code is the code of the working company.\n",
    "\n",
    "Manager: The manager_code is the code of the manager, the senior_manager_code is the code of its senior manager, the lead_manager_code is the code of its lead manager, and the company_code is the code of the working company.\n",
    "\n",
    "Employee: The employee_code is the code of the employee, the manager_code is the code of its manager, the senior_manager_code is the code of its senior manager, the lead_manager_code is the code of its lead manager, and the company_code is the code of the working company.\n",
    "\n",
    "![ctbl.png](attachment:ctbl.png)"
   ]
  },
  {
   "cell_type": "raw",
   "id": "f84b168b",
   "metadata": {},
   "source": [
    "#SOLUTION\n",
    "\n",
    "select c.company_code, c.founder, count(distinct lm.lead_manager_code), count(distinct sm.senior_manager_code), count(distinct m.manager_code), count(distinct e.employee_code) from Company c, Lead_Manager lm, Senior_Manager sm, Manager m, Employee e\n",
    "\n",
    "where c.company_code = lm.company_code and lm.lead_manager_code = sm.lead_manager_code and sm.senior_manager_code = m.senior_manager_code and m.manager_code = e.manager_code group by c.company_code, c.founder\n",
    "order by c.company_code"
   ]
  },
  {
   "cell_type": "raw",
   "id": "0d7d4953",
   "metadata": {},
   "source": [
    "P(R) represents a pattern drawn by Julia in R rows. The following pattern represents P(5):\n",
    "Write a query to print the pattern P(20).\n",
    "\n",
    "\n",
    "set @row := 0;\n",
    "select repeat(‘* ‘, @row := @row + 1) from information_schema.tables where @row < 20"
   ]
  },
  {
   "cell_type": "markdown",
   "id": "b1ed30ea",
   "metadata": {},
   "source": [
    "In this HackerEarth Bear and Chocolate problem solution, Limak is a little polar bear. Today he found something delicious in the snow. It's a square bar of chocolate with N x N pieces. Some pieces are special because there are cherries on them. You might be surprised by cherries on chocolate but you've never been on the Arctic Circle, have you?\n",
    "\n",
    "Lima is going to use his claws and break the chocolate into two parts. He can make a cut between two rows or between two columns. It means that he can't break any piece!\n",
    "\n",
    "Limak will eat one part right now, saving the second part for tomorrow. Cherries are very important to him so he wants to have an equal number of cherries today and tomorrow. Though parts don't have to have equal numbers of pieces of chocolate.\n",
    "\n",
    "Given the description of chocolate, could you check if Limak can make a cut dividing chocolate into two parts with an equal number of cherries?"
   ]
  },
  {
   "cell_type": "raw",
   "id": "31587e41",
   "metadata": {},
   "source": [
    "#include<bits/stdc++.h>\n",
    "using namespace std;\n",
    "#define REP(i) for(int i = 0; i < n; ++i)\n",
    "char sl[1005][1005];\n",
    "int main() {\n",
    "  int z;\n",
    "  scanf(\"%d\", &z);\n",
    "  while(z--) {\n",
    "    int n, total = 0, s = 0;\n",
    "    scanf(\"%d\", &n);\n",
    "    REP(y) scanf(\"%s\", sl[y]);\n",
    "    REP(y)REP(x) total += sl[y][x] == '#';\n",
    "    bool ans = false;\n",
    "    REP(x) {\n",
    "      REP(y) s += sl[y][x] == '#';\n",
    "      if(s * 2 == total) ans = true;\n",
    "    }\n",
    "    s = 0;\n",
    "    REP(y) {\n",
    "      REP(x) s += sl[y][x] == '#';\n",
    "      if(s * 2 == total) ans = true;\n",
    "    }\n",
    "    puts(ans ? \"YES\" : \"NO\");\n",
    "  }\n",
    "  return 0;\n",
    "}\n",
    "\n",
    "\n",
    "Second solution\n",
    "#include <bits/stdc++.h>\n",
    "using namespace std;\n",
    "const int MAXN = 1005;\n",
    "char chocolate[MAXN][MAXN];\n",
    "int column_cherries[MAXN],row_cherries[MAXN];\n",
    "int main()\n",
    "{\n",
    "  int t;\n",
    "  scanf(\"%d\", &t);\n",
    "  while(t--)\n",
    "  {\n",
    "    int n;\n",
    "    scanf(\"%d\", &n);\n",
    "    memset(column_cherries, 0, sizeof column_cherries);\n",
    "    memset(row_cherries, 0, sizeof row_cherries);\n",
    "    int total_cherries = 0;\n",
    "    for (int i = 0; i < n; ++i)\n",
    "    {\n",
    "      scanf(\"%s\", chocolate[i]);\n",
    "    }\n",
    "    for (int i = 0; i < n; ++i)\n",
    "    {\n",
    "      for (int j = 0; j < n; ++j)\n",
    "      {\n",
    "        if(chocolate[i][j] == '#')\n",
    "        {\n",
    "          column_cherries[j]++;\n",
    "          row_cherries[i]++;\n",
    "          total_cherries++;\n",
    "        }\n",
    "      }\n",
    "    }\n",
    "    bool ans = false;\n",
    "    int cherries_above = 0;\n",
    "    for (int i = 0; i < n; ++i)\n",
    "    {\n",
    "      cherries_above+=row_cherries[i];\n",
    "      if(2*cherries_above == total_cherries)\n",
    "        ans = true;\n",
    "    }\n",
    "    int cherries_left = 0;\n",
    "    for (int i = 0; i < n; ++i)\n",
    "    {\n",
    "      cherries_left+=column_cherries[i];\n",
    "      if(2*cherries_left == total_cherries)\n",
    "        ans = true;\n",
    "    }\n",
    "    if(ans)\n",
    "      printf(\"YES\\n\");\n",
    "    else\n",
    "      printf(\"NO\\n\");\n",
    "  }\n",
    "  return 0;\n",
    "}"
   ]
  },
  {
   "cell_type": "markdown",
   "id": "e19b80e6",
   "metadata": {},
   "source": [
    "A chocolate store is running a promotion, where they give out 1 free chocolate for every M chocolate wrappers that a customer\n",
    "brings in. You have a chocolate budget of N dollars, and each chocolate costs C dollars. What is the maximum number of chocolates\n",
    "you can get from this store?\n",
    "For example, if N = 4, C = 1 and M = 2, you could do the following:\n",
    "1. First buy 4 chocolates for $1 each.\n",
    "2. Then you could return those 4 wrappers for 2 free chocolates\n",
    "3. Finally return those 2 wrappers for 1 chocolate.\n",
    "At this point you'd have only 1 wrapper left, but you have enjoyed 4+2+1=7 chocolates.\n",
    "Your task: You're given three numbers i.e. the values of N, C and M on a single line of Standard Input, each separated by a single\n",
    "space. Calculate the maximum number of chocolates you can get from the store and print it to Standard Output.\n",
    "Example\n",
    "Input\n",
    "4 1 2\n",
    "Output\n",
    "7\n",
    "Assumptions\n",
    "1 ≤ C ≤ N\n",
    "2 ≤ M ≤ N"
   ]
  },
  {
   "cell_type": "raw",
   "id": "00146b20",
   "metadata": {},
   "source": [
    "#Chocolate Promo\n",
    "\"\"\"\n",
    "#Solution 1\n",
    "https://exploringbits.com/chocolate-feast-hackerrank-solution/#Chocolate_Feast_HackerRank_Solution_in_Python\n",
    "\"\"\"\n",
    "# Enter your code here. Read input from STDIN. Print output to STDOUT\n",
    "\n",
    "# T = int(input( ) )\n",
    "# for t in range(T):\n",
    "#     N, C, M = [int(e) for e in raw_input().strip().split()]\n",
    "#     chocolates = 0\n",
    "#     wrappers = 0\n",
    "#     while N >= C:\n",
    "#         nc = N // C\n",
    "#         N -= (nc * C)\n",
    "#         chocolates += nc\n",
    "#         wrappers += nc\n",
    "#     while wrappers >= M:\n",
    "#         wr = wrappers // M\n",
    "#         wrappers -= M * wr\n",
    "#         wrappers += wr\n",
    "#         chocolates += wr\n",
    "#     print(chocolates)\n",
    "\n",
    "\n",
    "#Solution 2\n",
    "def chocolateFeast(n, c, m):\n",
    "    count = n//c\n",
    "    x = count\n",
    "    while x>=m:\n",
    "        a,b = divmod(x,m)\n",
    "        count+=a\n",
    "        x = a+b\n",
    "    return count\n",
    "\n",
    "for _ in range(int(input())):\n",
    "    n,c,m = map(int,input().split())\n",
    "    print(chocolateFeast(n, c, m))\n",
    "    \n",
    "#Solution 3\n",
    "\n",
    "def countMaxChoco(money, price, wrap) :\n",
    " \n",
    "    # Corner case\n",
    "    if (money < price) :\n",
    "        return 0\n",
    " \n",
    "    # First find number of chocolates\n",
    "    # that can be purchased with the\n",
    "    # given amount\n",
    "    choc = int(money / price)\n",
    " \n",
    "    # Now just add number of\n",
    "    # chocolates with the chocolates\n",
    "    # gained by wrapprices\n",
    "    choc = choc + (choc - 1) / (wrap - 1)\n",
    "    return int(choc )\n",
    " \n",
    "# Driver code\n",
    "money = 15 # total money\n",
    "price = 1 # cost of each candy\n",
    "wrap = 3 # no of wrappers needs to be\n",
    "         # exchanged for one chocolate.\n",
    " \n",
    "print(countMaxChoco(money, price, wrap))"
   ]
  },
  {
   "cell_type": "markdown",
   "id": "64f0cde6",
   "metadata": {},
   "source": [
    "**grasshopper callenge**\n",
    "\n",
    "A grasshopper is trying to reach a flower that's N feet away\n",
    "by hopping to it. However, there are some restrictions on how it can hop.\n",
    "\n",
    "It can only hop forward, not backward. If it passes the flower, it can't come back.\n",
    "\n",
    "At any given point, it can hop either M feet, or just 1 foot.\n",
    "\n",
    "On a single line of input, you're given 2 integer values: N and M.\n",
    "\n",
    "Determine the minimum number of hops it will take the grasshopper to reach the flower exactly.\""
   ]
  },
  {
   "cell_type": "code",
   "execution_count": null,
   "id": "c9341cfc",
   "metadata": {},
   "outputs": [],
   "source": []
  },
  {
   "attachments": {
    "divmod-1024x576.jpg": {
     "image/jpeg": "[encoded data removed]"
    }
   },
   "cell_type": "markdown",
   "id": "118814ec",
   "metadata": {},
   "source": [
    "Using divmod () function and modulo to illustrate integer quotient and remainder of their division as a tuple.\n",
    "![divmod-1024x576.jpg](attachment:divmod-1024x576.jpg)"
   ]
  },
  {
   "cell_type": "code",
   "execution_count": 83,
   "id": "8991e97b",
   "metadata": {},
   "outputs": [
    {
     "name": "stdout",
     "output_type": "stream",
     "text": [
      "divmod(7,3)=  2 1  : the answer is 2 remainder 1.\n",
      "7modulo3 i.e.(7%3)=  1  : the answer is 1.\n",
      "Floor division i.e.(7//3)=  2  : the answer is 2.\n",
      "\n",
      "2 1 1 2\n"
     ]
    },
    {
     "data": {
      "text/plain": [
       "(2, 1, 1, 2)"
      ]
     },
     "execution_count": 83,
     "metadata": {},
     "output_type": "execute_result"
    }
   ],
   "source": [
    "# working with divmod (), modulo %, and \n",
    "# If the first argument is zero then we get (0,0). \n",
    "# And If the second argument is zero then we get Zerodivision error as expected.\n",
    "\n",
    "# x,m = 7, 3\n",
    "\n",
    "#divmod() returns integer & remainder\n",
    "a, b = divmod(7,3)\n",
    "print(\"divmod(7,3)= \", a,b, \" : the answer is 2 remainder 1.\")\n",
    "\n",
    "#modulo % returns remainder and discard integer\n",
    "c = 7%3\n",
    "print(\"7modulo3 i.e.(7%3)= \", c, \" : the answer is 1.\")\n",
    "\n",
    "#floor division // returns integer and discard remainder\n",
    "d = 7//3\n",
    "print(\"Floor division i.e.(7//3)= \", d, \" : the answer is 2.\")\n",
    "\n",
    "print()\n",
    "print(a, b, c, d) # print as integers\n",
    "a, b, c, d   # output as turples "
   ]
  },
  {
   "cell_type": "markdown",
   "id": "331f845b",
   "metadata": {},
   "source": [
    "**Checking if Number is Prime**"
   ]
  },
  {
   "cell_type": "code",
   "execution_count": 64,
   "id": "ea7fb0d3",
   "metadata": {},
   "outputs": [
    {
     "name": "stdout",
     "output_type": "stream",
     "text": [
      "4 is not Prime\n"
     ]
    }
   ],
   "source": [
    "# Checking if Number is Prime\n",
    "def isprime(num):\n",
    "    a = num\n",
    "    # counter the number of remainders with value zero\n",
    "    count = 0\n",
    "    while a != 0:\n",
    "       q, r = divmod(num, a)\n",
    "       a -= 1\n",
    "       if r == 0:\n",
    "          count += 1\n",
    "    if count > 2:\n",
    "       print(num, 'is not Prime')\n",
    "    else:\n",
    "       print(num, 'is Prime')\n",
    "\n",
    "#calling the function\n",
    "isprime(4)"
   ]
  },
  {
   "cell_type": "markdown",
   "id": "b4f86ce2",
   "metadata": {},
   "source": [
    "## madanswers.com\n",
    "**explain numpy.flip() in Python** <br>\n",
    "https://madanswer.com/60659/explain-numpy-flip-in-python\n",
    "numpy.flip() in Python\n",
    "\n",
    "The numpy.flip() function is used to reverse the order of elements in an array along the given axis where the shape of the array is preserved, but the elements are reordered."
   ]
  },
  {
   "cell_type": "code",
   "execution_count": 71,
   "id": "b8337f9a",
   "metadata": {},
   "outputs": [
    {
     "name": "stdout",
     "output_type": "stream",
     "text": [
      "Input array: \n",
      " [[[0 1]\n",
      "  [2 3]]\n",
      "\n",
      " [[4 5]\n",
      "  [6 7]]]\n",
      "\n",
      "Flipped array: \n",
      " [[[4 5]\n",
      "  [6 7]]\n",
      "\n",
      " [[0 1]\n",
      "  [2 3]]]\n"
     ]
    }
   ],
   "source": [
    "# Python program explaining\n",
    "# numpy.flip () function\n",
    "import numpy as np\n",
    "inp_arr = np.arange(8).reshape((2,2,2))\n",
    "print(\"Input array: \\n\", inp_arr)\n",
    "\n",
    "print(\"\\nFlipped array: \\n\", np.flip(inp_arr, 0))\n"
   ]
  },
  {
   "cell_type": "markdown",
   "id": "a168f15b",
   "metadata": {},
   "source": [
    "## hackerearth.com\n",
    "https://www.hackerearth.com/practice/"
   ]
  },
  {
   "cell_type": "code",
   "execution_count": 181,
   "id": "04367cc9",
   "metadata": {},
   "outputs": [
    {
     "name": "stdout",
     "output_type": "stream",
     "text": [
      "What is your name? Ogah\n",
      "Hello, Ogah\n"
     ]
    }
   ],
   "source": [
    "#Write a program to print your name as output.\n",
    "\n",
    "# read the name from standard input\n",
    "name = input(\"What is your name? \")\n",
    "\n",
    "# print the name along with Hello\n",
    "print('Hello, {0}'.format(name))\n"
   ]
  },
  {
   "cell_type": "markdown",
   "id": "e3d0c3c0",
   "metadata": {},
   "source": [
    "**Sum of two elements**\n",
    "\n",
    "Maths and logic are the necessary parts of programming that can be learned through practice. Here is a simple mathematical problem of addition for you to solve.\n",
    "\n",
    "Write a program to print the sum of two integers.\n",
    "\n",
    "Instructions:\n",
    "\n",
    "- We have defined two integer variables  and  for you.\n",
    "- We have provided the code to get the input for the two variables.\n",
    "- You have to write the logic to add the two variables.\n",
    "- Print the sum."
   ]
  },
  {
   "cell_type": "code",
   "execution_count": 176,
   "id": "c2fb2870",
   "metadata": {},
   "outputs": [
    {
     "name": "stdout",
     "output_type": "stream",
     "text": [
      "2 3\n",
      "5\n"
     ]
    }
   ],
   "source": [
    "# Get the input for the two variables\n",
    "num1, num2 = map(int, input().split())\n",
    "\n",
    "sum_integer = 0\n",
    "\n",
    "# Write the logic to add these numbers here:\n",
    "\n",
    "sum_integer = num1 + num2\n",
    "\n",
    "\n",
    "# Print the sum \n",
    "print(sum_integer)"
   ]
  },
  {
   "cell_type": "markdown",
   "id": "50608ef6",
   "metadata": {},
   "source": [
    "**Sum of array size four** \n",
    "\n",
    "Well, that was easy. Isn’t it? Now we’ll go one step further and do the sum of elements of an array.\n",
    "\n",
    "Write a program to print the sum of all the elements of an array of size 4.\n",
    "\n",
    "Instructions:\n",
    "\n",
    "- We have defined an integer array  for you.\n",
    "- We have provided the code to get the input for the array elements.\n",
    "- You have to write the logic to add the elements.\n",
    "- Print the sum."
   ]
  },
  {
   "cell_type": "code",
   "execution_count": null,
   "id": "ca740709",
   "metadata": {},
   "outputs": [],
   "source": [
    "numArray = map(int, input().split()) # Get the input\n",
    "\n",
    "sum_integer = 0\n",
    "# write your logic to add these 4 numbers here\n",
    "# sum_integer = sum(numArray)\n",
    "\n",
    "for number in numArray:\n",
    "    sum_integer += number\n",
    "\n",
    "print(sum_integer) # Print the sum"
   ]
  },
  {
   "cell_type": "markdown",
   "id": "1105f60d",
   "metadata": {},
   "source": [
    "**Sum of array elements, N** <br>\n",
    "Write a program to print the sum of all the elements of an array of size N where N can be any integer between 1 and 100. \n",
    "\n",
    "Instructions:\n",
    "\n",
    "- We have defined an integer variable N for you.\n",
    "- We have provided the code to get the input for variable N.\n",
    "- We have defined an integer array .\n",
    "- We have provided the code to get the input for the array elements.\n",
    "- You have to write the logic to add the array elements.\n",
    "\n",
    "Print the sum.\n",
    "\n",
    "Sample Input:\n",
    "\n",
    "N = 3 <br>\n",
    "Array = 6 3 8\n",
    "\n",
    "Sample Output:\n",
    "17"
   ]
  },
  {
   "cell_type": "code",
   "execution_count": 173,
   "id": "73696919",
   "metadata": {},
   "outputs": [
    {
     "name": "stdout",
     "output_type": "stream",
     "text": [
      "2 3 4 5 6 7\n",
      "2 3\n",
      "5\n"
     ]
    }
   ],
   "source": [
    "N = input()\n",
    "\n",
    "# Get the input\n",
    "numArray = map(int, input().split())\n",
    "\n",
    "sum_integer = 0\n",
    "# Write the logic to add these numbers here\n",
    "# sum_integer = sum(numArray)\n",
    "\n",
    "for number in numArray:\n",
    "    sum_integer +=  number\n",
    "\n",
    "# Print the sum\n",
    "print(sum_integer)"
   ]
  },
  {
   "cell_type": "markdown",
   "id": "fb16a467",
   "metadata": {},
   "source": [
    "**Add two arrays** <br>\n",
    "Write a program to add the corresponding elements of two arrays, each of size N and print the sums. N can be any integer between 1 and 100. \n",
    "\n",
    "Instructions:\n",
    "\n",
    "- We have defined an integer variable N for you.\n",
    "- We have provided the code to get the input for variable N.\n",
    "- We have defined integer arrays ,  and .\n",
    "- We have provided the code to get the input for the array elements.\n",
    "- You have to write the logic to add the array elements.\n",
    "- Store the sum values in respective elements of variable \n",
    "- Print all the elements of  with space between them\n",
    "\n",
    "**Sample Input:**\n",
    "\n",
    "N = 3 \n",
    "<br>\n",
    "numArrayA = 3 9 8 <br>\n",
    "numArrayB = 8 12 74\n",
    "\n",
    "Sample Output:\n",
    "11 21 82"
   ]
  },
  {
   "cell_type": "code",
   "execution_count": 180,
   "id": "f45941cd",
   "metadata": {},
   "outputs": [
    {
     "name": "stdout",
     "output_type": "stream",
     "text": [
      "2\n",
      "2 3\n",
      "2 3\n",
      "4 6 \n"
     ]
    }
   ],
   "source": [
    "N = int(input()) \n",
    "# N represents the number of columns \n",
    "# Array length cannot be less than N \n",
    "# When array lenght is more than N, only length N will be added\n",
    "\n",
    "# Get the array \n",
    "numArray1 = list(map(int, input().split()))\n",
    "numArray2 = list(map(int, input().split()))\n",
    "\n",
    "sumArray = []\n",
    "\n",
    "# Write the logic here:\n",
    "# import numpy as np\n",
    "# sumArray = np.add(numArray1, numArray2)\n",
    "for i in range(0, N):\n",
    "    sumArray.append(numArray1[i] + numArray2[i])\n",
    "\n",
    "# Print the sumArray\n",
    "for element in sumArray:\n",
    "    print(element, end=\" \")\n",
    "    \n",
    "print(\"\")\n"
   ]
  },
  {
   "cell_type": "markdown",
   "id": "e1ca8338",
   "metadata": {},
   "source": [
    "Monk and Rotation\n",
    "Monk loves to preform different operations on arrays, and so being the principal of Hackerearth School, he assigned a task to his new student Mishki. Mishki will be provided with an integer array A of size N and an integer K , where she needs to rotate the array in the right direction by K steps and then print the resultant array. As she is new to the school, please help her to complete the task.\n",
    "\n",
    "Video approach to solve this question: here\n",
    "\n",
    "Input:\n",
    "The first line will consists of one integer T denoting the number of test cases.\n",
    "For each test case:\n",
    "1) The first line consists of two integers N and K, N being the number of elements in the array and K denotes the number of steps of rotation.\n",
    "2) The next line consists of N space separated integers , denoting the elements of the array A.\n",
    "\n",
    "Output:\n",
    "Print the required array.\n",
    "\n",
    "Constraints:\n",
    " 1<=T<=20 <br>\n",
    " 1<=N<=10^5 <br>\n",
    " 0<=K<=10^6 <br>\n",
    " 0<=A[i]<=10^6 <br>\n",
    "\n",
    "Sample Input\n",
    "1 <br>\n",
    "5 2 <br>\n",
    "1 2 3 4 5 <br>\n",
    "\n",
    "Sample Output  <br>\n",
    "4 5 1 2 3\n",
    "\n",
    "Explanation\n",
    "\n",
    "Here T is 1, which means one test case.\n",
    "N=5 denoting the number of elements in the array and , denoting the number of steps of rotations.\n",
    "The initial array is: 1,2,3,4,5\n",
    "In first rotation, 5 will come in the first position and all other elements will move to one position ahead from their current position. Now, the resultant array will be 5,1,2,3,4\n",
    "In second rotation, 4 will come in the first position and all other elements will move to one position ahead from their current position. Now, the resultant array will be 5,4,1,2,3"
   ]
  },
  {
   "cell_type": "code",
   "execution_count": 203,
   "id": "cac12756",
   "metadata": {},
   "outputs": [
    {
     "name": "stdout",
     "output_type": "stream",
     "text": [
      "1\n",
      "5 2\n",
      "1 2 3 4 5\n",
      "4 5 1 2 3 "
     ]
    }
   ],
   "source": [
    "t = int(input()) # number of test cases\n",
    "\n",
    "while t != 0:\n",
    "    n,k = list(map(int, input().strip().split()))\n",
    "\n",
    "    arr = list(map(int, input().split()))\n",
    "    index = n - (k%n)\n",
    "    for i in range(index, n):\n",
    "        print(arr[i], end=\" \")\n",
    "    for i in range(index):\n",
    "        print(arr[i], end=\" \")\n",
    "    t -=1"
   ]
  },
  {
   "cell_type": "markdown",
   "id": "9d9337aa",
   "metadata": {},
   "source": [
    " "
   ]
  }
 ],
 "metadata": {
  "kernelspec": {
   "display_name": "Python 3",
   "language": "python",
   "name": "python3"
  },
  "language_info": {
   "codemirror_mode": {
    "name": "ipython",
    "version": 3
   },
   "file_extension": ".py",
   "mimetype": "text/x-python",
   "name": "python",
   "nbconvert_exporter": "python",
   "pygments_lexer": "ipython3",
   "version": "3.8.8"
  },
  "toc": {
   "base_numbering": 1,
   "nav_menu": {},
   "number_sections": true,
   "sideBar": false,
   "skip_h1_title": true,
   "title_cell": "Table of Contents",
   "title_sidebar": "Contents",
   "toc_cell": true,
   "toc_position": {},
   "toc_section_display": true,
   "toc_window_display": false
  }
 },
 "nbformat": 4,
 "nbformat_minor": 5
}
