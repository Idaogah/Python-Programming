{
 "cells": [
  {
   "cell_type": "markdown",
   "id": "0f667989",
   "metadata": {
    "toc": true
   },
   "source": [
    "<h1>Table of Contents<span class=\"tocSkip\"></span></h1>\n",
    "<div class=\"toc\"><ul class=\"toc-item\"></ul></div>"
   ]
  },
  {
   "cell_type": "markdown",
   "id": "22cc4645",
   "metadata": {},
   "source": [
    "**Checking if Number is Prime**"
   ]
  },
  {
   "cell_type": "code",
   "execution_count": 2,
   "id": "4e769cd4",
   "metadata": {},
   "outputs": [
    {
     "name": "stdout",
     "output_type": "stream",
     "text": [
      "4 is not Prime\n"
     ]
    }
   ],
   "source": [
    "# Checking if Number is Prime\n",
    "def isprime(num):\n",
    "    a = num\n",
    "    # counter the number of remainders with value zero\n",
    "    count = 0\n",
    "    while a != 0:\n",
    "       q, r = divmod(num, a)\n",
    "       a -= 1\n",
    "       if r == 0:\n",
    "          count += 1\n",
    "    if count > 2:\n",
    "       print(num, 'is not Prime')\n",
    "    else:\n",
    "       print(num, 'is Prime')\n",
    "\n",
    "#calling the function\n",
    "isprime(4)"
   ]
  },
  {
   "cell_type": "code",
   "execution_count": null,
   "id": "b8ef18ee",
   "metadata": {},
   "outputs": [],
   "source": []
  }
 ],
 "metadata": {
  "kernelspec": {
   "display_name": "Python 3",
   "language": "python",
   "name": "python3"
  },
  "language_info": {
   "codemirror_mode": {
    "name": "ipython",
    "version": 3
   },
   "file_extension": ".py",
   "mimetype": "text/x-python",
   "name": "python",
   "nbconvert_exporter": "python",
   "pygments_lexer": "ipython3",
   "version": "3.8.8"
  },
  "toc": {
   "base_numbering": 1,
   "nav_menu": {},
   "number_sections": true,
   "sideBar": false,
   "skip_h1_title": true,
   "title_cell": "Table of Contents",
   "title_sidebar": "Contents",
   "toc_cell": true,
   "toc_position": {},
   "toc_section_display": true,
   "toc_window_display": false
  }
 },
 "nbformat": 4,
 "nbformat_minor": 5
}
