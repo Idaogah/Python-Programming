{
 "cells": [
  {
   "cell_type": "markdown",
   "id": "9b1ed2cf",
   "metadata": {
    "toc": true
   },
   "source": [
    "<h1>Table of Contents<span class=\"tocSkip\"></span></h1>\n",
    "<div class=\"toc\"><ul class=\"toc-item\"></ul></div>"
   ]
  },
  {
   "cell_type": "markdown",
   "id": "77d3e8bd",
   "metadata": {},
   "source": [
    "Here are the test scores of 10 students in physics and history:\n",
    "\n",
    "Physics Scores  15  12  8   8   7   7   7   6   5   3\n",
    "\n",
    "History Scores  10  25  17  11  13  17  20  13  9   15\n",
    "\n",
    "Compute Karl Pearson’s coefficient of correlation between these scores.\n",
    "Compute the answer correct to three decimal places.\n",
    "\n",
    "Output Format\n",
    "\n",
    "In the text box, using the language of your choice, print the floating point/decimal value required. Do not leave any leading or trailing spaces.\n",
    "\n",
    "For example, if your answer is 0.255. In python you can print using\n",
    "\n",
    "print(\"0.255\")\n",
    "This is NOT the actual answer - just the format in which you should provide your answer.\n"
   ]
  },
  {
   "cell_type": "code",
   "execution_count": null,
   "id": "6c5c8475",
   "metadata": {},
   "outputs": [],
   "source": [
    "#SOLUTION\n",
    "\n",
    "import math\n",
    "\n",
    "def P(A,B):\n",
    "    n = float(len(A))\n",
    "    muA = sum(A)/n\n",
    "    muB = sum(B)/n\n",
    "    diffA = map(lambda x: x - muA, A)\n",
    "    diffB = map(lambda x: x - muB, B)\n",
    "    stdA = math.sqrt((1/(n-1))* sum([d*d for d in diffA]))\n",
    "    stdB = math.sqrt((1/(n-1))* sum([d*d for d in diffB]))\n",
    "    return (sum([A[i]*B[i] for i in range(int(n))]) - n * muA * muB) / ((n-1) * stdA * stdB)\n",
    "    \n",
    "A = [15,12,8,8,7,7,7,6,5,3]\n",
    "B = [10,25,17,11,13,17,20,13,9,15]\n",
    "print('%.3f' % (P(A,B)))"
   ]
  }
 ],
 "metadata": {
  "kernelspec": {
   "display_name": "Python 3",
   "language": "python",
   "name": "python3"
  },
  "language_info": {
   "codemirror_mode": {
    "name": "ipython",
    "version": 3
   },
   "file_extension": ".py",
   "mimetype": "text/x-python",
   "name": "python",
   "nbconvert_exporter": "python",
   "pygments_lexer": "ipython3",
   "version": "3.8.8"
  },
  "toc": {
   "base_numbering": 1,
   "nav_menu": {},
   "number_sections": true,
   "sideBar": false,
   "skip_h1_title": true,
   "title_cell": "Table of Contents",
   "title_sidebar": "Contents",
   "toc_cell": true,
   "toc_position": {},
   "toc_section_display": true,
   "toc_window_display": false
  }
 },
 "nbformat": 4,
 "nbformat_minor": 5
}
