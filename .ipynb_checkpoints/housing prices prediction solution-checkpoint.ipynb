{
 "cells": [
  {
   "cell_type": "markdown",
   "id": "b803f911",
   "metadata": {
    "toc": true
   },
   "source": [
    "<h1>Table of Contents<span class=\"tocSkip\"></span></h1>\n",
    "<div class=\"toc\"><ul class=\"toc-item\"></ul></div>"
   ]
  },
  {
   "cell_type": "markdown",
   "id": "73d61898",
   "metadata": {},
   "source": [
    "**Multiple Linear Regression: Predicting House Prices**"
   ]
  },
  {
   "cell_type": "markdown",
   "id": "c00d3937",
   "metadata": {},
   "source": [
    "Objective\n",
    "In this challenge, we practice using multiple linear regression to predict housing prices. Check out the Resources tab for helpful videos!\n",
    "\n",
    "Task\n",
    "Charlie wants to buy a house. He does a detailed survey of the area where he wants to live, in which he quantifies, normalizes, and maps the desirable features of houses to values on a scale of  to  so the data can be assembled into a table. If Charlie noted  features, each row contains  space-separated values followed by the house price in dollars per square foot (making for a total of  columns). If Charlie makes observations about  houses, his observation table has  rows. This means that the table has a total of  entries.\n",
    "\n",
    "Unfortunately, he was only able to get the price per square foot for certain houses and thus needs your help estimating the prices of the rest! Given the feature and pricing data for a set of houses, help Charlie estimate the price per square foot of the houses for which he has compiled feature data but no pricing.\n",
    "\n",
    "Important Observation: The prices per square foot form an approximately linear function for the features quantified in Charlie's table. For the purposes of prediction, you need to figure out this linear function.\n",
    "\n",
    "Recommended Technique: Use a regression-based technique. At this point, you are not expected to account for bias and variance trade-offs.\n",
    "\n",
    "Input Format\n",
    "\n",
    "The first line contains  space-separated integers,  (the number of observed features) and  (the number of rows/houses for which Charlie has noted both the features and price per square foot).\n",
    "The  subsequent lines each contain  space-separated floating-point numbers describing a row in the table; the first  elements are the noted features for a house, and the very last element is its price per square foot.\n",
    "\n",
    "The next line (following the table) contains a single integer, , denoting the number of houses for for which Charlie noted features but does not know the price per square foot.\n",
    "The  subsequent lines each contain  space-separated floating-point numbers describing the features of a house for which pricing is not known.\n",
    "\n",
    "Constraints\n",
    "\n",
    "Scoring\n",
    "\n",
    "For each test case, we will compute the following:\n",
    "\n",
    "There are multiple ways to approach this problem that account for bias, variance, various subjective factors, and \"noise\". We take a realistic approach to scoring and permit up to a  swing of our expected answer.\n",
    "\n",
    ", where  is the maximum possible score for the test case.\n",
    "Consider a test case in which we only need to find the pricing for  house. Suppose our expected answer is , and your answer is :\n",
    "\n",
    "\n",
    "\n",
    "The score for a test case with  points \n",
    "\n",
    "Output Format\n",
    "\n",
    "Print  lines, where each line  contains the predicted price for the  house (from the second table of houses with unknown prices per square foot)."
   ]
  },
  {
   "cell_type": "code",
   "execution_count": 6,
   "id": "aa9887ad",
   "metadata": {},
   "outputs": [
    {
     "name": "stdout",
     "output_type": "stream",
     "text": [
      "2 3\n",
      "\n"
     ]
    },
    {
     "ename": "IndexError",
     "evalue": "list index out of range",
     "output_type": "error",
     "traceback": [
      "\u001b[1;31m---------------------------------------------------------------------------\u001b[0m",
      "\u001b[1;31mIndexError\u001b[0m                                Traceback (most recent call last)",
      "\u001b[1;32m<ipython-input-6-e35c4ff6f5de>\u001b[0m in \u001b[0;36m<module>\u001b[1;34m\u001b[0m\n\u001b[0;32m     11\u001b[0m     \u001b[0mcurr_val\u001b[0m \u001b[1;33m=\u001b[0m \u001b[1;33m[\u001b[0m\u001b[0mfloat\u001b[0m\u001b[1;33m(\u001b[0m\u001b[0mj\u001b[0m\u001b[1;33m)\u001b[0m \u001b[1;32mfor\u001b[0m \u001b[0mj\u001b[0m \u001b[1;32min\u001b[0m \u001b[0minput\u001b[0m\u001b[1;33m(\u001b[0m\u001b[1;33m)\u001b[0m\u001b[1;33m.\u001b[0m\u001b[0msplit\u001b[0m\u001b[1;33m(\u001b[0m\u001b[1;33m)\u001b[0m\u001b[1;33m]\u001b[0m\u001b[1;33m\u001b[0m\u001b[1;33m\u001b[0m\u001b[0m\n\u001b[0;32m     12\u001b[0m     \u001b[1;32mfor\u001b[0m \u001b[0mj\u001b[0m \u001b[1;32min\u001b[0m \u001b[0mrange\u001b[0m\u001b[1;33m(\u001b[0m\u001b[0mF\u001b[0m\u001b[1;33m)\u001b[0m\u001b[1;33m:\u001b[0m\u001b[1;33m\u001b[0m\u001b[1;33m\u001b[0m\u001b[0m\n\u001b[1;32m---> 13\u001b[1;33m         \u001b[0mA\u001b[0m\u001b[1;33m[\u001b[0m\u001b[0mi\u001b[0m\u001b[1;33m,\u001b[0m \u001b[0mj\u001b[0m\u001b[1;33m]\u001b[0m \u001b[1;33m=\u001b[0m \u001b[0mcurr_val\u001b[0m\u001b[1;33m[\u001b[0m\u001b[0mj\u001b[0m\u001b[1;33m]\u001b[0m\u001b[1;33m\u001b[0m\u001b[1;33m\u001b[0m\u001b[0m\n\u001b[0m\u001b[0;32m     14\u001b[0m     \u001b[0mb\u001b[0m\u001b[1;33m[\u001b[0m\u001b[0mi\u001b[0m\u001b[1;33m]\u001b[0m \u001b[1;33m=\u001b[0m \u001b[0mcurr_val\u001b[0m\u001b[1;33m[\u001b[0m\u001b[0mF\u001b[0m\u001b[1;33m]\u001b[0m\u001b[1;33m\u001b[0m\u001b[1;33m\u001b[0m\u001b[0m\n\u001b[0;32m     15\u001b[0m     \u001b[0mA\u001b[0m\u001b[1;33m[\u001b[0m\u001b[0mi\u001b[0m\u001b[1;33m,\u001b[0m \u001b[0mF\u001b[0m\u001b[1;33m]\u001b[0m \u001b[1;33m=\u001b[0m \u001b[1;36m1\u001b[0m\u001b[1;33m\u001b[0m\u001b[1;33m\u001b[0m\u001b[0m\n",
      "\u001b[1;31mIndexError\u001b[0m: list index out of range"
     ]
    }
   ],
   "source": [
    "#EDITORIAL SOLUTION\n",
    "\n",
    "from numpy import *\n",
    "\n",
    "F,N=[int(i) for i in input().split()]\n",
    "A=zeros((N, F+1))\n",
    "b=zeros(N)\n",
    "\n",
    "#constructing the input-entry table\n",
    "for i in range(N):\n",
    "    curr_val = [float(j) for j in input().split()]\n",
    "    for j in range(F):\n",
    "        A[i, j] = curr_val[j]\n",
    "    b[i] = curr_val[F]\n",
    "    A[i, F] = 1\n",
    "\n",
    "#calculating the coefficients \n",
    "cof = linalg.lstsq(A, b)[0]\n",
    "\n",
    "#calculating the predictions\n",
    "T = int(input())\n",
    "for i in range(T):\n",
    "    x = [float(j) for j in input().split()]\n",
    "    preds = dot(sol[:F],x)+cof[F]\n",
    "    print(round(preds,2))\n",
    "    "
   ]
  },
  {
   "cell_type": "code",
   "execution_count": 11,
   "id": "5e52fda6",
   "metadata": {},
   "outputs": [
    {
     "name": "stdout",
     "output_type": "stream",
     "text": [
      "6 8\n",
      "2\n"
     ]
    },
    {
     "ename": "IndexError",
     "evalue": "list index out of range",
     "output_type": "error",
     "traceback": [
      "\u001b[1;31m---------------------------------------------------------------------------\u001b[0m",
      "\u001b[1;31mIndexError\u001b[0m                                Traceback (most recent call last)",
      "\u001b[1;32m<ipython-input-11-63d279547f1b>\u001b[0m in \u001b[0;36m<module>\u001b[1;34m\u001b[0m\n\u001b[0;32m      8\u001b[0m     \u001b[0mcurr\u001b[0m \u001b[1;33m=\u001b[0m \u001b[1;33m[\u001b[0m\u001b[0mfloat\u001b[0m\u001b[1;33m(\u001b[0m\u001b[0mj\u001b[0m\u001b[1;33m)\u001b[0m \u001b[1;32mfor\u001b[0m \u001b[0mj\u001b[0m \u001b[1;32min\u001b[0m \u001b[0minput\u001b[0m\u001b[1;33m(\u001b[0m\u001b[1;33m)\u001b[0m\u001b[1;33m.\u001b[0m\u001b[0msplit\u001b[0m\u001b[1;33m(\u001b[0m\u001b[1;33m)\u001b[0m\u001b[1;33m]\u001b[0m\u001b[1;33m\u001b[0m\u001b[1;33m\u001b[0m\u001b[0m\n\u001b[0;32m      9\u001b[0m     \u001b[1;32mfor\u001b[0m \u001b[0mj\u001b[0m \u001b[1;32min\u001b[0m \u001b[0mrange\u001b[0m\u001b[1;33m(\u001b[0m\u001b[0mF\u001b[0m\u001b[1;33m)\u001b[0m\u001b[1;33m:\u001b[0m\u001b[1;33m\u001b[0m\u001b[1;33m\u001b[0m\u001b[0m\n\u001b[1;32m---> 10\u001b[1;33m         \u001b[0mA\u001b[0m\u001b[1;33m[\u001b[0m\u001b[0mi\u001b[0m\u001b[1;33m,\u001b[0m \u001b[0mj\u001b[0m\u001b[1;33m]\u001b[0m \u001b[1;33m=\u001b[0m \u001b[0mcurr\u001b[0m\u001b[1;33m[\u001b[0m\u001b[0mj\u001b[0m\u001b[1;33m]\u001b[0m\u001b[1;33m\u001b[0m\u001b[1;33m\u001b[0m\u001b[0m\n\u001b[0m\u001b[0;32m     11\u001b[0m     \u001b[0mb\u001b[0m\u001b[1;33m[\u001b[0m\u001b[0mi\u001b[0m\u001b[1;33m]\u001b[0m \u001b[1;33m=\u001b[0m \u001b[0mcurr\u001b[0m\u001b[1;33m[\u001b[0m\u001b[0mF\u001b[0m\u001b[1;33m]\u001b[0m\u001b[1;33m\u001b[0m\u001b[1;33m\u001b[0m\u001b[0m\n\u001b[0;32m     12\u001b[0m     \u001b[0mA\u001b[0m\u001b[1;33m[\u001b[0m\u001b[0mi\u001b[0m\u001b[1;33m,\u001b[0m \u001b[0mF\u001b[0m\u001b[1;33m]\u001b[0m \u001b[1;33m=\u001b[0m \u001b[1;36m1\u001b[0m\u001b[1;33m\u001b[0m\u001b[1;33m\u001b[0m\u001b[0m\n",
      "\u001b[1;31mIndexError\u001b[0m: list index out of range"
     ]
    }
   ],
   "source": [
    "#LEARNER'S SOLUTION\n",
    "\n",
    "from numpy import *\n",
    "F,N=[int(i) for i in input().split()]\n",
    "A=zeros((N, F+1))\n",
    "b=zeros(N)\n",
    "for i in range(N):\n",
    "    curr = [float(j) for j in input().split()]\n",
    "    for j in range(F):\n",
    "        A[i, j] = curr[j]\n",
    "    b[i] = curr[F]\n",
    "    A[i, F] = 1\n",
    "sol=linalg.lstsq(A, b)[0]\n",
    "T = int(input())\n",
    "for i in range(T):\n",
    "    x = [float(j) for j in input().split()]\n",
    "    output = dot(sol[:F],x)+sol[F]\n",
    "    print(round(output,2))"
   ]
  },
  {
   "cell_type": "raw",
   "id": "d62dcdef",
   "metadata": {},
   "source": [
    "#LEARNER'S SOLUTION\n",
    "\n",
    "import sys\n",
    "import math\n",
    "\n",
    "F,N = map(int,sys.stdin.readline().split(\" \"))\n",
    "X = []\n",
    "y = []\n",
    "\n",
    "for row in xrange(0,N):\n",
    "\tvalues = map(float,sys.stdin.readline().split())\n",
    "\tX += [[1]+values[0:F]]\n",
    "\ty += [values[F]]\n",
    "\n",
    "\n",
    "coefficients = np.linalg.lstsq(np.array(X),np.array(y))[0]\n",
    "\n",
    "#print np.linalg.lstsq(np.array(X),np.array(y))\n",
    "#print coefficients[0:F+1]\n",
    "\n",
    "T = int(raw_input())\n",
    "\n",
    "for row in xrange(0,T):\n",
    "\tvalues = [1] + map(float,sys.stdin.readline().split())\n",
    "\tresult = 0\n",
    "\tfor index in xrange(0,F+1):\n",
    "\t\tresult += values[index] * coefficients[index]\n",
    "\tprint(math.ceil(result*110)/100)\n",
    "    "
   ]
  },
  {
   "cell_type": "code",
   "execution_count": 12,
   "id": "109ee3b9",
   "metadata": {},
   "outputs": [
    {
     "ename": "AttributeError",
     "evalue": "module 'string' has no attribute 'atoi'",
     "output_type": "error",
     "traceback": [
      "\u001b[1;31m---------------------------------------------------------------------------\u001b[0m",
      "\u001b[1;31mAttributeError\u001b[0m                            Traceback (most recent call last)",
      "\u001b[1;32m<ipython-input-12-25c74eb3935e>\u001b[0m in \u001b[0;36m<module>\u001b[1;34m\u001b[0m\n\u001b[0;32m      5\u001b[0m \u001b[1;32mfrom\u001b[0m \u001b[0msklearn\u001b[0m \u001b[1;32mimport\u001b[0m \u001b[0mlinear_model\u001b[0m\u001b[1;33m\u001b[0m\u001b[1;33m\u001b[0m\u001b[0m\n\u001b[0;32m      6\u001b[0m \u001b[1;33m\u001b[0m\u001b[0m\n\u001b[1;32m----> 7\u001b[1;33m \u001b[0mshape\u001b[0m\u001b[1;33m=\u001b[0m\u001b[0mmap\u001b[0m\u001b[1;33m(\u001b[0m\u001b[0mstring\u001b[0m\u001b[1;33m.\u001b[0m\u001b[0matoi\u001b[0m\u001b[1;33m,\u001b[0m\u001b[0msys\u001b[0m\u001b[1;33m.\u001b[0m\u001b[0mstdin\u001b[0m\u001b[1;33m.\u001b[0m\u001b[0mreadline\u001b[0m\u001b[1;33m(\u001b[0m\u001b[1;33m)\u001b[0m\u001b[1;33m.\u001b[0m\u001b[0mstrip\u001b[0m\u001b[1;33m(\u001b[0m\u001b[1;34m'\\n'\u001b[0m\u001b[1;33m)\u001b[0m\u001b[1;33m.\u001b[0m\u001b[0msplit\u001b[0m\u001b[1;33m(\u001b[0m\u001b[1;34m' '\u001b[0m\u001b[1;33m)\u001b[0m\u001b[1;33m)\u001b[0m\u001b[1;33m\u001b[0m\u001b[1;33m\u001b[0m\u001b[0m\n\u001b[0m\u001b[0;32m      8\u001b[0m \u001b[0mX\u001b[0m\u001b[1;33m=\u001b[0m\u001b[1;33m[\u001b[0m\u001b[1;33m]\u001b[0m\u001b[1;33m\u001b[0m\u001b[1;33m\u001b[0m\u001b[0m\n\u001b[0;32m      9\u001b[0m \u001b[0mY\u001b[0m\u001b[1;33m=\u001b[0m\u001b[1;33m[\u001b[0m\u001b[1;33m]\u001b[0m\u001b[1;33m\u001b[0m\u001b[1;33m\u001b[0m\u001b[0m\n",
      "\u001b[1;31mAttributeError\u001b[0m: module 'string' has no attribute 'atoi'"
     ]
    }
   ],
   "source": [
    "#LEARNER'S SOLUTION\n",
    "\n",
    "# Enter your code here. Read input from STDIN. Print output to STDOUT\n",
    "import sys, string\n",
    "from sklearn import linear_model\n",
    "\n",
    "shape=map(string.atoi,sys.stdin.readline().strip('\\n').split(' '))\n",
    "X=[]\n",
    "Y=[]\n",
    "for i in range(shape[1]):\n",
    "    lst=map(string.atof,sys.stdin.readline().strip('\\n').split(' '))\n",
    "    X.append(lst[:-1])\n",
    "    Y.append(lst[-1])\n",
    "clf=linear_model.LinearRegression()\n",
    "clf.fit(X,Y)\n",
    "count=string.atoi(sys.stdin.readline().strip('\\n'))\n",
    "X2=[]\n",
    "for i in range(count):\n",
    "    X2.append(map(string.atof,sys.stdin.readline().strip('\\n').split(' ')))\n",
    "Y2=clf.predict(X2)\n",
    "for y in Y2: \n",
    "    print(y)"
   ]
  },
  {
   "cell_type": "code",
   "execution_count": null,
   "id": "5a37db23",
   "metadata": {},
   "outputs": [],
   "source": []
  }
 ],
 "metadata": {
  "kernelspec": {
   "display_name": "Python 3",
   "language": "python",
   "name": "python3"
  },
  "language_info": {
   "codemirror_mode": {
    "name": "ipython",
    "version": 3
   },
   "file_extension": ".py",
   "mimetype": "text/x-python",
   "name": "python",
   "nbconvert_exporter": "python",
   "pygments_lexer": "ipython3",
   "version": "3.8.8"
  },
  "toc": {
   "base_numbering": 1,
   "nav_menu": {},
   "number_sections": true,
   "sideBar": false,
   "skip_h1_title": true,
   "title_cell": "Table of Contents",
   "title_sidebar": "Contents",
   "toc_cell": true,
   "toc_position": {},
   "toc_section_display": true,
   "toc_window_display": false
  }
 },
 "nbformat": 4,
 "nbformat_minor": 5
}
