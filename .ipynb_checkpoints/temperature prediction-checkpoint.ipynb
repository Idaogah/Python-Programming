{
 "cells": [
  {
   "cell_type": "markdown",
   "id": "5d0c0579",
   "metadata": {
    "toc": true
   },
   "source": [
    "<h1>Table of Contents<span class=\"tocSkip\"></span></h1>\n",
    "<div class=\"toc\"><ul class=\"toc-item\"></ul></div>"
   ]
  },
  {
   "attachments": {
    "image-2.png": {
     "image/png": "[encoded data removed]"
    },
    "image.png": {
     "image/png": "[encoded data removed]"
    }
   },
   "cell_type": "markdown",
   "id": "8dcd43f6",
   "metadata": {},
   "source": [
    "**Temperature Prediction** \n",
    "Using Gradient Boosting Algorithm\n",
    "Gradient Boosting in incredibly effective in practice. Although, in this challenge, gradient boosting can be used as a regression model, it’s also very effective as a classification and ranking model. As long as you have a differentiable loss function for the algorithm to minimize, you’re good to go. Boosting employs the logic in which the subsequent predictors learn from the mistakes of the previous predictors. And hence, gradient boosting produces a prediction model in the form of an ensemble of weak prediction models, typically decision trees.\n",
    "\n",
    "An assumption of linear regression is that sum of its residuals is 0. Now we can think of these residuals as errors produced by our prediction model and if we can see some pattern of residuals around 0, we can utilise that pattern to fit a more accurate model.\n",
    "\n",
    "Approach\n",
    "Understanding the approach using the concept of gradient descent, consider a differentiable function we want to minimize, for instance:\n",
    "\n",
    "![image.png](attachment:image.png)\n",
    "The goal here is to find ![image-2.png](attachment:image-2.png) such that it fits/minimises the function ."
   ]
  },
  {
   "cell_type": "code",
   "execution_count": 1,
   "id": "421e301d",
   "metadata": {},
   "outputs": [
    {
     "ename": "NameError",
     "evalue": "name 'raw_input' is not defined",
     "output_type": "error",
     "traceback": [
      "\u001b[1;31m---------------------------------------------------------------------------\u001b[0m",
      "\u001b[1;31mNameError\u001b[0m                                 Traceback (most recent call last)",
      "\u001b[1;32m<ipython-input-1-e545b2e3484d>\u001b[0m in \u001b[0;36m<module>\u001b[1;34m\u001b[0m\n\u001b[0;32m      4\u001b[0m \u001b[0mmonth\u001b[0m \u001b[1;33m=\u001b[0m \u001b[1;33m{\u001b[0m\u001b[1;34m'January'\u001b[0m\u001b[1;33m:\u001b[0m\u001b[1;36m1\u001b[0m\u001b[1;33m,\u001b[0m\u001b[1;34m'February'\u001b[0m\u001b[1;33m:\u001b[0m\u001b[1;36m2\u001b[0m\u001b[1;33m,\u001b[0m\u001b[1;34m'March'\u001b[0m\u001b[1;33m:\u001b[0m\u001b[1;36m3\u001b[0m\u001b[1;33m,\u001b[0m\u001b[1;34m'April'\u001b[0m\u001b[1;33m:\u001b[0m\u001b[1;36m4\u001b[0m\u001b[1;33m,\u001b[0m\u001b[1;34m'May'\u001b[0m\u001b[1;33m:\u001b[0m\u001b[1;36m5\u001b[0m\u001b[1;33m,\u001b[0m\u001b[1;34m'June'\u001b[0m\u001b[1;33m:\u001b[0m\u001b[1;36m6\u001b[0m\u001b[1;33m,\u001b[0m\u001b[1;34m'July'\u001b[0m\u001b[1;33m:\u001b[0m\u001b[1;36m7\u001b[0m\u001b[1;33m,\u001b[0m\u001b[1;34m'August'\u001b[0m\u001b[1;33m:\u001b[0m\u001b[1;36m8\u001b[0m\u001b[1;33m,\u001b[0m\u001b[1;34m'September'\u001b[0m\u001b[1;33m:\u001b[0m\u001b[1;36m9\u001b[0m\u001b[1;33m,\u001b[0m\u001b[1;34m'October'\u001b[0m\u001b[1;33m:\u001b[0m\u001b[1;36m10\u001b[0m\u001b[1;33m,\u001b[0m\u001b[1;34m'November'\u001b[0m\u001b[1;33m:\u001b[0m\u001b[1;36m11\u001b[0m\u001b[1;33m,\u001b[0m\u001b[1;34m'December'\u001b[0m\u001b[1;33m:\u001b[0m\u001b[1;36m12\u001b[0m\u001b[1;33m}\u001b[0m\u001b[1;33m\u001b[0m\u001b[1;33m\u001b[0m\u001b[0m\n\u001b[0;32m      5\u001b[0m \u001b[1;33m\u001b[0m\u001b[0m\n\u001b[1;32m----> 6\u001b[1;33m \u001b[0mn\u001b[0m \u001b[1;33m=\u001b[0m \u001b[0mint\u001b[0m\u001b[1;33m(\u001b[0m\u001b[0mraw_input\u001b[0m\u001b[1;33m(\u001b[0m\u001b[1;33m)\u001b[0m\u001b[1;33m)\u001b[0m\u001b[1;33m\u001b[0m\u001b[1;33m\u001b[0m\u001b[0m\n\u001b[0m\u001b[0;32m      7\u001b[0m \u001b[0mraw_input\u001b[0m\u001b[1;33m(\u001b[0m\u001b[1;33m)\u001b[0m\u001b[1;33m\u001b[0m\u001b[1;33m\u001b[0m\u001b[0m\n\u001b[0;32m      8\u001b[0m \u001b[1;33m\u001b[0m\u001b[0m\n",
      "\u001b[1;31mNameError\u001b[0m: name 'raw_input' is not defined"
     ]
    }
   ],
   "source": [
    "import numpy as np\n",
    "from sklearn.ensemble import GradientBoostingRegressor\n",
    "\n",
    "month = {'January':1,'February':2,'March':3,'April':4,'May':5,'June':6,'July':7,'August':8,'September':9,'October':10,'November':11,'December':12}\n",
    "\n",
    "n = int(raw_input())\n",
    "raw_input()\n",
    "\n",
    "lines = [raw_input().split() for i in range(n)]\n",
    "for i in [2, 3]:\n",
    "    x, y, xx = [], [], []\n",
    "    for t in lines:\n",
    "        yy = int(t[0])\n",
    "        mm = [0]*12\n",
    "        mm[month[t[1]]-1] = 1\n",
    "        \n",
    "        if t[5-i][0] != 'M':\n",
    "            xl = mm+[yy*12+month[t[1]]-1, float(t[5-i])]\n",
    "            \n",
    "        if t[2][0] != 'M' and t[3][0] != 'M':\n",
    "            x.append(xl)\n",
    "            y.append(float(t[i]))\n",
    "            \n",
    "        if t[i][0] == 'M':\n",
    "       \t# xx contains the missing values\n",
    "            xx.append(xl)\n",
    "            \n",
    "    gbr = GradientBoostingRegressor(n_estimators=5000, learning_rate=0.0018)\n",
    "    gbr.fit(x, y)\n",
    "    yy = gbr.predict(xx)\n",
    "    if i == 2:\n",
    "        maxp = yy\n",
    "    else:\n",
    "        minp = yy\n",
    "        "
   ]
  },
  {
   "cell_type": "code",
   "execution_count": 1,
   "id": "06e399ad",
   "metadata": {},
   "outputs": [
    {
     "name": "stdout",
     "output_type": "stream",
     "text": [
      "2\n",
      "2\n",
      "3\n"
     ]
    },
    {
     "ename": "IndexError",
     "evalue": "list index out of range",
     "output_type": "error",
     "traceback": [
      "\u001b[1;31m---------------------------------------------------------------------------\u001b[0m",
      "\u001b[1;31mIndexError\u001b[0m                                Traceback (most recent call last)",
      "\u001b[1;32m<ipython-input-1-d936ea97f03a>\u001b[0m in \u001b[0;36m<module>\u001b[1;34m\u001b[0m\n\u001b[0;32m     11\u001b[0m \u001b[1;32mfor\u001b[0m \u001b[0mi\u001b[0m \u001b[1;32min\u001b[0m \u001b[0mrange\u001b[0m\u001b[1;33m(\u001b[0m\u001b[1;36m0\u001b[0m\u001b[1;33m,\u001b[0m \u001b[0mn\u001b[0m\u001b[1;33m)\u001b[0m\u001b[1;33m:\u001b[0m\u001b[1;33m\u001b[0m\u001b[1;33m\u001b[0m\u001b[0m\n\u001b[0;32m     12\u001b[0m     \u001b[0mx\u001b[0m \u001b[1;33m=\u001b[0m \u001b[0mlist\u001b[0m\u001b[1;33m(\u001b[0m\u001b[0minput\u001b[0m\u001b[1;33m(\u001b[0m\u001b[1;33m)\u001b[0m\u001b[1;33m.\u001b[0m\u001b[0mstrip\u001b[0m\u001b[1;33m(\u001b[0m\u001b[1;33m)\u001b[0m\u001b[1;33m.\u001b[0m\u001b[0msplit\u001b[0m\u001b[1;33m(\u001b[0m\u001b[1;33m)\u001b[0m\u001b[1;33m)\u001b[0m\u001b[1;33m\u001b[0m\u001b[1;33m\u001b[0m\u001b[0m\n\u001b[1;32m---> 13\u001b[1;33m     \u001b[0ml1\u001b[0m\u001b[1;33m.\u001b[0m\u001b[0mappend\u001b[0m\u001b[1;33m(\u001b[0m\u001b[0mx\u001b[0m\u001b[1;33m[\u001b[0m\u001b[1;36m2\u001b[0m\u001b[1;33m]\u001b[0m\u001b[1;33m)\u001b[0m\u001b[1;33m\u001b[0m\u001b[1;33m\u001b[0m\u001b[0m\n\u001b[0m\u001b[0;32m     14\u001b[0m     \u001b[0ml2\u001b[0m\u001b[1;33m.\u001b[0m\u001b[0mappend\u001b[0m\u001b[1;33m(\u001b[0m\u001b[0mx\u001b[0m\u001b[1;33m[\u001b[0m\u001b[1;36m3\u001b[0m\u001b[1;33m]\u001b[0m\u001b[1;33m)\u001b[0m\u001b[1;33m\u001b[0m\u001b[1;33m\u001b[0m\u001b[0m\n\u001b[0;32m     15\u001b[0m \u001b[1;33m\u001b[0m\u001b[0m\n",
      "\u001b[1;31mIndexError\u001b[0m: list index out of range"
     ]
    }
   ],
   "source": [
    "#LEARNER'S SOLUTION\n",
    "\n",
    "import numpy as np\n",
    "import pandas as pd\n",
    "\n",
    "n = int(input())\n",
    "colnames = list(input().strip().split())\n",
    "\n",
    "l1 = []\n",
    "l2 = []\n",
    "for i in range(0, n):\n",
    "    x = list(input().strip().split())\n",
    "    l1.append(x[2])\n",
    "    l2.append(x[3])\n",
    "\n",
    "ll1 = [np.nan if 'Missing' in i else float(i) for i in l1]\n",
    "\n",
    "int1 = pd.Series(ll1).interpolate(method='cubic', order=2)\n",
    "\n",
    "ll2 = [np.nan if 'Missing' in i else float(i) for i in l2]\n",
    "\n",
    "int2 = pd.Series(ll2).interpolate(method='cubic', order=2)\n",
    "   \n",
    "res = pd.DataFrame({'item':np.array(l1)[np.array(['Missing' in i for i in l1])], 'value':list(int1[['Missing' in i for i in l1]])})\n",
    "res = res.append(pd.DataFrame({'item':np.array(l2)[np.array(['Missing' in i for i in l2])], 'value':list(int2[['Missing' in i for i in l2]])}))\n",
    "res1 = pd.DataFrame({'index':list(res.item.apply(lambda x: int(x.split('_')[1]))), 'value':res.value})\n",
    "res1 = res1.sort_values(by=['index'])\n",
    "x = res1.value.tolist()\n",
    "\n",
    "for i in range(0, len(x)):\n",
    "    print(\"%.2f\" % x[i])\n",
    "    "
   ]
  },
  {
   "cell_type": "code",
   "execution_count": null,
   "id": "05d6c60c",
   "metadata": {},
   "outputs": [],
   "source": []
  }
 ],
 "metadata": {
  "kernelspec": {
   "display_name": "Python 3",
   "language": "python",
   "name": "python3"
  },
  "language_info": {
   "codemirror_mode": {
    "name": "ipython",
    "version": 3
   },
   "file_extension": ".py",
   "mimetype": "text/x-python",
   "name": "python",
   "nbconvert_exporter": "python",
   "pygments_lexer": "ipython3",
   "version": "3.8.8"
  },
  "toc": {
   "base_numbering": 1,
   "nav_menu": {},
   "number_sections": true,
   "sideBar": false,
   "skip_h1_title": true,
   "title_cell": "Table of Contents",
   "title_sidebar": "Contents",
   "toc_cell": true,
   "toc_position": {},
   "toc_section_display": true,
   "toc_window_display": false
  }
 },
 "nbformat": 4,
 "nbformat_minor": 5
}
