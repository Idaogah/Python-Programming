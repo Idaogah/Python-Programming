{
 "cells": [
  {
   "cell_type": "markdown",
   "id": "35efd557",
   "metadata": {
    "toc": true
   },
   "source": [
    "<h1>Table of Contents<span class=\"tocSkip\"></span></h1>\n",
    "<div class=\"toc\"><ul class=\"toc-item\"></ul></div>"
   ]
  },
  {
   "cell_type": "markdown",
   "id": "505142ec",
   "metadata": {},
   "source": [
    "This problem can be solved using interpolation.Let’s say we have some target variable y that is generated according to some function of x\n",
    "y = F(x)\n",
    "\n",
    "Let’s assume for simplicity that our function is perfectly predictable. Our task is to come up with a model to explain the target variable y. SciPy provides a module for interpolation based on the FITPACK library of FORTRAN functions. Interpolation is also majorly used for predicting the missing values between the available values."
   ]
  },
  {
   "cell_type": "code",
   "execution_count": 3,
   "id": "7e46f4f2",
   "metadata": {
    "scrolled": false
   },
   "outputs": [
    {
     "name": "stdout",
     "output_type": "stream",
     "text": [
      "3\n",
      "2 3\n",
      "2 3\n",
      "2 5\n"
     ]
    },
    {
     "ename": "TypeError",
     "evalue": "can only concatenate str (not \"int\") to str",
     "output_type": "error",
     "traceback": [
      "\u001b[1;31m---------------------------------------------------------------------------\u001b[0m",
      "\u001b[1;31mTypeError\u001b[0m                                 Traceback (most recent call last)",
      "\u001b[1;32m<ipython-input-3-6eed2ad00928>\u001b[0m in \u001b[0;36m<module>\u001b[1;34m\u001b[0m\n\u001b[0;32m     25\u001b[0m \u001b[0my\u001b[0m \u001b[1;33m=\u001b[0m \u001b[0mbins\u001b[0m\u001b[1;33m[\u001b[0m\u001b[1;36m1\u001b[0m\u001b[1;33m:\u001b[0m\u001b[1;33m]\u001b[0m\u001b[1;33m\u001b[0m\u001b[1;33m\u001b[0m\u001b[0m\n\u001b[0;32m     26\u001b[0m \u001b[0minverse_density_function\u001b[0m \u001b[1;33m=\u001b[0m \u001b[0mscipy\u001b[0m\u001b[1;33m.\u001b[0m\u001b[0minterpolate\u001b[0m\u001b[1;33m.\u001b[0m\u001b[0minterp1d\u001b[0m\u001b[1;33m(\u001b[0m\u001b[0mx\u001b[0m\u001b[1;33m,\u001b[0m \u001b[0my\u001b[0m\u001b[1;33m)\u001b[0m\u001b[1;33m\u001b[0m\u001b[1;33m\u001b[0m\u001b[0m\n\u001b[1;32m---> 27\u001b[1;33m \u001b[0mb\u001b[0m \u001b[1;33m=\u001b[0m \u001b[0mnumpy\u001b[0m\u001b[1;33m.\u001b[0m\u001b[0mzeros\u001b[0m\u001b[1;33m(\u001b[0m\u001b[0mn\u001b[0m\u001b[1;33m+\u001b[0m\u001b[1;36m12\u001b[0m\u001b[1;33m)\u001b[0m\u001b[1;33m\u001b[0m\u001b[1;33m\u001b[0m\u001b[0m\n\u001b[0m\u001b[0;32m     28\u001b[0m \u001b[1;33m\u001b[0m\u001b[0m\n\u001b[0;32m     29\u001b[0m \u001b[1;32mfor\u001b[0m \u001b[0mi\u001b[0m \u001b[1;32min\u001b[0m \u001b[0mrange\u001b[0m\u001b[1;33m(\u001b[0m\u001b[0mlen\u001b[0m\u001b[1;33m(\u001b[0m \u001b[0mb\u001b[0m \u001b[1;33m)\u001b[0m\u001b[1;33m)\u001b[0m\u001b[1;33m:\u001b[0m\u001b[1;33m\u001b[0m\u001b[1;33m\u001b[0m\u001b[0m\n",
      "\u001b[1;31mTypeError\u001b[0m: can only concatenate str (not \"int\") to str"
     ]
    }
   ],
   "source": [
    "#EDITORIAL SOLUTION\n",
    "\n",
    "import numpy\n",
    "import scipy.interpolate\n",
    "import random\n",
    "\n",
    "n = input()\n",
    "months=[]\n",
    "for i in range(int(n)):\n",
    "\tl = input()\n",
    "\tl_l = l.split(' ')\n",
    "\tmonths.append(l_l[1])\n",
    "\n",
    "num =[]\n",
    "for i in months:\n",
    "\tb = int(i)\n",
    "\tnum.append(b)\n",
    "\n",
    "# create some normally distributed values and make a histogram\n",
    "a = numpy.array(num)\n",
    "counts, bins = numpy.histogram(a, bins=10, density=True)\n",
    "cum_counts = numpy.cumsum(counts)\n",
    "bin_widths = (bins[1:] - bins[:-1])\n",
    "\n",
    "# generate more values with same distribution\n",
    "x = cum_counts*bin_widths\n",
    "y = bins[1:]\n",
    "inverse_density_function = scipy.interpolate.interp1d(x, y)\n",
    "b = numpy.zeros(n+12)\n",
    "\n",
    "for i in range(len( b )):\n",
    "    u = random.uniform( x[0], x[-1] )\n",
    "    b[i] = inverse_density_function( u )\n",
    "\n",
    "    \n",
    "solution=[]\n",
    "for i in range(12):\n",
    "    u = random.uniform( x[0], x[-1] )\n",
    "    solution.append(inverse_density_function(u))\n",
    "\n",
    "for i in solution:\n",
    "\tprint(i)   \n",
    "    \n",
    "#     More on Interpolation\n",
    "# Interpolating functions are continuous.\n",
    "# A quadratic function can give a much worse fit than linear interpolation.\n",
    "# Increasing the order of the polynomial does not always lead to a better fit.\n",
    "# The fit gets worse toward the edges of the data set."
   ]
  },
  {
   "cell_type": "code",
   "execution_count": 7,
   "id": "76df2cf9",
   "metadata": {},
   "outputs": [
    {
     "name": "stdout",
     "output_type": "stream",
     "text": [
      "2 3\n"
     ]
    },
    {
     "ename": "ValueError",
     "evalue": "invalid literal for int() with base 10: '2 3'",
     "output_type": "error",
     "traceback": [
      "\u001b[1;31m---------------------------------------------------------------------------\u001b[0m",
      "\u001b[1;31mValueError\u001b[0m                                Traceback (most recent call last)",
      "\u001b[1;32m<ipython-input-7-9cd4a18ae56f>\u001b[0m in \u001b[0;36m<module>\u001b[1;34m\u001b[0m\n\u001b[0;32m      3\u001b[0m \u001b[1;32mimport\u001b[0m \u001b[0mnumpy\u001b[0m \u001b[1;32mas\u001b[0m \u001b[0mnp\u001b[0m\u001b[1;33m\u001b[0m\u001b[1;33m\u001b[0m\u001b[0m\n\u001b[0;32m      4\u001b[0m \u001b[1;33m\u001b[0m\u001b[0m\n\u001b[1;32m----> 5\u001b[1;33m \u001b[0mN\u001b[0m \u001b[1;33m=\u001b[0m \u001b[0mint\u001b[0m\u001b[1;33m(\u001b[0m\u001b[0minput\u001b[0m\u001b[1;33m(\u001b[0m\u001b[1;33m)\u001b[0m\u001b[1;33m)\u001b[0m\u001b[1;33m\u001b[0m\u001b[1;33m\u001b[0m\u001b[0m\n\u001b[0m\u001b[0;32m      6\u001b[0m \u001b[0mdata\u001b[0m \u001b[1;33m=\u001b[0m \u001b[1;33m[\u001b[0m\u001b[1;33m]\u001b[0m\u001b[1;33m\u001b[0m\u001b[1;33m\u001b[0m\u001b[0m\n\u001b[0;32m      7\u001b[0m \u001b[0mtemp\u001b[0m \u001b[1;33m=\u001b[0m \u001b[1;33m[\u001b[0m\u001b[1;33m]\u001b[0m\u001b[1;33m\u001b[0m\u001b[1;33m\u001b[0m\u001b[0m\n",
      "\u001b[1;31mValueError\u001b[0m: invalid literal for int() with base 10: '2 3'"
     ]
    }
   ],
   "source": [
    "#LEARNER'S SOLUTION\n",
    "\n",
    "import numpy as np\n",
    "\n",
    "N = int(input())\n",
    "data = []\n",
    "temp = []\n",
    "for i in range(N):\n",
    "     data.append(input().split())\n",
    "     temp.append(float(data[i][1]))\n",
    "     \n",
    "     \n",
    "from scipy import interpolate\n",
    "leng = list(range(len((temp))))\n",
    "interpolation = interpolate.interp1d(leng,temp,fill_value='extrapolate')\n",
    "\n",
    "y = interpolation(range(len(temp),len(temp)+12))\n",
    "        \n",
    "for x in y:\n",
    "    print(x)\n",
    "    "
   ]
  },
  {
   "cell_type": "code",
   "execution_count": null,
   "id": "bf644cb3",
   "metadata": {},
   "outputs": [],
   "source": []
  }
 ],
 "metadata": {
  "kernelspec": {
   "display_name": "Python 3",
   "language": "python",
   "name": "python3"
  },
  "language_info": {
   "codemirror_mode": {
    "name": "ipython",
    "version": 3
   },
   "file_extension": ".py",
   "mimetype": "text/x-python",
   "name": "python",
   "nbconvert_exporter": "python",
   "pygments_lexer": "ipython3",
   "version": "3.8.8"
  },
  "toc": {
   "base_numbering": 1,
   "nav_menu": {},
   "number_sections": true,
   "sideBar": false,
   "skip_h1_title": true,
   "title_cell": "Table of Contents",
   "title_sidebar": "Contents",
   "toc_cell": true,
   "toc_position": {},
   "toc_section_display": true,
   "toc_window_display": false
  }
 },
 "nbformat": 4,
 "nbformat_minor": 5
}
