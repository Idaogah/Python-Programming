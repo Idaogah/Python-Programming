{
 "cells": [
  {
   "cell_type": "markdown",
   "id": "aa814d10",
   "metadata": {
    "toc": true
   },
   "source": [
    "<h1>Table of Contents<span class=\"tocSkip\"></span></h1>\n",
    "<div class=\"toc\"><ul class=\"toc-item\"></ul></div>"
   ]
  },
  {
   "cell_type": "markdown",
   "id": "56462457",
   "metadata": {},
   "source": [
    "In this HackerRank Lovely Triplets problem solution we have given P different lovely triplets and the minimum distance between each pair of nodes in the triplets Q and we need to draw a special graph."
   ]
  },
  {
   "cell_type": "code",
   "execution_count": 2,
   "id": "ff820ffb",
   "metadata": {},
   "outputs": [
    {
     "name": "stdout",
     "output_type": "stream",
     "text": [
      "3 6\n",
      "12 11\n",
      "1 2\n",
      "2 3\n",
      "1 4\n",
      "4 5\n",
      "1 6\n",
      "6 7\n",
      "3 8\n",
      "3 9\n",
      "3 10\n",
      "5 11\n",
      "7 12\n"
     ]
    }
   ],
   "source": [
    "#!/bin/python3\n",
    "\n",
    "def choose(n, r):\n",
    "    return n * (n-1) * (n-2) // (r * (r-1) * (r-2))\n",
    "def product(xs):\n",
    "    y = 1\n",
    "    for x in xs:\n",
    "        y *= x\n",
    "    return y\n",
    "def generate_primes(n):\n",
    "    p = [True] * (n + 1)\n",
    "    p[0] = False\n",
    "    p[1] = False\n",
    "    for i in range(n+1):\n",
    "        if p[i]:\n",
    "            yield i\n",
    "            for j in range(2*i,n+1,i):\n",
    "                p[j] = False\n",
    "primes = list(generate_primes(5000))\n",
    "def factorize(n):\n",
    "    qs = []\n",
    "    for p in primes:\n",
    "        if p*p > n:\n",
    "            break\n",
    "        while n % p == 0:\n",
    "            qs.append(p)\n",
    "            n //= p\n",
    "    if n != 1:\n",
    "        qs.append(n)\n",
    "    return qs\n",
    "def core_size(q):\n",
    "    return ((q - 1) // 2) * 3\n",
    "def select_factors(p, q, width, memo):\n",
    "    if p in memo:\n",
    "        return memo[p]\n",
    "    qs = [p, 1, 1]\n",
    "    qv = core_size(q) + sum(qs)\n",
    "    for i in range(min(width, p)):\n",
    "        ps = [1, 1, 1]\n",
    "        for r in factorize(p - i):\n",
    "            ps[ps.index(min(ps))] *= r\n",
    "        pv = core_size(q) + sum(ps)\n",
    "        if i:\n",
    "            nps, npv = select_factors(p - product(ps), q, width=width, memo=memo)\n",
    "            pv += npv\n",
    "        if pv < qv:\n",
    "            qs = ps\n",
    "            qv = pv\n",
    "    memo[p] = (tuple(qs), qv)\n",
    "    return memo[p]\n",
    "def make_core(v, e, q):\n",
    "    if q % 2 == 1:\n",
    "        xs, v = [v, v+1, v+2], v+3\n",
    "        for i in range(3):\n",
    "            e.append((xs[i], xs[(i+1)%3]))\n",
    "    else:\n",
    "        xs, v = [v, v, v], v+1\n",
    "    for i in range(3):\n",
    "        for j in range(q//2 - 1):\n",
    "            e.append((xs[i], v))\n",
    "            xs[i] = v\n",
    "            v += 1\n",
    "    return xs, v\n",
    "def make_triplets(v, e, q, ps):\n",
    "    xs, v = make_core(v, e, q)\n",
    "    for i in range(3):\n",
    "        for _ in range(ps[i]):\n",
    "            e.append((xs[i], v))\n",
    "            v += 1\n",
    "    return v\n",
    "def make_coalesced_core(v, e, l):\n",
    "    for i in range(l):\n",
    "        e.append((v, v + i+1))\n",
    "    v += l+1\n",
    "    return v\n",
    "p, q = map(int,input().split())\n",
    "v = 0\n",
    "e = []\n",
    "if q == 2:\n",
    "    while p:\n",
    "        l = 3\n",
    "        while choose(l+1,3) <= p:\n",
    "            l += 1\n",
    "        p -= choose(l,3)\n",
    "        v = make_coalesced_core(v, e, l)\n",
    "else:\n",
    "    while p:\n",
    "        ps, _ = select_factors(p, q, width=500, memo={})\n",
    "        v = make_triplets(v, e, q, ps)\n",
    "        p -= product(ps)\n",
    "print(v, len(e))\n",
    "assert v <= 100\n",
    "for a, b in e:\n",
    "    print(a+1, b+1)"
   ]
  },
  {
   "cell_type": "code",
   "execution_count": null,
   "id": "7824e412",
   "metadata": {},
   "outputs": [],
   "source": []
  }
 ],
 "metadata": {
  "kernelspec": {
   "display_name": "Python 3",
   "language": "python",
   "name": "python3"
  },
  "language_info": {
   "codemirror_mode": {
    "name": "ipython",
    "version": 3
   },
   "file_extension": ".py",
   "mimetype": "text/x-python",
   "name": "python",
   "nbconvert_exporter": "python",
   "pygments_lexer": "ipython3",
   "version": "3.8.8"
  },
  "toc": {
   "base_numbering": 1,
   "nav_menu": {},
   "number_sections": true,
   "sideBar": false,
   "skip_h1_title": true,
   "title_cell": "Table of Contents",
   "title_sidebar": "Contents",
   "toc_cell": true,
   "toc_position": {},
   "toc_section_display": true,
   "toc_window_display": false
  }
 },
 "nbformat": 4,
 "nbformat_minor": 5
}
