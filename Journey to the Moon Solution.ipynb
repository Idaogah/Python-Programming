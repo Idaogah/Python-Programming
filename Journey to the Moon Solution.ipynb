{
 "cells": [
  {
   "cell_type": "markdown",
   "id": "f06a0df0",
   "metadata": {
    "toc": true
   },
   "source": [
    "<h1>Table of Contents<span class=\"tocSkip\"></span></h1>\n",
    "<div class=\"toc\"><ul class=\"toc-item\"></ul></div>"
   ]
  },
  {
   "cell_type": "markdown",
   "id": "0de36110",
   "metadata": {},
   "source": [
    "** Journey to the Moon Solution**\n",
    "\n",
    "The member states of the UN are planning to send  people to the moon. They want them to be from different countries.  You will be given a list of pairs of astronaut ID's.  Each pair is made of astronauts from the same country.  Determine how many pairs of astronauts from different countries they can choose from.\n",
    "\n",
    "\n",
    "For example, we have the following data on 2 pairs of astronauts, and 4 astronauts total, numbered  through .\n",
    "\n",
    "Astronauts by country are  and .  There are  pairs to choose from:  and .\n",
    "\n",
    "Function Description\n",
    "\n",
    "Complete the journeyToMoon function in the editor below.  It should return an integer that represents the number of valid pairs that can be formed.\n",
    "\n",
    "\n",
    "journeyToMoon has the following parameter(s):\n",
    "\n",
    "n: an integer that denotes the number of astronauts\n",
    "astronaut: a 2D array where each element  is a  element integer array that represents the ID's of two astronauts from the same country\n",
    "Input Format.\n",
    "\n",
    "The first line contains two integers  and , the number of astronauts and the number of pairs.\n",
    "Each of the next  lines contains  space-separated integers denoting astronaut ID's of two who share the same nationality.\n",
    "\n",
    "Constraints.\n",
    "\n",
    "Output Format.\n",
    "\n",
    "An integer that denotes the number of ways to choose a pair of astronauts from different coutries.\n",
    "\n",
    "Sample Input 0.5 30 12 30 4\n",
    "\n",
    "Sample Output 0.6\n",
    "\n",
    "Explanation 0.\n",
    "\n",
    "Persons numbered  belong to one country, and those numbered  belong to another. The UN has  ways of choosing a pair:\n",
    "\n",
    "Sample Input 1.4 10 2\n",
    "\n",
    "Sample Output 1. 5\n",
    "\n",
    "Explanation 1.\n",
    "\n",
    "Persons numbered   belong to the same country, but persons  and  don't share countries with anyone else.  The UN has  ways of choosing a pair:"
   ]
  },
  {
   "cell_type": "code",
   "execution_count": null,
   "id": "bba6a194",
   "metadata": {},
   "outputs": [],
   "source": [
    "N, P = tuple(map(int, input().strip().split(' ')))\n",
    "\n",
    "sets = [{i} for i in range(N)]\n",
    "\n",
    "arr = [i for i in range(N)] #sets[arr[i]] contains i\n",
    "\n",
    "for i in range(P):\n",
    "    a, b = tuple(map(int, input().strip().split(' ')))\n",
    "    if a not in sets[arr[b]]:\n",
    "        #union the sets\n",
    "        u = sets[arr[a]] | sets[arr[b]]\n",
    "        sets[a] = u #store the union at sets[a]\n",
    "        for j in u: #pointers to a\n",
    "            if j!=a:\n",
    "                sets[j]=set()\n",
    "            arr[j]=a\n",
    "total = 0\n",
    "non_singles = 0\n",
    "for i in range(N):\n",
    "    #print(sets[arr[i]], sets[i])\n",
    "    L = len(sets[i])\n",
    "    if L>1: #non-single set with length L\n",
    "        non_singles += L\n",
    "        #add pairs with first person in the subset\n",
    "        total += L*(N-L)\n",
    "\n",
    "#singles = N - non_singles\n",
    "#add pairs with first person in the set of singles \n",
    "total = total + (N-non_singles)*(N-1)\n",
    "\n",
    "#remove double counting\n",
    "total = total//2\n",
    "print(total)"
   ]
  }
 ],
 "metadata": {
  "kernelspec": {
   "display_name": "Python 3",
   "language": "python",
   "name": "python3"
  },
  "language_info": {
   "codemirror_mode": {
    "name": "ipython",
    "version": 3
   },
   "file_extension": ".py",
   "mimetype": "text/x-python",
   "name": "python",
   "nbconvert_exporter": "python",
   "pygments_lexer": "ipython3",
   "version": "3.8.8"
  },
  "toc": {
   "base_numbering": 1,
   "nav_menu": {},
   "number_sections": true,
   "sideBar": false,
   "skip_h1_title": true,
   "title_cell": "Table of Contents",
   "title_sidebar": "Contents",
   "toc_cell": true,
   "toc_position": {},
   "toc_section_display": true,
   "toc_window_display": false
  }
 },
 "nbformat": 4,
 "nbformat_minor": 5
}
