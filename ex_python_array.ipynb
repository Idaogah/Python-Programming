{
  "nbformat": 4,
  "nbformat_minor": 0,
  "metadata": {
    "colab": {
      "provenance": [],
      "authorship_tag": "ABX9TyOg9Y1gp68QeNpSSiCrtRiH"
    },
    "kernelspec": {
      "name": "python3",
      "display_name": "Python 3"
    },
    "language_info": {
      "name": "python"
    }
  },
  "cells": [
    {
      "cell_type": "markdown",
      "source": [
        "# Question 1. \n",
        "An array with an odd number of elements is said to be centered if all elements (except the middle one) are strictly greater than the value of the middle element. Note that only arrays with an odd number of elements have a middle element. Write a function that accepts an integer array and returns 1 if it is a centered array, otherwise it returns 0."
      ],
      "metadata": {
        "id": "RA7nr5QvEW7-"
      }
    },
    {
      "cell_type": "code",
      "execution_count": 20,
      "metadata": {
        "colab": {
          "base_uri": "https://localhost:8080/"
        },
        "id": "IgfBmmyBEKqB",
        "outputId": "2b86f1e0-8bfb-4d5d-d72f-2a36938fe83e"
      },
      "outputs": [
        {
          "output_type": "stream",
          "name": "stdout",
          "text": [
            "0\n"
          ]
        }
      ],
      "source": [
        "# Python fnx\n",
        "def is_centered(arr):\n",
        "    n = len(arr)\n",
        "    if n % 2 == 0:\n",
        "        return 0\n",
        "    middle = n // 2\n",
        "    for i in range(n):\n",
        "        if i != middle and arr[i] <= arr[middle]:\n",
        "            return 0\n",
        "    return 1\n",
        "arr = [3, 2, 1, 4, 1]\n",
        "print(is_centered(arr))  # should print 0"
      ]
    },
    {
      "cell_type": "code",
      "source": [
        "arr = [1, 2, 3, 4, 5]\n",
        "print(is_centered(arr))  # should print 0\n",
        "\n",
        "arr = [2, 3, 4, 5, 6]\n",
        "print(is_centered(arr))  # should print 1\n"
      ],
      "metadata": {
        "colab": {
          "base_uri": "https://localhost:8080/"
        },
        "id": "EKKoKFATE9Bh",
        "outputId": "d8904866-1f40-415a-d56e-3d625066bb01"
      },
      "execution_count": 9,
      "outputs": [
        {
          "output_type": "stream",
          "name": "stdout",
          "text": [
            "0\n",
            "0\n"
          ]
        }
      ]
    }
  ]
}