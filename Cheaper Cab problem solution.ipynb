{
 "cells": [
  {
   "cell_type": "markdown",
   "id": "63f0b6e3",
   "metadata": {
    "toc": true
   },
   "source": [
    "<h1>Table of Contents<span class=\"tocSkip\"></span></h1>\n",
    "<div class=\"toc\"><ul class=\"toc-item\"></ul></div>"
   ]
  },
  {
   "cell_type": "markdown",
   "id": "c54f4a63",
   "metadata": {},
   "source": [
    "In this Codechef The Cheaper Cab problem solution Chef has to travel to another place. For this, he can avail of any one of two cab services.\n",
    "\n",
    "The first cab service charges X rupees.\n",
    "The second cab service charges Y rupees.\n",
    "Chef wants to spend the minimum amount of money. Which cab service should Chef take?"
   ]
  },
  {
   "cell_type": "code",
   "execution_count": 4,
   "id": "8f456076",
   "metadata": {},
   "outputs": [
    {
     "name": "stdout",
     "output_type": "stream",
     "text": [
      "3\n",
      " 6 7\n",
      "FIRST\n",
      "7 6\n",
      "SECOND\n",
      "3 6\n",
      "FIRST\n"
     ]
    }
   ],
   "source": [
    "# cook your dish here\n",
    "a=int(input())\n",
    "for i in range(a):\n",
    "    x,y=map(int,input().split())\n",
    "    if(x<y):\n",
    "        print(\"FIRST\")\n",
    "    elif(x>y):\n",
    "        print(\"SECOND\")\n",
    "    else:\n",
    "        print(\"ANY\")\n",
    "        "
   ]
  },
  {
   "cell_type": "code",
   "execution_count": null,
   "id": "8c3c7e79",
   "metadata": {},
   "outputs": [],
   "source": []
  }
 ],
 "metadata": {
  "kernelspec": {
   "display_name": "Python 3",
   "language": "python",
   "name": "python3"
  },
  "language_info": {
   "codemirror_mode": {
    "name": "ipython",
    "version": 3
   },
   "file_extension": ".py",
   "mimetype": "text/x-python",
   "name": "python",
   "nbconvert_exporter": "python",
   "pygments_lexer": "ipython3",
   "version": "3.8.8"
  },
  "toc": {
   "base_numbering": 1,
   "nav_menu": {},
   "number_sections": true,
   "sideBar": false,
   "skip_h1_title": true,
   "title_cell": "Table of Contents",
   "title_sidebar": "Contents",
   "toc_cell": true,
   "toc_position": {},
   "toc_section_display": true,
   "toc_window_display": false
  }
 },
 "nbformat": 4,
 "nbformat_minor": 5
}
